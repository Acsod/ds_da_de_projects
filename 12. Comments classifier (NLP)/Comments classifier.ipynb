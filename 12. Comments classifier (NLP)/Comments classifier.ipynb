{
 "cells": [
  {
   "cell_type": "markdown",
   "metadata": {
    "toc": true
   },
   "source": [
    "<h1>Содержание<span class=\"tocSkip\"></span></h1>\n",
    "<div class=\"toc\"><ul class=\"toc-item\"><li><span><a href=\"#Подготовка\" data-toc-modified-id=\"Подготовка-1\"><span class=\"toc-item-num\">1&nbsp;&nbsp;</span>Подготовка</a></span><ul class=\"toc-item\"><li><span><a href=\"#Импорт-библиотек\" data-toc-modified-id=\"Импорт-библиотек-1.1\"><span class=\"toc-item-num\">1.1&nbsp;&nbsp;</span>Импорт библиотек</a></span></li><li><span><a href=\"#Обзор-данных\" data-toc-modified-id=\"Обзор-данных-1.2\"><span class=\"toc-item-num\">1.2&nbsp;&nbsp;</span>Обзор данных</a></span></li><li><span><a href=\"#Предобработка-данных\" data-toc-modified-id=\"Предобработка-данных-1.3\"><span class=\"toc-item-num\">1.3&nbsp;&nbsp;</span>Предобработка данных</a></span></li></ul></li><li><span><a href=\"#Обучение\" data-toc-modified-id=\"Обучение-2\"><span class=\"toc-item-num\">2&nbsp;&nbsp;</span>Обучение</a></span><ul class=\"toc-item\"><li><span><a href=\"#Логистическая-регрессия\" data-toc-modified-id=\"Логистическая-регрессия-2.1\"><span class=\"toc-item-num\">2.1&nbsp;&nbsp;</span>Логистическая регрессия</a></span></li><li><span><a href=\"#Метод-опорных-векторов\" data-toc-modified-id=\"Метод-опорных-векторов-2.2\"><span class=\"toc-item-num\">2.2&nbsp;&nbsp;</span>Метод опорных векторов</a></span></li><li><span><a href=\"#Случайный-лес\" data-toc-modified-id=\"Случайный-лес-2.3\"><span class=\"toc-item-num\">2.3&nbsp;&nbsp;</span>Случайный лес</a></span></li><li><span><a href=\"#CatBoost\" data-toc-modified-id=\"CatBoost-2.4\"><span class=\"toc-item-num\">2.4&nbsp;&nbsp;</span>CatBoost</a></span></li><li><span><a href=\"#LGBM\" data-toc-modified-id=\"LGBM-2.5\"><span class=\"toc-item-num\">2.5&nbsp;&nbsp;</span>LGBM</a></span></li><li><span><a href=\"#Выбор-модели\" data-toc-modified-id=\"Выбор-модели-2.6\"><span class=\"toc-item-num\">2.6&nbsp;&nbsp;</span>Выбор модели</a></span></li></ul></li><li><span><a href=\"#Тестирование\" data-toc-modified-id=\"Тестирование-3\"><span class=\"toc-item-num\">3&nbsp;&nbsp;</span>Тестирование</a></span></li><li><span><a href=\"#Выводы\" data-toc-modified-id=\"Выводы-4\"><span class=\"toc-item-num\">4&nbsp;&nbsp;</span>Выводы</a></span></li></ul></div>"
   ]
  },
  {
   "cell_type": "markdown",
   "metadata": {},
   "source": [
    "# Определение токсичных комментариев"
   ]
  },
  {
   "cell_type": "markdown",
   "metadata": {},
   "source": [
    "**Иcходные данные**\n",
    "\n",
    "Интернет-магазин запускает новый сервис. Теперь пользователи могут редактировать и дополнять описания товаров, как в вики-сообществах. То есть клиенты предлагают свои правки и комментируют изменения других.\n",
    "\n",
    "В нашем распоряжении набор данных с разметкой о токсичности правок.\n",
    "\n",
    "**Цель исследования**\n",
    "\n",
    "Магазину нужен инструмент, который будет искать токсичные комментарии и отправлять их на модерацию.\n",
    "\n",
    "Необходимо создать модель для классифицикации комментариев на позитивные и негативные.\n",
    "\n",
    "Метрика качества *F1* на тестовой выборке должно быть не меньше 0.75.\n",
    "\n",
    "\n",
    "**Ход исследования**\n",
    "\n",
    "1. Обзор и подготовка данных.\n",
    "2. Обучение и проверка различных моделей.\n",
    "3. Финальное тестирование лучшей модели.\n",
    "4. Вывод."
   ]
  },
  {
   "cell_type": "markdown",
   "metadata": {},
   "source": [
    "## Подготовка"
   ]
  },
  {
   "cell_type": "markdown",
   "metadata": {},
   "source": [
    "### Импорт библиотек"
   ]
  },
  {
   "cell_type": "code",
   "execution_count": 44,
   "metadata": {},
   "outputs": [],
   "source": [
    "import nltk\n",
    "import numpy as np\n",
    "import os\n",
    "import pandas as pd\n",
    "import re\n",
    "import spacy\n",
    "import warnings\n",
    "\n",
    "from catboost import CatBoostClassifier\n",
    "\n",
    "from lightgbm import LGBMClassifier\n",
    "\n",
    "from sklearn.dummy import DummyClassifier\n",
    "from sklearn.ensemble import RandomForestClassifier\n",
    "from sklearn.feature_extraction.text import TfidfVectorizer\n",
    "from sklearn.linear_model import LogisticRegression\n",
    "from sklearn.metrics import f1_score\n",
    "from sklearn.model_selection import cross_validate\n",
    "from sklearn.model_selection import GridSearchCV\n",
    "from sklearn.model_selection import train_test_split\n",
    "from sklearn.svm import SVC"
   ]
  },
  {
   "cell_type": "code",
   "execution_count": 45,
   "metadata": {},
   "outputs": [],
   "source": [
    "warnings.filterwarnings('ignore')\n",
    "warnings.simplefilter('ignore')"
   ]
  },
  {
   "cell_type": "markdown",
   "metadata": {},
   "source": [
    "### Обзор данных"
   ]
  },
  {
   "cell_type": "markdown",
   "metadata": {},
   "source": [
    "Импортируем данные."
   ]
  },
  {
   "cell_type": "code",
   "execution_count": 2,
   "metadata": {},
   "outputs": [],
   "source": [
    "pth1 = 'toxic_comments.csv'\n",
    "pth2 = '/datasets/toxic_comments.csv'\n",
    "\n",
    "if os.path.exists(pth1):\n",
    "    df_toxic = pd.read_csv(pth1, index_col=[0])\n",
    "elif os.path.exists(pth2):\n",
    "    df_toxic = pd.read_csv(pth2, index_col=[0])\n",
    "else:\n",
    "    print('Файл не найден!')"
   ]
  },
  {
   "cell_type": "markdown",
   "metadata": {},
   "source": [
    "Выполним первичный обзор данных."
   ]
  },
  {
   "cell_type": "code",
   "execution_count": 3,
   "metadata": {},
   "outputs": [
    {
     "name": "stdout",
     "output_type": "stream",
     "text": [
      "<class 'pandas.core.frame.DataFrame'>\n",
      "Int64Index: 159292 entries, 0 to 159450\n",
      "Data columns (total 2 columns):\n",
      " #   Column  Non-Null Count   Dtype \n",
      "---  ------  --------------   ----- \n",
      " 0   text    159292 non-null  object\n",
      " 1   toxic   159292 non-null  int64 \n",
      "dtypes: int64(1), object(1)\n",
      "memory usage: 3.6+ MB\n",
      "None\n"
     ]
    },
    {
     "data": {
      "text/html": [
       "<div>\n",
       "<style scoped>\n",
       "    .dataframe tbody tr th:only-of-type {\n",
       "        vertical-align: middle;\n",
       "    }\n",
       "\n",
       "    .dataframe tbody tr th {\n",
       "        vertical-align: top;\n",
       "    }\n",
       "\n",
       "    .dataframe thead th {\n",
       "        text-align: right;\n",
       "    }\n",
       "</style>\n",
       "<table border=\"1\" class=\"dataframe\">\n",
       "  <thead>\n",
       "    <tr style=\"text-align: right;\">\n",
       "      <th></th>\n",
       "      <th>text</th>\n",
       "      <th>toxic</th>\n",
       "    </tr>\n",
       "  </thead>\n",
       "  <tbody>\n",
       "    <tr>\n",
       "      <th>0</th>\n",
       "      <td>Explanation\\nWhy the edits made under my usern...</td>\n",
       "      <td>0</td>\n",
       "    </tr>\n",
       "    <tr>\n",
       "      <th>1</th>\n",
       "      <td>D'aww! He matches this background colour I'm s...</td>\n",
       "      <td>0</td>\n",
       "    </tr>\n",
       "    <tr>\n",
       "      <th>2</th>\n",
       "      <td>Hey man, I'm really not trying to edit war. It...</td>\n",
       "      <td>0</td>\n",
       "    </tr>\n",
       "    <tr>\n",
       "      <th>3</th>\n",
       "      <td>\"\\nMore\\nI can't make any real suggestions on ...</td>\n",
       "      <td>0</td>\n",
       "    </tr>\n",
       "    <tr>\n",
       "      <th>4</th>\n",
       "      <td>You, sir, are my hero. Any chance you remember...</td>\n",
       "      <td>0</td>\n",
       "    </tr>\n",
       "    <tr>\n",
       "      <th>5</th>\n",
       "      <td>\"\\n\\nCongratulations from me as well, use the ...</td>\n",
       "      <td>0</td>\n",
       "    </tr>\n",
       "    <tr>\n",
       "      <th>6</th>\n",
       "      <td>COCKSUCKER BEFORE YOU PISS AROUND ON MY WORK</td>\n",
       "      <td>1</td>\n",
       "    </tr>\n",
       "    <tr>\n",
       "      <th>7</th>\n",
       "      <td>Your vandalism to the Matt Shirvington article...</td>\n",
       "      <td>0</td>\n",
       "    </tr>\n",
       "    <tr>\n",
       "      <th>8</th>\n",
       "      <td>Sorry if the word 'nonsense' was offensive to ...</td>\n",
       "      <td>0</td>\n",
       "    </tr>\n",
       "    <tr>\n",
       "      <th>9</th>\n",
       "      <td>alignment on this subject and which are contra...</td>\n",
       "      <td>0</td>\n",
       "    </tr>\n",
       "  </tbody>\n",
       "</table>\n",
       "</div>"
      ],
      "text/plain": [
       "                                                text  toxic\n",
       "0  Explanation\\nWhy the edits made under my usern...      0\n",
       "1  D'aww! He matches this background colour I'm s...      0\n",
       "2  Hey man, I'm really not trying to edit war. It...      0\n",
       "3  \"\\nMore\\nI can't make any real suggestions on ...      0\n",
       "4  You, sir, are my hero. Any chance you remember...      0\n",
       "5  \"\\n\\nCongratulations from me as well, use the ...      0\n",
       "6       COCKSUCKER BEFORE YOU PISS AROUND ON MY WORK      1\n",
       "7  Your vandalism to the Matt Shirvington article...      0\n",
       "8  Sorry if the word 'nonsense' was offensive to ...      0\n",
       "9  alignment on this subject and which are contra...      0"
      ]
     },
     "execution_count": 3,
     "metadata": {},
     "output_type": "execute_result"
    }
   ],
   "source": [
    "print(df_toxic.info())\n",
    "df_toxic.head(10)"
   ]
  },
  {
   "cell_type": "markdown",
   "metadata": {},
   "source": [
    "В таблице 159292 объекта. Индексы идут от 0 до 159450, то есть не все индексы совпадают с порядковыми номерами.\n",
    "\n",
    "Согласно документации текст комментария находится в столбце `text`, а в столбце `toxic` — целевой признак."
   ]
  },
  {
   "cell_type": "markdown",
   "metadata": {},
   "source": [
    "Нам необходимо:\n",
    "1. Посмотреть, что с индексами, проверить их на дублекаты.\n",
    "2. Проверить данные на дублекаты.\n",
    "3. Лемматизировать тексты.\n",
    "4. Токенизировать тексты."
   ]
  },
  {
   "cell_type": "markdown",
   "metadata": {},
   "source": [
    "### Предобработка данных"
   ]
  },
  {
   "cell_type": "markdown",
   "metadata": {},
   "source": [
    "Посмотрим, почему индексы не совпадают с порядковыми номерами."
   ]
  },
  {
   "cell_type": "code",
   "execution_count": 4,
   "metadata": {},
   "outputs": [
    {
     "data": {
      "text/plain": [
       "0"
      ]
     },
     "execution_count": 4,
     "metadata": {},
     "output_type": "execute_result"
    }
   ],
   "source": [
    "df_toxic.index.duplicated().sum()"
   ]
  },
  {
   "cell_type": "markdown",
   "metadata": {},
   "source": [
    "Проверим данные в целом на дублекаты."
   ]
  },
  {
   "cell_type": "code",
   "execution_count": 5,
   "metadata": {},
   "outputs": [
    {
     "data": {
      "text/plain": [
       "0"
      ]
     },
     "execution_count": 5,
     "metadata": {},
     "output_type": "execute_result"
    }
   ],
   "source": [
    "df_toxic.duplicated().sum()"
   ]
  },
  {
   "cell_type": "markdown",
   "metadata": {},
   "source": [
    "Дублекатов не обнаружено."
   ]
  },
  {
   "cell_type": "markdown",
   "metadata": {},
   "source": [
    "Приступим к лемматизации. Сначала очистим текст."
   ]
  },
  {
   "cell_type": "code",
   "execution_count": 6,
   "metadata": {},
   "outputs": [
    {
     "name": "stdout",
     "output_type": "stream",
     "text": [
      "CPU times: total: 2.14 s\n",
      "Wall time: 2.14 s\n"
     ]
    }
   ],
   "source": [
    "%%time\n",
    "\n",
    "# 7 сек\n",
    "\n",
    "def clear_text(text):\n",
    "    clear = re.sub(r\"[^a-zA-Z ']\", \" \", text)\n",
    "    clear = ' '.join(clear.split())\n",
    "    return clear\n",
    "\n",
    "df_toxic['text'] = df_toxic['text'].apply(lambda x: clear_text(x))"
   ]
  },
  {
   "cell_type": "markdown",
   "metadata": {},
   "source": [
    "Проверим результат."
   ]
  },
  {
   "cell_type": "code",
   "execution_count": 7,
   "metadata": {
    "scrolled": true
   },
   "outputs": [
    {
     "data": {
      "text/html": [
       "<div>\n",
       "<style scoped>\n",
       "    .dataframe tbody tr th:only-of-type {\n",
       "        vertical-align: middle;\n",
       "    }\n",
       "\n",
       "    .dataframe tbody tr th {\n",
       "        vertical-align: top;\n",
       "    }\n",
       "\n",
       "    .dataframe thead th {\n",
       "        text-align: right;\n",
       "    }\n",
       "</style>\n",
       "<table border=\"1\" class=\"dataframe\">\n",
       "  <thead>\n",
       "    <tr style=\"text-align: right;\">\n",
       "      <th></th>\n",
       "      <th>text</th>\n",
       "      <th>toxic</th>\n",
       "    </tr>\n",
       "  </thead>\n",
       "  <tbody>\n",
       "    <tr>\n",
       "      <th>0</th>\n",
       "      <td>Explanation Why the edits made under my userna...</td>\n",
       "      <td>0</td>\n",
       "    </tr>\n",
       "    <tr>\n",
       "      <th>1</th>\n",
       "      <td>D'aww He matches this background colour I'm se...</td>\n",
       "      <td>0</td>\n",
       "    </tr>\n",
       "    <tr>\n",
       "      <th>2</th>\n",
       "      <td>Hey man I'm really not trying to edit war It's...</td>\n",
       "      <td>0</td>\n",
       "    </tr>\n",
       "    <tr>\n",
       "      <th>3</th>\n",
       "      <td>More I can't make any real suggestions on impr...</td>\n",
       "      <td>0</td>\n",
       "    </tr>\n",
       "    <tr>\n",
       "      <th>4</th>\n",
       "      <td>You sir are my hero Any chance you remember wh...</td>\n",
       "      <td>0</td>\n",
       "    </tr>\n",
       "    <tr>\n",
       "      <th>5</th>\n",
       "      <td>Congratulations from me as well use the tools ...</td>\n",
       "      <td>0</td>\n",
       "    </tr>\n",
       "    <tr>\n",
       "      <th>6</th>\n",
       "      <td>COCKSUCKER BEFORE YOU PISS AROUND ON MY WORK</td>\n",
       "      <td>1</td>\n",
       "    </tr>\n",
       "    <tr>\n",
       "      <th>7</th>\n",
       "      <td>Your vandalism to the Matt Shirvington article...</td>\n",
       "      <td>0</td>\n",
       "    </tr>\n",
       "    <tr>\n",
       "      <th>8</th>\n",
       "      <td>Sorry if the word 'nonsense' was offensive to ...</td>\n",
       "      <td>0</td>\n",
       "    </tr>\n",
       "    <tr>\n",
       "      <th>9</th>\n",
       "      <td>alignment on this subject and which are contra...</td>\n",
       "      <td>0</td>\n",
       "    </tr>\n",
       "    <tr>\n",
       "      <th>10</th>\n",
       "      <td>Fair use rationale for Image Wonju jpg Thanks ...</td>\n",
       "      <td>0</td>\n",
       "    </tr>\n",
       "    <tr>\n",
       "      <th>11</th>\n",
       "      <td>bbq be a man and lets discuss it maybe over th...</td>\n",
       "      <td>0</td>\n",
       "    </tr>\n",
       "    <tr>\n",
       "      <th>12</th>\n",
       "      <td>Hey what is it talk What is it an exclusive gr...</td>\n",
       "      <td>1</td>\n",
       "    </tr>\n",
       "    <tr>\n",
       "      <th>13</th>\n",
       "      <td>Before you start throwing accusations and warn...</td>\n",
       "      <td>0</td>\n",
       "    </tr>\n",
       "    <tr>\n",
       "      <th>14</th>\n",
       "      <td>Oh and the girl above started her arguments wi...</td>\n",
       "      <td>0</td>\n",
       "    </tr>\n",
       "  </tbody>\n",
       "</table>\n",
       "</div>"
      ],
      "text/plain": [
       "                                                 text  toxic\n",
       "0   Explanation Why the edits made under my userna...      0\n",
       "1   D'aww He matches this background colour I'm se...      0\n",
       "2   Hey man I'm really not trying to edit war It's...      0\n",
       "3   More I can't make any real suggestions on impr...      0\n",
       "4   You sir are my hero Any chance you remember wh...      0\n",
       "5   Congratulations from me as well use the tools ...      0\n",
       "6        COCKSUCKER BEFORE YOU PISS AROUND ON MY WORK      1\n",
       "7   Your vandalism to the Matt Shirvington article...      0\n",
       "8   Sorry if the word 'nonsense' was offensive to ...      0\n",
       "9   alignment on this subject and which are contra...      0\n",
       "10  Fair use rationale for Image Wonju jpg Thanks ...      0\n",
       "11  bbq be a man and lets discuss it maybe over th...      0\n",
       "12  Hey what is it talk What is it an exclusive gr...      1\n",
       "13  Before you start throwing accusations and warn...      0\n",
       "14  Oh and the girl above started her arguments wi...      0"
      ]
     },
     "execution_count": 7,
     "metadata": {},
     "output_type": "execute_result"
    }
   ],
   "source": [
    "df_toxic.head(15)"
   ]
  },
  {
   "cell_type": "markdown",
   "metadata": {},
   "source": [
    "Лемматизируем."
   ]
  },
  {
   "cell_type": "code",
   "execution_count": 8,
   "metadata": {},
   "outputs": [
    {
     "name": "stdout",
     "output_type": "stream",
     "text": [
      "CPU times: total: 27min 41s\n",
      "Wall time: 27min 43s\n"
     ]
    }
   ],
   "source": [
    "%%time\n",
    "\n",
    "#25 минут\n",
    "\n",
    "nlp = spacy.load('en_core_web_sm')\n",
    "\n",
    "df_toxic['lemma_text'] = df_toxic['text'].apply(lambda x: ' '.join([x.lemma_ for x in nlp(x)]))"
   ]
  },
  {
   "cell_type": "markdown",
   "metadata": {},
   "source": [
    "Проверим результат."
   ]
  },
  {
   "cell_type": "code",
   "execution_count": 9,
   "metadata": {
    "scrolled": true
   },
   "outputs": [
    {
     "data": {
      "text/html": [
       "<div>\n",
       "<style scoped>\n",
       "    .dataframe tbody tr th:only-of-type {\n",
       "        vertical-align: middle;\n",
       "    }\n",
       "\n",
       "    .dataframe tbody tr th {\n",
       "        vertical-align: top;\n",
       "    }\n",
       "\n",
       "    .dataframe thead th {\n",
       "        text-align: right;\n",
       "    }\n",
       "</style>\n",
       "<table border=\"1\" class=\"dataframe\">\n",
       "  <thead>\n",
       "    <tr style=\"text-align: right;\">\n",
       "      <th></th>\n",
       "      <th>text</th>\n",
       "      <th>toxic</th>\n",
       "      <th>lemma_text</th>\n",
       "    </tr>\n",
       "  </thead>\n",
       "  <tbody>\n",
       "    <tr>\n",
       "      <th>0</th>\n",
       "      <td>Explanation Why the edits made under my userna...</td>\n",
       "      <td>0</td>\n",
       "      <td>Explanation why the edit make under my usernam...</td>\n",
       "    </tr>\n",
       "    <tr>\n",
       "      <th>1</th>\n",
       "      <td>D'aww He matches this background colour I'm se...</td>\n",
       "      <td>0</td>\n",
       "      <td>D'aww he match this background colour I be see...</td>\n",
       "    </tr>\n",
       "    <tr>\n",
       "      <th>2</th>\n",
       "      <td>Hey man I'm really not trying to edit war It's...</td>\n",
       "      <td>0</td>\n",
       "      <td>hey man I be really not try to edit war it be ...</td>\n",
       "    </tr>\n",
       "    <tr>\n",
       "      <th>3</th>\n",
       "      <td>More I can't make any real suggestions on impr...</td>\n",
       "      <td>0</td>\n",
       "      <td>More I can not make any real suggestion on imp...</td>\n",
       "    </tr>\n",
       "    <tr>\n",
       "      <th>4</th>\n",
       "      <td>You sir are my hero Any chance you remember wh...</td>\n",
       "      <td>0</td>\n",
       "      <td>you sir be my hero any chance you remember wha...</td>\n",
       "    </tr>\n",
       "  </tbody>\n",
       "</table>\n",
       "</div>"
      ],
      "text/plain": [
       "                                                text  toxic  \\\n",
       "0  Explanation Why the edits made under my userna...      0   \n",
       "1  D'aww He matches this background colour I'm se...      0   \n",
       "2  Hey man I'm really not trying to edit war It's...      0   \n",
       "3  More I can't make any real suggestions on impr...      0   \n",
       "4  You sir are my hero Any chance you remember wh...      0   \n",
       "\n",
       "                                          lemma_text  \n",
       "0  Explanation why the edit make under my usernam...  \n",
       "1  D'aww he match this background colour I be see...  \n",
       "2  hey man I be really not try to edit war it be ...  \n",
       "3  More I can not make any real suggestion on imp...  \n",
       "4  you sir be my hero any chance you remember wha...  "
      ]
     },
     "execution_count": 9,
     "metadata": {},
     "output_type": "execute_result"
    }
   ],
   "source": [
    "df_toxic.head()"
   ]
  },
  {
   "cell_type": "markdown",
   "metadata": {},
   "source": [
    "Разделим данные на выборки."
   ]
  },
  {
   "cell_type": "code",
   "execution_count": 10,
   "metadata": {},
   "outputs": [],
   "source": [
    "#выделим целевой признак\n",
    "\n",
    "feature = df_toxic['lemma_text']\n",
    "target = df_toxic['toxic']"
   ]
  },
  {
   "cell_type": "code",
   "execution_count": 11,
   "metadata": {},
   "outputs": [],
   "source": [
    "#разделим данные на выборки\n",
    "\n",
    "feature_train, feature_test, target_train, target_test = train_test_split(\n",
    "    feature, target, test_size=0.2, stratify=target, random_state=42)\n"
   ]
  },
  {
   "cell_type": "markdown",
   "metadata": {},
   "source": [
    "Приступим к токенизации."
   ]
  },
  {
   "cell_type": "code",
   "execution_count": 12,
   "metadata": {},
   "outputs": [],
   "source": [
    "def features_fit(data):\n",
    "    nltk.download('stopwords')\n",
    "    stop_words = set(nltk.corpus.stopwords.words('english'))\n",
    "    corpus = data.values\n",
    "    tfidf_vect = TfidfVectorizer(stop_words=stop_words).fit(corpus)\n",
    "    return tfidf_vect\n",
    "\n",
    "def features_transform(data, tfidf_vect):\n",
    "    corpus = data.values\n",
    "    tf_idf = tfidf_vect.transform(corpus)\n",
    "    return tf_idf"
   ]
  },
  {
   "cell_type": "code",
   "execution_count": 48,
   "metadata": {},
   "outputs": [
    {
     "name": "stderr",
     "output_type": "stream",
     "text": [
      "[nltk_data] Downloading package stopwords to\n",
      "[nltk_data]     C:\\Users\\1tech\\AppData\\Roaming\\nltk_data...\n",
      "[nltk_data]   Package stopwords is already up-to-date!\n"
     ]
    }
   ],
   "source": [
    "tfidf_vect = features_fit(feature_train)\n",
    "feature_train_tf_idf = features_transform(feature_train, tfidf_vect)\n",
    "feature_test_tf_idf = features_transform(feature_test, tfidf_vect)"
   ]
  },
  {
   "cell_type": "markdown",
   "metadata": {},
   "source": [
    "## Обучение"
   ]
  },
  {
   "cell_type": "markdown",
   "metadata": {},
   "source": [
    "Обучим несколько моделей-классификаторов и выберем лучшую:\n",
    "\n",
    "1. Логистическая регрессия\n",
    "2. Метод опорных векторов\n",
    "3. Случайный лес\n",
    "4. CatBoost\n",
    "5. LGBM"
   ]
  },
  {
   "cell_type": "markdown",
   "metadata": {},
   "source": [
    "### Логистическая регрессия "
   ]
  },
  {
   "cell_type": "code",
   "execution_count": 46,
   "metadata": {},
   "outputs": [
    {
     "name": "stdout",
     "output_type": "stream",
     "text": [
      "F1 модели Логистическая регрессия на валидационной выборке: 0.76\n",
      "Время обучения модели Логистическая регрессия: 19.84 c\n",
      "Время предсказания модели Логистическая регрессия: 0.03 c\n",
      "CPU times: total: 10.6 s\n",
      "Wall time: 4min 41s\n"
     ]
    }
   ],
   "source": [
    "%%time\n",
    "\n",
    "# 5 минут\n",
    "\n",
    "parametrs_lr ={'penalty': ['l1', 'l2', 'elasticnet', 'none'],\n",
    "               'max_iter': range(50, 501, 100)\n",
    "              }\n",
    "\n",
    "gs_lr = GridSearchCV(LogisticRegression(random_state=42), \n",
    "                     parametrs_lr, \n",
    "                     scoring='f1', \n",
    "                     n_jobs=-1\n",
    "                    )\n",
    "gs_lr.fit(feature_train_tf_idf, target_train)\n",
    "\n",
    "model_lr = gs_lr.best_estimator_\n",
    "score_lr = gs_lr.best_score_\n",
    "fit_time_lr = np.mean(gs_lr.cv_results_['mean_fit_time'])\n",
    "score_time_lr = np.mean(gs_lr.cv_results_['mean_score_time'])\n",
    "\n",
    "print(f'F1 модели Логистическая регрессия на валидационной выборке: {score_lr:.2f}')\n",
    "print(f'Время обучения модели Логистическая регрессия: {fit_time_lr:.2f} c')\n",
    "print(f'Время предсказания модели Логистическая регрессия: {score_time_lr:.2f} c')"
   ]
  },
  {
   "cell_type": "markdown",
   "metadata": {},
   "source": [
    "### Метод опорных векторов"
   ]
  },
  {
   "cell_type": "code",
   "execution_count": 28,
   "metadata": {},
   "outputs": [
    {
     "name": "stdout",
     "output_type": "stream",
     "text": [
      "RMSE RandomForestRegressor на валидационной выборке: 0.62\n",
      "Параметр kernel: rbf\n",
      "Время обучения RandomForestRegressor: 13.94 c\n",
      "Время предсказания RandomForestRegressor: 62.39 c\n",
      "CPU times: total: 297 ms\n",
      "Wall time: 3min 42s\n"
     ]
    }
   ],
   "source": [
    "%%time\n",
    "\n",
    "# около 40 секунд\n",
    "\n",
    "model_svc = None\n",
    "score_svc = 0\n",
    "best_kernel = None\n",
    "\n",
    "for kernel in ['rbf', 'linear', 'poly']:\n",
    "    model = SVC(random_state=42, kernel=kernel, max_iter=1000)\n",
    "    scores = cross_validate(model, feature_train_tf_idf, target_train, scoring='f1', n_jobs=-1, cv=4)\n",
    "    score = pd.Series(scores['test_score']).mean()\n",
    "    if score > score_svc:\n",
    "        score_svc = score\n",
    "        model_svc = model\n",
    "        best_kernel = kernel\n",
    "        score_time_svc = pd.Series(scores['fit_time']).mean()\n",
    "        fit_time_svc = pd.Series(scores['score_time']).mean()\n",
    "\n",
    "print(f'F1 SVС на валидационной выборке: {score_svc:.2f}')\n",
    "print(f'Параметр kernel: {best_kernel}')\n",
    "print(f'Время обучения SVС: {fit_time_svc:.2f} c')\n",
    "print(f'Время предсказания SVС: {score_time_svc:.2f} c')"
   ]
  },
  {
   "cell_type": "markdown",
   "metadata": {},
   "source": [
    "### Случайный лес"
   ]
  },
  {
   "cell_type": "code",
   "execution_count": 49,
   "metadata": {},
   "outputs": [
    {
     "name": "stdout",
     "output_type": "stream",
     "text": [
      "F1 RandomForestClassifier на валидационной выборке: 0.00\n",
      "Параметр n_estimators: 0\n",
      "Время обучения RandomForestClassifier: 4.86 c\n",
      "Время предсказания RandomForestClassifier: 0.11 c\n",
      "CPU times: total: 1.36 s\n",
      "Wall time: 1min 18s\n"
     ]
    }
   ],
   "source": [
    "%%time\n",
    "\n",
    "# примерно 2 минуты\n",
    "\n",
    "model_rf = None\n",
    "score_rf = 0\n",
    "best_est = 0\n",
    "\n",
    "for est in range(5, 61, 10):\n",
    "    model = RandomForestClassifier(random_state=42, n_estimators=est, max_depth=5)\n",
    "    scores = cross_validate(model, feature_train_tf_idf, target_train, scoring='f1', n_jobs=-1, cv=4)\n",
    "    score = pd.Series(scores['test_score']).mean()\n",
    "    if score > score_rf:\n",
    "        score_rf = score\n",
    "        model_rf = model\n",
    "        best_est = est\n",
    "        fit_time_rf = pd.Series(scores['fit_time']).mean()\n",
    "        score_time_rf = pd.Series(scores['score_time']).mean()\n",
    "\n",
    "print(f'F1 RandomForestClassifier на валидационной выборке: {score_rf:.2f}')\n",
    "print(f'Параметр n_estimators: {best_est}')\n",
    "print(f'Время обучения RandomForestClassifier: {fit_time_rf:.2f} c')\n",
    "print(f'Время предсказания RandomForestClassifier: {score_time_rf:.2f} c')"
   ]
  },
  {
   "cell_type": "markdown",
   "metadata": {},
   "source": [
    "### CatBoost"
   ]
  },
  {
   "cell_type": "code",
   "execution_count": 27,
   "metadata": {},
   "outputs": [
    {
     "name": "stdout",
     "output_type": "stream",
     "text": [
      "RMSE RandomForestRegressor на валидационной выборке: 0.69\n",
      "Параметр n_estimators: 1.0\n",
      "Время обучения RandomForestRegressor: 71.43 c\n",
      "Время предсказания RandomForestRegressor: 0.90 c\n",
      "CPU times: total: 1.33 s\n",
      "Wall time: 10min 22s\n"
     ]
    }
   ],
   "source": [
    "%%time \n",
    "\n",
    "# примерно 1 минуту\n",
    "\n",
    "model_cbc = None\n",
    "score_cbc = 0\n",
    "best_lr = 0\n",
    "\n",
    "for learning_rate in np.arange(0.1, 1.1, 0.1):\n",
    "    model = CatBoostClassifier(random_state=42, \n",
    "                               verbose=False, \n",
    "                               iterations=12, \n",
    "                               learning_rate=learning_rate, \n",
    "                               depth=5, \n",
    "                               reg_lambda=0.2)\n",
    "    scores = cross_validate(model, feature_train_tf_idf, target_train, scoring='f1', n_jobs=-1, cv=4)\n",
    "    score = pd.Series(scores['test_score']).mean()\n",
    "    if score > score_cbc:\n",
    "        score_cbc = score\n",
    "        model_cbc = model\n",
    "        best_lr = learning_rate\n",
    "        fit_time_cbc = pd.Series(scores['fit_time']).mean()\n",
    "        score_time_cbc = pd.Series(scores['score_time']).mean()\n",
    "\n",
    "print(f'F1 CatBoost на валидационной выборке: {score_cbc:.2f}')\n",
    "print(f'Параметр n_estimators: {best_lr}')\n",
    "print(f'Время обучения CatBoost: {fit_time_cbc:.2f} c')\n",
    "print(f'Время предсказания CatBoost: {score_time_cbc:.2f} c')"
   ]
  },
  {
   "cell_type": "markdown",
   "metadata": {},
   "source": [
    "### LGBM"
   ]
  },
  {
   "cell_type": "code",
   "execution_count": 29,
   "metadata": {},
   "outputs": [
    {
     "name": "stdout",
     "output_type": "stream",
     "text": [
      "F1 LightGBM на валидационной выборке: 0.70\n",
      "Параметр n_estimators: 0.9\n",
      "Время обучения LightGBM: 49.76 c\n",
      "Время предсказания LightGBM: 1.03 c\n",
      "CPU times: total: 1.22 s\n",
      "Wall time: 10min 50s\n"
     ]
    }
   ],
   "source": [
    "%%time \n",
    "\n",
    "# займет 1 мин\n",
    "\n",
    "model_lgbm = None\n",
    "score_lgbm = 0\n",
    "best_lr = 0\n",
    "\n",
    "for learning_rate in np.arange(0.1, 1.1, 0.1):\n",
    "    model = LGBMClassifier(random_state=42, \n",
    "                            reg_alpha=0.2, \n",
    "                            reg_lambda=0.1, \n",
    "                            learning_rate=learning_rate)\n",
    "    scores = cross_validate(model, feature_train_tf_idf, target_train, scoring='f1', n_jobs=-1, cv=4)\n",
    "    score = pd.Series(scores['test_score']).mean()\n",
    "    if score > score_cbc:\n",
    "        score_lgbm = score\n",
    "        model_lgbm = model\n",
    "        best_lr = learning_rate\n",
    "        fit_time_lgbm = pd.Series(scores['fit_time']).mean()\n",
    "        score_time_lgbm = pd.Series(scores['score_time']).mean()\n",
    "\n",
    "print(f'F1 LightGBM на валидационной выборке: {score_lgbm:.2f}')\n",
    "print(f'Параметр n_estimators: {best_lr}')\n",
    "print(f'Время обучения LightGBM: {fit_time_lgbm:.2f} c')\n",
    "print(f'Время предсказания LightGBM: {score_time_lgbm:.2f} c')"
   ]
  },
  {
   "cell_type": "markdown",
   "metadata": {},
   "source": [
    "### Выбор модели"
   ]
  },
  {
   "cell_type": "markdown",
   "metadata": {},
   "source": [
    "Создадим таблицу значений."
   ]
  },
  {
   "cell_type": "code",
   "execution_count": 50,
   "metadata": {},
   "outputs": [
    {
     "data": {
      "text/html": [
       "<div>\n",
       "<style scoped>\n",
       "    .dataframe tbody tr th:only-of-type {\n",
       "        vertical-align: middle;\n",
       "    }\n",
       "\n",
       "    .dataframe tbody tr th {\n",
       "        vertical-align: top;\n",
       "    }\n",
       "\n",
       "    .dataframe thead th {\n",
       "        text-align: right;\n",
       "    }\n",
       "</style>\n",
       "<table border=\"1\" class=\"dataframe\">\n",
       "  <thead>\n",
       "    <tr style=\"text-align: right;\">\n",
       "      <th></th>\n",
       "      <th>Модель</th>\n",
       "      <th>F1</th>\n",
       "      <th>Время обучения</th>\n",
       "      <th>Время предсказания</th>\n",
       "    </tr>\n",
       "  </thead>\n",
       "  <tbody>\n",
       "    <tr>\n",
       "      <th>0</th>\n",
       "      <td>Логистическая регрессия</td>\n",
       "      <td>0.761195</td>\n",
       "      <td>19.842389</td>\n",
       "      <td>0.025857</td>\n",
       "    </tr>\n",
       "    <tr>\n",
       "      <th>1</th>\n",
       "      <td>Метод опорных векторов</td>\n",
       "      <td>0.624674</td>\n",
       "      <td>13.939717</td>\n",
       "      <td>62.392377</td>\n",
       "    </tr>\n",
       "    <tr>\n",
       "      <th>2</th>\n",
       "      <td>Случайный лес</td>\n",
       "      <td>0.000000</td>\n",
       "      <td>4.855497</td>\n",
       "      <td>0.107462</td>\n",
       "    </tr>\n",
       "    <tr>\n",
       "      <th>3</th>\n",
       "      <td>CatBoost</td>\n",
       "      <td>0.692286</td>\n",
       "      <td>71.429488</td>\n",
       "      <td>0.897350</td>\n",
       "    </tr>\n",
       "    <tr>\n",
       "      <th>4</th>\n",
       "      <td>LGBM</td>\n",
       "      <td>0.701941</td>\n",
       "      <td>49.761919</td>\n",
       "      <td>1.032745</td>\n",
       "    </tr>\n",
       "  </tbody>\n",
       "</table>\n",
       "</div>"
      ],
      "text/plain": [
       "                    Модель        F1  Время обучения  Время предсказания\n",
       "0  Логистическая регрессия  0.761195       19.842389            0.025857\n",
       "1   Метод опорных векторов  0.624674       13.939717           62.392377\n",
       "2            Случайный лес  0.000000        4.855497            0.107462\n",
       "3                 CatBoost  0.692286       71.429488            0.897350\n",
       "4                     LGBM  0.701941       49.761919            1.032745"
      ]
     },
     "metadata": {},
     "output_type": "display_data"
    }
   ],
   "source": [
    "sheet_models = pd.DataFrame({\n",
    "        'Модель': ['Логистическая регрессия', 'Метод опорных векторов', 'Случайный лес', 'CatBoost', 'LGBM'],\n",
    "        'F1': [score_lr, score_svc, score_rf, score_cbc, score_lgbm],\n",
    "        'Время обучения': [fit_time_lr, fit_time_svc, fit_time_rf, fit_time_cbc, fit_time_lgbm],\n",
    "        'Время предсказания': [score_time_lr, score_time_svc, score_time_rf, score_time_cbc, score_time_lgbm]\n",
    "       })\n",
    "\n",
    "display(sheet_models.reset_index(drop=True))"
   ]
  },
  {
   "cell_type": "markdown",
   "metadata": {},
   "source": [
    "Из всех полученных моделей самую высокую точность имеет Логистическая регрессия. При этом она не является слишком долгой в обучении и самая быстрая по скорости предсказания."
   ]
  },
  {
   "cell_type": "markdown",
   "metadata": {},
   "source": [
    "## Тестирование"
   ]
  },
  {
   "cell_type": "markdown",
   "metadata": {},
   "source": [
    "Рассичтаем F1 лучшей модели на тестовой выборке."
   ]
  },
  {
   "cell_type": "code",
   "execution_count": 42,
   "metadata": {
    "scrolled": true
   },
   "outputs": [
    {
     "name": "stdout",
     "output_type": "stream",
     "text": [
      "F1 лучшей модели на тестовой выборке: 0.77\n"
     ]
    }
   ],
   "source": [
    "best_model_predict = model_lr.predict(feature_test_tf_idf)\n",
    "best_model_score = f1_score(target_test, best_model_predict)\n",
    "print(f'F1 лучшей модели на тестовой выборке: {best_model_score:.2f}')"
   ]
  },
  {
   "cell_type": "markdown",
   "metadata": {},
   "source": [
    "Сравним с моделью-пустышкой."
   ]
  },
  {
   "cell_type": "code",
   "execution_count": 60,
   "metadata": {},
   "outputs": [
    {
     "name": "stdout",
     "output_type": "stream",
     "text": [
      "F1 Dummy модели на тестовой выборке: 0.00\n",
      "Наша модель успешно прошла тестирование.\n"
     ]
    }
   ],
   "source": [
    "dummy_model = DummyClassifier()\n",
    "dummy_model.fit(feature_train_tf_idf, target_train)\n",
    "dummy_model_predict = dummy_model.predict(feature_test_tf_idf)\n",
    "dummy_model_score = f1_score(target_test, dummy_model_predict)\n",
    "print(f'F1 Dummy модели на тестовой выборке: {dummy_model_score:.2f}')\n",
    "\n",
    "if dummy_model_score < best_model_score:\n",
    "    print('Наша модель успешно прошла тестирование.')\n",
    "else:\n",
    "    print('Наша модель никуда не годится!')"
   ]
  },
  {
   "cell_type": "markdown",
   "metadata": {},
   "source": [
    "## Выводы"
   ]
  },
  {
   "cell_type": "markdown",
   "metadata": {},
   "source": [
    "Нам удалось создать модель опделяющую токсичность комметариев с F1 равным 0.77 на тестовой выборке."
   ]
  }
 ],
 "metadata": {
  "kernelspec": {
   "display_name": "Python 3 (ipykernel)",
   "language": "python",
   "name": "python3"
  },
  "language_info": {
   "codemirror_mode": {
    "name": "ipython",
    "version": 3
   },
   "file_extension": ".py",
   "mimetype": "text/x-python",
   "name": "python",
   "nbconvert_exporter": "python",
   "pygments_lexer": "ipython3",
   "version": "3.9.12"
  },
  "toc": {
   "base_numbering": 1,
   "nav_menu": {},
   "number_sections": true,
   "sideBar": true,
   "skip_h1_title": true,
   "title_cell": "Содержание",
   "title_sidebar": "Contents",
   "toc_cell": true,
   "toc_position": {
    "height": "calc(100% - 180px)",
    "left": "10px",
    "top": "150px",
    "width": "218.375px"
   },
   "toc_section_display": true,
   "toc_window_display": true
  }
 },
 "nbformat": 4,
 "nbformat_minor": 2
}
