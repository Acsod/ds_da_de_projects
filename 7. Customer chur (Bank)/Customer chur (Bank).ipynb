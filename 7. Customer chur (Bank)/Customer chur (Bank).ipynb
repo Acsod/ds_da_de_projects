{
 "cells": [
  {
   "cell_type": "markdown",
   "metadata": {
    "toc": true
   },
   "source": [
    "<h1>Содержание<span class=\"tocSkip\"></span></h1>\n",
    "<div class=\"toc\"><ul class=\"toc-item\"><li><span><a href=\"#Подготовка-данных\" data-toc-modified-id=\"Подготовка-данных-1\"><span class=\"toc-item-num\">1&nbsp;&nbsp;</span>Подготовка данных</a></span><ul class=\"toc-item\"><li><span><a href=\"#Обзор-данных\" data-toc-modified-id=\"Обзор-данных-1.1\"><span class=\"toc-item-num\">1.1&nbsp;&nbsp;</span>Обзор данных</a></span></li><li><span><a href=\"#Передобработка-данных\" data-toc-modified-id=\"Передобработка-данных-1.2\"><span class=\"toc-item-num\">1.2&nbsp;&nbsp;</span>Передобработка данных</a></span></li></ul></li><li><span><a href=\"#Исследование-задачи\" data-toc-modified-id=\"Исследование-задачи-2\"><span class=\"toc-item-num\">2&nbsp;&nbsp;</span>Исследование задачи</a></span><ul class=\"toc-item\"><li><span><a href=\"#Вывод\" data-toc-modified-id=\"Вывод-2.1\"><span class=\"toc-item-num\">2.1&nbsp;&nbsp;</span>Вывод</a></span></li></ul></li><li><span><a href=\"#Борьба-с-дисбалансом\" data-toc-modified-id=\"Борьба-с-дисбалансом-3\"><span class=\"toc-item-num\">3&nbsp;&nbsp;</span>Борьба с дисбалансом</a></span><ul class=\"toc-item\"><li><span><a href=\"#Взвешивание-классов\" data-toc-modified-id=\"Взвешивание-классов-3.1\"><span class=\"toc-item-num\">3.1&nbsp;&nbsp;</span>Взвешивание классов</a></span></li><li><span><a href=\"#Увеличение-выборки\" data-toc-modified-id=\"Увеличение-выборки-3.2\"><span class=\"toc-item-num\">3.2&nbsp;&nbsp;</span>Увеличение выборки</a></span></li><li><span><a href=\"#Уменьшение-выборки\" data-toc-modified-id=\"Уменьшение-выборки-3.3\"><span class=\"toc-item-num\">3.3&nbsp;&nbsp;</span>Уменьшение выборки</a></span></li><li><span><a href=\"#Смещения-порога\" data-toc-modified-id=\"Смещения-порога-3.4\"><span class=\"toc-item-num\">3.4&nbsp;&nbsp;</span>Смещения порога</a></span></li><li><span><a href=\"#Вывод\" data-toc-modified-id=\"Вывод-3.5\"><span class=\"toc-item-num\">3.5&nbsp;&nbsp;</span>Вывод</a></span></li></ul></li><li><span><a href=\"#Тестирование-модели\" data-toc-modified-id=\"Тестирование-модели-4\"><span class=\"toc-item-num\">4&nbsp;&nbsp;</span>Тестирование модели</a></span></li><li><span><a href=\"#Вывод\" data-toc-modified-id=\"Вывод-5\"><span class=\"toc-item-num\">5&nbsp;&nbsp;</span>Вывод</a></span></li></ul></div>"
   ]
  },
  {
   "cell_type": "markdown",
   "metadata": {},
   "source": [
    "# Отток клиентов банка"
   ]
  },
  {
   "cell_type": "markdown",
   "metadata": {},
   "source": [
    "**Иcходные данные**\n",
    "\n",
    "Из Банка стали уходить клиенты. Каждый месяц. Немного, но заметно. Банковские маркетологи посчитали: сохранять текущих клиентов дешевле, чем привлекать новых. \n",
    "\n",
    "Нужно спрогнозировать, уйдёт клиент из банка в ближайшее время или нет.\n",
    "\n",
    "В нашем распоряжении исторические данные о поведении клиентов и расторжении договоров с банком. \n",
    "\n",
    "**Цель исследования**\n",
    "\n",
    "Построить модель с предельно большим значением F1-меры (не менее 0.59), способную спрогнозировать, уйдёт клиент из банка в ближайшее время или нет.\n",
    "\n",
    "**Ход исследования**\n",
    "1. Обзор и подготовка данных.\n",
    "2. Исследование задачи.\n",
    "3. Балансировка данных.\n",
    "4. Тестирование модели."
   ]
  },
  {
   "cell_type": "markdown",
   "metadata": {},
   "source": [
    "## Подготовка данных"
   ]
  },
  {
   "cell_type": "markdown",
   "metadata": {},
   "source": [
    "Импортируем библиотеки."
   ]
  },
  {
   "cell_type": "code",
   "execution_count": 61,
   "metadata": {},
   "outputs": [],
   "source": [
    "import pandas as pd\n",
    "import numpy as np\n",
    "import os\n",
    "import re\n",
    "import matplotlib.pyplot as plt\n",
    "from sklearn.preprocessing import StandardScaler\n",
    "from sklearn.model_selection import train_test_split\n",
    "from sklearn.tree import DecisionTreeClassifier\n",
    "from sklearn.ensemble import RandomForestClassifier\n",
    "from sklearn.linear_model import LogisticRegression\n",
    "from sklearn.model_selection import GridSearchCV\n",
    "from sklearn.metrics import f1_score\n",
    "from sklearn.utils import shuffle\n",
    "from sklearn.metrics import roc_curve\n",
    "from sklearn.metrics import roc_auc_score"
   ]
  },
  {
   "cell_type": "markdown",
   "metadata": {},
   "source": [
    "### Обзор данных"
   ]
  },
  {
   "cell_type": "markdown",
   "metadata": {},
   "source": [
    "Выполним обзор данных из файла."
   ]
  },
  {
   "cell_type": "code",
   "execution_count": 62,
   "metadata": {},
   "outputs": [
    {
     "name": "stdout",
     "output_type": "stream",
     "text": [
      "<class 'pandas.core.frame.DataFrame'>\n",
      "Int64Index: 10000 entries, 1 to 10000\n",
      "Data columns (total 13 columns):\n",
      " #   Column           Non-Null Count  Dtype  \n",
      "---  ------           --------------  -----  \n",
      " 0   CustomerId       10000 non-null  int64  \n",
      " 1   Surname          10000 non-null  object \n",
      " 2   CreditScore      10000 non-null  int64  \n",
      " 3   Geography        10000 non-null  object \n",
      " 4   Gender           10000 non-null  object \n",
      " 5   Age              10000 non-null  int64  \n",
      " 6   Tenure           9091 non-null   float64\n",
      " 7   Balance          10000 non-null  float64\n",
      " 8   NumOfProducts    10000 non-null  int64  \n",
      " 9   HasCrCard        10000 non-null  int64  \n",
      " 10  IsActiveMember   10000 non-null  int64  \n",
      " 11  EstimatedSalary  10000 non-null  float64\n",
      " 12  Exited           10000 non-null  int64  \n",
      "dtypes: float64(3), int64(7), object(3)\n",
      "memory usage: 1.1+ MB\n",
      "None\n"
     ]
    },
    {
     "data": {
      "text/html": [
       "<div>\n",
       "<style scoped>\n",
       "    .dataframe tbody tr th:only-of-type {\n",
       "        vertical-align: middle;\n",
       "    }\n",
       "\n",
       "    .dataframe tbody tr th {\n",
       "        vertical-align: top;\n",
       "    }\n",
       "\n",
       "    .dataframe thead th {\n",
       "        text-align: right;\n",
       "    }\n",
       "</style>\n",
       "<table border=\"1\" class=\"dataframe\">\n",
       "  <thead>\n",
       "    <tr style=\"text-align: right;\">\n",
       "      <th></th>\n",
       "      <th>CustomerId</th>\n",
       "      <th>Surname</th>\n",
       "      <th>CreditScore</th>\n",
       "      <th>Geography</th>\n",
       "      <th>Gender</th>\n",
       "      <th>Age</th>\n",
       "      <th>Tenure</th>\n",
       "      <th>Balance</th>\n",
       "      <th>NumOfProducts</th>\n",
       "      <th>HasCrCard</th>\n",
       "      <th>IsActiveMember</th>\n",
       "      <th>EstimatedSalary</th>\n",
       "      <th>Exited</th>\n",
       "    </tr>\n",
       "    <tr>\n",
       "      <th>RowNumber</th>\n",
       "      <th></th>\n",
       "      <th></th>\n",
       "      <th></th>\n",
       "      <th></th>\n",
       "      <th></th>\n",
       "      <th></th>\n",
       "      <th></th>\n",
       "      <th></th>\n",
       "      <th></th>\n",
       "      <th></th>\n",
       "      <th></th>\n",
       "      <th></th>\n",
       "      <th></th>\n",
       "    </tr>\n",
       "  </thead>\n",
       "  <tbody>\n",
       "    <tr>\n",
       "      <th>1</th>\n",
       "      <td>15634602</td>\n",
       "      <td>Hargrave</td>\n",
       "      <td>619</td>\n",
       "      <td>France</td>\n",
       "      <td>Female</td>\n",
       "      <td>42</td>\n",
       "      <td>2.0</td>\n",
       "      <td>0.00</td>\n",
       "      <td>1</td>\n",
       "      <td>1</td>\n",
       "      <td>1</td>\n",
       "      <td>101348.88</td>\n",
       "      <td>1</td>\n",
       "    </tr>\n",
       "    <tr>\n",
       "      <th>2</th>\n",
       "      <td>15647311</td>\n",
       "      <td>Hill</td>\n",
       "      <td>608</td>\n",
       "      <td>Spain</td>\n",
       "      <td>Female</td>\n",
       "      <td>41</td>\n",
       "      <td>1.0</td>\n",
       "      <td>83807.86</td>\n",
       "      <td>1</td>\n",
       "      <td>0</td>\n",
       "      <td>1</td>\n",
       "      <td>112542.58</td>\n",
       "      <td>0</td>\n",
       "    </tr>\n",
       "    <tr>\n",
       "      <th>3</th>\n",
       "      <td>15619304</td>\n",
       "      <td>Onio</td>\n",
       "      <td>502</td>\n",
       "      <td>France</td>\n",
       "      <td>Female</td>\n",
       "      <td>42</td>\n",
       "      <td>8.0</td>\n",
       "      <td>159660.80</td>\n",
       "      <td>3</td>\n",
       "      <td>1</td>\n",
       "      <td>0</td>\n",
       "      <td>113931.57</td>\n",
       "      <td>1</td>\n",
       "    </tr>\n",
       "    <tr>\n",
       "      <th>4</th>\n",
       "      <td>15701354</td>\n",
       "      <td>Boni</td>\n",
       "      <td>699</td>\n",
       "      <td>France</td>\n",
       "      <td>Female</td>\n",
       "      <td>39</td>\n",
       "      <td>1.0</td>\n",
       "      <td>0.00</td>\n",
       "      <td>2</td>\n",
       "      <td>0</td>\n",
       "      <td>0</td>\n",
       "      <td>93826.63</td>\n",
       "      <td>0</td>\n",
       "    </tr>\n",
       "    <tr>\n",
       "      <th>5</th>\n",
       "      <td>15737888</td>\n",
       "      <td>Mitchell</td>\n",
       "      <td>850</td>\n",
       "      <td>Spain</td>\n",
       "      <td>Female</td>\n",
       "      <td>43</td>\n",
       "      <td>2.0</td>\n",
       "      <td>125510.82</td>\n",
       "      <td>1</td>\n",
       "      <td>1</td>\n",
       "      <td>1</td>\n",
       "      <td>79084.10</td>\n",
       "      <td>0</td>\n",
       "    </tr>\n",
       "    <tr>\n",
       "      <th>6</th>\n",
       "      <td>15574012</td>\n",
       "      <td>Chu</td>\n",
       "      <td>645</td>\n",
       "      <td>Spain</td>\n",
       "      <td>Male</td>\n",
       "      <td>44</td>\n",
       "      <td>8.0</td>\n",
       "      <td>113755.78</td>\n",
       "      <td>2</td>\n",
       "      <td>1</td>\n",
       "      <td>0</td>\n",
       "      <td>149756.71</td>\n",
       "      <td>1</td>\n",
       "    </tr>\n",
       "    <tr>\n",
       "      <th>7</th>\n",
       "      <td>15592531</td>\n",
       "      <td>Bartlett</td>\n",
       "      <td>822</td>\n",
       "      <td>France</td>\n",
       "      <td>Male</td>\n",
       "      <td>50</td>\n",
       "      <td>7.0</td>\n",
       "      <td>0.00</td>\n",
       "      <td>2</td>\n",
       "      <td>1</td>\n",
       "      <td>1</td>\n",
       "      <td>10062.80</td>\n",
       "      <td>0</td>\n",
       "    </tr>\n",
       "    <tr>\n",
       "      <th>8</th>\n",
       "      <td>15656148</td>\n",
       "      <td>Obinna</td>\n",
       "      <td>376</td>\n",
       "      <td>Germany</td>\n",
       "      <td>Female</td>\n",
       "      <td>29</td>\n",
       "      <td>4.0</td>\n",
       "      <td>115046.74</td>\n",
       "      <td>4</td>\n",
       "      <td>1</td>\n",
       "      <td>0</td>\n",
       "      <td>119346.88</td>\n",
       "      <td>1</td>\n",
       "    </tr>\n",
       "    <tr>\n",
       "      <th>9</th>\n",
       "      <td>15792365</td>\n",
       "      <td>He</td>\n",
       "      <td>501</td>\n",
       "      <td>France</td>\n",
       "      <td>Male</td>\n",
       "      <td>44</td>\n",
       "      <td>4.0</td>\n",
       "      <td>142051.07</td>\n",
       "      <td>2</td>\n",
       "      <td>0</td>\n",
       "      <td>1</td>\n",
       "      <td>74940.50</td>\n",
       "      <td>0</td>\n",
       "    </tr>\n",
       "    <tr>\n",
       "      <th>10</th>\n",
       "      <td>15592389</td>\n",
       "      <td>H?</td>\n",
       "      <td>684</td>\n",
       "      <td>France</td>\n",
       "      <td>Male</td>\n",
       "      <td>27</td>\n",
       "      <td>2.0</td>\n",
       "      <td>134603.88</td>\n",
       "      <td>1</td>\n",
       "      <td>1</td>\n",
       "      <td>1</td>\n",
       "      <td>71725.73</td>\n",
       "      <td>0</td>\n",
       "    </tr>\n",
       "  </tbody>\n",
       "</table>\n",
       "</div>"
      ],
      "text/plain": [
       "           CustomerId   Surname  CreditScore Geography  Gender  Age  Tenure  \\\n",
       "RowNumber                                                                     \n",
       "1            15634602  Hargrave          619    France  Female   42     2.0   \n",
       "2            15647311      Hill          608     Spain  Female   41     1.0   \n",
       "3            15619304      Onio          502    France  Female   42     8.0   \n",
       "4            15701354      Boni          699    France  Female   39     1.0   \n",
       "5            15737888  Mitchell          850     Spain  Female   43     2.0   \n",
       "6            15574012       Chu          645     Spain    Male   44     8.0   \n",
       "7            15592531  Bartlett          822    France    Male   50     7.0   \n",
       "8            15656148    Obinna          376   Germany  Female   29     4.0   \n",
       "9            15792365        He          501    France    Male   44     4.0   \n",
       "10           15592389        H?          684    France    Male   27     2.0   \n",
       "\n",
       "             Balance  NumOfProducts  HasCrCard  IsActiveMember  \\\n",
       "RowNumber                                                        \n",
       "1               0.00              1          1               1   \n",
       "2           83807.86              1          0               1   \n",
       "3          159660.80              3          1               0   \n",
       "4               0.00              2          0               0   \n",
       "5          125510.82              1          1               1   \n",
       "6          113755.78              2          1               0   \n",
       "7               0.00              2          1               1   \n",
       "8          115046.74              4          1               0   \n",
       "9          142051.07              2          0               1   \n",
       "10         134603.88              1          1               1   \n",
       "\n",
       "           EstimatedSalary  Exited  \n",
       "RowNumber                           \n",
       "1                101348.88       1  \n",
       "2                112542.58       0  \n",
       "3                113931.57       1  \n",
       "4                 93826.63       0  \n",
       "5                 79084.10       0  \n",
       "6                149756.71       1  \n",
       "7                 10062.80       0  \n",
       "8                119346.88       1  \n",
       "9                 74940.50       0  \n",
       "10                71725.73       0  "
      ]
     },
     "execution_count": 62,
     "metadata": {},
     "output_type": "execute_result"
    }
   ],
   "source": [
    "pth1 = 'Churn.csv'\n",
    "pth2 = '/datasets/Churn.csv'\n",
    "\n",
    "if os.path.exists(pth1):\n",
    "    df = pd.read_csv(pth1, index_col=0)\n",
    "elif os.path.exists(pth2):\n",
    "    df = pd.read_csv(pth2, index_col=0)\n",
    "else:\n",
    "    print('Что-то пошло не так :(')\n",
    "\n",
    "print(df.info())\n",
    "df.head(10)"
   ]
  },
  {
   "cell_type": "markdown",
   "metadata": {},
   "source": [
    "В таблице 10000 строк и 13 столбцов. Данные типов object, float64 и int64.\n",
    "\n",
    "Согласно документации имеем:\n",
    "\n",
    "**Признаки**\n",
    "* `RowNumber` — индекс строки в данных.\n",
    "* `CustomerId` — уникальный идентификатор клиента.\n",
    "* `Surname` — фамилия.\n",
    "* `CreditScore` — кредитный рейтинг.\n",
    "* `Geography` — страна проживания.\n",
    "* `Gender` — пол.\n",
    "* `Age` — возраст.\n",
    "* `Tenure` — сколько лет человек является клиентом банка.\n",
    "* `Balance` — баланс на счёте.\n",
    "* `NumOfProducts` — количество продуктов банка, используемых клиентом.\n",
    "* `HasCrCard` — наличие кредитной карты.\n",
    "* `IsActiveMember` — активность клиента.\n",
    "* `EstimatedSalary` — предполагаемая зарплата.\n",
    "\n",
    "**Целевой признак**\n",
    "* `Exited` — факт ухода клиента.\n"
   ]
  },
  {
   "cell_type": "markdown",
   "metadata": {},
   "source": [
    "По первичному обзору видим:\n",
    "* В столбце `Tenure` присутствуют пропуски.\n",
    "* Заголовки столбцов не соответствуют стилю.\n",
    "\n",
    "Необходимо:\n",
    "* Прверить (возможно заполнить) пропуски.\n",
    "* Стилизовать заголовки.\n",
    "* Проверить данные на дублекаты и аномалии.\n",
    "* Преобразовать категориальные признаки."
   ]
  },
  {
   "cell_type": "markdown",
   "metadata": {},
   "source": [
    "### Передобработка данных"
   ]
  },
  {
   "cell_type": "markdown",
   "metadata": {},
   "source": [
    "Стилизуем заголовки."
   ]
  },
  {
   "cell_type": "code",
   "execution_count": 63,
   "metadata": {},
   "outputs": [
    {
     "name": "stdout",
     "output_type": "stream",
     "text": [
      "Index(['customer_id', 'surname', 'credit_score', 'geography', 'gender', 'age',\n",
      "       'tenure', 'balance', 'num_of_products', 'has_cr_card',\n",
      "       'is_active_member', 'estimated_salary', 'exited'],\n",
      "      dtype='object')\n"
     ]
    }
   ],
   "source": [
    "# создадим список с новыми именами колонок\n",
    "new_name = []\n",
    "for column in df.columns:\n",
    "    column = re.sub('(?<=[a-zA-Z])([A-Z])', ('_' + '\\g<1>'), column).lower()\n",
    "    new_name.append(column)\n",
    "\n",
    "# заменим имена на стилизиованные\n",
    "df.columns = new_name\n",
    "\n",
    "# проверим результат\n",
    "print(df.columns)"
   ]
  },
  {
   "cell_type": "markdown",
   "metadata": {},
   "source": [
    "Посмотрим строки с пропусками в `tenure`."
   ]
  },
  {
   "cell_type": "code",
   "execution_count": 64,
   "metadata": {},
   "outputs": [
    {
     "data": {
      "text/html": [
       "<div>\n",
       "<style scoped>\n",
       "    .dataframe tbody tr th:only-of-type {\n",
       "        vertical-align: middle;\n",
       "    }\n",
       "\n",
       "    .dataframe tbody tr th {\n",
       "        vertical-align: top;\n",
       "    }\n",
       "\n",
       "    .dataframe thead th {\n",
       "        text-align: right;\n",
       "    }\n",
       "</style>\n",
       "<table border=\"1\" class=\"dataframe\">\n",
       "  <thead>\n",
       "    <tr style=\"text-align: right;\">\n",
       "      <th></th>\n",
       "      <th>customer_id</th>\n",
       "      <th>surname</th>\n",
       "      <th>credit_score</th>\n",
       "      <th>geography</th>\n",
       "      <th>gender</th>\n",
       "      <th>age</th>\n",
       "      <th>tenure</th>\n",
       "      <th>balance</th>\n",
       "      <th>num_of_products</th>\n",
       "      <th>has_cr_card</th>\n",
       "      <th>is_active_member</th>\n",
       "      <th>estimated_salary</th>\n",
       "      <th>exited</th>\n",
       "    </tr>\n",
       "    <tr>\n",
       "      <th>RowNumber</th>\n",
       "      <th></th>\n",
       "      <th></th>\n",
       "      <th></th>\n",
       "      <th></th>\n",
       "      <th></th>\n",
       "      <th></th>\n",
       "      <th></th>\n",
       "      <th></th>\n",
       "      <th></th>\n",
       "      <th></th>\n",
       "      <th></th>\n",
       "      <th></th>\n",
       "      <th></th>\n",
       "    </tr>\n",
       "  </thead>\n",
       "  <tbody>\n",
       "    <tr>\n",
       "      <th>31</th>\n",
       "      <td>15589475</td>\n",
       "      <td>Azikiwe</td>\n",
       "      <td>591</td>\n",
       "      <td>Spain</td>\n",
       "      <td>Female</td>\n",
       "      <td>39</td>\n",
       "      <td>NaN</td>\n",
       "      <td>0.00</td>\n",
       "      <td>3</td>\n",
       "      <td>1</td>\n",
       "      <td>0</td>\n",
       "      <td>140469.38</td>\n",
       "      <td>1</td>\n",
       "    </tr>\n",
       "    <tr>\n",
       "      <th>49</th>\n",
       "      <td>15766205</td>\n",
       "      <td>Yin</td>\n",
       "      <td>550</td>\n",
       "      <td>Germany</td>\n",
       "      <td>Male</td>\n",
       "      <td>38</td>\n",
       "      <td>NaN</td>\n",
       "      <td>103391.38</td>\n",
       "      <td>1</td>\n",
       "      <td>0</td>\n",
       "      <td>1</td>\n",
       "      <td>90878.13</td>\n",
       "      <td>0</td>\n",
       "    </tr>\n",
       "    <tr>\n",
       "      <th>52</th>\n",
       "      <td>15768193</td>\n",
       "      <td>Trevisani</td>\n",
       "      <td>585</td>\n",
       "      <td>Germany</td>\n",
       "      <td>Male</td>\n",
       "      <td>36</td>\n",
       "      <td>NaN</td>\n",
       "      <td>146050.97</td>\n",
       "      <td>2</td>\n",
       "      <td>0</td>\n",
       "      <td>0</td>\n",
       "      <td>86424.57</td>\n",
       "      <td>0</td>\n",
       "    </tr>\n",
       "    <tr>\n",
       "      <th>54</th>\n",
       "      <td>15702298</td>\n",
       "      <td>Parkhill</td>\n",
       "      <td>655</td>\n",
       "      <td>Germany</td>\n",
       "      <td>Male</td>\n",
       "      <td>41</td>\n",
       "      <td>NaN</td>\n",
       "      <td>125561.97</td>\n",
       "      <td>1</td>\n",
       "      <td>0</td>\n",
       "      <td>0</td>\n",
       "      <td>164040.94</td>\n",
       "      <td>1</td>\n",
       "    </tr>\n",
       "    <tr>\n",
       "      <th>61</th>\n",
       "      <td>15651280</td>\n",
       "      <td>Hunter</td>\n",
       "      <td>742</td>\n",
       "      <td>Germany</td>\n",
       "      <td>Male</td>\n",
       "      <td>35</td>\n",
       "      <td>NaN</td>\n",
       "      <td>136857.00</td>\n",
       "      <td>1</td>\n",
       "      <td>0</td>\n",
       "      <td>0</td>\n",
       "      <td>84509.57</td>\n",
       "      <td>0</td>\n",
       "    </tr>\n",
       "    <tr>\n",
       "      <th>...</th>\n",
       "      <td>...</td>\n",
       "      <td>...</td>\n",
       "      <td>...</td>\n",
       "      <td>...</td>\n",
       "      <td>...</td>\n",
       "      <td>...</td>\n",
       "      <td>...</td>\n",
       "      <td>...</td>\n",
       "      <td>...</td>\n",
       "      <td>...</td>\n",
       "      <td>...</td>\n",
       "      <td>...</td>\n",
       "      <td>...</td>\n",
       "    </tr>\n",
       "    <tr>\n",
       "      <th>9945</th>\n",
       "      <td>15703923</td>\n",
       "      <td>Cameron</td>\n",
       "      <td>744</td>\n",
       "      <td>Germany</td>\n",
       "      <td>Male</td>\n",
       "      <td>41</td>\n",
       "      <td>NaN</td>\n",
       "      <td>190409.34</td>\n",
       "      <td>2</td>\n",
       "      <td>1</td>\n",
       "      <td>1</td>\n",
       "      <td>138361.48</td>\n",
       "      <td>0</td>\n",
       "    </tr>\n",
       "    <tr>\n",
       "      <th>9957</th>\n",
       "      <td>15707861</td>\n",
       "      <td>Nucci</td>\n",
       "      <td>520</td>\n",
       "      <td>France</td>\n",
       "      <td>Female</td>\n",
       "      <td>46</td>\n",
       "      <td>NaN</td>\n",
       "      <td>85216.61</td>\n",
       "      <td>1</td>\n",
       "      <td>1</td>\n",
       "      <td>0</td>\n",
       "      <td>117369.52</td>\n",
       "      <td>1</td>\n",
       "    </tr>\n",
       "    <tr>\n",
       "      <th>9965</th>\n",
       "      <td>15642785</td>\n",
       "      <td>Douglas</td>\n",
       "      <td>479</td>\n",
       "      <td>France</td>\n",
       "      <td>Male</td>\n",
       "      <td>34</td>\n",
       "      <td>NaN</td>\n",
       "      <td>117593.48</td>\n",
       "      <td>2</td>\n",
       "      <td>0</td>\n",
       "      <td>0</td>\n",
       "      <td>113308.29</td>\n",
       "      <td>0</td>\n",
       "    </tr>\n",
       "    <tr>\n",
       "      <th>9986</th>\n",
       "      <td>15586914</td>\n",
       "      <td>Nepean</td>\n",
       "      <td>659</td>\n",
       "      <td>France</td>\n",
       "      <td>Male</td>\n",
       "      <td>36</td>\n",
       "      <td>NaN</td>\n",
       "      <td>123841.49</td>\n",
       "      <td>2</td>\n",
       "      <td>1</td>\n",
       "      <td>0</td>\n",
       "      <td>96833.00</td>\n",
       "      <td>0</td>\n",
       "    </tr>\n",
       "    <tr>\n",
       "      <th>10000</th>\n",
       "      <td>15628319</td>\n",
       "      <td>Walker</td>\n",
       "      <td>792</td>\n",
       "      <td>France</td>\n",
       "      <td>Female</td>\n",
       "      <td>28</td>\n",
       "      <td>NaN</td>\n",
       "      <td>130142.79</td>\n",
       "      <td>1</td>\n",
       "      <td>1</td>\n",
       "      <td>0</td>\n",
       "      <td>38190.78</td>\n",
       "      <td>0</td>\n",
       "    </tr>\n",
       "  </tbody>\n",
       "</table>\n",
       "<p>909 rows × 13 columns</p>\n",
       "</div>"
      ],
      "text/plain": [
       "           customer_id    surname  credit_score geography  gender  age  \\\n",
       "RowNumber                                                                \n",
       "31            15589475    Azikiwe           591     Spain  Female   39   \n",
       "49            15766205        Yin           550   Germany    Male   38   \n",
       "52            15768193  Trevisani           585   Germany    Male   36   \n",
       "54            15702298   Parkhill           655   Germany    Male   41   \n",
       "61            15651280     Hunter           742   Germany    Male   35   \n",
       "...                ...        ...           ...       ...     ...  ...   \n",
       "9945          15703923    Cameron           744   Germany    Male   41   \n",
       "9957          15707861      Nucci           520    France  Female   46   \n",
       "9965          15642785    Douglas           479    France    Male   34   \n",
       "9986          15586914     Nepean           659    France    Male   36   \n",
       "10000         15628319     Walker           792    France  Female   28   \n",
       "\n",
       "           tenure    balance  num_of_products  has_cr_card  is_active_member  \\\n",
       "RowNumber                                                                      \n",
       "31            NaN       0.00                3            1                 0   \n",
       "49            NaN  103391.38                1            0                 1   \n",
       "52            NaN  146050.97                2            0                 0   \n",
       "54            NaN  125561.97                1            0                 0   \n",
       "61            NaN  136857.00                1            0                 0   \n",
       "...           ...        ...              ...          ...               ...   \n",
       "9945          NaN  190409.34                2            1                 1   \n",
       "9957          NaN   85216.61                1            1                 0   \n",
       "9965          NaN  117593.48                2            0                 0   \n",
       "9986          NaN  123841.49                2            1                 0   \n",
       "10000         NaN  130142.79                1            1                 0   \n",
       "\n",
       "           estimated_salary  exited  \n",
       "RowNumber                            \n",
       "31                140469.38       1  \n",
       "49                 90878.13       0  \n",
       "52                 86424.57       0  \n",
       "54                164040.94       1  \n",
       "61                 84509.57       0  \n",
       "...                     ...     ...  \n",
       "9945              138361.48       0  \n",
       "9957              117369.52       1  \n",
       "9965              113308.29       0  \n",
       "9986               96833.00       0  \n",
       "10000              38190.78       0  \n",
       "\n",
       "[909 rows x 13 columns]"
      ]
     },
     "execution_count": 64,
     "metadata": {},
     "output_type": "execute_result"
    }
   ],
   "source": [
    "df[df['tenure'].isna()]"
   ]
  },
  {
   "cell_type": "markdown",
   "metadata": {},
   "source": [
    "Возможно, пропусками обозначены 0. Посмотрим список уникальных значений в `tenure`."
   ]
  },
  {
   "cell_type": "code",
   "execution_count": 65,
   "metadata": {},
   "outputs": [
    {
     "data": {
      "text/plain": [
       "1.0     952\n",
       "2.0     950\n",
       "8.0     933\n",
       "3.0     928\n",
       "5.0     927\n",
       "7.0     925\n",
       "4.0     885\n",
       "9.0     882\n",
       "6.0     881\n",
       "10.0    446\n",
       "0.0     382\n",
       "Name: tenure, dtype: int64"
      ]
     },
     "execution_count": 65,
     "metadata": {},
     "output_type": "execute_result"
    },
    {
     "data": {
      "image/png": "[encoded data removed]",
      "text/plain": [
       "<Figure size 432x288 with 1 Axes>"
      ]
     },
     "metadata": {
      "needs_background": "light"
     },
     "output_type": "display_data"
    }
   ],
   "source": [
    "df['tenure'].value_counts().plot(kind='bar')\n",
    "df['tenure'].value_counts()"
   ]
  },
  {
   "cell_type": "markdown",
   "metadata": {},
   "source": [
    "Присутствуют значения от 0 до 10 лет. Причем число пропусков соизмеримо с отдельной категорией признака.\n",
    "\n",
    "Новых клиентов (0) подозрительно мало. Возможно банк не занимается рекламой или в данном случае NaN - это 0. Однако по другим столбцам (`num_of_products`, `is_active_member`) не видно, чтобы клиенты как-то выбивались из общего распределения.\n",
    "\n",
    "Заменим пропуски средним значением, чтобы выделить в отдельную категорию."
   ]
  },
  {
   "cell_type": "code",
   "execution_count": 66,
   "metadata": {},
   "outputs": [
    {
     "data": {
      "text/plain": [
       "1.00000     952\n",
       "2.00000     950\n",
       "8.00000     933\n",
       "3.00000     928\n",
       "5.00000     927\n",
       "7.00000     925\n",
       "4.99769     909\n",
       "4.00000     885\n",
       "9.00000     882\n",
       "6.00000     881\n",
       "10.00000    446\n",
       "0.00000     382\n",
       "Name: tenure, dtype: int64"
      ]
     },
     "execution_count": 66,
     "metadata": {},
     "output_type": "execute_result"
    }
   ],
   "source": [
    "df['tenure'] = df['tenure'].fillna(df['tenure'].mean())\n",
    "df['tenure'].value_counts()"
   ]
  },
  {
   "cell_type": "markdown",
   "metadata": {},
   "source": [
    "Проверим данные на дублекаты и аномалии."
   ]
  },
  {
   "cell_type": "code",
   "execution_count": 67,
   "metadata": {},
   "outputs": [
    {
     "name": "stdout",
     "output_type": "stream",
     "text": [
      "Список значений в столбце customer_id:\n",
      "15695872    1\n",
      "15801062    1\n",
      "15682268    1\n",
      "15647453    1\n",
      "15684319    1\n",
      "           ..\n",
      "15629677    1\n",
      "15773039    1\n",
      "15766896    1\n",
      "15719793    1\n",
      "15812607    1\n",
      "Name: customer_id, Length: 10000, dtype: int64\n",
      "\n",
      "Список значений в столбце surname:\n",
      "Smith          32\n",
      "Martin         29\n",
      "Scott          29\n",
      "Walker         28\n",
      "Brown          26\n",
      "               ..\n",
      "Malloy          1\n",
      "Sells           1\n",
      "Summerville     1\n",
      "Kirillov        1\n",
      "Highland        1\n",
      "Name: surname, Length: 2932, dtype: int64\n",
      "\n",
      "Список значений в столбце credit_score:\n",
      "850    233\n",
      "678     63\n",
      "655     54\n",
      "667     53\n",
      "705     53\n",
      "      ... \n",
      "412      1\n",
      "351      1\n",
      "365      1\n",
      "373      1\n",
      "423      1\n",
      "Name: credit_score, Length: 460, dtype: int64\n",
      "\n",
      "Список значений в столбце geography:\n",
      "France     5014\n",
      "Germany    2509\n",
      "Spain      2477\n",
      "Name: geography, dtype: int64\n",
      "\n",
      "Список значений в столбце gender:\n",
      "Male      5457\n",
      "Female    4543\n",
      "Name: gender, dtype: int64\n",
      "\n",
      "Список значений в столбце age:\n",
      "37    478\n",
      "38    477\n",
      "35    474\n",
      "36    456\n",
      "34    447\n",
      "     ... \n",
      "92      2\n",
      "88      1\n",
      "82      1\n",
      "85      1\n",
      "83      1\n",
      "Name: age, Length: 70, dtype: int64\n",
      "\n",
      "Список значений в столбце tenure:\n",
      "1.00000     952\n",
      "2.00000     950\n",
      "8.00000     933\n",
      "3.00000     928\n",
      "5.00000     927\n",
      "7.00000     925\n",
      "4.99769     909\n",
      "4.00000     885\n",
      "9.00000     882\n",
      "6.00000     881\n",
      "10.00000    446\n",
      "0.00000     382\n",
      "Name: tenure, dtype: int64\n",
      "\n",
      "Список значений в столбце balance:\n",
      "0.00         3617\n",
      "105473.74       2\n",
      "130170.82       2\n",
      "72594.00        1\n",
      "139723.90       1\n",
      "             ... \n",
      "130306.49       1\n",
      "92895.56        1\n",
      "132005.77       1\n",
      "166287.85       1\n",
      "104001.38       1\n",
      "Name: balance, Length: 6382, dtype: int64\n",
      "\n",
      "Список значений в столбце num_of_products:\n",
      "1    5084\n",
      "2    4590\n",
      "3     266\n",
      "4      60\n",
      "Name: num_of_products, dtype: int64\n",
      "\n",
      "Список значений в столбце has_cr_card:\n",
      "1    7055\n",
      "0    2945\n",
      "Name: has_cr_card, dtype: int64\n",
      "\n",
      "Список значений в столбце is_active_member:\n",
      "1    5151\n",
      "0    4849\n",
      "Name: is_active_member, dtype: int64\n",
      "\n",
      "Список значений в столбце estimated_salary:\n",
      "24924.92     2\n",
      "109145.20    1\n",
      "59755.14     1\n",
      "1557.82      1\n",
      "117202.19    1\n",
      "            ..\n",
      "37674.47     1\n",
      "158043.11    1\n",
      "103792.53    1\n",
      "182266.01    1\n",
      "155061.97    1\n",
      "Name: estimated_salary, Length: 9999, dtype: int64\n",
      "\n",
      "Список значений в столбце exited:\n",
      "0    7963\n",
      "1    2037\n",
      "Name: exited, dtype: int64\n",
      "\n"
     ]
    }
   ],
   "source": [
    "# смотрим все значения \n",
    "for column in df.columns:\n",
    "    print(f'Список значений в столбце {column}:')\n",
    "    print(df[column].value_counts())\n",
    "    print()"
   ]
  },
  {
   "cell_type": "code",
   "execution_count": 68,
   "metadata": {},
   "outputs": [
    {
     "data": {
      "text/plain": [
       "0"
      ]
     },
     "execution_count": 68,
     "metadata": {},
     "output_type": "execute_result"
    }
   ],
   "source": [
    "# смотрим дублекаты\n",
    "df.duplicated().sum()"
   ]
  },
  {
   "cell_type": "markdown",
   "metadata": {},
   "source": [
    "На первый взгляд аномалий и дубликатов не выявлело. Однако можем заметить, что целевой признак не сбалансирован по категориям. Соотношение примерно 1 к 4.\n",
    "\n",
    "Кроме того в данных 3 столбца с категориальными признаками. По сути, для модели нам не нужны фамилии пользователей. Можем оставить только ID. Кроме того ID мы можем установить в качестве индекса. Выполним преобразование, а затем кодирование. "
   ]
  },
  {
   "cell_type": "code",
   "execution_count": 69,
   "metadata": {},
   "outputs": [
    {
     "name": "stdout",
     "output_type": "stream",
     "text": [
      "(10000, 12)\n"
     ]
    },
    {
     "data": {
      "text/html": [
       "<div>\n",
       "<style scoped>\n",
       "    .dataframe tbody tr th:only-of-type {\n",
       "        vertical-align: middle;\n",
       "    }\n",
       "\n",
       "    .dataframe tbody tr th {\n",
       "        vertical-align: top;\n",
       "    }\n",
       "\n",
       "    .dataframe thead th {\n",
       "        text-align: right;\n",
       "    }\n",
       "</style>\n",
       "<table border=\"1\" class=\"dataframe\">\n",
       "  <thead>\n",
       "    <tr style=\"text-align: right;\">\n",
       "      <th></th>\n",
       "      <th>credit_score</th>\n",
       "      <th>age</th>\n",
       "      <th>tenure</th>\n",
       "      <th>balance</th>\n",
       "      <th>num_of_products</th>\n",
       "      <th>has_cr_card</th>\n",
       "      <th>is_active_member</th>\n",
       "      <th>estimated_salary</th>\n",
       "      <th>exited</th>\n",
       "      <th>geography_Germany</th>\n",
       "      <th>geography_Spain</th>\n",
       "      <th>gender_Male</th>\n",
       "    </tr>\n",
       "    <tr>\n",
       "      <th>customer_id</th>\n",
       "      <th></th>\n",
       "      <th></th>\n",
       "      <th></th>\n",
       "      <th></th>\n",
       "      <th></th>\n",
       "      <th></th>\n",
       "      <th></th>\n",
       "      <th></th>\n",
       "      <th></th>\n",
       "      <th></th>\n",
       "      <th></th>\n",
       "      <th></th>\n",
       "    </tr>\n",
       "  </thead>\n",
       "  <tbody>\n",
       "    <tr>\n",
       "      <th>15634602</th>\n",
       "      <td>619</td>\n",
       "      <td>42</td>\n",
       "      <td>2.0</td>\n",
       "      <td>0.00</td>\n",
       "      <td>1</td>\n",
       "      <td>1</td>\n",
       "      <td>1</td>\n",
       "      <td>101348.88</td>\n",
       "      <td>1</td>\n",
       "      <td>0</td>\n",
       "      <td>0</td>\n",
       "      <td>0</td>\n",
       "    </tr>\n",
       "    <tr>\n",
       "      <th>15647311</th>\n",
       "      <td>608</td>\n",
       "      <td>41</td>\n",
       "      <td>1.0</td>\n",
       "      <td>83807.86</td>\n",
       "      <td>1</td>\n",
       "      <td>0</td>\n",
       "      <td>1</td>\n",
       "      <td>112542.58</td>\n",
       "      <td>0</td>\n",
       "      <td>0</td>\n",
       "      <td>1</td>\n",
       "      <td>0</td>\n",
       "    </tr>\n",
       "    <tr>\n",
       "      <th>15619304</th>\n",
       "      <td>502</td>\n",
       "      <td>42</td>\n",
       "      <td>8.0</td>\n",
       "      <td>159660.80</td>\n",
       "      <td>3</td>\n",
       "      <td>1</td>\n",
       "      <td>0</td>\n",
       "      <td>113931.57</td>\n",
       "      <td>1</td>\n",
       "      <td>0</td>\n",
       "      <td>0</td>\n",
       "      <td>0</td>\n",
       "    </tr>\n",
       "    <tr>\n",
       "      <th>15701354</th>\n",
       "      <td>699</td>\n",
       "      <td>39</td>\n",
       "      <td>1.0</td>\n",
       "      <td>0.00</td>\n",
       "      <td>2</td>\n",
       "      <td>0</td>\n",
       "      <td>0</td>\n",
       "      <td>93826.63</td>\n",
       "      <td>0</td>\n",
       "      <td>0</td>\n",
       "      <td>0</td>\n",
       "      <td>0</td>\n",
       "    </tr>\n",
       "    <tr>\n",
       "      <th>15737888</th>\n",
       "      <td>850</td>\n",
       "      <td>43</td>\n",
       "      <td>2.0</td>\n",
       "      <td>125510.82</td>\n",
       "      <td>1</td>\n",
       "      <td>1</td>\n",
       "      <td>1</td>\n",
       "      <td>79084.10</td>\n",
       "      <td>0</td>\n",
       "      <td>0</td>\n",
       "      <td>1</td>\n",
       "      <td>0</td>\n",
       "    </tr>\n",
       "  </tbody>\n",
       "</table>\n",
       "</div>"
      ],
      "text/plain": [
       "             credit_score  age  tenure    balance  num_of_products  \\\n",
       "customer_id                                                          \n",
       "15634602              619   42     2.0       0.00                1   \n",
       "15647311              608   41     1.0   83807.86                1   \n",
       "15619304              502   42     8.0  159660.80                3   \n",
       "15701354              699   39     1.0       0.00                2   \n",
       "15737888              850   43     2.0  125510.82                1   \n",
       "\n",
       "             has_cr_card  is_active_member  estimated_salary  exited  \\\n",
       "customer_id                                                            \n",
       "15634602               1                 1         101348.88       1   \n",
       "15647311               0                 1         112542.58       0   \n",
       "15619304               1                 0         113931.57       1   \n",
       "15701354               0                 0          93826.63       0   \n",
       "15737888               1                 1          79084.10       0   \n",
       "\n",
       "             geography_Germany  geography_Spain  gender_Male  \n",
       "customer_id                                                   \n",
       "15634602                     0                0            0  \n",
       "15647311                     0                1            0  \n",
       "15619304                     0                0            0  \n",
       "15701354                     0                0            0  \n",
       "15737888                     0                1            0  "
      ]
     },
     "execution_count": 69,
     "metadata": {},
     "output_type": "execute_result"
    }
   ],
   "source": [
    "# воспользуемся методом OHE\n",
    "df_ohe = df.drop('surname', axis=1).set_index('customer_id')\n",
    "df_ohe = pd.get_dummies(df_ohe, drop_first=True)\n",
    "print(df_ohe.shape)\n",
    "df_ohe.head()"
   ]
  },
  {
   "cell_type": "markdown",
   "metadata": {},
   "source": [
    "Преобразование прошло успешно. Данные не потеряны."
   ]
  },
  {
   "cell_type": "markdown",
   "metadata": {},
   "source": [
    "Разделим данные на выборки (тренировочную, тестовую и валидационную)."
   ]
  },
  {
   "cell_type": "code",
   "execution_count": 70,
   "metadata": {},
   "outputs": [],
   "source": [
    "target = df_ohe['exited']\n",
    "features = df_ohe.drop('exited', axis=1)\n",
    "\n",
    "#отделим 20% данных для тестовой выборки \n",
    "train_features_big, test_features, train_target_big, test_target = train_test_split(features, target, test_size=0.2, stratify=target, random_state=12345)\n",
    "\n",
    "# train_features_big и train_target_big - объединенные тренировочная и валидационные выборки, которые пригодяться для обучения случайного леса\n",
    "\n",
    "#чтобы сохранить пропорцию 60/20/20 от получнеой тренировочной выборки отдели 25% в валидационную \n",
    "train_features, valid_features, train_target, valid_target = train_test_split(train_features_big, train_target_big, test_size=0.25, stratify=train_target_big, random_state=12345)"
   ]
  },
  {
   "cell_type": "code",
   "execution_count": 71,
   "metadata": {
    "scrolled": false
   },
   "outputs": [
    {
     "name": "stdout",
     "output_type": "stream",
     "text": [
      "Доля значений от общей выборки составдяет 0.6\n",
      "Доля значений от общей выборки составдяет 0.2\n",
      "Доля значений от общей выборки составдяет 0.2\n"
     ]
    }
   ],
   "source": [
    "#убедимся, что удалось сохранить пропорцию 60/20/20 \n",
    "list = [train_features, valid_features, test_features]\n",
    "\n",
    "for feat in list:\n",
    "    share = round(len(feat) / len(features), 2)\n",
    "    print(f'Доля значений от общей выборки составдяет {share}')"
   ]
  },
  {
   "cell_type": "markdown",
   "metadata": {},
   "source": [
    "В таблице присутствуют признаки с разными разбросами значений. Приведем их к общему масштабу."
   ]
  },
  {
   "cell_type": "code",
   "execution_count": 72,
   "metadata": {},
   "outputs": [
    {
     "data": {
      "text/html": [
       "<div>\n",
       "<style scoped>\n",
       "    .dataframe tbody tr th:only-of-type {\n",
       "        vertical-align: middle;\n",
       "    }\n",
       "\n",
       "    .dataframe tbody tr th {\n",
       "        vertical-align: top;\n",
       "    }\n",
       "\n",
       "    .dataframe thead th {\n",
       "        text-align: right;\n",
       "    }\n",
       "</style>\n",
       "<table border=\"1\" class=\"dataframe\">\n",
       "  <thead>\n",
       "    <tr style=\"text-align: right;\">\n",
       "      <th></th>\n",
       "      <th>credit_score</th>\n",
       "      <th>age</th>\n",
       "      <th>tenure</th>\n",
       "      <th>balance</th>\n",
       "      <th>num_of_products</th>\n",
       "      <th>has_cr_card</th>\n",
       "      <th>is_active_member</th>\n",
       "      <th>estimated_salary</th>\n",
       "      <th>geography_Germany</th>\n",
       "      <th>geography_Spain</th>\n",
       "      <th>gender_Male</th>\n",
       "    </tr>\n",
       "    <tr>\n",
       "      <th>customer_id</th>\n",
       "      <th></th>\n",
       "      <th></th>\n",
       "      <th></th>\n",
       "      <th></th>\n",
       "      <th></th>\n",
       "      <th></th>\n",
       "      <th></th>\n",
       "      <th></th>\n",
       "      <th></th>\n",
       "      <th></th>\n",
       "      <th></th>\n",
       "    </tr>\n",
       "  </thead>\n",
       "  <tbody>\n",
       "    <tr>\n",
       "      <th>15678497</th>\n",
       "      <td>2.066384</td>\n",
       "      <td>0.862946</td>\n",
       "      <td>-1.092874</td>\n",
       "      <td>-1.220573</td>\n",
       "      <td>-0.916018</td>\n",
       "      <td>0.652576</td>\n",
       "      <td>-1.033563</td>\n",
       "      <td>1.202714</td>\n",
       "      <td>-0.572988</td>\n",
       "      <td>1.734363</td>\n",
       "      <td>0.915552</td>\n",
       "    </tr>\n",
       "    <tr>\n",
       "      <th>15571281</th>\n",
       "      <td>0.011555</td>\n",
       "      <td>-1.039807</td>\n",
       "      <td>1.818272</td>\n",
       "      <td>0.052520</td>\n",
       "      <td>-0.916018</td>\n",
       "      <td>0.652576</td>\n",
       "      <td>0.967527</td>\n",
       "      <td>-0.443548</td>\n",
       "      <td>-0.572988</td>\n",
       "      <td>-0.576580</td>\n",
       "      <td>0.915552</td>\n",
       "    </tr>\n",
       "    <tr>\n",
       "      <th>15729804</th>\n",
       "      <td>0.662079</td>\n",
       "      <td>-0.468981</td>\n",
       "      <td>1.818272</td>\n",
       "      <td>-1.220573</td>\n",
       "      <td>0.797767</td>\n",
       "      <td>0.652576</td>\n",
       "      <td>0.967527</td>\n",
       "      <td>-0.347161</td>\n",
       "      <td>-0.572988</td>\n",
       "      <td>-0.576580</td>\n",
       "      <td>0.915552</td>\n",
       "    </tr>\n",
       "    <tr>\n",
       "      <th>15737778</th>\n",
       "      <td>1.364231</td>\n",
       "      <td>0.196983</td>\n",
       "      <td>-0.365088</td>\n",
       "      <td>-1.220573</td>\n",
       "      <td>-0.916018</td>\n",
       "      <td>0.652576</td>\n",
       "      <td>-1.033563</td>\n",
       "      <td>0.568776</td>\n",
       "      <td>-0.572988</td>\n",
       "      <td>1.734363</td>\n",
       "      <td>-1.092237</td>\n",
       "    </tr>\n",
       "    <tr>\n",
       "      <th>15709354</th>\n",
       "      <td>-1.330797</td>\n",
       "      <td>0.196983</td>\n",
       "      <td>-1.092874</td>\n",
       "      <td>-1.220573</td>\n",
       "      <td>0.797767</td>\n",
       "      <td>0.652576</td>\n",
       "      <td>0.967527</td>\n",
       "      <td>0.223765</td>\n",
       "      <td>-0.572988</td>\n",
       "      <td>-0.576580</td>\n",
       "      <td>-1.092237</td>\n",
       "    </tr>\n",
       "  </tbody>\n",
       "</table>\n",
       "</div>"
      ],
      "text/plain": [
       "             credit_score       age    tenure   balance  num_of_products  \\\n",
       "customer_id                                                                \n",
       "15678497         2.066384  0.862946 -1.092874 -1.220573        -0.916018   \n",
       "15571281         0.011555 -1.039807  1.818272  0.052520        -0.916018   \n",
       "15729804         0.662079 -0.468981  1.818272 -1.220573         0.797767   \n",
       "15737778         1.364231  0.196983 -0.365088 -1.220573        -0.916018   \n",
       "15709354        -1.330797  0.196983 -1.092874 -1.220573         0.797767   \n",
       "\n",
       "             has_cr_card  is_active_member  estimated_salary  \\\n",
       "customer_id                                                    \n",
       "15678497        0.652576         -1.033563          1.202714   \n",
       "15571281        0.652576          0.967527         -0.443548   \n",
       "15729804        0.652576          0.967527         -0.347161   \n",
       "15737778        0.652576         -1.033563          0.568776   \n",
       "15709354        0.652576          0.967527          0.223765   \n",
       "\n",
       "             geography_Germany  geography_Spain  gender_Male  \n",
       "customer_id                                                   \n",
       "15678497             -0.572988         1.734363     0.915552  \n",
       "15571281             -0.572988        -0.576580     0.915552  \n",
       "15729804             -0.572988        -0.576580     0.915552  \n",
       "15737778             -0.572988         1.734363    -1.092237  \n",
       "15709354             -0.572988        -0.576580    -1.092237  "
      ]
     },
     "execution_count": 72,
     "metadata": {},
     "output_type": "execute_result"
    }
   ],
   "source": [
    "# создадим список признаков для масштабирования\n",
    "numeric = features.columns\n",
    "\n",
    "# обучим объект для масштабирования\n",
    "scaler = StandardScaler()\n",
    "scaler.fit(train_features[numeric])\n",
    "\n",
    "# масштабируем\n",
    "pd.options.mode.chained_assignment = None\n",
    "train_features[numeric] = scaler.transform(train_features[numeric])\n",
    "valid_features[numeric] = scaler.transform(valid_features[numeric])\n",
    "test_features[numeric] = scaler.transform(test_features[numeric])\n",
    "\n",
    "# проверим результат\n",
    "test_features.head()"
   ]
  },
  {
   "cell_type": "markdown",
   "metadata": {},
   "source": [
    "Данные готовы к исследованию."
   ]
  },
  {
   "cell_type": "markdown",
   "metadata": {},
   "source": [
    "## Исследование задачи"
   ]
  },
  {
   "cell_type": "markdown",
   "metadata": {},
   "source": [
    "Ранее мы уже выяснили, что соотношение классов в целевом признаке примерно 1 к 4."
   ]
  },
  {
   "cell_type": "code",
   "execution_count": 73,
   "metadata": {},
   "outputs": [
    {
     "name": "stdout",
     "output_type": "stream",
     "text": [
      "Значений класса 0 в целевом признаке: 79.63%\n",
      "Значений класса 1 в целевом признаке: 20.37%\n"
     ]
    }
   ],
   "source": [
    "print(f'Значений класса 0 в целевом признаке: {target.value_counts()[0]/target.value_counts().sum():.2%}')\n",
    "print(f'Значений класса 1 в целевом признаке: {target.value_counts()[1]/target.value_counts().sum():.2%}')"
   ]
  },
  {
   "cell_type": "markdown",
   "metadata": {},
   "source": [
    "Сначала обучим несколько моделей без учета дисбаланса, посмотрим на качество и выберем лучшую.\n",
    "\n",
    "Обучим и исследуем 3 модели на основе:\n",
    "* дерева решений;\n",
    "* случайного леса;\n",
    "* логистической регрессии."
   ]
  },
  {
   "cell_type": "code",
   "execution_count": 74,
   "metadata": {},
   "outputs": [
    {
     "data": {
      "image/png": "[encoded data removed]",
      "text/plain": [
       "<Figure size 432x288 with 1 Axes>"
      ]
     },
     "metadata": {
      "needs_background": "light"
     },
     "output_type": "display_data"
    },
    {
     "name": "stdout",
     "output_type": "stream",
     "text": [
      "f1 наилучшей модели дерева решений на валидационной выборке: 0.5796269727403156\n",
      "auc_roc наилучшей модели дерева решений на валидационной выборке: 0.8073674599098327\n",
      "Глубина дерева решений: 8\n"
     ]
    }
   ],
   "source": [
    "# создадим функцию для подбора параметров дерева решений с графиком\n",
    "\n",
    "def tree_model_search(train_features, train_target, valid_features, valid_target, class_weight=None):\n",
    "    model_best = None\n",
    "    depth_best = 0\n",
    "    f1_best = 0\n",
    "    auc_roc_model = 0\n",
    "    graf_train = []\n",
    "    graf_valid = []\n",
    "    \n",
    "    for depth in range(1, 11):\n",
    "        model = DecisionTreeClassifier(random_state=12345, max_depth=depth, class_weight=class_weight)\n",
    "        model.fit(train_features, train_target)\n",
    "        train_predicted = model.predict(train_features)\n",
    "        valid_predicted = model.predict(valid_features)\n",
    "        train_f1 = f1_score(train_target, train_predicted)\n",
    "        valid_f1 = f1_score(valid_target, valid_predicted)\n",
    "        valid_probabilities_one = model.predict_proba(valid_features)[:, 1]\n",
    "        auc_roc = roc_auc_score(valid_target, valid_probabilities_one)\n",
    "        graf_train.append(train_f1)\n",
    "        graf_valid.append(valid_f1)\n",
    "        if valid_f1 > f1_best:\n",
    "            f1_best = valid_f1\n",
    "            auc_roc_model = auc_roc\n",
    "            depth_best = depth\n",
    "            model_best = model\n",
    "            \n",
    "    graf_train = pd.Series(graf_train)\n",
    "    graf_valid = pd.Series(graf_valid)\n",
    "    graf_train.index += 1\n",
    "    graf_valid.index += 1\n",
    "    graf_train.plot(linewidth = 2, marker = 'o')\n",
    "    graf_valid.plot(linewidth = 2, marker = 'o')\n",
    "    plt.xlabel('depth')\n",
    "    plt.ylabel('f1')\n",
    "    plt.legend(['f1 train', 'f1 validation'])\n",
    "    plt.show()    \n",
    "    \n",
    "    print(\"f1 наилучшей модели дерева решений на валидационной выборке:\", f1_best)\n",
    "    print(\"auc_roc наилучшей модели дерева решений на валидационной выборке:\", auc_roc_model)\n",
    "    print(\"Глубина дерева решений:\", depth_best)\n",
    "    \n",
    "    return model_best, f1_best, depth_best\n",
    "\n",
    "# вызовем функцию\n",
    "\n",
    "model_tree, f1_tree_model, depth_tree_model = tree_model_search(train_features, train_target, valid_features, valid_target)"
   ]
  },
  {
   "cell_type": "code",
   "execution_count": 75,
   "metadata": {},
   "outputs": [
    {
     "name": "stdout",
     "output_type": "stream",
     "text": [
      "f1 наилучшей модели случайного леса на валидационной выборке: 0.5504885993485342\n",
      "auc_roc наилучшей модели случайного леса на валидационной выборке: 0.8691696318814963\n",
      "Число деревьев решений: 45\n",
      "Максимальная глубина деревьев решений: 10\n",
      "CPU times: total: 1min 56s\n",
      "Wall time: 1min 56s\n"
     ]
    }
   ],
   "source": [
    "%%time\n",
    "# рассчет около 2 минут будет, налейте себе кофейку :)\n",
    "parametrs = {'n_estimators': range(5, 71, 5),\n",
    "            'max_depth': range(1, 11)}\n",
    "\n",
    "# создадим функцию для подбора параметров Случайного леса\n",
    "\n",
    "def forest_model_search(train_features, train_target, valid_features, valid_target, parametrs, class_weight=None):\n",
    "    grid_model = RandomForestClassifier(random_state=12345, class_weight=class_weight)\n",
    "    grid = GridSearchCV(grid_model, parametrs)\n",
    "    grid.fit(train_features, train_target)\n",
    "\n",
    "    model_best = grid.best_estimator_\n",
    "    model_best_predicted = model_best.predict(valid_features) \n",
    "    f1_model_best = f1_score(valid_target, model_best_predicted)\n",
    "    valid_probabilities_one = model_best.predict_proba(valid_features)[:, 1]\n",
    "    auc_roc_model = roc_auc_score(valid_target, valid_probabilities_one)\n",
    "    depth_best = grid.best_params_['max_depth']\n",
    "    n_estimators_best = grid.best_params_['n_estimators']\n",
    "\n",
    "\n",
    "    print(\"f1 наилучшей модели случайного леса на валидационной выборке:\", f1_model_best)\n",
    "    print(\"auc_roc наилучшей модели случайного леса на валидационной выборке:\", auc_roc_model)\n",
    "    print(\"Число деревьев решений:\", n_estimators_best)\n",
    "    print(\"Максимальная глубина деревьев решений:\", depth_best)\n",
    "    \n",
    "    return model_best, f1_model_best, depth_best, n_estimators_best\n",
    "\n",
    "# вызовем функцию\n",
    "\n",
    "model_forest, f1_forest_model, depth_forest_model, n_estimators_forest_model = forest_model_search(train_features, train_target, valid_features, valid_target, parametrs)"
   ]
  },
  {
   "cell_type": "code",
   "execution_count": 76,
   "metadata": {},
   "outputs": [
    {
     "name": "stdout",
     "output_type": "stream",
     "text": [
      "f1 наилучшей модели логистической регрессии на валидационной выборке: 0.3214953271028037\n",
      "auc_roc наилучшей модели логистической регрессии на валидационной выборке: 0.7874669739076519\n",
      "Максимальное число итераций: 100\n"
     ]
    }
   ],
   "source": [
    "# создадим функцию для подбора параметров Логистической регрессии\n",
    "\n",
    "def lr_model_search(train_features, train_target, valid_features, valid_target, class_weight=None):\n",
    "    model_best = None\n",
    "    f1_best = 0\n",
    "    auc_roc_model = 0\n",
    "    iter_best = 0\n",
    "\n",
    "    for iter in range(100, 1001, 100):\n",
    "        model = LogisticRegression(random_state=12345, solver='liblinear', max_iter=iter, class_weight=class_weight)\n",
    "        model.fit(train_features, train_target)\n",
    "        valid_probabilities_one = model.predict_proba(valid_features)[:, 1]\n",
    "        valid_predicted = model.predict(valid_features)\n",
    "        valid_f1 = f1_score(valid_target, valid_predicted)\n",
    "        auc_roc = roc_auc_score(valid_target, valid_probabilities_one)\n",
    "        if valid_f1 > f1_best:\n",
    "            model_best = model\n",
    "            f1_best = valid_f1\n",
    "            iter_best = iter\n",
    "            auc_roc_model = auc_roc\n",
    "\n",
    "    print(\"f1 наилучшей модели логистической регрессии на валидационной выборке:\", f1_best)\n",
    "    print(\"auc_roc наилучшей модели логистической регрессии на валидационной выборке:\", auc_roc_model)\n",
    "    print(\"Максимальное число итераций:\", iter_best)\n",
    "    \n",
    "    return model_best, f1_best, iter_best\n",
    "\n",
    "# вызовем функцию\n",
    "\n",
    "lr_model, f1_lr_model, iter_lr_model = lr_model_search(train_features, train_target, valid_features, valid_target)"
   ]
  },
  {
   "cell_type": "markdown",
   "metadata": {},
   "source": [
    "### Вывод"
   ]
  },
  {
   "cell_type": "markdown",
   "metadata": {},
   "source": [
    "По результату проверки моделей и подбора параметров видим, что наилучший результат f1-меры дала модель Дерева решений с максимальной глубиной 8.\n",
    "\n",
    "Лучший показатель auc_roc у Случайного леса с глубиной 10 и числом деревьев 50."
   ]
  },
  {
   "cell_type": "markdown",
   "metadata": {},
   "source": [
    "## Борьба с дисбалансом"
   ]
  },
  {
   "cell_type": "markdown",
   "metadata": {},
   "source": [
    "Найдем лучшую модель, после устранения дисбаланса классов целевого признака. Проверим показатель f1 каждой модели после:\n",
    "* Взвешивания классов.\n",
    "* Увеличения выборки.\n",
    "* Уменьшения выборки.\n",
    "* Смещения порога (для Логистической регрессии)."
   ]
  },
  {
   "cell_type": "markdown",
   "metadata": {},
   "source": [
    "### Взвешивание классов"
   ]
  },
  {
   "cell_type": "code",
   "execution_count": 77,
   "metadata": {},
   "outputs": [
    {
     "data": {
      "image/png": "[encoded data removed]",
      "text/plain": [
       "<Figure size 432x288 with 1 Axes>"
      ]
     },
     "metadata": {
      "needs_background": "light"
     },
     "output_type": "display_data"
    },
    {
     "name": "stdout",
     "output_type": "stream",
     "text": [
      "f1 наилучшей модели дерева решений на валидационной выборке: 0.5747330960854092\n",
      "auc_roc наилучшей модели дерева решений на валидационной выборке: 0.8353337929609115\n",
      "Глубина дерева решений: 6\n"
     ]
    }
   ],
   "source": [
    "# обучим модель Дерева решений с балансировкой\n",
    "\n",
    "model_tree_balanced, f1_tree_model_balanced, depth_tree_model_balanced = tree_model_search(\n",
    "    train_features, train_target, valid_features, valid_target, class_weight='balanced')\n"
   ]
  },
  {
   "cell_type": "code",
   "execution_count": 78,
   "metadata": {},
   "outputs": [
    {
     "name": "stdout",
     "output_type": "stream",
     "text": [
      "f1 наилучшей модели случайного леса на валидационной выборке: 0.6369119420989143\n",
      "auc_roc наилучшей модели случайного леса на валидационной выборке: 0.8631867614918463\n",
      "Число деревьев решений: 70\n",
      "Максимальная глубина деревьев решений: 10\n",
      "CPU times: total: 2min 2s\n",
      "Wall time: 2min 2s\n"
     ]
    }
   ],
   "source": [
    "%%time\n",
    "# еще 2 минутки\n",
    "\n",
    "# обучим модель Случайного леса с балансировкой\n",
    "\n",
    "model_forest_balanced, f1_forest_model_balanced, depth_forest_model_balanced, n_estimators_forest_model_balanced = forest_model_search(\n",
    "    train_features, train_target, valid_features, valid_target, parametrs, class_weight='balanced')"
   ]
  },
  {
   "cell_type": "code",
   "execution_count": 79,
   "metadata": {},
   "outputs": [
    {
     "name": "stdout",
     "output_type": "stream",
     "text": [
      "f1 наилучшей модели логистической регрессии на валидационной выборке: 0.5113043478260869\n",
      "auc_roc наилучшей модели логистической регрессии на валидационной выборке: 0.7917840799196731\n",
      "Максимальное число итераций: 100\n"
     ]
    }
   ],
   "source": [
    "# обучим модель по алгоритму логистическо регрессии\n",
    "\n",
    "model_lr_balanced, f1_lr_model_balanced, lr_iter_balanced = lr_model_search(\n",
    "    train_features, train_target, valid_features, valid_target, class_weight='balanced')"
   ]
  },
  {
   "cell_type": "markdown",
   "metadata": {},
   "source": [
    "Мы получили существенно лучший результат f1-меры для Случайного леса и Логистической регрессии, чем для модели без балансировки. Для Дерева решений результат стал немного хуже.\n",
    "\n",
    "auc_roc вырос для Дерева решений и Логистической регрессии.\n",
    "\n",
    "Посмотрим другие методы балансировки."
   ]
  },
  {
   "cell_type": "markdown",
   "metadata": {},
   "source": [
    "### Увеличение выборки"
   ]
  },
  {
   "cell_type": "code",
   "execution_count": 80,
   "metadata": {},
   "outputs": [
    {
     "name": "stdout",
     "output_type": "stream",
     "text": [
      "Распределение классов в целевом признаке:\n",
      "1    4892\n",
      "0    4777\n",
      "Name: exited, dtype: int64\n",
      "\n"
     ]
    }
   ],
   "source": [
    "# увеличим выборку\n",
    "\n",
    "def upsample(features, target, repiat):\n",
    "    features_zeros = features[target == 0]\n",
    "    features_ones = features[target == 1]\n",
    "    target_zeros = target[target == 0]\n",
    "    target_ones = target[target == 1]\n",
    "    \n",
    "    features_upsampled = shuffle(pd.concat([features_zeros] + [features_ones] * repiat), random_state=12345)\n",
    "    target_upsampled = shuffle(pd.concat([target_zeros] + [target_ones] * repiat), random_state=12345)\n",
    "    \n",
    "    return features_upsampled, target_upsampled\n",
    "\n",
    "upsampled_features, upsampled_target = upsample(train_features, train_target, 4)\n",
    "\n",
    "# проверим соотношение в выборке после балансировки\n",
    "print('Распределение классов в целевом признаке:')\n",
    "print(upsampled_target.value_counts())\n",
    "print()"
   ]
  },
  {
   "cell_type": "code",
   "execution_count": 81,
   "metadata": {},
   "outputs": [
    {
     "data": {
      "image/png": "[encoded data removed]",
      "text/plain": [
       "<Figure size 432x288 with 1 Axes>"
      ]
     },
     "metadata": {
      "needs_background": "light"
     },
     "output_type": "display_data"
    },
    {
     "name": "stdout",
     "output_type": "stream",
     "text": [
      "f1 наилучшей модели дерева решений на валидационной выборке: 0.576544315129812\n",
      "auc_roc наилучшей модели дерева решений на валидационной выборке: 0.8364173109935821\n",
      "Глубина дерева решений: 6\n"
     ]
    }
   ],
   "source": [
    "# обучим модель Дерева решений по увеличенной выборке\n",
    "\n",
    "model_tree_upsampled, f1_tree_model_upsampled, max_depth_model_tree_upsampled = tree_model_search(\n",
    "    upsampled_features, upsampled_target, valid_features, valid_target)"
   ]
  },
  {
   "cell_type": "code",
   "execution_count": 82,
   "metadata": {},
   "outputs": [
    {
     "name": "stdout",
     "output_type": "stream",
     "text": [
      "f1 наилучшей модели случайного леса на валидационной выборке: 0.6275787187839305\n",
      "auc_roc наилучшей модели случайного леса на валидационной выборке: 0.86415999975322\n",
      "Число деревьев решений: 70\n",
      "Максимальная глубина деревьев решений: 10\n",
      "CPU times: total: 2min 42s\n",
      "Wall time: 2min 43s\n"
     ]
    }
   ],
   "source": [
    "%%time\n",
    "# снова 3 минуты\n",
    "\n",
    "# обучим модель Случайного леса по увеличенной выборке\n",
    "\n",
    "model_forest_upsampled, f1_forest_model_upsampled, max_depth_model_forest_upsampled, n_estimators_forest_model_upsampled = forest_model_search(\n",
    "    upsampled_features, upsampled_target, valid_features, valid_target, parametrs)"
   ]
  },
  {
   "cell_type": "code",
   "execution_count": 83,
   "metadata": {},
   "outputs": [
    {
     "name": "stdout",
     "output_type": "stream",
     "text": [
      "f1 наилучшей модели логистической регрессии на валидационной выборке: 0.5068493150684932\n",
      "auc_roc наилучшей модели логистической регрессии на валидационной выборке: 0.7918565715175885\n",
      "Максимальное число итераций: 100\n"
     ]
    }
   ],
   "source": [
    "# обучим модель по алгоритму логистическо регрессии по увеличенной выборке\n",
    "\n",
    "model_lr_upsampled, f1_lr_model_upsampled, lr_iter_upsampled = lr_model_search(\n",
    "    upsampled_features, upsampled_target, valid_features, valid_target)"
   ]
  },
  {
   "cell_type": "markdown",
   "metadata": {},
   "source": [
    "Мы получили существенно лучший результат f1 для Случайного леса и Логистической регрессии, чем для модели без балансировки. Для Дерева решений результат стал совсем немного хуже.\n",
    "\n",
    "Относительно Взвешивания классов, Увеличение выборки дало лучший резултат только для Дерева решений.\n",
    "\n",
    "auc_roc практически такой же как при Взвешивании классов."
   ]
  },
  {
   "cell_type": "markdown",
   "metadata": {},
   "source": [
    "### Уменьшение выборки"
   ]
  },
  {
   "cell_type": "code",
   "execution_count": 84,
   "metadata": {},
   "outputs": [
    {
     "name": "stdout",
     "output_type": "stream",
     "text": [
      "Распределение классов в целевом признаке:\n",
      "1    1223\n",
      "0    1194\n",
      "Name: exited, dtype: int64\n",
      "\n"
     ]
    }
   ],
   "source": [
    "# уменьшим выборку\n",
    "\n",
    "def downsample(features, target, fraction):\n",
    "    features_zeros = features[target == 0]\n",
    "    features_ones = features[target == 1]\n",
    "    target_zeros = target[target == 0]\n",
    "    target_ones = target[target == 1]\n",
    "    \n",
    "    features_downsampled = shuffle(pd.concat([features_zeros.sample(frac=fraction, random_state=12345)] + [features_ones]), random_state=12345)\n",
    "    target_downsampled = shuffle(pd.concat([target_zeros.sample(frac=fraction, random_state=12345)] + [target_ones]), random_state=12345)\n",
    "    \n",
    "    return features_downsampled, target_downsampled\n",
    "\n",
    "downsampled_features, downsampled_target = downsample(train_features, train_target, 0.25)\n",
    "\n",
    "# проверим соотношение в выборке после балансировки\n",
    "print('Распределение классов в целевом признаке:')\n",
    "print(downsampled_target.value_counts())\n",
    "print()"
   ]
  },
  {
   "cell_type": "code",
   "execution_count": 85,
   "metadata": {},
   "outputs": [
    {
     "data": {
      "image/png": "[encoded data removed]",
      "text/plain": [
       "<Figure size 432x288 with 1 Axes>"
      ]
     },
     "metadata": {
      "needs_background": "light"
     },
     "output_type": "display_data"
    },
    {
     "name": "stdout",
     "output_type": "stream",
     "text": [
      "f1 наилучшей модели дерева решений на валидационной выборке: 0.5933400605449041\n",
      "auc_roc наилучшей модели дерева решений на валидационной выборке: 0.8435207164020724\n",
      "Глубина дерева решений: 6\n"
     ]
    }
   ],
   "source": [
    "# обучим модель Дерева решений по уменьшенной выборке\n",
    "\n",
    "model_tree_downsampled, f1_tree_model_downsampled, max_depth_model_tree_downsampled = tree_model_search(\n",
    "    downsampled_features, downsampled_target, valid_features, valid_target)"
   ]
  },
  {
   "cell_type": "code",
   "execution_count": 86,
   "metadata": {},
   "outputs": [
    {
     "name": "stdout",
     "output_type": "stream",
     "text": [
      "f1 наилучшей модели случайного леса на валидационной выборке: 0.6073194856577646\n",
      "auc_roc наилучшей модели случайного леса на валидационной выборке: 0.8722003976241264\n",
      "Число деревьев решений: 50\n",
      "Максимальная глубина деревьев решений: 7\n",
      "CPU times: total: 1min 29s\n",
      "Wall time: 1min 30s\n"
     ]
    }
   ],
   "source": [
    "%%time\n",
    "# ещё 2 минуты\n",
    "\n",
    "# обучим модель Случайного леса по уменьшенной выборке\n",
    "\n",
    "model_forest_downsampled, f1_forest_model_downsampled, max_depth_model_forest_downsampled, n_estimators_forest_model_downsampled = forest_model_search(\n",
    "    downsampled_features, downsampled_target, valid_features, valid_target, parametrs)"
   ]
  },
  {
   "cell_type": "code",
   "execution_count": 87,
   "metadata": {},
   "outputs": [
    {
     "name": "stdout",
     "output_type": "stream",
     "text": [
      "f1 наилучшей модели логистической регрессии на валидационной выборке: 0.5042881646655232\n",
      "auc_roc наилучшей модели логистической регрессии на валидационной выборке: 0.791184096268842\n",
      "Максимальное число итераций: 100\n"
     ]
    }
   ],
   "source": [
    "# обучим модель по алгоритму логистическо регрессии по уменьшенной выборке\n",
    "\n",
    "model_lr_downsampled, f1_lr_model_downsampled, lr_iter_downsampled = lr_model_search(\n",
    "    downsampled_features, downsampled_target, valid_features, valid_target)"
   ]
  },
  {
   "cell_type": "markdown",
   "metadata": {},
   "source": [
    "Для Дерева решений получили результат существенно лучший, чем при увеличении выборки, взвешивании классов, отсутсвии балансировки.\n",
    "\n",
    "Для Случайного леса и Логистической регресии результат лучше, чем без балансировки, но хуже, чем при взвешивании и увеличении выборки.\n",
    "\n",
    "auc_roc для Случайного леса и Дерева решений стал выше."
   ]
  },
  {
   "cell_type": "markdown",
   "metadata": {},
   "source": [
    "### Смещения порога"
   ]
  },
  {
   "cell_type": "markdown",
   "metadata": {},
   "source": [
    "Для модели логистической регрессии исследуем также Смещение порога."
   ]
  },
  {
   "cell_type": "code",
   "execution_count": 88,
   "metadata": {},
   "outputs": [
    {
     "name": "stdout",
     "output_type": "stream",
     "text": [
      "Лучший показатель f1 0.526 достигается при пороге 0.260. При этом auc_roc равен 0.716\n"
     ]
    },
    {
     "data": {
      "image/png": "[encoded data removed]",
      "text/plain": [
       "<Figure size 432x288 with 1 Axes>"
      ]
     },
     "metadata": {
      "needs_background": "light"
     },
     "output_type": "display_data"
    }
   ],
   "source": [
    "# получим список вероятностей положительных предсказаний исходной модели \n",
    "valid_probabilities_one = lr_model.predict_proba(valid_features)[:, 1]\n",
    "\n",
    "f1_lr_model_best = 0\n",
    "auc_roc_lr_model_best = 0\n",
    "threshold_best = 0\n",
    "valid_predicted_best = None\n",
    "\n",
    "# в цикле получим знчения f1-меры при разных значениях порога чувствительности\n",
    "for threshold in np.arange(0, 0.99, 0.02):\n",
    "    valid_predicted = valid_probabilities_one > threshold\n",
    "    f1_lr_model_shift = f1_score(valid_target, valid_predicted)\n",
    "    auc_roc_lr_model_shift = roc_auc_score(valid_target, valid_predicted)\n",
    "    if f1_lr_model_shift > f1_lr_model_best:\n",
    "        f1_lr_model_best = f1_lr_model_shift\n",
    "        auc_roc_lr_model_best = auc_roc_lr_model_shift\n",
    "        threshold_best = threshold\n",
    "        valid_predicted_best = valid_predicted\n",
    "\n",
    "print(f'Лучший показатель f1 {f1_lr_model_best:0.3f} достигается при пороге {threshold_best:0.3f}. При этом auc_roc равен {auc_roc_lr_model_best:0.3f}')\n",
    "fpr, tpr, thresholds = roc_curve(valid_target, valid_predicted_best)\n",
    "plt.figure()\n",
    "plt.plot(fpr, tpr, linestyle='--')\n",
    "plt.xlim([0.0, 1.0])\n",
    "plt.ylim([0.0, 1.0])\n",
    "plt.xlabel('False Positive Rate')\n",
    "plt.ylabel('True Positive Rate')\n",
    "plt.title('ROC-кривая')\n",
    "plt.show()"
   ]
  },
  {
   "cell_type": "markdown",
   "metadata": {},
   "source": [
    "Снижение порога до 0.26 дало результат, однако лучшей, по-прежнему, остается модель Случайного леса после применения Взвешивания классов."
   ]
  },
  {
   "cell_type": "markdown",
   "metadata": {},
   "source": [
    "### Вывод"
   ]
  },
  {
   "cell_type": "markdown",
   "metadata": {},
   "source": [
    "* Для Дерева решений лучший результат дала балансировка методом Уменьшения выборки.\n",
    "* Случайного леса и Логистической регресии лучший результат дала балансировка методом Взвешивания классов.\n",
    "* Наилучший результат на валидационной выборке показала модель Случайного леса при Взвешивания классов.\n",
    "\n",
    "Параметры лучшей модели:\n",
    "* Случайный лес\n",
    "* Число деревьев решений: 70\n",
    "* Максимальная глубина деревьев решений: 10"
   ]
  },
  {
   "cell_type": "markdown",
   "metadata": {},
   "source": [
    "## Тестирование модели"
   ]
  },
  {
   "cell_type": "markdown",
   "metadata": {},
   "source": [
    "Проверим лучшую модель на тестовой выборке."
   ]
  },
  {
   "cell_type": "code",
   "execution_count": 89,
   "metadata": {},
   "outputs": [
    {
     "name": "stdout",
     "output_type": "stream",
     "text": [
      "f1 наилучшей модели случайного леса на тестовой выборке: 0.6415552855407047\n"
     ]
    }
   ],
   "source": [
    "test_predicted = model_forest_balanced.predict(test_features)\n",
    "f1_test = f1_score(test_target, test_predicted)\n",
    "\n",
    "print('f1 наилучшей модели случайного леса на тестовой выборке:', f1_test)"
   ]
  },
  {
   "cell_type": "markdown",
   "metadata": {},
   "source": [
    "f1 для тестовой выборки даже выше, чем для валидационной."
   ]
  },
  {
   "cell_type": "markdown",
   "metadata": {},
   "source": [
    "## Вывод"
   ]
  },
  {
   "cell_type": "markdown",
   "metadata": {},
   "source": [
    "Нам удалось построить модель со значением F1-меры 0.64.\n",
    "\n",
    "Наилучший результат в нашем случае дала модель Случайного леса после Взвешивания классов.\n",
    "\n",
    "Можем отметить, что для всех моделей с помощью устранения дисбаланса в данных нам удалось добиться улучшения показателя f1.\n",
    "При этом:\n",
    "* Для Дерева решений эффективнее всего оказалось уменьшение выборки.\n",
    "* Для Случайного леса - Взвешивание классов.\n",
    "* Для Логистической регрессии - Изменение порога чувствительности.\n",
    "\n",
    "Налучший результат по auc_roc показал Случайный лес после уменьшения выборки.\n",
    "\n",
    "Это не означает, что для каждой из моделей предпочтителен определенный вид устранения дисбаланса. На других выборках результат может существенно отличаться."
   ]
  }
 ],
 "metadata": {
  "kernelspec": {
   "display_name": "Python 3 (ipykernel)",
   "language": "python",
   "name": "python3"
  },
  "language_info": {
   "codemirror_mode": {
    "name": "ipython",
    "version": 3
   },
   "file_extension": ".py",
   "mimetype": "text/x-python",
   "name": "python",
   "nbconvert_exporter": "python",
   "pygments_lexer": "ipython3",
   "version": "3.9.12"
  },
  "toc": {
   "base_numbering": 1,
   "nav_menu": {},
   "number_sections": true,
   "sideBar": true,
   "skip_h1_title": true,
   "title_cell": "Содержание",
   "title_sidebar": "Contents",
   "toc_cell": true,
   "toc_position": {
    "height": "calc(100% - 180px)",
    "left": "10px",
    "top": "150px",
    "width": "165px"
   },
   "toc_section_display": true,
   "toc_window_display": true
  },
  "vscode": {
   "interpreter": {
    "hash": "3359021d88a02a6b83f1e303fc8fc24b9fbb5323c2b3a2fe931770d52003b8cb"
   }
  }
 },
 "nbformat": 4,
 "nbformat_minor": 2
}
