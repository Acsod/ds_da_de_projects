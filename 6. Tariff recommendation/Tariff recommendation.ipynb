{
 "cells": [
  {
   "cell_type": "markdown",
   "metadata": {
    "toc": true
   },
   "source": [
    "<h1>Оглавление<span class=\"tocSkip\"></span></h1>\n",
    "<div class=\"toc\"><ul class=\"toc-item\"><li><span><a href=\"#Обзор-данных\" data-toc-modified-id=\"Обзор-данных-1\"><span class=\"toc-item-num\">1&nbsp;&nbsp;</span>Обзор данных</a></span></li><li><span><a href=\"#Разбиение-данных-на-выборки\" data-toc-modified-id=\"Разбиение-данных-на-выборки-2\"><span class=\"toc-item-num\">2&nbsp;&nbsp;</span>Разбиение данных на выборки</a></span></li><li><span><a href=\"#Исследование-моделей\" data-toc-modified-id=\"Исследование-моделей-3\"><span class=\"toc-item-num\">3&nbsp;&nbsp;</span>Исследование моделей</a></span></li><li><span><a href=\"#Проверка-модели-на-тестовой-выборке\" data-toc-modified-id=\"Проверка-модели-на-тестовой-выборке-4\"><span class=\"toc-item-num\">4&nbsp;&nbsp;</span>Проверка модели на тестовой выборке</a></span></li><li><span><a href=\"#Проверка-модели-на-адекватность\" data-toc-modified-id=\"Проверка-модели-на-адекватность-5\"><span class=\"toc-item-num\">5&nbsp;&nbsp;</span>Проверка модели на адекватность</a></span></li><li><span><a href=\"#Вывод\" data-toc-modified-id=\"Вывод-6\"><span class=\"toc-item-num\">6&nbsp;&nbsp;</span>Вывод</a></span></li></ul></div>"
   ]
  },
  {
   "cell_type": "markdown",
   "metadata": {},
   "source": [
    "# Рекомендация тарифов"
   ]
  },
  {
   "cell_type": "markdown",
   "metadata": {},
   "source": [
    "**Иcходные данные**\n",
    "\n",
    "Оператор мобильной связи выяснил: многие клиенты пользуются архивными тарифами. Они хотят построить систему, способную проанализировать поведение клиентов и предложить пользователям новый тариф: «Смарт» или «Ультра».\n",
    "\n",
    "В нашем распоряжении данные о поведении клиентов, которые уже перешли на эти тарифы. \n",
    "\n",
    "**Цель исследования**\n",
    "\n",
    "Построить модель для задачи классификации, которая выберет подходящий тариф.\n",
    "\n",
    "**Ход исследования**\n",
    "1. Обзор данных.\n",
    "2. Подготовка выборок.\n",
    "3. Исследование качества разных моделей.\n",
    "4. Проверьте качество модели на тестовой выборке.\n",
    "5. Проверка модели на вменяемость."
   ]
  },
  {
   "cell_type": "markdown",
   "metadata": {},
   "source": [
    "## Обзор данных"
   ]
  },
  {
   "cell_type": "markdown",
   "metadata": {},
   "source": [
    "Выполним обзор данных из файла"
   ]
  },
  {
   "cell_type": "code",
   "execution_count": 1,
   "metadata": {},
   "outputs": [],
   "source": [
    "#импортируем библиотеки\n",
    "import pandas as pd\n",
    "import numpy as np\n",
    "import os\n",
    "import matplotlib.pyplot as plt\n",
    "from sklearn.model_selection import train_test_split\n",
    "from sklearn.tree import DecisionTreeClassifier\n",
    "from sklearn.ensemble import RandomForestClassifier\n",
    "from sklearn.model_selection import GridSearchCV\n",
    "from sklearn.linear_model import LogisticRegression\n",
    "from sklearn.dummy import DummyClassifier"
   ]
  },
  {
   "cell_type": "code",
   "execution_count": 2,
   "metadata": {},
   "outputs": [],
   "source": [
    "pth1 = 'users_behavior.csv'\n",
    "pth2 = '/datasets/users_behavior.csv'\n",
    "\n",
    "if os.path.exists(pth1):\n",
    "    df = pd.read_csv(pth1)\n",
    "elif os.path.exists(pth2):\n",
    "    df = pd.read_csv(pth2)\n",
    "else:\n",
    "    print('Что-то пошло не так =(')"
   ]
  },
  {
   "cell_type": "code",
   "execution_count": 3,
   "metadata": {},
   "outputs": [
    {
     "name": "stdout",
     "output_type": "stream",
     "text": [
      "<class 'pandas.core.frame.DataFrame'>\n",
      "RangeIndex: 3214 entries, 0 to 3213\n",
      "Data columns (total 5 columns):\n",
      " #   Column    Non-Null Count  Dtype  \n",
      "---  ------    --------------  -----  \n",
      " 0   calls     3214 non-null   float64\n",
      " 1   minutes   3214 non-null   float64\n",
      " 2   messages  3214 non-null   float64\n",
      " 3   mb_used   3214 non-null   float64\n",
      " 4   is_ultra  3214 non-null   int64  \n",
      "dtypes: float64(4), int64(1)\n",
      "memory usage: 125.7 KB\n",
      "None\n"
     ]
    },
    {
     "data": {
      "text/html": [
       "<div>\n",
       "<style scoped>\n",
       "    .dataframe tbody tr th:only-of-type {\n",
       "        vertical-align: middle;\n",
       "    }\n",
       "\n",
       "    .dataframe tbody tr th {\n",
       "        vertical-align: top;\n",
       "    }\n",
       "\n",
       "    .dataframe thead th {\n",
       "        text-align: right;\n",
       "    }\n",
       "</style>\n",
       "<table border=\"1\" class=\"dataframe\">\n",
       "  <thead>\n",
       "    <tr style=\"text-align: right;\">\n",
       "      <th></th>\n",
       "      <th>calls</th>\n",
       "      <th>minutes</th>\n",
       "      <th>messages</th>\n",
       "      <th>mb_used</th>\n",
       "      <th>is_ultra</th>\n",
       "    </tr>\n",
       "  </thead>\n",
       "  <tbody>\n",
       "    <tr>\n",
       "      <th>0</th>\n",
       "      <td>40.0</td>\n",
       "      <td>311.90</td>\n",
       "      <td>83.0</td>\n",
       "      <td>19915.42</td>\n",
       "      <td>0</td>\n",
       "    </tr>\n",
       "    <tr>\n",
       "      <th>1</th>\n",
       "      <td>85.0</td>\n",
       "      <td>516.75</td>\n",
       "      <td>56.0</td>\n",
       "      <td>22696.96</td>\n",
       "      <td>0</td>\n",
       "    </tr>\n",
       "    <tr>\n",
       "      <th>2</th>\n",
       "      <td>77.0</td>\n",
       "      <td>467.66</td>\n",
       "      <td>86.0</td>\n",
       "      <td>21060.45</td>\n",
       "      <td>0</td>\n",
       "    </tr>\n",
       "    <tr>\n",
       "      <th>3</th>\n",
       "      <td>106.0</td>\n",
       "      <td>745.53</td>\n",
       "      <td>81.0</td>\n",
       "      <td>8437.39</td>\n",
       "      <td>1</td>\n",
       "    </tr>\n",
       "    <tr>\n",
       "      <th>4</th>\n",
       "      <td>66.0</td>\n",
       "      <td>418.74</td>\n",
       "      <td>1.0</td>\n",
       "      <td>14502.75</td>\n",
       "      <td>0</td>\n",
       "    </tr>\n",
       "    <tr>\n",
       "      <th>5</th>\n",
       "      <td>58.0</td>\n",
       "      <td>344.56</td>\n",
       "      <td>21.0</td>\n",
       "      <td>15823.37</td>\n",
       "      <td>0</td>\n",
       "    </tr>\n",
       "    <tr>\n",
       "      <th>6</th>\n",
       "      <td>57.0</td>\n",
       "      <td>431.64</td>\n",
       "      <td>20.0</td>\n",
       "      <td>3738.90</td>\n",
       "      <td>1</td>\n",
       "    </tr>\n",
       "    <tr>\n",
       "      <th>7</th>\n",
       "      <td>15.0</td>\n",
       "      <td>132.40</td>\n",
       "      <td>6.0</td>\n",
       "      <td>21911.60</td>\n",
       "      <td>0</td>\n",
       "    </tr>\n",
       "    <tr>\n",
       "      <th>8</th>\n",
       "      <td>7.0</td>\n",
       "      <td>43.39</td>\n",
       "      <td>3.0</td>\n",
       "      <td>2538.67</td>\n",
       "      <td>1</td>\n",
       "    </tr>\n",
       "    <tr>\n",
       "      <th>9</th>\n",
       "      <td>90.0</td>\n",
       "      <td>665.41</td>\n",
       "      <td>38.0</td>\n",
       "      <td>17358.61</td>\n",
       "      <td>0</td>\n",
       "    </tr>\n",
       "  </tbody>\n",
       "</table>\n",
       "</div>"
      ],
      "text/plain": [
       "   calls  minutes  messages   mb_used  is_ultra\n",
       "0   40.0   311.90      83.0  19915.42         0\n",
       "1   85.0   516.75      56.0  22696.96         0\n",
       "2   77.0   467.66      86.0  21060.45         0\n",
       "3  106.0   745.53      81.0   8437.39         1\n",
       "4   66.0   418.74       1.0  14502.75         0\n",
       "5   58.0   344.56      21.0  15823.37         0\n",
       "6   57.0   431.64      20.0   3738.90         1\n",
       "7   15.0   132.40       6.0  21911.60         0\n",
       "8    7.0    43.39       3.0   2538.67         1\n",
       "9   90.0   665.41      38.0  17358.61         0"
      ]
     },
     "execution_count": 3,
     "metadata": {},
     "output_type": "execute_result"
    }
   ],
   "source": [
    "print(df.info())\n",
    "df.head(10)"
   ]
  },
  {
   "cell_type": "markdown",
   "metadata": {},
   "source": [
    "В таблице 3214 строк. Данные типов float64 и int64.\n",
    "\n",
    "Согласно документации к данным, названия колонок отражают следующую информацию:\n",
    "* `сalls` — количество звонков,\n",
    "* `minutes` — суммарная длительность звонков в минутах,\n",
    "* `messages` — количество sms-сообщений,\n",
    "* `mb_used` — израсходованный интернет-трафик в Мб,\n",
    "* `is_ultra` — каким тарифом пользовался в течение месяца («Ультра» — 1, «Смарт» — 0)."
   ]
  },
  {
   "cell_type": "markdown",
   "metadata": {},
   "source": [
    "Нам необходимо обучить модель, способную по данным в колонках `calls`, `minutes`, `messages`, `mb_used` предсказать значение в колонке `is_ultra`."
   ]
  },
  {
   "cell_type": "markdown",
   "metadata": {},
   "source": [
    "Проверим сбалансированность данных по целевому признаку."
   ]
  },
  {
   "cell_type": "code",
   "execution_count": 4,
   "metadata": {},
   "outputs": [
    {
     "name": "stdout",
     "output_type": "stream",
     "text": [
      "0    2229\n",
      "1     985\n",
      "Name: is_ultra, dtype: int64\n"
     ]
    }
   ],
   "source": [
    "balance_target = df['is_ultra'].value_counts()\n",
    "print(balance_target)"
   ]
  },
  {
   "cell_type": "code",
   "execution_count": 5,
   "metadata": {},
   "outputs": [
    {
     "name": "stdout",
     "output_type": "stream",
     "text": [
      "Наблюдений с тарифом Смарт в данных 0.69\n",
      "Наблюдений с тарифом Ультра в данных 0.31\n"
     ]
    }
   ],
   "source": [
    "print(f'Наблюдений с тарифом Смарт в данных {round(balance_target[0] / df[\"is_ultra\"].shape[0], 2)}')\n",
    "print(f'Наблюдений с тарифом Ультра в данных {round(balance_target[1] / df[\"is_ultra\"].shape[0], 2)}')"
   ]
  },
  {
   "cell_type": "markdown",
   "metadata": {},
   "source": [
    "Данных по тарифу Смарт примерно в 3 раза больше, чем по Ультра."
   ]
  },
  {
   "cell_type": "markdown",
   "metadata": {},
   "source": [
    "## Разбиение данных на выборки"
   ]
  },
  {
   "cell_type": "markdown",
   "metadata": {},
   "source": [
    "Разабьем данные на на обучающую, валидационную и тестовую выборки."
   ]
  },
  {
   "cell_type": "code",
   "execution_count": 6,
   "metadata": {},
   "outputs": [],
   "source": [
    "#выделим набор данных и целивой признак \n",
    "features = df.drop(['is_ultra'], axis=1)\n",
    "target = df['is_ultra']"
   ]
  },
  {
   "cell_type": "code",
   "execution_count": 7,
   "metadata": {},
   "outputs": [],
   "source": [
    "#отделим 20% данных для тестовой выборки \n",
    "train_features, test_features, train_target, test_target = train_test_split(features, target, stratify=target, test_size=0.2, random_state=777)"
   ]
  },
  {
   "cell_type": "code",
   "execution_count": 8,
   "metadata": {},
   "outputs": [],
   "source": [
    "#чтобы сохранить пропорцию 60/20/20 от получнеой тренировочной выборки отдели 25% в валидационную \n",
    "train_features, valid_features, train_target, valid_target = train_test_split(train_features, train_target, stratify=train_target, test_size=0.25, random_state=777)"
   ]
  },
  {
   "cell_type": "code",
   "execution_count": 9,
   "metadata": {},
   "outputs": [
    {
     "name": "stdout",
     "output_type": "stream",
     "text": [
      "Доля значений от общей выборки составдяет 0.6\n",
      "Доля значений от общей выборки составдяет 0.2\n",
      "Доля значений от общей выборки составдяет 0.2\n"
     ]
    }
   ],
   "source": [
    "#убедимся, что удалось сохранить пропорцию 60/20/20 \n",
    "list = [train_features, valid_features, test_features]\n",
    "\n",
    "for feat in list:\n",
    "    share = round(len(feat) / len(features), 2)\n",
    "    print(f'Доля значений от общей выборки составдяет {share}')"
   ]
  },
  {
   "cell_type": "markdown",
   "metadata": {},
   "source": [
    "Успешно."
   ]
  },
  {
   "cell_type": "markdown",
   "metadata": {},
   "source": [
    "## Исследование моделей"
   ]
  },
  {
   "cell_type": "markdown",
   "metadata": {},
   "source": [
    "Обучим и исследуем 3 модели на основе:\n",
    "* дерева решений;\n",
    "* случайного леса;\n",
    "* логистической регрессии."
   ]
  },
  {
   "cell_type": "code",
   "execution_count": 10,
   "metadata": {},
   "outputs": [
    {
     "data": {
      "image/png": "[encoded data removed]",
      "text/plain": [
       "<Figure size 432x288 with 1 Axes>"
      ]
     },
     "metadata": {
      "needs_background": "light"
     },
     "output_type": "display_data"
    },
    {
     "name": "stdout",
     "output_type": "stream",
     "text": [
      "Accuracy наилучшей модели дерева решений на валидационной выборке: 0.7853810264385692\n",
      "Глубина дерева решений: 3\n"
     ]
    }
   ],
   "source": [
    "#выберем лучшие параметры для модели дерева решений\n",
    "tree_model = None\n",
    "tree_model_result = 0\n",
    "tree_depth = 0\n",
    "tree_graf_train = []\n",
    "tree_graf_valid = []\n",
    "for depth in range(1, 8):\n",
    "    model = DecisionTreeClassifier(max_depth=depth, random_state=777)\n",
    "    model = model.fit(train_features, train_target)\n",
    "    tree_graf_train.append(model.score(train_features, train_target))\n",
    "    result = model.score(valid_features, valid_target)\n",
    "    tree_graf_valid.append(result)\n",
    "    if result > tree_model_result:\n",
    "        tree_model_result = result\n",
    "        tree_model = model\n",
    "        tree_depth = depth\n",
    "tree_graf_train = pd.Series(tree_graf_train)\n",
    "tree_graf_valid = pd.Series(tree_graf_valid)\n",
    "tree_graf_train.index = tree_graf_train.index + 1\n",
    "tree_graf_valid.index = tree_graf_valid.index + 1\n",
    "tree_graf_train.plot(linewidth = 2, marker = 'o')\n",
    "tree_graf_valid.plot(linewidth = 2, marker = 'o')\n",
    "plt.xlabel('depth')\n",
    "plt.ylabel('accuracy')\n",
    "plt.legend(['Accuracy train', 'Accuracy validation'])\n",
    "plt.show()\n",
    "print(\"Accuracy наилучшей модели дерева решений на валидационной выборке:\", tree_model_result)\n",
    "print(\"Глубина дерева решений:\", tree_depth)"
   ]
  },
  {
   "cell_type": "code",
   "execution_count": 12,
   "metadata": {},
   "outputs": [
    {
     "name": "stdout",
     "output_type": "stream",
     "text": [
      "Accuracy наилучшей модели случайного леса на валидационной выборке: 0.7997994751362627\n",
      "Число деревьев решений: 18\n",
      "Максимальная глубина деревьев решений: 7\n",
      "CPU times: user 10.2 s, sys: 73.5 ms, total: 10.3 s\n",
      "Wall time: 10.4 s\n"
     ]
    }
   ],
   "source": [
    "%%time\n",
    "\n",
    "#выберем лучшие параметры для модели случайного леса\n",
    "grid_model = RandomForestClassifier()\n",
    "parametrs = {'n_estimators': range (3, 34, 5), \n",
    "             'max_depth': range (1, 8)}\n",
    "\n",
    "\n",
    "# код ревьюера\n",
    "grid = GridSearchCV(grid_model, parametrs)\n",
    "# grid = GridSearchCV(grid_model, parametrs)\n",
    "\n",
    "grid.fit(train_features, train_target)\n",
    "\n",
    "forest_model = grid.best_estimator_\n",
    "forest_model_result = grid.best_score_\n",
    "\n",
    "print(\"Accuracy наилучшей модели случайного леса на валидационной выборке:\", forest_model_result)\n",
    "print(\"Число деревьев решений:\", grid.best_params_['n_estimators'])\n",
    "print(\"Максимальная глубина деревьев решений:\", grid.best_params_['max_depth'])"
   ]
  },
  {
   "cell_type": "code",
   "execution_count": 14,
   "metadata": {},
   "outputs": [
    {
     "name": "stdout",
     "output_type": "stream",
     "text": [
      "Accuracy наилучшей модели логистической регрессии на валидационной выборке: 0.7340590979782271\n",
      "Максимальное число итераций: 100\n"
     ]
    }
   ],
   "source": [
    "#выберем лучшие параметры для модели логистической регрессии\n",
    "regression_model = None\n",
    "regression_model_result = 0\n",
    "regression_iter = 0\n",
    "for iter in range(100, 1000, 100):\n",
    "    model = LogisticRegression(random_state=777, max_iter=iter)\n",
    "    model = model.fit(train_features, train_target)\n",
    "    result = model.score(valid_features, valid_target)\n",
    "    if result > regression_model_result:\n",
    "        regression_model_result = result\n",
    "        regression_model = model\n",
    "        regression_iter = iter\n",
    "print(\"Accuracy наилучшей модели логистической регрессии на валидационной выборке:\", regression_model_result)\n",
    "print(\"Максимальное число итераций:\", regression_iter)"
   ]
  },
  {
   "cell_type": "markdown",
   "metadata": {},
   "source": [
    "Итак, на валидационной выборке лучший резултат имеет модель на основе случайного леса `forest_model`.\n",
    "\n",
    "Необходимо выполнить прверки на тестовой выборке."
   ]
  },
  {
   "cell_type": "markdown",
   "metadata": {},
   "source": [
    "## Проверка модели на тестовой выборке"
   ]
  },
  {
   "cell_type": "markdown",
   "metadata": {},
   "source": [
    "Поверим полученные модели на тестовой выборке."
   ]
  },
  {
   "cell_type": "code",
   "execution_count": 15,
   "metadata": {},
   "outputs": [
    {
     "name": "stdout",
     "output_type": "stream",
     "text": [
      "Accuracy наилучшей модели на тестовой выборке: 0.8102643856920684\n"
     ]
    }
   ],
   "source": [
    "test_result = forest_model.score(test_features, test_target)\n",
    "print('Accuracy наилучшей модели на тестовой выборке:', test_result) "
   ]
  },
  {
   "cell_type": "markdown",
   "metadata": {},
   "source": [
    "Модель случайного леса на тестовой выборке показала приемлимый результат."
   ]
  },
  {
   "cell_type": "markdown",
   "metadata": {},
   "source": [
    "## Проверка модели на адекватность"
   ]
  },
  {
   "cell_type": "markdown",
   "metadata": {},
   "source": [
    "Сравним Accuracy нашей модели с фиктивной моделью."
   ]
  },
  {
   "cell_type": "code",
   "execution_count": 16,
   "metadata": {},
   "outputs": [
    {
     "name": "stdout",
     "output_type": "stream",
     "text": [
      "Наша модель адекватна. Accuracy 0.81 против 0.694 у фиктивной модели\n"
     ]
    }
   ],
   "source": [
    "dc_model = DummyClassifier(strategy=\"most_frequent\", random_state=777)\n",
    "dc_model.fit(train_features, train_target)\n",
    "dc_result = dc_model.score(test_features, test_target)\n",
    "\n",
    "if test_result > dc_result:\n",
    "    print(f'Наша модель адекватна. Accuracy {round(test_result, 3)} против {round(dc_result, 3)} у фиктивной модели')\n",
    "else:\n",
    "    print(f'Наша модель не адекватна. Accuracy фиктивной модели {round(dc_result, 3)} против {round(test_result, 3)} нашей.')"
   ]
  },
  {
   "cell_type": "markdown",
   "metadata": {},
   "source": [
    "## Вывод"
   ]
  },
  {
   "cell_type": "markdown",
   "metadata": {},
   "source": [
    "Мы обучили 3 модели, подобрав под них оптимальные параметры и выбрали лучшую модель, способную предложить пользователям подходящий тариф с точностью примерно 80.6%.\n",
    "\n",
    "Модель обучена по алгоритму случайного леса и имеет слкдующие параметры: `max_depth=4`, `n_estimators=3`, `random_state=777`.\n",
    "\n",
    "Проверка показала адекватность модели."
   ]
  }
 ],
 "metadata": {
  "ExecuteTimeLog": [
   {
    "duration": 1030,
    "start_time": "2022-06-19T18:39:19.568Z"
   },
   {
    "duration": 31,
    "start_time": "2022-06-19T18:39:20.600Z"
   },
   {
    "duration": 35,
    "start_time": "2022-06-19T18:39:20.635Z"
   },
   {
    "duration": 14,
    "start_time": "2022-06-19T18:39:20.673Z"
   },
   {
    "duration": 13,
    "start_time": "2022-06-19T18:39:20.689Z"
   },
   {
    "duration": 7,
    "start_time": "2022-06-19T18:39:20.703Z"
   },
   {
    "duration": 51,
    "start_time": "2022-06-19T18:39:20.711Z"
   },
   {
    "duration": 2190,
    "start_time": "2022-06-19T18:39:20.763Z"
   },
   {
    "duration": 291,
    "start_time": "2022-06-19T18:39:22.955Z"
   },
   {
    "duration": 12,
    "start_time": "2022-06-19T18:39:23.250Z"
   },
   {
    "duration": 5,
    "start_time": "2022-06-19T18:39:23.264Z"
   },
   {
    "duration": 2500,
    "start_time": "2022-06-21T05:49:06.029Z"
   },
   {
    "duration": 1753,
    "start_time": "2022-06-21T05:49:16.257Z"
   },
   {
    "duration": 1160,
    "start_time": "2022-06-21T05:49:45.714Z"
   },
   {
    "duration": 137,
    "start_time": "2022-06-21T05:50:37.929Z"
   },
   {
    "duration": 58,
    "start_time": "2022-06-21T05:51:00.609Z"
   },
   {
    "duration": 32,
    "start_time": "2022-06-21T05:51:29.729Z"
   },
   {
    "duration": 35352,
    "start_time": "2022-06-21T05:53:16.432Z"
   },
   {
    "duration": 25,
    "start_time": "2022-06-21T05:53:53.704Z"
   },
   {
    "duration": 16860,
    "start_time": "2022-06-21T05:54:07.687Z"
   },
   {
    "duration": 7270,
    "start_time": "2022-06-21T05:55:23.004Z"
   },
   {
    "duration": 1837,
    "start_time": "2022-06-21T05:58:08.604Z"
   },
   {
    "duration": 1793,
    "start_time": "2022-06-21T05:58:55.190Z"
   },
   {
    "duration": 11160,
    "start_time": "2022-06-21T05:59:02.879Z"
   },
   {
    "duration": 8,
    "start_time": "2022-06-21T06:00:08.989Z"
   },
   {
    "duration": 8880,
    "start_time": "2022-06-21T06:01:45.463Z"
   },
   {
    "duration": 12,
    "start_time": "2022-06-21T06:03:34.948Z"
   },
   {
    "duration": 186,
    "start_time": "2022-06-21T06:03:45.157Z"
   },
   {
    "duration": 9,
    "start_time": "2022-06-21T06:04:08.502Z"
   },
   {
    "duration": 11,
    "start_time": "2022-06-21T06:04:16.413Z"
   },
   {
    "duration": 12,
    "start_time": "2022-06-21T06:04:23.332Z"
   },
   {
    "duration": 4760,
    "start_time": "2022-06-21T06:04:44.245Z"
   },
   {
    "duration": 3522,
    "start_time": "2022-06-21T06:05:13.372Z"
   },
   {
    "duration": 15497,
    "start_time": "2022-06-21T06:05:39.884Z"
   },
   {
    "duration": 23,
    "start_time": "2022-06-21T06:06:12.780Z"
   },
   {
    "duration": 15,
    "start_time": "2022-06-21T06:06:21.148Z"
   },
   {
    "duration": 11620,
    "start_time": "2022-06-21T06:06:29.979Z"
   },
   {
    "duration": 5291,
    "start_time": "2022-06-21T06:08:51.531Z"
   },
   {
    "duration": 2156,
    "start_time": "2022-06-21T06:09:09.475Z"
   },
   {
    "duration": 2363,
    "start_time": "2022-06-21T06:09:16.994Z"
   },
   {
    "duration": 2366,
    "start_time": "2022-06-21T06:09:57.346Z"
   },
   {
    "duration": 3496,
    "start_time": "2022-06-21T06:10:03.842Z"
   },
   {
    "duration": 1543,
    "start_time": "2022-06-21T06:30:15.946Z"
   },
   {
    "duration": 151,
    "start_time": "2022-06-21T06:30:17.491Z"
   },
   {
    "duration": 23,
    "start_time": "2022-06-21T06:30:17.644Z"
   },
   {
    "duration": 27,
    "start_time": "2022-06-21T06:30:17.669Z"
   },
   {
    "duration": 23,
    "start_time": "2022-06-21T06:30:17.698Z"
   },
   {
    "duration": 33,
    "start_time": "2022-06-21T06:30:17.723Z"
   },
   {
    "duration": 34,
    "start_time": "2022-06-21T06:30:17.758Z"
   },
   {
    "duration": 14,
    "start_time": "2022-06-21T06:30:17.794Z"
   },
   {
    "duration": 31,
    "start_time": "2022-06-21T06:30:17.809Z"
   },
   {
    "duration": 239,
    "start_time": "2022-06-21T06:30:17.842Z"
   },
   {
    "duration": 4,
    "start_time": "2022-06-21T06:30:18.083Z"
   },
   {
    "duration": 11,
    "start_time": "2022-06-21T06:30:18.088Z"
   },
   {
    "duration": 2233,
    "start_time": "2022-06-21T06:30:18.100Z"
   },
   {
    "duration": 302,
    "start_time": "2022-06-21T06:30:20.335Z"
   },
   {
    "duration": 7,
    "start_time": "2022-06-21T06:30:20.639Z"
   },
   {
    "duration": 7,
    "start_time": "2022-06-21T06:30:20.649Z"
   },
   {
    "duration": 1598,
    "start_time": "2022-06-22T11:55:13.634Z"
   },
   {
    "duration": 91,
    "start_time": "2022-06-22T11:55:15.234Z"
   },
   {
    "duration": 28,
    "start_time": "2022-06-22T11:55:15.327Z"
   },
   {
    "duration": 6,
    "start_time": "2022-06-22T11:55:15.358Z"
   },
   {
    "duration": 14,
    "start_time": "2022-06-22T11:55:15.365Z"
   },
   {
    "duration": 5,
    "start_time": "2022-06-22T11:55:15.381Z"
   },
   {
    "duration": 9,
    "start_time": "2022-06-22T11:55:15.389Z"
   },
   {
    "duration": 7,
    "start_time": "2022-06-22T11:55:15.400Z"
   },
   {
    "duration": 7,
    "start_time": "2022-06-22T11:55:15.409Z"
   },
   {
    "duration": 259,
    "start_time": "2022-06-22T11:55:15.419Z"
   },
   {
    "duration": 3,
    "start_time": "2022-06-22T11:55:15.680Z"
   },
   {
    "duration": 267,
    "start_time": "2022-06-22T11:55:15.684Z"
   },
   {
    "duration": 5,
    "start_time": "2022-06-22T11:55:15.954Z"
   },
   {
    "duration": 397,
    "start_time": "2022-06-22T11:55:15.961Z"
   },
   {
    "duration": 12,
    "start_time": "2022-06-22T11:55:16.360Z"
   },
   {
    "duration": 0,
    "start_time": "2022-06-22T11:55:16.373Z"
   },
   {
    "duration": 12,
    "start_time": "2022-06-22T11:55:34.526Z"
   },
   {
    "duration": 1534,
    "start_time": "2022-06-22T11:55:57.389Z"
   },
   {
    "duration": 87,
    "start_time": "2022-06-22T11:55:58.925Z"
   },
   {
    "duration": 24,
    "start_time": "2022-06-22T11:55:59.014Z"
   },
   {
    "duration": 7,
    "start_time": "2022-06-22T11:55:59.040Z"
   },
   {
    "duration": 16,
    "start_time": "2022-06-22T11:55:59.050Z"
   },
   {
    "duration": 6,
    "start_time": "2022-06-22T11:55:59.068Z"
   },
   {
    "duration": 10,
    "start_time": "2022-06-22T11:55:59.076Z"
   },
   {
    "duration": 6,
    "start_time": "2022-06-22T11:55:59.087Z"
   },
   {
    "duration": 8,
    "start_time": "2022-06-22T11:55:59.095Z"
   },
   {
    "duration": 256,
    "start_time": "2022-06-22T11:55:59.106Z"
   },
   {
    "duration": 3,
    "start_time": "2022-06-22T11:55:59.364Z"
   },
   {
    "duration": 266,
    "start_time": "2022-06-22T11:55:59.369Z"
   },
   {
    "duration": 2,
    "start_time": "2022-06-22T11:55:59.637Z"
   },
   {
    "duration": 339,
    "start_time": "2022-06-22T11:55:59.641Z"
   },
   {
    "duration": 9,
    "start_time": "2022-06-22T11:55:59.982Z"
   },
   {
    "duration": 0,
    "start_time": "2022-06-22T11:55:59.993Z"
   },
   {
    "duration": 363,
    "start_time": "2022-06-22T11:57:10.057Z"
   },
   {
    "duration": 11,
    "start_time": "2022-06-22T11:57:15.321Z"
   },
   {
    "duration": 12,
    "start_time": "2022-06-22T11:57:22.362Z"
   },
   {
    "duration": 9,
    "start_time": "2022-06-22T11:58:56.497Z"
   },
   {
    "duration": 5,
    "start_time": "2022-06-22T11:59:04.659Z"
   },
   {
    "duration": 213,
    "start_time": "2022-06-22T11:59:48.514Z"
   },
   {
    "duration": 208,
    "start_time": "2022-06-22T11:59:56.794Z"
   },
   {
    "duration": 9888,
    "start_time": "2022-06-22T12:00:47.044Z"
   },
   {
    "duration": 1689,
    "start_time": "2022-06-22T12:01:19.365Z"
   },
   {
    "duration": 89,
    "start_time": "2022-06-22T12:01:21.057Z"
   },
   {
    "duration": 31,
    "start_time": "2022-06-22T12:01:21.157Z"
   },
   {
    "duration": 6,
    "start_time": "2022-06-22T12:01:21.190Z"
   },
   {
    "duration": 8,
    "start_time": "2022-06-22T12:01:21.198Z"
   },
   {
    "duration": 11,
    "start_time": "2022-06-22T12:01:21.208Z"
   },
   {
    "duration": 25,
    "start_time": "2022-06-22T12:01:21.221Z"
   },
   {
    "duration": 24,
    "start_time": "2022-06-22T12:01:21.247Z"
   },
   {
    "duration": 4,
    "start_time": "2022-06-22T12:01:21.273Z"
   },
   {
    "duration": 240,
    "start_time": "2022-06-22T12:01:21.280Z"
   },
   {
    "duration": 3,
    "start_time": "2022-06-22T12:01:21.522Z"
   },
   {
    "duration": 147,
    "start_time": "2022-06-22T12:01:21.527Z"
   },
   {
    "duration": 0,
    "start_time": "2022-06-22T12:01:21.676Z"
   },
   {
    "duration": 0,
    "start_time": "2022-06-22T12:01:21.677Z"
   },
   {
    "duration": 0,
    "start_time": "2022-06-22T12:01:21.678Z"
   },
   {
    "duration": 0,
    "start_time": "2022-06-22T12:01:21.680Z"
   },
   {
    "duration": 0,
    "start_time": "2022-06-22T12:01:21.681Z"
   },
   {
    "duration": 1546,
    "start_time": "2022-06-22T12:01:43.907Z"
   },
   {
    "duration": 78,
    "start_time": "2022-06-22T12:01:45.455Z"
   },
   {
    "duration": 28,
    "start_time": "2022-06-22T12:01:45.535Z"
   },
   {
    "duration": 10,
    "start_time": "2022-06-22T12:01:45.566Z"
   },
   {
    "duration": 12,
    "start_time": "2022-06-22T12:01:45.577Z"
   },
   {
    "duration": 9,
    "start_time": "2022-06-22T12:01:45.590Z"
   },
   {
    "duration": 9,
    "start_time": "2022-06-22T12:01:45.601Z"
   },
   {
    "duration": 15,
    "start_time": "2022-06-22T12:01:45.612Z"
   },
   {
    "duration": 8,
    "start_time": "2022-06-22T12:01:45.629Z"
   },
   {
    "duration": 259,
    "start_time": "2022-06-22T12:01:45.641Z"
   },
   {
    "duration": 2,
    "start_time": "2022-06-22T12:01:45.902Z"
   },
   {
    "duration": 10387,
    "start_time": "2022-06-22T12:01:45.906Z"
   },
   {
    "duration": 3,
    "start_time": "2022-06-22T12:01:56.295Z"
   },
   {
    "duration": 342,
    "start_time": "2022-06-22T12:01:56.299Z"
   },
   {
    "duration": 18,
    "start_time": "2022-06-22T12:01:56.642Z"
   },
   {
    "duration": 10,
    "start_time": "2022-06-22T12:01:56.663Z"
   }
  ],
  "kernelspec": {
   "display_name": "Python 3 (ipykernel)",
   "language": "python",
   "name": "python3"
  },
  "language_info": {
   "codemirror_mode": {
    "name": "ipython",
    "version": 3
   },
   "file_extension": ".py",
   "mimetype": "text/x-python",
   "name": "python",
   "nbconvert_exporter": "python",
   "pygments_lexer": "ipython3",
   "version": "3.9.12"
  },
  "toc": {
   "base_numbering": 1,
   "nav_menu": {
    "height": "144px",
    "width": "290px"
   },
   "number_sections": true,
   "sideBar": true,
   "skip_h1_title": true,
   "title_cell": "Оглавление",
   "title_sidebar": "Contents",
   "toc_cell": true,
   "toc_position": {
    "height": "calc(100% - 180px)",
    "left": "10px",
    "top": "150px",
    "width": "290.909px"
   },
   "toc_section_display": true,
   "toc_window_display": true
  },
  "vscode": {
   "interpreter": {
    "hash": "3359021d88a02a6b83f1e303fc8fc24b9fbb5323c2b3a2fe931770d52003b8cb"
   }
  }
 },
 "nbformat": 4,
 "nbformat_minor": 2
}
