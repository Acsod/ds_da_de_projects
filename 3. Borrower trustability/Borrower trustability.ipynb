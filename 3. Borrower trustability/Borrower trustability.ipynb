{
 "cells": [
  {
   "cell_type": "markdown",
   "id": "3ad6b194",
   "metadata": {
    "toc": true
   },
   "source": [
    "<h1>Содержание<span class=\"tocSkip\"></span></h1>\n",
    "<div class=\"toc\"><ul class=\"toc-item\"><li><span><a href=\"#Исследование-надежности-заемщиков.\" data-toc-modified-id=\"Исследование-надежности-заемщиков.-1\">Исследование надежности заемщиков.</a></span><ul class=\"toc-item\"><li><span><a href=\"#Шаг-1.-Обзор-данных\" data-toc-modified-id=\"Шаг-1.-Обзор-данных-1.1\">Шаг 1. Обзор данных</a></span></li><li><span><a href=\"#Шаг-2.1-Заполнение-пропусков\" data-toc-modified-id=\"Шаг-2.1-Заполнение-пропусков-1.2\">Шаг 2.1 Заполнение пропусков</a></span></li><li><span><a href=\"#Шаг-2.2-Проверка-данных-на-аномалии-и-исправления.\" data-toc-modified-id=\"Шаг-2.2-Проверка-данных-на-аномалии-и-исправления.-1.3\">Шаг 2.2 Проверка данных на аномалии и исправления.</a></span></li><li><span><a href=\"#Шаг-2.3.-Изменение-типов-данных.\" data-toc-modified-id=\"Шаг-2.3.-Изменение-типов-данных.-1.4\">Шаг 2.3. Изменение типов данных.</a></span></li><li><span><a href=\"#Шаг-2.4.-Удаление-дубликатов.\" data-toc-modified-id=\"Шаг-2.4.-Удаление-дубликатов.-1.5\">Шаг 2.4. Удаление дубликатов.</a></span></li><li><span><a href=\"#Шаг-2.5.-Формирование-дополнительных-датафреймов-словарей,-декомпозиция-исходного-датафрейма.\" data-toc-modified-id=\"Шаг-2.5.-Формирование-дополнительных-датафреймов-словарей,-декомпозиция-исходного-датафрейма.-1.6\">Шаг 2.5. Формирование дополнительных датафреймов словарей, декомпозиция исходного датафрейма.</a></span></li><li><span><a href=\"#Шаг-2.6.-Категоризация-дохода.\" data-toc-modified-id=\"Шаг-2.6.-Категоризация-дохода.-1.7\">Шаг 2.6. Категоризация дохода.</a></span></li><li><span><a href=\"#Ответы-на-вопросы.\" data-toc-modified-id=\"Ответы-на-вопросы.-1.8\">Ответы на вопросы.</a></span></li><li><span><a href=\"#Общий-вывод:\" data-toc-modified-id=\"Общий-вывод:-1.9\">Общий вывод:</a></span></li></ul></li></ul></div>"
   ]
  },
  {
   "cell_type": "markdown",
   "id": "32e39cb2",
   "metadata": {},
   "source": [
    "# Исследование надежности заемщиков."
   ]
  },
  {
   "cell_type": "markdown",
   "id": "d6a94403",
   "metadata": {},
   "source": [
    "**Цель исследования**\n",
    "\n",
    "Определить, влияет ли семейное положение и количество детей клиента на факт погашения кредита в срок. \n",
    "Результаты исследования будут учтены при построении модели кредитного скоринга — специальной системы, которая оценивает способность потенциального заёмщика вернуть кредит банку.\n",
    "\n",
    "Для этого, на основании статистики о платёжеспособности клиентов, переданной банком, необходимо установить:\n",
    "1. Наличие зависимости между количеством детей и возвратом кредита в срок.\n",
    "2. Наличие зависимости между семейным положением и возвратом кредита в срок.\n",
    "3. Наличие зависимости между уровнем дохода и возвратом кредита в срок.\n",
    "4. Влияние цели кредита на его возврат в срок.\n",
    "\n",
    "**Ход исследования**\n",
    "1. Обзор данных, переданных банком.\n",
    "2. Предобработка данных.\n",
    "3. Проверка гипотез."
   ]
  },
  {
   "cell_type": "markdown",
   "id": "e29e4456",
   "metadata": {},
   "source": [
    "## Шаг 1. Обзор данных"
   ]
  },
  {
   "cell_type": "markdown",
   "id": "75ac6316",
   "metadata": {},
   "source": [
    "Составим первое представление о данных банка"
   ]
  },
  {
   "cell_type": "code",
   "execution_count": 130,
   "id": "27323d59",
   "metadata": {},
   "outputs": [],
   "source": [
    "# импорт библиотеки pandas\n",
    "import pandas as pd"
   ]
  },
  {
   "cell_type": "code",
   "execution_count": 131,
   "id": "11e4c4b2",
   "metadata": {},
   "outputs": [],
   "source": [
    "# чтение файла с данными и сохранение в df для локальной и сетевой работы\n",
    "try:\n",
    "    df = pd.read_csv('data.csv')\n",
    "except FileNotFoundError:\n",
    "    df = pd.read_csv('/datasets/data.csv')"
   ]
  },
  {
   "cell_type": "code",
   "execution_count": 132,
   "id": "3b3f71bf",
   "metadata": {},
   "outputs": [
    {
     "data": {
      "text/html": [
       "<div>\n",
       "<style scoped>\n",
       "    .dataframe tbody tr th:only-of-type {\n",
       "        vertical-align: middle;\n",
       "    }\n",
       "\n",
       "    .dataframe tbody tr th {\n",
       "        vertical-align: top;\n",
       "    }\n",
       "\n",
       "    .dataframe thead th {\n",
       "        text-align: right;\n",
       "    }\n",
       "</style>\n",
       "<table border=\"1\" class=\"dataframe\">\n",
       "  <thead>\n",
       "    <tr style=\"text-align: right;\">\n",
       "      <th></th>\n",
       "      <th>children</th>\n",
       "      <th>days_employed</th>\n",
       "      <th>dob_years</th>\n",
       "      <th>education</th>\n",
       "      <th>education_id</th>\n",
       "      <th>family_status</th>\n",
       "      <th>family_status_id</th>\n",
       "      <th>gender</th>\n",
       "      <th>income_type</th>\n",
       "      <th>debt</th>\n",
       "      <th>total_income</th>\n",
       "      <th>purpose</th>\n",
       "    </tr>\n",
       "  </thead>\n",
       "  <tbody>\n",
       "    <tr>\n",
       "      <th>0</th>\n",
       "      <td>1</td>\n",
       "      <td>-8437.673028</td>\n",
       "      <td>42</td>\n",
       "      <td>высшее</td>\n",
       "      <td>0</td>\n",
       "      <td>женат / замужем</td>\n",
       "      <td>0</td>\n",
       "      <td>F</td>\n",
       "      <td>сотрудник</td>\n",
       "      <td>0</td>\n",
       "      <td>253875.639453</td>\n",
       "      <td>покупка жилья</td>\n",
       "    </tr>\n",
       "    <tr>\n",
       "      <th>1</th>\n",
       "      <td>1</td>\n",
       "      <td>-4024.803754</td>\n",
       "      <td>36</td>\n",
       "      <td>среднее</td>\n",
       "      <td>1</td>\n",
       "      <td>женат / замужем</td>\n",
       "      <td>0</td>\n",
       "      <td>F</td>\n",
       "      <td>сотрудник</td>\n",
       "      <td>0</td>\n",
       "      <td>112080.014102</td>\n",
       "      <td>приобретение автомобиля</td>\n",
       "    </tr>\n",
       "    <tr>\n",
       "      <th>2</th>\n",
       "      <td>0</td>\n",
       "      <td>-5623.422610</td>\n",
       "      <td>33</td>\n",
       "      <td>Среднее</td>\n",
       "      <td>1</td>\n",
       "      <td>женат / замужем</td>\n",
       "      <td>0</td>\n",
       "      <td>M</td>\n",
       "      <td>сотрудник</td>\n",
       "      <td>0</td>\n",
       "      <td>145885.952297</td>\n",
       "      <td>покупка жилья</td>\n",
       "    </tr>\n",
       "    <tr>\n",
       "      <th>3</th>\n",
       "      <td>3</td>\n",
       "      <td>-4124.747207</td>\n",
       "      <td>32</td>\n",
       "      <td>среднее</td>\n",
       "      <td>1</td>\n",
       "      <td>женат / замужем</td>\n",
       "      <td>0</td>\n",
       "      <td>M</td>\n",
       "      <td>сотрудник</td>\n",
       "      <td>0</td>\n",
       "      <td>267628.550329</td>\n",
       "      <td>дополнительное образование</td>\n",
       "    </tr>\n",
       "    <tr>\n",
       "      <th>4</th>\n",
       "      <td>0</td>\n",
       "      <td>340266.072047</td>\n",
       "      <td>53</td>\n",
       "      <td>среднее</td>\n",
       "      <td>1</td>\n",
       "      <td>гражданский брак</td>\n",
       "      <td>1</td>\n",
       "      <td>F</td>\n",
       "      <td>пенсионер</td>\n",
       "      <td>0</td>\n",
       "      <td>158616.077870</td>\n",
       "      <td>сыграть свадьбу</td>\n",
       "    </tr>\n",
       "    <tr>\n",
       "      <th>5</th>\n",
       "      <td>0</td>\n",
       "      <td>-926.185831</td>\n",
       "      <td>27</td>\n",
       "      <td>высшее</td>\n",
       "      <td>0</td>\n",
       "      <td>гражданский брак</td>\n",
       "      <td>1</td>\n",
       "      <td>M</td>\n",
       "      <td>компаньон</td>\n",
       "      <td>0</td>\n",
       "      <td>255763.565419</td>\n",
       "      <td>покупка жилья</td>\n",
       "    </tr>\n",
       "    <tr>\n",
       "      <th>6</th>\n",
       "      <td>0</td>\n",
       "      <td>-2879.202052</td>\n",
       "      <td>43</td>\n",
       "      <td>высшее</td>\n",
       "      <td>0</td>\n",
       "      <td>женат / замужем</td>\n",
       "      <td>0</td>\n",
       "      <td>F</td>\n",
       "      <td>компаньон</td>\n",
       "      <td>0</td>\n",
       "      <td>240525.971920</td>\n",
       "      <td>операции с жильем</td>\n",
       "    </tr>\n",
       "    <tr>\n",
       "      <th>7</th>\n",
       "      <td>0</td>\n",
       "      <td>-152.779569</td>\n",
       "      <td>50</td>\n",
       "      <td>СРЕДНЕЕ</td>\n",
       "      <td>1</td>\n",
       "      <td>женат / замужем</td>\n",
       "      <td>0</td>\n",
       "      <td>M</td>\n",
       "      <td>сотрудник</td>\n",
       "      <td>0</td>\n",
       "      <td>135823.934197</td>\n",
       "      <td>образование</td>\n",
       "    </tr>\n",
       "    <tr>\n",
       "      <th>8</th>\n",
       "      <td>2</td>\n",
       "      <td>-6929.865299</td>\n",
       "      <td>35</td>\n",
       "      <td>ВЫСШЕЕ</td>\n",
       "      <td>0</td>\n",
       "      <td>гражданский брак</td>\n",
       "      <td>1</td>\n",
       "      <td>F</td>\n",
       "      <td>сотрудник</td>\n",
       "      <td>0</td>\n",
       "      <td>95856.832424</td>\n",
       "      <td>на проведение свадьбы</td>\n",
       "    </tr>\n",
       "    <tr>\n",
       "      <th>9</th>\n",
       "      <td>0</td>\n",
       "      <td>-2188.756445</td>\n",
       "      <td>41</td>\n",
       "      <td>среднее</td>\n",
       "      <td>1</td>\n",
       "      <td>женат / замужем</td>\n",
       "      <td>0</td>\n",
       "      <td>M</td>\n",
       "      <td>сотрудник</td>\n",
       "      <td>0</td>\n",
       "      <td>144425.938277</td>\n",
       "      <td>покупка жилья для семьи</td>\n",
       "    </tr>\n",
       "  </tbody>\n",
       "</table>\n",
       "</div>"
      ],
      "text/plain": [
       "   children  days_employed  dob_years education  education_id  \\\n",
       "0         1   -8437.673028         42    высшее             0   \n",
       "1         1   -4024.803754         36   среднее             1   \n",
       "2         0   -5623.422610         33   Среднее             1   \n",
       "3         3   -4124.747207         32   среднее             1   \n",
       "4         0  340266.072047         53   среднее             1   \n",
       "5         0    -926.185831         27    высшее             0   \n",
       "6         0   -2879.202052         43    высшее             0   \n",
       "7         0    -152.779569         50   СРЕДНЕЕ             1   \n",
       "8         2   -6929.865299         35    ВЫСШЕЕ             0   \n",
       "9         0   -2188.756445         41   среднее             1   \n",
       "\n",
       "      family_status  family_status_id gender income_type  debt   total_income  \\\n",
       "0   женат / замужем                 0      F   сотрудник     0  253875.639453   \n",
       "1   женат / замужем                 0      F   сотрудник     0  112080.014102   \n",
       "2   женат / замужем                 0      M   сотрудник     0  145885.952297   \n",
       "3   женат / замужем                 0      M   сотрудник     0  267628.550329   \n",
       "4  гражданский брак                 1      F   пенсионер     0  158616.077870   \n",
       "5  гражданский брак                 1      M   компаньон     0  255763.565419   \n",
       "6   женат / замужем                 0      F   компаньон     0  240525.971920   \n",
       "7   женат / замужем                 0      M   сотрудник     0  135823.934197   \n",
       "8  гражданский брак                 1      F   сотрудник     0   95856.832424   \n",
       "9   женат / замужем                 0      M   сотрудник     0  144425.938277   \n",
       "\n",
       "                      purpose  \n",
       "0               покупка жилья  \n",
       "1     приобретение автомобиля  \n",
       "2               покупка жилья  \n",
       "3  дополнительное образование  \n",
       "4             сыграть свадьбу  \n",
       "5               покупка жилья  \n",
       "6           операции с жильем  \n",
       "7                 образование  \n",
       "8       на проведение свадьбы  \n",
       "9     покупка жилья для семьи  "
      ]
     },
     "metadata": {},
     "output_type": "display_data"
    }
   ],
   "source": [
    "# получение первых 10 строк таблицы df для обзора\n",
    "display(df.head(10))"
   ]
  },
  {
   "cell_type": "code",
   "execution_count": 133,
   "id": "beeb128d",
   "metadata": {},
   "outputs": [
    {
     "name": "stdout",
     "output_type": "stream",
     "text": [
      "<class 'pandas.core.frame.DataFrame'>\n",
      "RangeIndex: 21525 entries, 0 to 21524\n",
      "Data columns (total 12 columns):\n",
      " #   Column            Non-Null Count  Dtype  \n",
      "---  ------            --------------  -----  \n",
      " 0   children          21525 non-null  int64  \n",
      " 1   days_employed     19351 non-null  float64\n",
      " 2   dob_years         21525 non-null  int64  \n",
      " 3   education         21525 non-null  object \n",
      " 4   education_id      21525 non-null  int64  \n",
      " 5   family_status     21525 non-null  object \n",
      " 6   family_status_id  21525 non-null  int64  \n",
      " 7   gender            21525 non-null  object \n",
      " 8   income_type       21525 non-null  object \n",
      " 9   debt              21525 non-null  int64  \n",
      " 10  total_income      19351 non-null  float64\n",
      " 11  purpose           21525 non-null  object \n",
      "dtypes: float64(2), int64(5), object(5)\n",
      "memory usage: 2.0+ MB\n"
     ]
    }
   ],
   "source": [
    "# получение общей информации о данных в таблице df\n",
    "df.info()"
   ]
  },
  {
   "cell_type": "markdown",
   "id": "98bf8b3d",
   "metadata": {},
   "source": [
    "Согласно документации к данным, названия колонок отражают следующую информацию:\n",
    "\n",
    "* `children` — количество детей в семье\n",
    "* `days_employed` — общий трудовой стаж в днях\n",
    "* `dob_years` — возраст клиента в годах\n",
    "* `education` — уровень образования клиента\n",
    "* `education_id` — идентификатор уровня образования\n",
    "* `family_status` — семейное положение\n",
    "* `family_status_id` — идентификатор семейного положения\n",
    "* `gender` — пол клиента\n",
    "* `income_type` — тип занятости\n",
    "* `debt` — имел ли задолженность по возврату кредитов\n",
    "* `total_income` — ежемесячный доход\n",
    "* `purpose` — цель получения кредита\n",
    "\n",
    "На основании обзора данных установлено:\n",
    "\n",
    "1. Всего в таблице 25525 сторок и 12 колонок.\n",
    "2. Названия колонок соответствуют стилю.\n",
    "3. Присутствуют данные типов: int, float, object. Значения в столбцах `days_employed` и `total_income` стоит заменить на int.\n",
    "4. В столбцах `days_employed` и `total_income` встречаются пропуски, причем количество пропусков в обих столбцах одинаково.\n",
    "5. В столбце `education` присутсвуют неявные дубликаты значений (одни и те же значения в разном регистре).\n",
    "6. В столбце `days_employed` в большом количестве присутствуют отрицательные значения рабочего стажа. Положительные значения выглядят нереалистично (932 года стажа).\n",
    "7. В одной таблице хранятся идентификаторы и расшифровки для уровня образования и семейного статуса.\n"
   ]
  },
  {
   "cell_type": "markdown",
   "id": "a9fe0f12",
   "metadata": {},
   "source": [
    "**Выводы**\n",
    "\n",
    "В каждой строке таблицы — данные о потенцальном заемщике. Часть колонок содержит личную информацию - семейное положение, образоавние, количество детей, трудовой стаж, возраст, пол. Другая чатсть имеет прямое отношение к кредиту и платежеспособности - цель кредита, тип занятости, уровень дохода, факты задолжностей.\n",
    "\n",
    "Предварительно можно утверждать, что, данных достаточно для проверки гипотез. Но в одной из колонок встречаются отрицательные значения неясного происхождения, при этом положительные значения также выглядят нереалистично. В двух столбцах есть пропуски в данных. Два столбца с идентификаторами семейного положения и образования дублируют информацию столбцов с расшифровкой. Расшифровки стоит вынести в отдельные таблицы, оставив только идентификаторы.\n",
    "\n",
    "Чтобы двигаться дальше, нужно устранить проблемы в данных."
   ]
  },
  {
   "cell_type": "markdown",
   "id": "75daa267",
   "metadata": {},
   "source": [
    "## Шаг 2.1 Заполнение пропусков"
   ]
  },
  {
   "cell_type": "markdown",
   "id": "a576f596",
   "metadata": {},
   "source": [
    "Ещё раз посмотрим на пропуски в данных о трудовом стаже и доходе."
   ]
  },
  {
   "cell_type": "code",
   "execution_count": 134,
   "id": "26a53526",
   "metadata": {},
   "outputs": [
    {
     "data": {
      "text/plain": [
       "children               0\n",
       "days_employed       2174\n",
       "dob_years              0\n",
       "education              0\n",
       "education_id           0\n",
       "family_status          0\n",
       "family_status_id       0\n",
       "gender                 0\n",
       "income_type            0\n",
       "debt                   0\n",
       "total_income        2174\n",
       "purpose                0\n",
       "dtype: int64"
      ]
     },
     "execution_count": 134,
     "metadata": {},
     "output_type": "execute_result"
    }
   ],
   "source": [
    "# подсчёт пропусков\n",
    "df.isna().sum()"
   ]
  },
  {
   "cell_type": "code",
   "execution_count": 135,
   "id": "3e3c2a1e",
   "metadata": {},
   "outputs": [
    {
     "data": {
      "text/html": [
       "<div>\n",
       "<style scoped>\n",
       "    .dataframe tbody tr th:only-of-type {\n",
       "        vertical-align: middle;\n",
       "    }\n",
       "\n",
       "    .dataframe tbody tr th {\n",
       "        vertical-align: top;\n",
       "    }\n",
       "\n",
       "    .dataframe thead th {\n",
       "        text-align: right;\n",
       "    }\n",
       "</style>\n",
       "<table border=\"1\" class=\"dataframe\">\n",
       "  <thead>\n",
       "    <tr style=\"text-align: right;\">\n",
       "      <th></th>\n",
       "      <th>children</th>\n",
       "      <th>days_employed</th>\n",
       "      <th>dob_years</th>\n",
       "      <th>education</th>\n",
       "      <th>education_id</th>\n",
       "      <th>family_status</th>\n",
       "      <th>family_status_id</th>\n",
       "      <th>gender</th>\n",
       "      <th>income_type</th>\n",
       "      <th>debt</th>\n",
       "      <th>total_income</th>\n",
       "      <th>purpose</th>\n",
       "    </tr>\n",
       "  </thead>\n",
       "  <tbody>\n",
       "    <tr>\n",
       "      <th>12</th>\n",
       "      <td>0</td>\n",
       "      <td>NaN</td>\n",
       "      <td>65</td>\n",
       "      <td>среднее</td>\n",
       "      <td>1</td>\n",
       "      <td>гражданский брак</td>\n",
       "      <td>1</td>\n",
       "      <td>M</td>\n",
       "      <td>пенсионер</td>\n",
       "      <td>0</td>\n",
       "      <td>NaN</td>\n",
       "      <td>сыграть свадьбу</td>\n",
       "    </tr>\n",
       "    <tr>\n",
       "      <th>26</th>\n",
       "      <td>0</td>\n",
       "      <td>NaN</td>\n",
       "      <td>41</td>\n",
       "      <td>среднее</td>\n",
       "      <td>1</td>\n",
       "      <td>женат / замужем</td>\n",
       "      <td>0</td>\n",
       "      <td>M</td>\n",
       "      <td>госслужащий</td>\n",
       "      <td>0</td>\n",
       "      <td>NaN</td>\n",
       "      <td>образование</td>\n",
       "    </tr>\n",
       "    <tr>\n",
       "      <th>29</th>\n",
       "      <td>0</td>\n",
       "      <td>NaN</td>\n",
       "      <td>63</td>\n",
       "      <td>среднее</td>\n",
       "      <td>1</td>\n",
       "      <td>Не женат / не замужем</td>\n",
       "      <td>4</td>\n",
       "      <td>F</td>\n",
       "      <td>пенсионер</td>\n",
       "      <td>0</td>\n",
       "      <td>NaN</td>\n",
       "      <td>строительство жилой недвижимости</td>\n",
       "    </tr>\n",
       "    <tr>\n",
       "      <th>41</th>\n",
       "      <td>0</td>\n",
       "      <td>NaN</td>\n",
       "      <td>50</td>\n",
       "      <td>среднее</td>\n",
       "      <td>1</td>\n",
       "      <td>женат / замужем</td>\n",
       "      <td>0</td>\n",
       "      <td>F</td>\n",
       "      <td>госслужащий</td>\n",
       "      <td>0</td>\n",
       "      <td>NaN</td>\n",
       "      <td>сделка с подержанным автомобилем</td>\n",
       "    </tr>\n",
       "    <tr>\n",
       "      <th>55</th>\n",
       "      <td>0</td>\n",
       "      <td>NaN</td>\n",
       "      <td>54</td>\n",
       "      <td>среднее</td>\n",
       "      <td>1</td>\n",
       "      <td>гражданский брак</td>\n",
       "      <td>1</td>\n",
       "      <td>F</td>\n",
       "      <td>пенсионер</td>\n",
       "      <td>1</td>\n",
       "      <td>NaN</td>\n",
       "      <td>сыграть свадьбу</td>\n",
       "    </tr>\n",
       "    <tr>\n",
       "      <th>65</th>\n",
       "      <td>0</td>\n",
       "      <td>NaN</td>\n",
       "      <td>21</td>\n",
       "      <td>среднее</td>\n",
       "      <td>1</td>\n",
       "      <td>Не женат / не замужем</td>\n",
       "      <td>4</td>\n",
       "      <td>M</td>\n",
       "      <td>компаньон</td>\n",
       "      <td>0</td>\n",
       "      <td>NaN</td>\n",
       "      <td>операции с коммерческой недвижимостью</td>\n",
       "    </tr>\n",
       "    <tr>\n",
       "      <th>67</th>\n",
       "      <td>0</td>\n",
       "      <td>NaN</td>\n",
       "      <td>52</td>\n",
       "      <td>высшее</td>\n",
       "      <td>0</td>\n",
       "      <td>женат / замужем</td>\n",
       "      <td>0</td>\n",
       "      <td>F</td>\n",
       "      <td>пенсионер</td>\n",
       "      <td>0</td>\n",
       "      <td>NaN</td>\n",
       "      <td>покупка жилья для семьи</td>\n",
       "    </tr>\n",
       "    <tr>\n",
       "      <th>72</th>\n",
       "      <td>1</td>\n",
       "      <td>NaN</td>\n",
       "      <td>32</td>\n",
       "      <td>высшее</td>\n",
       "      <td>0</td>\n",
       "      <td>женат / замужем</td>\n",
       "      <td>0</td>\n",
       "      <td>M</td>\n",
       "      <td>госслужащий</td>\n",
       "      <td>0</td>\n",
       "      <td>NaN</td>\n",
       "      <td>операции с коммерческой недвижимостью</td>\n",
       "    </tr>\n",
       "    <tr>\n",
       "      <th>82</th>\n",
       "      <td>2</td>\n",
       "      <td>NaN</td>\n",
       "      <td>50</td>\n",
       "      <td>высшее</td>\n",
       "      <td>0</td>\n",
       "      <td>женат / замужем</td>\n",
       "      <td>0</td>\n",
       "      <td>F</td>\n",
       "      <td>сотрудник</td>\n",
       "      <td>0</td>\n",
       "      <td>NaN</td>\n",
       "      <td>жилье</td>\n",
       "    </tr>\n",
       "    <tr>\n",
       "      <th>83</th>\n",
       "      <td>0</td>\n",
       "      <td>NaN</td>\n",
       "      <td>52</td>\n",
       "      <td>среднее</td>\n",
       "      <td>1</td>\n",
       "      <td>женат / замужем</td>\n",
       "      <td>0</td>\n",
       "      <td>M</td>\n",
       "      <td>сотрудник</td>\n",
       "      <td>0</td>\n",
       "      <td>NaN</td>\n",
       "      <td>жилье</td>\n",
       "    </tr>\n",
       "  </tbody>\n",
       "</table>\n",
       "</div>"
      ],
      "text/plain": [
       "    children  days_employed  dob_years education  education_id  \\\n",
       "12         0            NaN         65   среднее             1   \n",
       "26         0            NaN         41   среднее             1   \n",
       "29         0            NaN         63   среднее             1   \n",
       "41         0            NaN         50   среднее             1   \n",
       "55         0            NaN         54   среднее             1   \n",
       "65         0            NaN         21   среднее             1   \n",
       "67         0            NaN         52    высшее             0   \n",
       "72         1            NaN         32    высшее             0   \n",
       "82         2            NaN         50    высшее             0   \n",
       "83         0            NaN         52   среднее             1   \n",
       "\n",
       "            family_status  family_status_id gender  income_type  debt  \\\n",
       "12       гражданский брак                 1      M    пенсионер     0   \n",
       "26        женат / замужем                 0      M  госслужащий     0   \n",
       "29  Не женат / не замужем                 4      F    пенсионер     0   \n",
       "41        женат / замужем                 0      F  госслужащий     0   \n",
       "55       гражданский брак                 1      F    пенсионер     1   \n",
       "65  Не женат / не замужем                 4      M    компаньон     0   \n",
       "67        женат / замужем                 0      F    пенсионер     0   \n",
       "72        женат / замужем                 0      M  госслужащий     0   \n",
       "82        женат / замужем                 0      F    сотрудник     0   \n",
       "83        женат / замужем                 0      M    сотрудник     0   \n",
       "\n",
       "    total_income                                purpose  \n",
       "12           NaN                        сыграть свадьбу  \n",
       "26           NaN                            образование  \n",
       "29           NaN       строительство жилой недвижимости  \n",
       "41           NaN       сделка с подержанным автомобилем  \n",
       "55           NaN                        сыграть свадьбу  \n",
       "65           NaN  операции с коммерческой недвижимостью  \n",
       "67           NaN                покупка жилья для семьи  \n",
       "72           NaN  операции с коммерческой недвижимостью  \n",
       "82           NaN                                  жилье  \n",
       "83           NaN                                  жилье  "
      ]
     },
     "execution_count": 135,
     "metadata": {},
     "output_type": "execute_result"
    }
   ],
   "source": [
    "# Проверим зависимость между пропусками\n",
    "df[df['days_employed'].isna()].head(10)"
   ]
  },
  {
   "cell_type": "markdown",
   "id": "415a9c09",
   "metadata": {},
   "source": [
    "Доля пропусков от общего количества данных для дохода и стажа будет одинакова. Найдем ее."
   ]
  },
  {
   "cell_type": "code",
   "execution_count": 136,
   "id": "6b0c42d4",
   "metadata": {},
   "outputs": [
    {
     "name": "stdout",
     "output_type": "stream",
     "text": [
      "Доля пропусков в данных о трудовом стаже и в данных о доходе составляет: 10.10%\n"
     ]
    }
   ],
   "source": [
    "# подсчёт доли пропусков от общего числа данных\n",
    "part_na = df['days_employed'].isna().mean()\n",
    "print(f'Доля пропусков в данных о трудовом стаже и в данных о доходе составляет: {part_na:.2%}')"
   ]
  },
  {
   "cell_type": "markdown",
   "id": "43f6674c",
   "metadata": {},
   "source": [
    "Наличие пропусков в данных о доходах напрямую связано с пропусками в данных о трудовом стаже. Вероятно, данные о трудовом стаже использовались для расчета информации о доходах.\n",
    "\n",
    "Данные о даходах необходимы нам для дальнейшего анализа. \n",
    "Для начала проверим, есть ли зависимось среднего и медиального уровня дохода от категории занятости."
   ]
  },
  {
   "cell_type": "code",
   "execution_count": 137,
   "id": "f6991772",
   "metadata": {},
   "outputs": [
    {
     "data": {
      "text/plain": [
       "сотрудник          11119\n",
       "компаньон           5085\n",
       "пенсионер           3856\n",
       "госслужащий         1459\n",
       "предприниматель        2\n",
       "безработный            2\n",
       "в декрете              1\n",
       "студент                1\n",
       "Name: income_type, dtype: int64"
      ]
     },
     "metadata": {},
     "output_type": "display_data"
    },
    {
     "data": {
      "text/plain": [
       "income_type\n",
       "безработный        131339.751676\n",
       "в декрете           53829.130729\n",
       "госслужащий        170898.309923\n",
       "компаньон          202417.461462\n",
       "пенсионер          137127.465690\n",
       "предприниматель    499163.144947\n",
       "сотрудник          161380.260488\n",
       "студент             98201.625314\n",
       "Name: total_income, dtype: float64"
      ]
     },
     "metadata": {},
     "output_type": "display_data"
    },
    {
     "data": {
      "text/plain": [
       "income_type\n",
       "безработный        131339.751676\n",
       "в декрете           53829.130729\n",
       "госслужащий        150447.935283\n",
       "компаньон          172357.950966\n",
       "пенсионер          118514.486412\n",
       "предприниматель    499163.144947\n",
       "сотрудник          142594.396847\n",
       "студент             98201.625314\n",
       "Name: total_income, dtype: float64"
      ]
     },
     "execution_count": 137,
     "metadata": {},
     "output_type": "execute_result"
    }
   ],
   "source": [
    "# смотрим распределение количества потенциальных заемщиков по типу занятости\n",
    "display(df['income_type'].value_counts())\n",
    "\n",
    "# смотрим среднее значение дохода для каждого типа занятости. Пропуски можно не удалять, т.к. метод mean() игнорирует их\n",
    "display(df.groupby('income_type')['total_income'].mean())\n",
    "\n",
    "# смотрим медиальное значение дохода для каждого типа занятости. Пропуски можно не удалять, т.к. метод median() игнорирует их\n",
    "df.groupby('income_type')['total_income'].median()"
   ]
  },
  {
   "cell_type": "markdown",
   "id": "b9d1d543",
   "metadata": {},
   "source": [
    "Средний и медиальный уровень дохода для разных типов звнятости сильно разнится. Чтобы получить минимальное искажение данных о даходах, заполним пропуски медиальными значениями по соответсвующей категории занятости."
   ]
  },
  {
   "cell_type": "code",
   "execution_count": 138,
   "id": "cf2e53f4",
   "metadata": {},
   "outputs": [],
   "source": [
    "# создаем список видов занятости\n",
    "income_types = list(df['income_type'].unique())\n",
    "\n",
    "# для каждого вида занятости в списке считаем медиальное значение и подставляем вместо пропусков\n",
    "for income_type in income_types:\n",
    "    means_to_replace = df[df['income_type'] == income_type]['total_income']\n",
    "    median_total_income = means_to_replace.median()\n",
    "    df.loc[df['income_type'] == income_type, 'total_income'] = means_to_replace.fillna(median_total_income)"
   ]
  },
  {
   "cell_type": "code",
   "execution_count": 139,
   "id": "731cdbeb",
   "metadata": {},
   "outputs": [
    {
     "name": "stdout",
     "output_type": "stream",
     "text": [
      "children               0\n",
      "days_employed       2174\n",
      "dob_years              0\n",
      "education              0\n",
      "education_id           0\n",
      "family_status          0\n",
      "family_status_id       0\n",
      "gender                 0\n",
      "income_type            0\n",
      "debt                   0\n",
      "total_income           0\n",
      "purpose                0\n",
      "dtype: int64\n"
     ]
    }
   ],
   "source": [
    "# проверяем число пропусков\n",
    "print(df.isna().sum())"
   ]
  },
  {
   "cell_type": "code",
   "execution_count": 140,
   "id": "2f96bdc4",
   "metadata": {},
   "outputs": [
    {
     "name": "stdout",
     "output_type": "stream",
     "text": [
      "children                           0\n",
      "days_employed                    NaN\n",
      "dob_years                         65\n",
      "education                    среднее\n",
      "education_id                       1\n",
      "family_status       гражданский брак\n",
      "family_status_id                   1\n",
      "gender                             M\n",
      "income_type                пенсионер\n",
      "debt                               0\n",
      "total_income           118514.486412\n",
      "purpose              сыграть свадьбу\n",
      "Name: 12, dtype: object\n",
      "children                          0\n",
      "days_employed                   NaN\n",
      "dob_years                        41\n",
      "education                   среднее\n",
      "education_id                      1\n",
      "family_status       женат / замужем\n",
      "family_status_id                  0\n",
      "gender                            M\n",
      "income_type             госслужащий\n",
      "debt                              0\n",
      "total_income          150447.935283\n",
      "purpose                 образование\n",
      "Name: 26, dtype: object\n"
     ]
    }
   ],
   "source": [
    "# сверяем значение с медиальным на примере строк 12 и 26 для пенсионера (118514.486412) и госслужащего (150447.935283)\n",
    "print(df.loc[12])\n",
    "print(df.loc[26])"
   ]
  },
  {
   "cell_type": "markdown",
   "id": "edc24585",
   "metadata": {},
   "source": [
    "Пропуски в столбце `total_income` успешно заменены на медиальные значения по типу занятости `income_type` и могут быть использованы для дальнейших расчетов."
   ]
  },
  {
   "cell_type": "markdown",
   "id": "bdc1174c",
   "metadata": {},
   "source": [
    "## Шаг 2.2 Проверка данных на аномалии и исправления."
   ]
  },
  {
   "cell_type": "markdown",
   "id": "50324672",
   "metadata": {},
   "source": [
    "В столбце `days_employed` в большом количестве присутствуют отрицательные значения рабочего стажа. При этом положительные значения выглядят нереалистично.\n",
    "\n",
    "Чтобы оценить адекватность данных, переведем значения в годы."
   ]
  },
  {
   "cell_type": "code",
   "execution_count": 141,
   "id": "65f8998e",
   "metadata": {},
   "outputs": [
    {
     "data": {
      "text/html": [
       "<div>\n",
       "<style scoped>\n",
       "    .dataframe tbody tr th:only-of-type {\n",
       "        vertical-align: middle;\n",
       "    }\n",
       "\n",
       "    .dataframe tbody tr th {\n",
       "        vertical-align: top;\n",
       "    }\n",
       "\n",
       "    .dataframe thead th {\n",
       "        text-align: right;\n",
       "    }\n",
       "</style>\n",
       "<table border=\"1\" class=\"dataframe\">\n",
       "  <thead>\n",
       "    <tr style=\"text-align: right;\">\n",
       "      <th></th>\n",
       "      <th>days_employed</th>\n",
       "      <th>days_employed_years</th>\n",
       "      <th>dob_years</th>\n",
       "      <th>income_type</th>\n",
       "    </tr>\n",
       "  </thead>\n",
       "  <tbody>\n",
       "    <tr>\n",
       "      <th>0</th>\n",
       "      <td>-8437.673028</td>\n",
       "      <td>-23.116912</td>\n",
       "      <td>42</td>\n",
       "      <td>сотрудник</td>\n",
       "    </tr>\n",
       "    <tr>\n",
       "      <th>1</th>\n",
       "      <td>-4024.803754</td>\n",
       "      <td>-11.026860</td>\n",
       "      <td>36</td>\n",
       "      <td>сотрудник</td>\n",
       "    </tr>\n",
       "    <tr>\n",
       "      <th>2</th>\n",
       "      <td>-5623.422610</td>\n",
       "      <td>-15.406637</td>\n",
       "      <td>33</td>\n",
       "      <td>сотрудник</td>\n",
       "    </tr>\n",
       "    <tr>\n",
       "      <th>3</th>\n",
       "      <td>-4124.747207</td>\n",
       "      <td>-11.300677</td>\n",
       "      <td>32</td>\n",
       "      <td>сотрудник</td>\n",
       "    </tr>\n",
       "    <tr>\n",
       "      <th>4</th>\n",
       "      <td>340266.072047</td>\n",
       "      <td>932.235814</td>\n",
       "      <td>53</td>\n",
       "      <td>пенсионер</td>\n",
       "    </tr>\n",
       "    <tr>\n",
       "      <th>5</th>\n",
       "      <td>-926.185831</td>\n",
       "      <td>-2.537495</td>\n",
       "      <td>27</td>\n",
       "      <td>компаньон</td>\n",
       "    </tr>\n",
       "    <tr>\n",
       "      <th>6</th>\n",
       "      <td>-2879.202052</td>\n",
       "      <td>-7.888225</td>\n",
       "      <td>43</td>\n",
       "      <td>компаньон</td>\n",
       "    </tr>\n",
       "    <tr>\n",
       "      <th>7</th>\n",
       "      <td>-152.779569</td>\n",
       "      <td>-0.418574</td>\n",
       "      <td>50</td>\n",
       "      <td>сотрудник</td>\n",
       "    </tr>\n",
       "    <tr>\n",
       "      <th>8</th>\n",
       "      <td>-6929.865299</td>\n",
       "      <td>-18.985932</td>\n",
       "      <td>35</td>\n",
       "      <td>сотрудник</td>\n",
       "    </tr>\n",
       "    <tr>\n",
       "      <th>9</th>\n",
       "      <td>-2188.756445</td>\n",
       "      <td>-5.996593</td>\n",
       "      <td>41</td>\n",
       "      <td>сотрудник</td>\n",
       "    </tr>\n",
       "    <tr>\n",
       "      <th>10</th>\n",
       "      <td>-4171.483647</td>\n",
       "      <td>-11.428722</td>\n",
       "      <td>36</td>\n",
       "      <td>компаньон</td>\n",
       "    </tr>\n",
       "    <tr>\n",
       "      <th>11</th>\n",
       "      <td>-792.701887</td>\n",
       "      <td>-2.171786</td>\n",
       "      <td>40</td>\n",
       "      <td>сотрудник</td>\n",
       "    </tr>\n",
       "    <tr>\n",
       "      <th>12</th>\n",
       "      <td>NaN</td>\n",
       "      <td>NaN</td>\n",
       "      <td>65</td>\n",
       "      <td>пенсионер</td>\n",
       "    </tr>\n",
       "    <tr>\n",
       "      <th>13</th>\n",
       "      <td>-1846.641941</td>\n",
       "      <td>-5.059293</td>\n",
       "      <td>54</td>\n",
       "      <td>сотрудник</td>\n",
       "    </tr>\n",
       "    <tr>\n",
       "      <th>14</th>\n",
       "      <td>-1844.956182</td>\n",
       "      <td>-5.054674</td>\n",
       "      <td>56</td>\n",
       "      <td>компаньон</td>\n",
       "    </tr>\n",
       "    <tr>\n",
       "      <th>15</th>\n",
       "      <td>-972.364419</td>\n",
       "      <td>-2.664012</td>\n",
       "      <td>26</td>\n",
       "      <td>сотрудник</td>\n",
       "    </tr>\n",
       "    <tr>\n",
       "      <th>16</th>\n",
       "      <td>-1719.934226</td>\n",
       "      <td>-4.712149</td>\n",
       "      <td>35</td>\n",
       "      <td>сотрудник</td>\n",
       "    </tr>\n",
       "    <tr>\n",
       "      <th>17</th>\n",
       "      <td>-2369.999720</td>\n",
       "      <td>-6.493150</td>\n",
       "      <td>33</td>\n",
       "      <td>сотрудник</td>\n",
       "    </tr>\n",
       "    <tr>\n",
       "      <th>18</th>\n",
       "      <td>400281.136913</td>\n",
       "      <td>1096.660649</td>\n",
       "      <td>53</td>\n",
       "      <td>пенсионер</td>\n",
       "    </tr>\n",
       "    <tr>\n",
       "      <th>19</th>\n",
       "      <td>-10038.818549</td>\n",
       "      <td>-27.503612</td>\n",
       "      <td>48</td>\n",
       "      <td>сотрудник</td>\n",
       "    </tr>\n",
       "  </tbody>\n",
       "</table>\n",
       "</div>"
      ],
      "text/plain": [
       "    days_employed  days_employed_years  dob_years income_type\n",
       "0    -8437.673028           -23.116912         42   сотрудник\n",
       "1    -4024.803754           -11.026860         36   сотрудник\n",
       "2    -5623.422610           -15.406637         33   сотрудник\n",
       "3    -4124.747207           -11.300677         32   сотрудник\n",
       "4   340266.072047           932.235814         53   пенсионер\n",
       "5     -926.185831            -2.537495         27   компаньон\n",
       "6    -2879.202052            -7.888225         43   компаньон\n",
       "7     -152.779569            -0.418574         50   сотрудник\n",
       "8    -6929.865299           -18.985932         35   сотрудник\n",
       "9    -2188.756445            -5.996593         41   сотрудник\n",
       "10   -4171.483647           -11.428722         36   компаньон\n",
       "11    -792.701887            -2.171786         40   сотрудник\n",
       "12            NaN                  NaN         65   пенсионер\n",
       "13   -1846.641941            -5.059293         54   сотрудник\n",
       "14   -1844.956182            -5.054674         56   компаньон\n",
       "15    -972.364419            -2.664012         26   сотрудник\n",
       "16   -1719.934226            -4.712149         35   сотрудник\n",
       "17   -2369.999720            -6.493150         33   сотрудник\n",
       "18  400281.136913          1096.660649         53   пенсионер\n",
       "19  -10038.818549           -27.503612         48   сотрудник"
      ]
     },
     "execution_count": 141,
     "metadata": {},
     "output_type": "execute_result"
    }
   ],
   "source": [
    "df['days_employed_years'] = df['days_employed'] / 365\n",
    "df.loc[:, ['days_employed', 'days_employed_years', 'dob_years', 'income_type']].head(20)"
   ]
  },
  {
   "cell_type": "markdown",
   "id": "3b4c5785",
   "metadata": {},
   "source": [
    "Значения в столбце `days_employed_years` выглядят адекватно для возраста и занятости клиента, если брать их по модулю. Ошибка со знаком могла возникнуть в результате расчетов, если в формуле из дня начала работы вычитали текщий день (т.е. из меньшего большее).\n",
    "\n",
    "Интереснее дело обстоит с положительными значениями (аномалиями). Они могли возникнуть в результате разного форматирования дат, если данные не привели к общему формату. Или по какой-то причине быть завышены в 100 раз. В любом случае, установить истинную причину без исходных данных не удастся.\n",
    "\n",
    "Данный столбец не будет использоваться для проверки гипотез и не требуется для дальнейших расчетов. Заниматься его преобработкой нецелесообразно. Он может быть просто удален без потери важных данных. Однако поставлена задача привести его значения к нормальному виду. Поэтому мы можем поступить с данными в столбце следующим образом:\n",
    "1. Заменить аномалии на медиальные значения.\n",
    "2. Заменить значения в столбце на их модули.\n",
    "2. Заменить пропуски на медиальные значения."
   ]
  },
  {
   "cell_type": "code",
   "execution_count": 142,
   "id": "5bf7178f",
   "metadata": {},
   "outputs": [],
   "source": [
    "# сначала удалим лишний столбец, использованный для обзора данных\n",
    "df = df.drop('days_employed_years', axis=1)"
   ]
  },
  {
   "cell_type": "code",
   "execution_count": 143,
   "id": "d57c2dd8",
   "metadata": {},
   "outputs": [],
   "source": [
    "# расчитываем медиальное значение\n",
    "days_employed_median = df.loc[df['days_employed'] < 0, 'days_employed'].median()\n",
    "\n",
    "# заменяем аномалии медиальными значениями\n",
    "df.loc[df['days_employed'] > 0, 'days_employed'] = days_employed_median\n",
    "\n",
    "# заменяем пропуски на медиальные значения\n",
    "df['days_employed'] = df['days_employed'].fillna(days_employed_median)\n",
    "\n",
    "# заменяем отрицательные значения на положительные\n",
    "df['days_employed'] = abs(df['days_employed'])"
   ]
  },
  {
   "cell_type": "code",
   "execution_count": 144,
   "id": "36e8aec1",
   "metadata": {},
   "outputs": [
    {
     "name": "stdout",
     "output_type": "stream",
     "text": [
      "<class 'pandas.core.frame.DataFrame'>\n",
      "RangeIndex: 21525 entries, 0 to 21524\n",
      "Data columns (total 12 columns):\n",
      " #   Column            Non-Null Count  Dtype  \n",
      "---  ------            --------------  -----  \n",
      " 0   children          21525 non-null  int64  \n",
      " 1   days_employed     21525 non-null  float64\n",
      " 2   dob_years         21525 non-null  int64  \n",
      " 3   education         21525 non-null  object \n",
      " 4   education_id      21525 non-null  int64  \n",
      " 5   family_status     21525 non-null  object \n",
      " 6   family_status_id  21525 non-null  int64  \n",
      " 7   gender            21525 non-null  object \n",
      " 8   income_type       21525 non-null  object \n",
      " 9   debt              21525 non-null  int64  \n",
      " 10  total_income      21525 non-null  float64\n",
      " 11  purpose           21525 non-null  object \n",
      "dtypes: float64(2), int64(5), object(5)\n",
      "memory usage: 2.0+ MB\n",
      "None\n"
     ]
    },
    {
     "data": {
      "text/html": [
       "<div>\n",
       "<style scoped>\n",
       "    .dataframe tbody tr th:only-of-type {\n",
       "        vertical-align: middle;\n",
       "    }\n",
       "\n",
       "    .dataframe tbody tr th {\n",
       "        vertical-align: top;\n",
       "    }\n",
       "\n",
       "    .dataframe thead th {\n",
       "        text-align: right;\n",
       "    }\n",
       "</style>\n",
       "<table border=\"1\" class=\"dataframe\">\n",
       "  <thead>\n",
       "    <tr style=\"text-align: right;\">\n",
       "      <th></th>\n",
       "      <th>children</th>\n",
       "      <th>days_employed</th>\n",
       "      <th>dob_years</th>\n",
       "      <th>education</th>\n",
       "      <th>education_id</th>\n",
       "      <th>family_status</th>\n",
       "      <th>family_status_id</th>\n",
       "      <th>gender</th>\n",
       "      <th>income_type</th>\n",
       "      <th>debt</th>\n",
       "      <th>total_income</th>\n",
       "      <th>purpose</th>\n",
       "    </tr>\n",
       "  </thead>\n",
       "  <tbody>\n",
       "    <tr>\n",
       "      <th>0</th>\n",
       "      <td>1</td>\n",
       "      <td>8437.673028</td>\n",
       "      <td>42</td>\n",
       "      <td>высшее</td>\n",
       "      <td>0</td>\n",
       "      <td>женат / замужем</td>\n",
       "      <td>0</td>\n",
       "      <td>F</td>\n",
       "      <td>сотрудник</td>\n",
       "      <td>0</td>\n",
       "      <td>253875.639453</td>\n",
       "      <td>покупка жилья</td>\n",
       "    </tr>\n",
       "    <tr>\n",
       "      <th>1</th>\n",
       "      <td>1</td>\n",
       "      <td>4024.803754</td>\n",
       "      <td>36</td>\n",
       "      <td>среднее</td>\n",
       "      <td>1</td>\n",
       "      <td>женат / замужем</td>\n",
       "      <td>0</td>\n",
       "      <td>F</td>\n",
       "      <td>сотрудник</td>\n",
       "      <td>0</td>\n",
       "      <td>112080.014102</td>\n",
       "      <td>приобретение автомобиля</td>\n",
       "    </tr>\n",
       "    <tr>\n",
       "      <th>2</th>\n",
       "      <td>0</td>\n",
       "      <td>5623.422610</td>\n",
       "      <td>33</td>\n",
       "      <td>Среднее</td>\n",
       "      <td>1</td>\n",
       "      <td>женат / замужем</td>\n",
       "      <td>0</td>\n",
       "      <td>M</td>\n",
       "      <td>сотрудник</td>\n",
       "      <td>0</td>\n",
       "      <td>145885.952297</td>\n",
       "      <td>покупка жилья</td>\n",
       "    </tr>\n",
       "    <tr>\n",
       "      <th>3</th>\n",
       "      <td>3</td>\n",
       "      <td>4124.747207</td>\n",
       "      <td>32</td>\n",
       "      <td>среднее</td>\n",
       "      <td>1</td>\n",
       "      <td>женат / замужем</td>\n",
       "      <td>0</td>\n",
       "      <td>M</td>\n",
       "      <td>сотрудник</td>\n",
       "      <td>0</td>\n",
       "      <td>267628.550329</td>\n",
       "      <td>дополнительное образование</td>\n",
       "    </tr>\n",
       "    <tr>\n",
       "      <th>4</th>\n",
       "      <td>0</td>\n",
       "      <td>1630.019381</td>\n",
       "      <td>53</td>\n",
       "      <td>среднее</td>\n",
       "      <td>1</td>\n",
       "      <td>гражданский брак</td>\n",
       "      <td>1</td>\n",
       "      <td>F</td>\n",
       "      <td>пенсионер</td>\n",
       "      <td>0</td>\n",
       "      <td>158616.077870</td>\n",
       "      <td>сыграть свадьбу</td>\n",
       "    </tr>\n",
       "    <tr>\n",
       "      <th>5</th>\n",
       "      <td>0</td>\n",
       "      <td>926.185831</td>\n",
       "      <td>27</td>\n",
       "      <td>высшее</td>\n",
       "      <td>0</td>\n",
       "      <td>гражданский брак</td>\n",
       "      <td>1</td>\n",
       "      <td>M</td>\n",
       "      <td>компаньон</td>\n",
       "      <td>0</td>\n",
       "      <td>255763.565419</td>\n",
       "      <td>покупка жилья</td>\n",
       "    </tr>\n",
       "    <tr>\n",
       "      <th>6</th>\n",
       "      <td>0</td>\n",
       "      <td>2879.202052</td>\n",
       "      <td>43</td>\n",
       "      <td>высшее</td>\n",
       "      <td>0</td>\n",
       "      <td>женат / замужем</td>\n",
       "      <td>0</td>\n",
       "      <td>F</td>\n",
       "      <td>компаньон</td>\n",
       "      <td>0</td>\n",
       "      <td>240525.971920</td>\n",
       "      <td>операции с жильем</td>\n",
       "    </tr>\n",
       "    <tr>\n",
       "      <th>7</th>\n",
       "      <td>0</td>\n",
       "      <td>152.779569</td>\n",
       "      <td>50</td>\n",
       "      <td>СРЕДНЕЕ</td>\n",
       "      <td>1</td>\n",
       "      <td>женат / замужем</td>\n",
       "      <td>0</td>\n",
       "      <td>M</td>\n",
       "      <td>сотрудник</td>\n",
       "      <td>0</td>\n",
       "      <td>135823.934197</td>\n",
       "      <td>образование</td>\n",
       "    </tr>\n",
       "    <tr>\n",
       "      <th>8</th>\n",
       "      <td>2</td>\n",
       "      <td>6929.865299</td>\n",
       "      <td>35</td>\n",
       "      <td>ВЫСШЕЕ</td>\n",
       "      <td>0</td>\n",
       "      <td>гражданский брак</td>\n",
       "      <td>1</td>\n",
       "      <td>F</td>\n",
       "      <td>сотрудник</td>\n",
       "      <td>0</td>\n",
       "      <td>95856.832424</td>\n",
       "      <td>на проведение свадьбы</td>\n",
       "    </tr>\n",
       "    <tr>\n",
       "      <th>9</th>\n",
       "      <td>0</td>\n",
       "      <td>2188.756445</td>\n",
       "      <td>41</td>\n",
       "      <td>среднее</td>\n",
       "      <td>1</td>\n",
       "      <td>женат / замужем</td>\n",
       "      <td>0</td>\n",
       "      <td>M</td>\n",
       "      <td>сотрудник</td>\n",
       "      <td>0</td>\n",
       "      <td>144425.938277</td>\n",
       "      <td>покупка жилья для семьи</td>\n",
       "    </tr>\n",
       "  </tbody>\n",
       "</table>\n",
       "</div>"
      ],
      "text/plain": [
       "   children  days_employed  dob_years education  education_id  \\\n",
       "0         1    8437.673028         42    высшее             0   \n",
       "1         1    4024.803754         36   среднее             1   \n",
       "2         0    5623.422610         33   Среднее             1   \n",
       "3         3    4124.747207         32   среднее             1   \n",
       "4         0    1630.019381         53   среднее             1   \n",
       "5         0     926.185831         27    высшее             0   \n",
       "6         0    2879.202052         43    высшее             0   \n",
       "7         0     152.779569         50   СРЕДНЕЕ             1   \n",
       "8         2    6929.865299         35    ВЫСШЕЕ             0   \n",
       "9         0    2188.756445         41   среднее             1   \n",
       "\n",
       "      family_status  family_status_id gender income_type  debt   total_income  \\\n",
       "0   женат / замужем                 0      F   сотрудник     0  253875.639453   \n",
       "1   женат / замужем                 0      F   сотрудник     0  112080.014102   \n",
       "2   женат / замужем                 0      M   сотрудник     0  145885.952297   \n",
       "3   женат / замужем                 0      M   сотрудник     0  267628.550329   \n",
       "4  гражданский брак                 1      F   пенсионер     0  158616.077870   \n",
       "5  гражданский брак                 1      M   компаньон     0  255763.565419   \n",
       "6   женат / замужем                 0      F   компаньон     0  240525.971920   \n",
       "7   женат / замужем                 0      M   сотрудник     0  135823.934197   \n",
       "8  гражданский брак                 1      F   сотрудник     0   95856.832424   \n",
       "9   женат / замужем                 0      M   сотрудник     0  144425.938277   \n",
       "\n",
       "                      purpose  \n",
       "0               покупка жилья  \n",
       "1     приобретение автомобиля  \n",
       "2               покупка жилья  \n",
       "3  дополнительное образование  \n",
       "4             сыграть свадьбу  \n",
       "5               покупка жилья  \n",
       "6           операции с жильем  \n",
       "7                 образование  \n",
       "8       на проведение свадьбы  \n",
       "9     покупка жилья для семьи  "
      ]
     },
     "execution_count": 144,
     "metadata": {},
     "output_type": "execute_result"
    }
   ],
   "source": [
    "# проверяем результат замены\n",
    "print(df.info())\n",
    "df.head(10)"
   ]
  },
  {
   "cell_type": "markdown",
   "id": "83a9a607",
   "metadata": {},
   "source": [
    "Данные в столбце `days_employed` успешно преобразованы."
   ]
  },
  {
   "cell_type": "code",
   "execution_count": 145,
   "id": "8f9ad8a4",
   "metadata": {},
   "outputs": [
    {
     "data": {
      "text/plain": [
       "66    183\n",
       "22    183\n",
       "67    167\n",
       "21    111\n",
       "0     101\n",
       "68     99\n",
       "69     85\n",
       "70     65\n",
       "71     58\n",
       "20     51\n",
       "72     33\n",
       "19     14\n",
       "73      8\n",
       "74      6\n",
       "75      1\n",
       "Name: dob_years, dtype: int64"
      ]
     },
     "execution_count": 145,
     "metadata": {},
     "output_type": "execute_result"
    }
   ],
   "source": [
    "df['dob_years'].value_counts().tail(15)"
   ]
  },
  {
   "cell_type": "markdown",
   "id": "e895ac6e",
   "metadata": {},
   "source": [
    "В столбце `dob_years` присутствует 101 строка со значением 0. Возраст клиента не может быть равен 0. Скорее всего, отсутсвующие данные в этом столбце были заменены на 0.\n",
    "\n",
    "Данный столбец не будет использоваться для проверки гипотез и не требуется для дальнейших расчетов. Заниматься его преобработкой нецелесообразно, поэтому оставим его в исходном виде."
   ]
  },
  {
   "cell_type": "markdown",
   "id": "6dd381b0",
   "metadata": {},
   "source": [
    "## Шаг 2.3. Изменение типов данных."
   ]
  },
  {
   "cell_type": "markdown",
   "id": "ff0258eb",
   "metadata": {},
   "source": [
    "Для удобства и лаконичности заменим тип данных в столбцах `days_employed` и `total_income` на int."
   ]
  },
  {
   "cell_type": "code",
   "execution_count": 146,
   "id": "8ae62bb6",
   "metadata": {},
   "outputs": [
    {
     "name": "stdout",
     "output_type": "stream",
     "text": [
      "<class 'pandas.core.frame.DataFrame'>\n",
      "RangeIndex: 21525 entries, 0 to 21524\n",
      "Data columns (total 12 columns):\n",
      " #   Column            Non-Null Count  Dtype \n",
      "---  ------            --------------  ----- \n",
      " 0   children          21525 non-null  int64 \n",
      " 1   days_employed     21525 non-null  int32 \n",
      " 2   dob_years         21525 non-null  int64 \n",
      " 3   education         21525 non-null  object\n",
      " 4   education_id      21525 non-null  int64 \n",
      " 5   family_status     21525 non-null  object\n",
      " 6   family_status_id  21525 non-null  int64 \n",
      " 7   gender            21525 non-null  object\n",
      " 8   income_type       21525 non-null  object\n",
      " 9   debt              21525 non-null  int64 \n",
      " 10  total_income      21525 non-null  int32 \n",
      " 11  purpose           21525 non-null  object\n",
      "dtypes: int32(2), int64(5), object(5)\n",
      "memory usage: 1.8+ MB\n"
     ]
    }
   ],
   "source": [
    "# замена типа данных\n",
    "df['days_employed'] = df['days_employed'].astype(int)\n",
    "df['total_income'] = df['total_income'].astype(int)\n",
    "\n",
    "# проверка результата\n",
    "df.info()"
   ]
  },
  {
   "cell_type": "markdown",
   "id": "aa71a6bb",
   "metadata": {},
   "source": [
    "Успешно."
   ]
  },
  {
   "cell_type": "markdown",
   "id": "af4e6904",
   "metadata": {},
   "source": [
    "## Шаг 2.4. Удаление дубликатов."
   ]
  },
  {
   "cell_type": "markdown",
   "id": "0fc72c9b",
   "metadata": {},
   "source": [
    "Проверим таблицу на наличие явных дубликатов. "
   ]
  },
  {
   "cell_type": "code",
   "execution_count": 147,
   "id": "676e74a0",
   "metadata": {},
   "outputs": [
    {
     "data": {
      "text/plain": [
       "54"
      ]
     },
     "execution_count": 147,
     "metadata": {},
     "output_type": "execute_result"
    }
   ],
   "source": [
    "# посчет количества явных дубликатов в таблице\n",
    "df.duplicated().sum()"
   ]
  },
  {
   "cell_type": "markdown",
   "id": "14d92a5d",
   "metadata": {},
   "source": [
    "Удалим их."
   ]
  },
  {
   "cell_type": "code",
   "execution_count": 148,
   "id": "21e3139f",
   "metadata": {},
   "outputs": [],
   "source": [
    "# удаление явных дубликатов (с удалением старых индексов и формированием новых)\n",
    "df = df.drop_duplicates().reset_index(drop=True)"
   ]
  },
  {
   "cell_type": "markdown",
   "id": "ff494cee",
   "metadata": {},
   "source": [
    "Убедимся, что явных дубликтов не осталось."
   ]
  },
  {
   "cell_type": "code",
   "execution_count": 149,
   "id": "66183f2e",
   "metadata": {},
   "outputs": [
    {
     "data": {
      "text/plain": [
       "0"
      ]
     },
     "execution_count": 149,
     "metadata": {},
     "output_type": "execute_result"
    }
   ],
   "source": [
    "df.duplicated().sum()"
   ]
  },
  {
   "cell_type": "markdown",
   "id": "7b79a732",
   "metadata": {},
   "source": [
    "Теперь необходимо устранить неявные дубликаты. Проверим все столбцы на наличие неявных дублекатов."
   ]
  },
  {
   "cell_type": "code",
   "execution_count": 150,
   "id": "4ce05a5c",
   "metadata": {},
   "outputs": [
    {
     "name": "stdout",
     "output_type": "stream",
     "text": [
      "Список значений в столбце children:\n",
      " 0     14107\n",
      " 1      4809\n",
      " 2      2052\n",
      " 3       330\n",
      " 20       76\n",
      "-1        47\n",
      " 4        41\n",
      " 5         9\n",
      "Name: children, dtype: int64\n",
      "Список значений в столбце days_employed:\n",
      "1630    5570\n",
      "133       16\n",
      "327       16\n",
      "438       15\n",
      "204       14\n",
      "        ... \n",
      "7076       1\n",
      "5029       1\n",
      "5045       1\n",
      "2998       1\n",
      "6235       1\n",
      "Name: days_employed, Length: 5716, dtype: int64\n",
      "Список значений в столбце dob_years:\n",
      "35    616\n",
      "40    607\n",
      "41    606\n",
      "34    601\n",
      "38    597\n",
      "42    596\n",
      "33    581\n",
      "39    572\n",
      "31    559\n",
      "36    554\n",
      "44    545\n",
      "29    544\n",
      "30    538\n",
      "48    537\n",
      "37    536\n",
      "50    513\n",
      "43    512\n",
      "32    509\n",
      "49    508\n",
      "28    503\n",
      "45    497\n",
      "27    493\n",
      "52    484\n",
      "56    484\n",
      "47    477\n",
      "54    476\n",
      "46    473\n",
      "53    459\n",
      "57    456\n",
      "58    456\n",
      "51    448\n",
      "59    443\n",
      "55    443\n",
      "26    408\n",
      "60    374\n",
      "25    357\n",
      "61    354\n",
      "62    349\n",
      "63    269\n",
      "24    264\n",
      "64    262\n",
      "23    253\n",
      "65    194\n",
      "22    183\n",
      "66    182\n",
      "67    167\n",
      "21    111\n",
      "0     101\n",
      "68     99\n",
      "69     85\n",
      "70     65\n",
      "71     58\n",
      "20     51\n",
      "72     33\n",
      "19     14\n",
      "73      8\n",
      "74      6\n",
      "75      1\n",
      "Name: dob_years, dtype: int64\n",
      "Список значений в столбце education:\n",
      "среднее                13705\n",
      "высшее                  4710\n",
      "СРЕДНЕЕ                  772\n",
      "Среднее                  711\n",
      "неоконченное высшее      668\n",
      "ВЫСШЕЕ                   273\n",
      "Высшее                   268\n",
      "начальное                250\n",
      "Неоконченное высшее       47\n",
      "НЕОКОНЧЕННОЕ ВЫСШЕЕ       29\n",
      "НАЧАЛЬНОЕ                 17\n",
      "Начальное                 15\n",
      "ученая степень             4\n",
      "Ученая степень             1\n",
      "УЧЕНАЯ СТЕПЕНЬ             1\n",
      "Name: education, dtype: int64\n",
      "Список значений в столбце education_id:\n",
      "1    15188\n",
      "0     5251\n",
      "2      744\n",
      "3      282\n",
      "4        6\n",
      "Name: education_id, dtype: int64\n",
      "Список значений в столбце family_status:\n",
      "женат / замужем          12344\n",
      "гражданский брак          4163\n",
      "Не женат / не замужем     2810\n",
      "в разводе                 1195\n",
      "вдовец / вдова             959\n",
      "Name: family_status, dtype: int64\n",
      "Список значений в столбце family_status_id:\n",
      "0    12344\n",
      "1     4163\n",
      "4     2810\n",
      "3     1195\n",
      "2      959\n",
      "Name: family_status_id, dtype: int64\n",
      "Список значений в столбце gender:\n",
      "F      14189\n",
      "M       7281\n",
      "XNA        1\n",
      "Name: gender, dtype: int64\n",
      "Список значений в столбце income_type:\n",
      "сотрудник          11091\n",
      "компаньон           5080\n",
      "пенсионер           3837\n",
      "госслужащий         1457\n",
      "предприниматель        2\n",
      "безработный            2\n",
      "в декрете              1\n",
      "студент                1\n",
      "Name: income_type, dtype: int64\n",
      "Список значений в столбце debt:\n",
      "0    19730\n",
      "1     1741\n",
      "Name: debt, dtype: int64\n",
      "Список значений в столбце total_income:\n",
      "142594    1077\n",
      "172357     504\n",
      "118514     395\n",
      "150447     145\n",
      "144533       3\n",
      "          ... \n",
      "179138       1\n",
      "61724        1\n",
      "99269        1\n",
      "151371       1\n",
      "126820       1\n",
      "Name: total_income, Length: 18608, dtype: int64\n",
      "Список значений в столбце purpose:\n",
      "свадьба                                   793\n",
      "на проведение свадьбы                     773\n",
      "сыграть свадьбу                           769\n",
      "операции с недвижимостью                  675\n",
      "покупка коммерческой недвижимости         662\n",
      "операции с жильем                         652\n",
      "покупка жилья для сдачи                   652\n",
      "операции с коммерческой недвижимостью     650\n",
      "покупка жилья                             646\n",
      "жилье                                     646\n",
      "покупка жилья для семьи                   638\n",
      "строительство собственной недвижимости    635\n",
      "недвижимость                              633\n",
      "операции со своей недвижимостью           627\n",
      "строительство жилой недвижимости          625\n",
      "покупка недвижимости                      621\n",
      "покупка своего жилья                      620\n",
      "строительство недвижимости                619\n",
      "ремонт жилью                              607\n",
      "покупка жилой недвижимости                606\n",
      "на покупку своего автомобиля              505\n",
      "заняться высшим образованием              496\n",
      "автомобиль                                494\n",
      "сделка с подержанным автомобилем          486\n",
      "свой автомобиль                           479\n",
      "автомобили                                478\n",
      "на покупку подержанного автомобиля        478\n",
      "на покупку автомобиля                     472\n",
      "приобретение автомобиля                   461\n",
      "дополнительное образование                460\n",
      "сделка с автомобилем                      455\n",
      "высшее образование                        452\n",
      "получение дополнительного образования     447\n",
      "образование                               447\n",
      "получение образования                     442\n",
      "профильное образование                    436\n",
      "получение высшего образования             426\n",
      "заняться образованием                     408\n",
      "Name: purpose, dtype: int64\n"
     ]
    }
   ],
   "source": [
    "# создадим список названий колонок\n",
    "df_columns = df.columns\n",
    "\n",
    "# создадим цикл для проверки значений\n",
    "for column in df_columns:\n",
    "    print(f'Список значений в столбце {column}:')\n",
    "    print(df[column].value_counts())"
   ]
  },
  {
   "cell_type": "markdown",
   "id": "07ec978e",
   "metadata": {},
   "source": [
    "* В столбце `education` присутсвуют одни и те же значения в разном регистре.\n",
    "* В столбце `purpose` присутсвуют большое количество смысловых дубликатов, которые могли возникнуть в результате заполлнения анкеты клиентами.\n",
    "* В столбце `children` присутсвуют отрицательные значение, а также подозрительно большое количество значений 20.\n",
    "* В столбце `gender` присутсвует небинарное значение."
   ]
  },
  {
   "cell_type": "markdown",
   "id": "685ed82a",
   "metadata": {},
   "source": [
    "Сначала разберемся со столбцом столбце `education`. Приведем значения к одному регистру."
   ]
  },
  {
   "cell_type": "code",
   "execution_count": 151,
   "id": "fb697e3b",
   "metadata": {},
   "outputs": [
    {
     "data": {
      "text/html": [
       "<div>\n",
       "<style scoped>\n",
       "    .dataframe tbody tr th:only-of-type {\n",
       "        vertical-align: middle;\n",
       "    }\n",
       "\n",
       "    .dataframe tbody tr th {\n",
       "        vertical-align: top;\n",
       "    }\n",
       "\n",
       "    .dataframe thead th {\n",
       "        text-align: right;\n",
       "    }\n",
       "</style>\n",
       "<table border=\"1\" class=\"dataframe\">\n",
       "  <thead>\n",
       "    <tr style=\"text-align: right;\">\n",
       "      <th></th>\n",
       "      <th>children</th>\n",
       "      <th>days_employed</th>\n",
       "      <th>dob_years</th>\n",
       "      <th>education</th>\n",
       "      <th>education_id</th>\n",
       "      <th>family_status</th>\n",
       "      <th>family_status_id</th>\n",
       "      <th>gender</th>\n",
       "      <th>income_type</th>\n",
       "      <th>debt</th>\n",
       "      <th>total_income</th>\n",
       "      <th>purpose</th>\n",
       "    </tr>\n",
       "  </thead>\n",
       "  <tbody>\n",
       "    <tr>\n",
       "      <th>0</th>\n",
       "      <td>1</td>\n",
       "      <td>8437</td>\n",
       "      <td>42</td>\n",
       "      <td>высшее</td>\n",
       "      <td>0</td>\n",
       "      <td>женат / замужем</td>\n",
       "      <td>0</td>\n",
       "      <td>F</td>\n",
       "      <td>сотрудник</td>\n",
       "      <td>0</td>\n",
       "      <td>253875</td>\n",
       "      <td>покупка жилья</td>\n",
       "    </tr>\n",
       "    <tr>\n",
       "      <th>1</th>\n",
       "      <td>1</td>\n",
       "      <td>4024</td>\n",
       "      <td>36</td>\n",
       "      <td>среднее</td>\n",
       "      <td>1</td>\n",
       "      <td>женат / замужем</td>\n",
       "      <td>0</td>\n",
       "      <td>F</td>\n",
       "      <td>сотрудник</td>\n",
       "      <td>0</td>\n",
       "      <td>112080</td>\n",
       "      <td>приобретение автомобиля</td>\n",
       "    </tr>\n",
       "    <tr>\n",
       "      <th>2</th>\n",
       "      <td>0</td>\n",
       "      <td>5623</td>\n",
       "      <td>33</td>\n",
       "      <td>среднее</td>\n",
       "      <td>1</td>\n",
       "      <td>женат / замужем</td>\n",
       "      <td>0</td>\n",
       "      <td>M</td>\n",
       "      <td>сотрудник</td>\n",
       "      <td>0</td>\n",
       "      <td>145885</td>\n",
       "      <td>покупка жилья</td>\n",
       "    </tr>\n",
       "    <tr>\n",
       "      <th>3</th>\n",
       "      <td>3</td>\n",
       "      <td>4124</td>\n",
       "      <td>32</td>\n",
       "      <td>среднее</td>\n",
       "      <td>1</td>\n",
       "      <td>женат / замужем</td>\n",
       "      <td>0</td>\n",
       "      <td>M</td>\n",
       "      <td>сотрудник</td>\n",
       "      <td>0</td>\n",
       "      <td>267628</td>\n",
       "      <td>дополнительное образование</td>\n",
       "    </tr>\n",
       "    <tr>\n",
       "      <th>4</th>\n",
       "      <td>0</td>\n",
       "      <td>1630</td>\n",
       "      <td>53</td>\n",
       "      <td>среднее</td>\n",
       "      <td>1</td>\n",
       "      <td>гражданский брак</td>\n",
       "      <td>1</td>\n",
       "      <td>F</td>\n",
       "      <td>пенсионер</td>\n",
       "      <td>0</td>\n",
       "      <td>158616</td>\n",
       "      <td>сыграть свадьбу</td>\n",
       "    </tr>\n",
       "    <tr>\n",
       "      <th>5</th>\n",
       "      <td>0</td>\n",
       "      <td>926</td>\n",
       "      <td>27</td>\n",
       "      <td>высшее</td>\n",
       "      <td>0</td>\n",
       "      <td>гражданский брак</td>\n",
       "      <td>1</td>\n",
       "      <td>M</td>\n",
       "      <td>компаньон</td>\n",
       "      <td>0</td>\n",
       "      <td>255763</td>\n",
       "      <td>покупка жилья</td>\n",
       "    </tr>\n",
       "    <tr>\n",
       "      <th>6</th>\n",
       "      <td>0</td>\n",
       "      <td>2879</td>\n",
       "      <td>43</td>\n",
       "      <td>высшее</td>\n",
       "      <td>0</td>\n",
       "      <td>женат / замужем</td>\n",
       "      <td>0</td>\n",
       "      <td>F</td>\n",
       "      <td>компаньон</td>\n",
       "      <td>0</td>\n",
       "      <td>240525</td>\n",
       "      <td>операции с жильем</td>\n",
       "    </tr>\n",
       "    <tr>\n",
       "      <th>7</th>\n",
       "      <td>0</td>\n",
       "      <td>152</td>\n",
       "      <td>50</td>\n",
       "      <td>среднее</td>\n",
       "      <td>1</td>\n",
       "      <td>женат / замужем</td>\n",
       "      <td>0</td>\n",
       "      <td>M</td>\n",
       "      <td>сотрудник</td>\n",
       "      <td>0</td>\n",
       "      <td>135823</td>\n",
       "      <td>образование</td>\n",
       "    </tr>\n",
       "    <tr>\n",
       "      <th>8</th>\n",
       "      <td>2</td>\n",
       "      <td>6929</td>\n",
       "      <td>35</td>\n",
       "      <td>высшее</td>\n",
       "      <td>0</td>\n",
       "      <td>гражданский брак</td>\n",
       "      <td>1</td>\n",
       "      <td>F</td>\n",
       "      <td>сотрудник</td>\n",
       "      <td>0</td>\n",
       "      <td>95856</td>\n",
       "      <td>на проведение свадьбы</td>\n",
       "    </tr>\n",
       "    <tr>\n",
       "      <th>9</th>\n",
       "      <td>0</td>\n",
       "      <td>2188</td>\n",
       "      <td>41</td>\n",
       "      <td>среднее</td>\n",
       "      <td>1</td>\n",
       "      <td>женат / замужем</td>\n",
       "      <td>0</td>\n",
       "      <td>M</td>\n",
       "      <td>сотрудник</td>\n",
       "      <td>0</td>\n",
       "      <td>144425</td>\n",
       "      <td>покупка жилья для семьи</td>\n",
       "    </tr>\n",
       "  </tbody>\n",
       "</table>\n",
       "</div>"
      ],
      "text/plain": [
       "   children  days_employed  dob_years education  education_id  \\\n",
       "0         1           8437         42    высшее             0   \n",
       "1         1           4024         36   среднее             1   \n",
       "2         0           5623         33   среднее             1   \n",
       "3         3           4124         32   среднее             1   \n",
       "4         0           1630         53   среднее             1   \n",
       "5         0            926         27    высшее             0   \n",
       "6         0           2879         43    высшее             0   \n",
       "7         0            152         50   среднее             1   \n",
       "8         2           6929         35    высшее             0   \n",
       "9         0           2188         41   среднее             1   \n",
       "\n",
       "      family_status  family_status_id gender income_type  debt  total_income  \\\n",
       "0   женат / замужем                 0      F   сотрудник     0        253875   \n",
       "1   женат / замужем                 0      F   сотрудник     0        112080   \n",
       "2   женат / замужем                 0      M   сотрудник     0        145885   \n",
       "3   женат / замужем                 0      M   сотрудник     0        267628   \n",
       "4  гражданский брак                 1      F   пенсионер     0        158616   \n",
       "5  гражданский брак                 1      M   компаньон     0        255763   \n",
       "6   женат / замужем                 0      F   компаньон     0        240525   \n",
       "7   женат / замужем                 0      M   сотрудник     0        135823   \n",
       "8  гражданский брак                 1      F   сотрудник     0         95856   \n",
       "9   женат / замужем                 0      M   сотрудник     0        144425   \n",
       "\n",
       "                      purpose  \n",
       "0               покупка жилья  \n",
       "1     приобретение автомобиля  \n",
       "2               покупка жилья  \n",
       "3  дополнительное образование  \n",
       "4             сыграть свадьбу  \n",
       "5               покупка жилья  \n",
       "6           операции с жильем  \n",
       "7                 образование  \n",
       "8       на проведение свадьбы  \n",
       "9     покупка жилья для семьи  "
      ]
     },
     "execution_count": 151,
     "metadata": {},
     "output_type": "execute_result"
    }
   ],
   "source": [
    "# приведем значения в столбце 'education' к одному регистру и заменим в таблице\n",
    "df['education'] = df['education'].str.lower()\n",
    "\n",
    "# проверим результат\n",
    "df.head(10)"
   ]
  },
  {
   "cell_type": "markdown",
   "id": "18fd0a99",
   "metadata": {},
   "source": [
    "Теперь столбец `purpose`.\n",
    "\n",
    "Для получения правильных результатов, от смысловых дубликатов необходимо избавиться, приведя однотипные значения к общему знаминателю."
   ]
  },
  {
   "cell_type": "code",
   "execution_count": 152,
   "id": "9a745e79",
   "metadata": {},
   "outputs": [],
   "source": [
    "# приведем к общему знаменателю цели на свадьбу\n",
    "df.loc[df['purpose'].str.contains('свадьб'), 'purpose'] = 'свадьба'\n",
    "\n",
    "# приведем к общему знаменателю цели, связанные с автомобилями\n",
    "df.loc[df['purpose'].str.contains('авто'), 'purpose'] = 'автомобиль'\n",
    "\n",
    "# приведем к общему знаменателю цели, связанные с недвижимостью\n",
    "df.loc[df['purpose'].str.contains('недвиж'), 'purpose'] = 'операции с недвижимостью'\n",
    "df.loc[df['purpose'].str.contains('жиль'), 'purpose'] = 'операции с недвижимостью'\n",
    "\n",
    "# приведем к общему знаменателю цели, связанные с образованием\n",
    "df.loc[df['purpose'].str.contains('образован'), 'purpose'] = 'образование'"
   ]
  },
  {
   "cell_type": "markdown",
   "id": "cfc17d2f",
   "metadata": {},
   "source": [
    "Проверим результат преобразований."
   ]
  },
  {
   "cell_type": "code",
   "execution_count": 153,
   "id": "f8566b22",
   "metadata": {},
   "outputs": [
    {
     "data": {
      "text/plain": [
       "операции с недвижимостью    10814\n",
       "автомобиль                   4308\n",
       "образование                  4014\n",
       "свадьба                      2335\n",
       "Name: purpose, dtype: int64"
      ]
     },
     "execution_count": 153,
     "metadata": {},
     "output_type": "execute_result"
    }
   ],
   "source": [
    "df['purpose'].value_counts()"
   ]
  },
  {
   "cell_type": "markdown",
   "id": "fe2b07dc",
   "metadata": {},
   "source": [
    "Успешно."
   ]
  },
  {
   "cell_type": "markdown",
   "id": "bfb7a0dc",
   "metadata": {},
   "source": [
    "В столбце `children` присутсвуют отрицательное значение. Количество детей не может быть отрицательным. Скорее всего это опечатка и вместо -1 должно быть 1. Количество значений с ошибкой в данном случае составляет около 1% от числа клиентов с 1 ребеноком и замена значения -1 на 1 не повлияет на результат."
   ]
  },
  {
   "cell_type": "code",
   "execution_count": 154,
   "id": "d9e78ec7",
   "metadata": {},
   "outputs": [],
   "source": [
    "# заменим значение -1 на 1 в столбце children\n",
    "df.loc[df['children'] == -1, 'children'] = 1"
   ]
  },
  {
   "cell_type": "markdown",
   "id": "3b106459",
   "metadata": {},
   "source": [
    "Также в столбце присутствует 76 строк со значением 20, что является пятым по встречаимости значением. Учитывая, что другие значения находятся в интервале от 0 до 5, резкий скачок к 20 выглядит нериалистично. Вероятняее всего закралась ошибка, например, при форматировании - стояло значение типа float 2.0, которое превратилось в 20. Заменим 20 на 2."
   ]
  },
  {
   "cell_type": "code",
   "execution_count": 155,
   "id": "9b34023e",
   "metadata": {},
   "outputs": [],
   "source": [
    "# заменим значение 20 на 2 в столбце children\n",
    "df.loc[df['children'] == 20, 'children'] = 2"
   ]
  },
  {
   "cell_type": "code",
   "execution_count": 156,
   "id": "2090fcea",
   "metadata": {},
   "outputs": [
    {
     "data": {
      "text/plain": [
       "0    14107\n",
       "1     4856\n",
       "2     2128\n",
       "3      330\n",
       "4       41\n",
       "5        9\n",
       "Name: children, dtype: int64"
      ]
     },
     "execution_count": 156,
     "metadata": {},
     "output_type": "execute_result"
    }
   ],
   "source": [
    "df['children'].value_counts()"
   ]
  },
  {
   "cell_type": "markdown",
   "id": "da64f091",
   "metadata": {},
   "source": [
    "Успешно."
   ]
  },
  {
   "cell_type": "markdown",
   "id": "a7df1af2",
   "metadata": {},
   "source": [
    "В столбце `gender` присутсвует одно небинарное значение. Попробуем установить его истиное значение по другим столбцам."
   ]
  },
  {
   "cell_type": "code",
   "execution_count": 157,
   "id": "2dd5102b",
   "metadata": {},
   "outputs": [
    {
     "data": {
      "text/html": [
       "<div>\n",
       "<style scoped>\n",
       "    .dataframe tbody tr th:only-of-type {\n",
       "        vertical-align: middle;\n",
       "    }\n",
       "\n",
       "    .dataframe tbody tr th {\n",
       "        vertical-align: top;\n",
       "    }\n",
       "\n",
       "    .dataframe thead th {\n",
       "        text-align: right;\n",
       "    }\n",
       "</style>\n",
       "<table border=\"1\" class=\"dataframe\">\n",
       "  <thead>\n",
       "    <tr style=\"text-align: right;\">\n",
       "      <th></th>\n",
       "      <th>children</th>\n",
       "      <th>days_employed</th>\n",
       "      <th>dob_years</th>\n",
       "      <th>education</th>\n",
       "      <th>education_id</th>\n",
       "      <th>family_status</th>\n",
       "      <th>family_status_id</th>\n",
       "      <th>gender</th>\n",
       "      <th>income_type</th>\n",
       "      <th>debt</th>\n",
       "      <th>total_income</th>\n",
       "      <th>purpose</th>\n",
       "    </tr>\n",
       "  </thead>\n",
       "  <tbody>\n",
       "    <tr>\n",
       "      <th>10690</th>\n",
       "      <td>0</td>\n",
       "      <td>2358</td>\n",
       "      <td>24</td>\n",
       "      <td>неоконченное высшее</td>\n",
       "      <td>2</td>\n",
       "      <td>гражданский брак</td>\n",
       "      <td>1</td>\n",
       "      <td>XNA</td>\n",
       "      <td>компаньон</td>\n",
       "      <td>0</td>\n",
       "      <td>203905</td>\n",
       "      <td>операции с недвижимостью</td>\n",
       "    </tr>\n",
       "  </tbody>\n",
       "</table>\n",
       "</div>"
      ],
      "text/plain": [
       "       children  days_employed  dob_years            education  education_id  \\\n",
       "10690         0           2358         24  неоконченное высшее             2   \n",
       "\n",
       "          family_status  family_status_id gender income_type  debt  \\\n",
       "10690  гражданский брак                 1    XNA   компаньон     0   \n",
       "\n",
       "       total_income                   purpose  \n",
       "10690        203905  операции с недвижимостью  "
      ]
     },
     "execution_count": 157,
     "metadata": {},
     "output_type": "execute_result"
    }
   ],
   "source": [
    "# выведем строку со значением XNA в столбце gender\n",
    "df[df['gender'] == 'XNA']"
   ]
  },
  {
   "cell_type": "code",
   "execution_count": 158,
   "id": "9b894d17",
   "metadata": {},
   "outputs": [
    {
     "data": {
      "text/html": [
       "<div>\n",
       "<style scoped>\n",
       "    .dataframe tbody tr th:only-of-type {\n",
       "        vertical-align: middle;\n",
       "    }\n",
       "\n",
       "    .dataframe tbody tr th {\n",
       "        vertical-align: top;\n",
       "    }\n",
       "\n",
       "    .dataframe thead th {\n",
       "        text-align: right;\n",
       "    }\n",
       "</style>\n",
       "<table border=\"1\" class=\"dataframe\">\n",
       "  <thead>\n",
       "    <tr style=\"text-align: right;\">\n",
       "      <th></th>\n",
       "      <th>children</th>\n",
       "      <th>days_employed</th>\n",
       "      <th>dob_years</th>\n",
       "      <th>education</th>\n",
       "      <th>education_id</th>\n",
       "      <th>family_status</th>\n",
       "      <th>family_status_id</th>\n",
       "      <th>gender</th>\n",
       "      <th>income_type</th>\n",
       "      <th>debt</th>\n",
       "      <th>total_income</th>\n",
       "      <th>purpose</th>\n",
       "    </tr>\n",
       "  </thead>\n",
       "  <tbody>\n",
       "    <tr>\n",
       "      <th>5</th>\n",
       "      <td>0</td>\n",
       "      <td>926</td>\n",
       "      <td>27</td>\n",
       "      <td>высшее</td>\n",
       "      <td>0</td>\n",
       "      <td>гражданский брак</td>\n",
       "      <td>1</td>\n",
       "      <td>M</td>\n",
       "      <td>компаньон</td>\n",
       "      <td>0</td>\n",
       "      <td>255763</td>\n",
       "      <td>операции с недвижимостью</td>\n",
       "    </tr>\n",
       "    <tr>\n",
       "      <th>6</th>\n",
       "      <td>0</td>\n",
       "      <td>2879</td>\n",
       "      <td>43</td>\n",
       "      <td>высшее</td>\n",
       "      <td>0</td>\n",
       "      <td>женат / замужем</td>\n",
       "      <td>0</td>\n",
       "      <td>F</td>\n",
       "      <td>компаньон</td>\n",
       "      <td>0</td>\n",
       "      <td>240525</td>\n",
       "      <td>операции с недвижимостью</td>\n",
       "    </tr>\n",
       "    <tr>\n",
       "      <th>10</th>\n",
       "      <td>2</td>\n",
       "      <td>4171</td>\n",
       "      <td>36</td>\n",
       "      <td>высшее</td>\n",
       "      <td>0</td>\n",
       "      <td>женат / замужем</td>\n",
       "      <td>0</td>\n",
       "      <td>M</td>\n",
       "      <td>компаньон</td>\n",
       "      <td>0</td>\n",
       "      <td>113943</td>\n",
       "      <td>операции с недвижимостью</td>\n",
       "    </tr>\n",
       "    <tr>\n",
       "      <th>14</th>\n",
       "      <td>0</td>\n",
       "      <td>1844</td>\n",
       "      <td>56</td>\n",
       "      <td>высшее</td>\n",
       "      <td>0</td>\n",
       "      <td>гражданский брак</td>\n",
       "      <td>1</td>\n",
       "      <td>F</td>\n",
       "      <td>компаньон</td>\n",
       "      <td>1</td>\n",
       "      <td>165127</td>\n",
       "      <td>операции с недвижимостью</td>\n",
       "    </tr>\n",
       "    <tr>\n",
       "      <th>33</th>\n",
       "      <td>0</td>\n",
       "      <td>1548</td>\n",
       "      <td>48</td>\n",
       "      <td>среднее</td>\n",
       "      <td>1</td>\n",
       "      <td>женат / замужем</td>\n",
       "      <td>0</td>\n",
       "      <td>F</td>\n",
       "      <td>компаньон</td>\n",
       "      <td>0</td>\n",
       "      <td>157245</td>\n",
       "      <td>операции с недвижимостью</td>\n",
       "    </tr>\n",
       "  </tbody>\n",
       "</table>\n",
       "</div>"
      ],
      "text/plain": [
       "    children  days_employed  dob_years education  education_id  \\\n",
       "5          0            926         27    высшее             0   \n",
       "6          0           2879         43    высшее             0   \n",
       "10         2           4171         36    высшее             0   \n",
       "14         0           1844         56    высшее             0   \n",
       "33         0           1548         48   среднее             1   \n",
       "\n",
       "       family_status  family_status_id gender income_type  debt  total_income  \\\n",
       "5   гражданский брак                 1      M   компаньон     0        255763   \n",
       "6    женат / замужем                 0      F   компаньон     0        240525   \n",
       "10   женат / замужем                 0      M   компаньон     0        113943   \n",
       "14  гражданский брак                 1      F   компаньон     1        165127   \n",
       "33   женат / замужем                 0      F   компаньон     0        157245   \n",
       "\n",
       "                     purpose  \n",
       "5   операции с недвижимостью  \n",
       "6   операции с недвижимостью  \n",
       "10  операции с недвижимостью  \n",
       "14  операции с недвижимостью  \n",
       "33  операции с недвижимостью  "
      ]
     },
     "execution_count": 158,
     "metadata": {},
     "output_type": "execute_result"
    }
   ],
   "source": [
    "# проверим, есть ли связь между гендером и типом занятости\n",
    "df[df['income_type'] == 'компаньон'].head(5)"
   ]
  },
  {
   "cell_type": "markdown",
   "id": "d39a9df7",
   "metadata": {},
   "source": [
    "Проверка не дала результата.\n",
    "\n",
    "В таком случае имеет смысл заменить данное значение, на F, так как из в столбце в 2 раза больше чем M. Статистически это не скажется на результатах, тем более, что данный столбец не используется в расчетах."
   ]
  },
  {
   "cell_type": "code",
   "execution_count": 159,
   "id": "0189d82c",
   "metadata": {},
   "outputs": [
    {
     "data": {
      "text/plain": [
       "children                                   0\n",
       "days_employed                           2358\n",
       "dob_years                                 24\n",
       "education                неоконченное высшее\n",
       "education_id                               2\n",
       "family_status               гражданский брак\n",
       "family_status_id                           1\n",
       "gender                                     F\n",
       "income_type                        компаньон\n",
       "debt                                       0\n",
       "total_income                          203905\n",
       "purpose             операции с недвижимостью\n",
       "Name: 10690, dtype: object"
      ]
     },
     "execution_count": 159,
     "metadata": {},
     "output_type": "execute_result"
    }
   ],
   "source": [
    "# заменим значение XNA на F\n",
    "df.loc[df['gender'] == 'XNA', 'gender'] = 'F'\n",
    "\n",
    "# и проверим результат\n",
    "df.loc[10690]"
   ]
  },
  {
   "cell_type": "markdown",
   "id": "f926f413",
   "metadata": {},
   "source": [
    "Успешно."
   ]
  },
  {
   "cell_type": "markdown",
   "id": "19836917",
   "metadata": {},
   "source": [
    "Повторно прверим всю таблицу на предмет явных дубликатов, т.к. они могли появиться, после исправления неявных дубликатов."
   ]
  },
  {
   "cell_type": "code",
   "execution_count": 160,
   "id": "7b1602c5",
   "metadata": {},
   "outputs": [
    {
     "data": {
      "text/plain": [
       "351"
      ]
     },
     "execution_count": 160,
     "metadata": {},
     "output_type": "execute_result"
    }
   ],
   "source": [
    "df.duplicated().sum()"
   ]
  },
  {
   "cell_type": "markdown",
   "id": "e1d7a3e8",
   "metadata": {},
   "source": [
    "Появились новые дубликаты. Избавимся от них."
   ]
  },
  {
   "cell_type": "code",
   "execution_count": 161,
   "id": "6ab69efb",
   "metadata": {},
   "outputs": [],
   "source": [
    "# удаление явных дубликатов (с удалением старых индексов и формированием новых)\n",
    "df = df.drop_duplicates().reset_index(drop=True)"
   ]
  },
  {
   "cell_type": "markdown",
   "id": "67ebe1b2",
   "metadata": {},
   "source": [
    "Убедимся, что явных дубликтов не осталось."
   ]
  },
  {
   "cell_type": "code",
   "execution_count": 162,
   "id": "fe97c3a4",
   "metadata": {},
   "outputs": [
    {
     "data": {
      "text/plain": [
       "0"
      ]
     },
     "execution_count": 162,
     "metadata": {},
     "output_type": "execute_result"
    }
   ],
   "source": [
    "df.duplicated().sum()"
   ]
  },
  {
   "cell_type": "markdown",
   "id": "cb6c09ef",
   "metadata": {},
   "source": [
    "Получим информацию об обновленной таблице перед тем, как двигаться дальше."
   ]
  },
  {
   "cell_type": "code",
   "execution_count": 163,
   "id": "06a82462",
   "metadata": {},
   "outputs": [
    {
     "name": "stdout",
     "output_type": "stream",
     "text": [
      "<class 'pandas.core.frame.DataFrame'>\n",
      "RangeIndex: 21120 entries, 0 to 21119\n",
      "Data columns (total 12 columns):\n",
      " #   Column            Non-Null Count  Dtype \n",
      "---  ------            --------------  ----- \n",
      " 0   children          21120 non-null  int64 \n",
      " 1   days_employed     21120 non-null  int32 \n",
      " 2   dob_years         21120 non-null  int64 \n",
      " 3   education         21120 non-null  object\n",
      " 4   education_id      21120 non-null  int64 \n",
      " 5   family_status     21120 non-null  object\n",
      " 6   family_status_id  21120 non-null  int64 \n",
      " 7   gender            21120 non-null  object\n",
      " 8   income_type       21120 non-null  object\n",
      " 9   debt              21120 non-null  int64 \n",
      " 10  total_income      21120 non-null  int32 \n",
      " 11  purpose           21120 non-null  object\n",
      "dtypes: int32(2), int64(5), object(5)\n",
      "memory usage: 1.8+ MB\n"
     ]
    }
   ],
   "source": [
    "df.info()"
   ]
  },
  {
   "cell_type": "markdown",
   "id": "44b4b488",
   "metadata": {},
   "source": [
    "Количество строк уменьшилось, пропусков нет, типы данных изменились."
   ]
  },
  {
   "cell_type": "markdown",
   "id": "9e370d86",
   "metadata": {},
   "source": [
    "## Шаг 2.5. Формирование дополнительных датафреймов словарей, декомпозиция исходного датафрейма."
   ]
  },
  {
   "cell_type": "markdown",
   "id": "1c72f58d",
   "metadata": {},
   "source": [
    "На данный момент идентификаторы и расшифровки для уровня образования и семейного статуса хранятся в одной таблице.\n",
    "\n",
    "Создадим \"словари\" - два новых датафрейма, в которых:\n",
    "* в первом: каждому уникальному значению из `education` будет соответствовать уникальное значение `education_id`;\n",
    "* во втором: каждому уникальному значению из `family_status` будет соответствовать уникальное значение `family_status_id`.\n",
    "\n",
    "Затем удалим столбцы `education` и `family_status`, оставив в таблице только идентификаторы."
   ]
  },
  {
   "cell_type": "code",
   "execution_count": 164,
   "id": "289b59b4",
   "metadata": {},
   "outputs": [],
   "source": [
    "# создадим словарь для идентификации уровня образования клиента\n",
    "education_dict = df[['education_id', 'education']]\n",
    "\n",
    "# удалим дубликаты из словаря (с удалением старых индексов и формированием новых)\n",
    "education_dict = education_dict.drop_duplicates().reset_index(drop=True)\n",
    "\n",
    "# создадим словарь для идентификации семейного положения клиента\n",
    "family_status_dict = df[['family_status_id', 'family_status']]\n",
    "\n",
    "# удалим дубликаты из словаря (с удалением старых индексов и формированием новых)\n",
    "family_status_dict = family_status_dict.drop_duplicates().reset_index(drop=True)"
   ]
  },
  {
   "cell_type": "markdown",
   "id": "5223a6ca",
   "metadata": {},
   "source": [
    "Убедимся, что словари сформированы верно."
   ]
  },
  {
   "cell_type": "code",
   "execution_count": 165,
   "id": "c196ff11",
   "metadata": {},
   "outputs": [
    {
     "data": {
      "text/html": [
       "<div>\n",
       "<style scoped>\n",
       "    .dataframe tbody tr th:only-of-type {\n",
       "        vertical-align: middle;\n",
       "    }\n",
       "\n",
       "    .dataframe tbody tr th {\n",
       "        vertical-align: top;\n",
       "    }\n",
       "\n",
       "    .dataframe thead th {\n",
       "        text-align: right;\n",
       "    }\n",
       "</style>\n",
       "<table border=\"1\" class=\"dataframe\">\n",
       "  <thead>\n",
       "    <tr style=\"text-align: right;\">\n",
       "      <th></th>\n",
       "      <th>education_id</th>\n",
       "      <th>education</th>\n",
       "    </tr>\n",
       "  </thead>\n",
       "  <tbody>\n",
       "    <tr>\n",
       "      <th>0</th>\n",
       "      <td>0</td>\n",
       "      <td>высшее</td>\n",
       "    </tr>\n",
       "    <tr>\n",
       "      <th>1</th>\n",
       "      <td>1</td>\n",
       "      <td>среднее</td>\n",
       "    </tr>\n",
       "    <tr>\n",
       "      <th>2</th>\n",
       "      <td>2</td>\n",
       "      <td>неоконченное высшее</td>\n",
       "    </tr>\n",
       "    <tr>\n",
       "      <th>3</th>\n",
       "      <td>3</td>\n",
       "      <td>начальное</td>\n",
       "    </tr>\n",
       "    <tr>\n",
       "      <th>4</th>\n",
       "      <td>4</td>\n",
       "      <td>ученая степень</td>\n",
       "    </tr>\n",
       "  </tbody>\n",
       "</table>\n",
       "</div>"
      ],
      "text/plain": [
       "   education_id            education\n",
       "0             0               высшее\n",
       "1             1              среднее\n",
       "2             2  неоконченное высшее\n",
       "3             3            начальное\n",
       "4             4       ученая степень"
      ]
     },
     "metadata": {},
     "output_type": "display_data"
    },
    {
     "data": {
      "text/html": [
       "<div>\n",
       "<style scoped>\n",
       "    .dataframe tbody tr th:only-of-type {\n",
       "        vertical-align: middle;\n",
       "    }\n",
       "\n",
       "    .dataframe tbody tr th {\n",
       "        vertical-align: top;\n",
       "    }\n",
       "\n",
       "    .dataframe thead th {\n",
       "        text-align: right;\n",
       "    }\n",
       "</style>\n",
       "<table border=\"1\" class=\"dataframe\">\n",
       "  <thead>\n",
       "    <tr style=\"text-align: right;\">\n",
       "      <th></th>\n",
       "      <th>family_status_id</th>\n",
       "      <th>family_status</th>\n",
       "    </tr>\n",
       "  </thead>\n",
       "  <tbody>\n",
       "    <tr>\n",
       "      <th>0</th>\n",
       "      <td>0</td>\n",
       "      <td>женат / замужем</td>\n",
       "    </tr>\n",
       "    <tr>\n",
       "      <th>1</th>\n",
       "      <td>1</td>\n",
       "      <td>гражданский брак</td>\n",
       "    </tr>\n",
       "    <tr>\n",
       "      <th>2</th>\n",
       "      <td>2</td>\n",
       "      <td>вдовец / вдова</td>\n",
       "    </tr>\n",
       "    <tr>\n",
       "      <th>3</th>\n",
       "      <td>3</td>\n",
       "      <td>в разводе</td>\n",
       "    </tr>\n",
       "    <tr>\n",
       "      <th>4</th>\n",
       "      <td>4</td>\n",
       "      <td>Не женат / не замужем</td>\n",
       "    </tr>\n",
       "  </tbody>\n",
       "</table>\n",
       "</div>"
      ],
      "text/plain": [
       "   family_status_id          family_status\n",
       "0                 0        женат / замужем\n",
       "1                 1       гражданский брак\n",
       "2                 2         вдовец / вдова\n",
       "3                 3              в разводе\n",
       "4                 4  Не женат / не замужем"
      ]
     },
     "metadata": {},
     "output_type": "display_data"
    }
   ],
   "source": [
    "display(education_dict)\n",
    "display(family_status_dict)"
   ]
  },
  {
   "cell_type": "markdown",
   "id": "353c0281",
   "metadata": {},
   "source": [
    "Удалим столбцы с рашифровкой идентификаторов из общей таблицы."
   ]
  },
  {
   "cell_type": "code",
   "execution_count": 166,
   "id": "a1bd3a48",
   "metadata": {},
   "outputs": [],
   "source": [
    "df = df.drop(columns=['education', 'family_status'], axis=1)"
   ]
  },
  {
   "cell_type": "code",
   "execution_count": 167,
   "id": "fe29b583",
   "metadata": {},
   "outputs": [
    {
     "data": {
      "text/html": [
       "<div>\n",
       "<style scoped>\n",
       "    .dataframe tbody tr th:only-of-type {\n",
       "        vertical-align: middle;\n",
       "    }\n",
       "\n",
       "    .dataframe tbody tr th {\n",
       "        vertical-align: top;\n",
       "    }\n",
       "\n",
       "    .dataframe thead th {\n",
       "        text-align: right;\n",
       "    }\n",
       "</style>\n",
       "<table border=\"1\" class=\"dataframe\">\n",
       "  <thead>\n",
       "    <tr style=\"text-align: right;\">\n",
       "      <th></th>\n",
       "      <th>children</th>\n",
       "      <th>days_employed</th>\n",
       "      <th>dob_years</th>\n",
       "      <th>education_id</th>\n",
       "      <th>family_status_id</th>\n",
       "      <th>gender</th>\n",
       "      <th>income_type</th>\n",
       "      <th>debt</th>\n",
       "      <th>total_income</th>\n",
       "      <th>purpose</th>\n",
       "    </tr>\n",
       "  </thead>\n",
       "  <tbody>\n",
       "    <tr>\n",
       "      <th>0</th>\n",
       "      <td>1</td>\n",
       "      <td>8437</td>\n",
       "      <td>42</td>\n",
       "      <td>0</td>\n",
       "      <td>0</td>\n",
       "      <td>F</td>\n",
       "      <td>сотрудник</td>\n",
       "      <td>0</td>\n",
       "      <td>253875</td>\n",
       "      <td>операции с недвижимостью</td>\n",
       "    </tr>\n",
       "    <tr>\n",
       "      <th>1</th>\n",
       "      <td>1</td>\n",
       "      <td>4024</td>\n",
       "      <td>36</td>\n",
       "      <td>1</td>\n",
       "      <td>0</td>\n",
       "      <td>F</td>\n",
       "      <td>сотрудник</td>\n",
       "      <td>0</td>\n",
       "      <td>112080</td>\n",
       "      <td>автомобиль</td>\n",
       "    </tr>\n",
       "    <tr>\n",
       "      <th>2</th>\n",
       "      <td>0</td>\n",
       "      <td>5623</td>\n",
       "      <td>33</td>\n",
       "      <td>1</td>\n",
       "      <td>0</td>\n",
       "      <td>M</td>\n",
       "      <td>сотрудник</td>\n",
       "      <td>0</td>\n",
       "      <td>145885</td>\n",
       "      <td>операции с недвижимостью</td>\n",
       "    </tr>\n",
       "    <tr>\n",
       "      <th>3</th>\n",
       "      <td>3</td>\n",
       "      <td>4124</td>\n",
       "      <td>32</td>\n",
       "      <td>1</td>\n",
       "      <td>0</td>\n",
       "      <td>M</td>\n",
       "      <td>сотрудник</td>\n",
       "      <td>0</td>\n",
       "      <td>267628</td>\n",
       "      <td>образование</td>\n",
       "    </tr>\n",
       "    <tr>\n",
       "      <th>4</th>\n",
       "      <td>0</td>\n",
       "      <td>1630</td>\n",
       "      <td>53</td>\n",
       "      <td>1</td>\n",
       "      <td>1</td>\n",
       "      <td>F</td>\n",
       "      <td>пенсионер</td>\n",
       "      <td>0</td>\n",
       "      <td>158616</td>\n",
       "      <td>свадьба</td>\n",
       "    </tr>\n",
       "  </tbody>\n",
       "</table>\n",
       "</div>"
      ],
      "text/plain": [
       "   children  days_employed  dob_years  education_id  family_status_id gender  \\\n",
       "0         1           8437         42             0                 0      F   \n",
       "1         1           4024         36             1                 0      F   \n",
       "2         0           5623         33             1                 0      M   \n",
       "3         3           4124         32             1                 0      M   \n",
       "4         0           1630         53             1                 1      F   \n",
       "\n",
       "  income_type  debt  total_income                   purpose  \n",
       "0   сотрудник     0        253875  операции с недвижимостью  \n",
       "1   сотрудник     0        112080                автомобиль  \n",
       "2   сотрудник     0        145885  операции с недвижимостью  \n",
       "3   сотрудник     0        267628               образование  \n",
       "4   пенсионер     0        158616                   свадьба  "
      ]
     },
     "execution_count": 167,
     "metadata": {},
     "output_type": "execute_result"
    }
   ],
   "source": [
    "# убедимся, что столбцы удалены\n",
    "df.head()"
   ]
  },
  {
   "cell_type": "markdown",
   "id": "e1e79004",
   "metadata": {},
   "source": [
    "Успешно."
   ]
  },
  {
   "cell_type": "markdown",
   "id": "f5c78442",
   "metadata": {},
   "source": [
    "## Шаг 2.6. Категоризация дохода."
   ]
  },
  {
   "cell_type": "markdown",
   "id": "abc8f6ad",
   "metadata": {},
   "source": [
    "На основании диапазонов, предоставленных заказчиком, создадим столбец `total_income_category` с категориями по уровню дохода:\n",
    "* 0–30000 — `E`;\n",
    "* 30001–50000 — `D`;\n",
    "* 50001–200000 — `C`;\n",
    "* 200001–1000000 — `B`;\n",
    "* 1000001 и выше — `A`."
   ]
  },
  {
   "cell_type": "code",
   "execution_count": 119,
   "id": "0cdf878e",
   "metadata": {},
   "outputs": [],
   "source": [
    "# создадим функцию для категоризации\n",
    "def total_income_categorisation(income):\n",
    "    try:\n",
    "        if 0 <= income < 30001:\n",
    "            return 'E'\n",
    "        if income < 50001:\n",
    "            return 'D'\n",
    "        if income < 200001:\n",
    "            return 'C'\n",
    "        if income < 1000001:\n",
    "            return 'B'\n",
    "        if income > 1000000:\n",
    "            return 'A'\n",
    "    except:\n",
    "        print('Отрицательный уровень дохода!')\n",
    "\n",
    "# применим функцию к таблице\n",
    "df['total_income_category'] = df['total_income'].apply(total_income_categorisation)"
   ]
  },
  {
   "cell_type": "markdown",
   "id": "9cc29ecc",
   "metadata": {},
   "source": [
    "Проверим результат в таблице."
   ]
  },
  {
   "cell_type": "code",
   "execution_count": 120,
   "id": "388d5628",
   "metadata": {},
   "outputs": [
    {
     "data": {
      "text/html": [
       "<div>\n",
       "<style scoped>\n",
       "    .dataframe tbody tr th:only-of-type {\n",
       "        vertical-align: middle;\n",
       "    }\n",
       "\n",
       "    .dataframe tbody tr th {\n",
       "        vertical-align: top;\n",
       "    }\n",
       "\n",
       "    .dataframe thead th {\n",
       "        text-align: right;\n",
       "    }\n",
       "</style>\n",
       "<table border=\"1\" class=\"dataframe\">\n",
       "  <thead>\n",
       "    <tr style=\"text-align: right;\">\n",
       "      <th></th>\n",
       "      <th>children</th>\n",
       "      <th>days_employed</th>\n",
       "      <th>dob_years</th>\n",
       "      <th>education_id</th>\n",
       "      <th>family_status_id</th>\n",
       "      <th>gender</th>\n",
       "      <th>income_type</th>\n",
       "      <th>debt</th>\n",
       "      <th>total_income</th>\n",
       "      <th>purpose</th>\n",
       "      <th>total_income_category</th>\n",
       "    </tr>\n",
       "  </thead>\n",
       "  <tbody>\n",
       "    <tr>\n",
       "      <th>0</th>\n",
       "      <td>1</td>\n",
       "      <td>8437</td>\n",
       "      <td>42</td>\n",
       "      <td>0</td>\n",
       "      <td>0</td>\n",
       "      <td>F</td>\n",
       "      <td>сотрудник</td>\n",
       "      <td>0</td>\n",
       "      <td>253875</td>\n",
       "      <td>операции с недвижимостью</td>\n",
       "      <td>B</td>\n",
       "    </tr>\n",
       "    <tr>\n",
       "      <th>1</th>\n",
       "      <td>1</td>\n",
       "      <td>4024</td>\n",
       "      <td>36</td>\n",
       "      <td>1</td>\n",
       "      <td>0</td>\n",
       "      <td>F</td>\n",
       "      <td>сотрудник</td>\n",
       "      <td>0</td>\n",
       "      <td>112080</td>\n",
       "      <td>автомобиль</td>\n",
       "      <td>C</td>\n",
       "    </tr>\n",
       "    <tr>\n",
       "      <th>2</th>\n",
       "      <td>0</td>\n",
       "      <td>5623</td>\n",
       "      <td>33</td>\n",
       "      <td>1</td>\n",
       "      <td>0</td>\n",
       "      <td>M</td>\n",
       "      <td>сотрудник</td>\n",
       "      <td>0</td>\n",
       "      <td>145885</td>\n",
       "      <td>операции с недвижимостью</td>\n",
       "      <td>C</td>\n",
       "    </tr>\n",
       "    <tr>\n",
       "      <th>3</th>\n",
       "      <td>3</td>\n",
       "      <td>4124</td>\n",
       "      <td>32</td>\n",
       "      <td>1</td>\n",
       "      <td>0</td>\n",
       "      <td>M</td>\n",
       "      <td>сотрудник</td>\n",
       "      <td>0</td>\n",
       "      <td>267628</td>\n",
       "      <td>образование</td>\n",
       "      <td>B</td>\n",
       "    </tr>\n",
       "    <tr>\n",
       "      <th>4</th>\n",
       "      <td>0</td>\n",
       "      <td>1630</td>\n",
       "      <td>53</td>\n",
       "      <td>1</td>\n",
       "      <td>1</td>\n",
       "      <td>F</td>\n",
       "      <td>пенсионер</td>\n",
       "      <td>0</td>\n",
       "      <td>158616</td>\n",
       "      <td>свадьба</td>\n",
       "      <td>C</td>\n",
       "    </tr>\n",
       "  </tbody>\n",
       "</table>\n",
       "</div>"
      ],
      "text/plain": [
       "   children  days_employed  dob_years  education_id  family_status_id gender  \\\n",
       "0         1           8437         42             0                 0      F   \n",
       "1         1           4024         36             1                 0      F   \n",
       "2         0           5623         33             1                 0      M   \n",
       "3         3           4124         32             1                 0      M   \n",
       "4         0           1630         53             1                 1      F   \n",
       "\n",
       "  income_type  debt  total_income                   purpose  \\\n",
       "0   сотрудник     0        253875  операции с недвижимостью   \n",
       "1   сотрудник     0        112080                автомобиль   \n",
       "2   сотрудник     0        145885  операции с недвижимостью   \n",
       "3   сотрудник     0        267628               образование   \n",
       "4   пенсионер     0        158616                   свадьба   \n",
       "\n",
       "  total_income_category  \n",
       "0                     B  \n",
       "1                     C  \n",
       "2                     C  \n",
       "3                     B  \n",
       "4                     C  "
      ]
     },
     "execution_count": 120,
     "metadata": {},
     "output_type": "execute_result"
    }
   ],
   "source": [
    "df.head()"
   ]
  },
  {
   "cell_type": "markdown",
   "id": "b281d425",
   "metadata": {},
   "source": [
    "Успешно."
   ]
  },
  {
   "cell_type": "markdown",
   "id": "c5dc17e3",
   "metadata": {},
   "source": [
    "## Ответы на вопросы."
   ]
  },
  {
   "cell_type": "markdown",
   "id": "ef5e5abc",
   "metadata": {},
   "source": [
    "##### Вопрос 1: Есть ли зависимость между количеством детей и возвратом кредита в срок?"
   ]
  },
  {
   "cell_type": "markdown",
   "id": "e528147f",
   "metadata": {},
   "source": [
    "Чтобы оценить влияние количества детей клиента на наличие задолжностей, проведем анализ по столбцам `children` и `debt`.\n",
    "\n",
    "Для этого сгрупперуем данные по столбцу `children` и расчитаем для каждой группы общее число клиентов и суммарное число должников по столбцу `debt`."
   ]
  },
  {
   "cell_type": "code",
   "execution_count": 121,
   "id": "cc31acee",
   "metadata": {},
   "outputs": [
    {
     "data": {
      "text/html": [
       "<div>\n",
       "<style scoped>\n",
       "    .dataframe tbody tr th:only-of-type {\n",
       "        vertical-align: middle;\n",
       "    }\n",
       "\n",
       "    .dataframe tbody tr th {\n",
       "        vertical-align: top;\n",
       "    }\n",
       "\n",
       "    .dataframe thead tr th {\n",
       "        text-align: left;\n",
       "    }\n",
       "\n",
       "    .dataframe thead tr:last-of-type th {\n",
       "        text-align: right;\n",
       "    }\n",
       "</style>\n",
       "<table border=\"1\" class=\"dataframe\">\n",
       "  <thead>\n",
       "    <tr>\n",
       "      <th></th>\n",
       "      <th colspan=\"2\" halign=\"left\">debt</th>\n",
       "    </tr>\n",
       "    <tr>\n",
       "      <th></th>\n",
       "      <th>sum</th>\n",
       "      <th>count</th>\n",
       "    </tr>\n",
       "    <tr>\n",
       "      <th>children</th>\n",
       "      <th></th>\n",
       "      <th></th>\n",
       "    </tr>\n",
       "  </thead>\n",
       "  <tbody>\n",
       "    <tr>\n",
       "      <th>0</th>\n",
       "      <td>1061</td>\n",
       "      <td>13829</td>\n",
       "    </tr>\n",
       "    <tr>\n",
       "      <th>1</th>\n",
       "      <td>445</td>\n",
       "      <td>4798</td>\n",
       "    </tr>\n",
       "    <tr>\n",
       "      <th>2</th>\n",
       "      <td>202</td>\n",
       "      <td>2115</td>\n",
       "    </tr>\n",
       "    <tr>\n",
       "      <th>3</th>\n",
       "      <td>27</td>\n",
       "      <td>329</td>\n",
       "    </tr>\n",
       "    <tr>\n",
       "      <th>4</th>\n",
       "      <td>4</td>\n",
       "      <td>40</td>\n",
       "    </tr>\n",
       "    <tr>\n",
       "      <th>5</th>\n",
       "      <td>0</td>\n",
       "      <td>9</td>\n",
       "    </tr>\n",
       "  </tbody>\n",
       "</table>\n",
       "</div>"
      ],
      "text/plain": [
       "          debt       \n",
       "           sum  count\n",
       "children             \n",
       "0         1061  13829\n",
       "1          445   4798\n",
       "2          202   2115\n",
       "3           27    329\n",
       "4            4     40\n",
       "5            0      9"
      ]
     },
     "execution_count": 121,
     "metadata": {},
     "output_type": "execute_result"
    }
   ],
   "source": [
    "debt_to_children = df.groupby('children').agg({'debt': ['sum', 'count']})\n",
    "debt_to_children"
   ]
  },
  {
   "cell_type": "markdown",
   "id": "df9e4180",
   "metadata": {},
   "source": [
    "Расчитаем число должников в процентном соотношении для каждой группы."
   ]
  },
  {
   "cell_type": "code",
   "execution_count": 122,
   "id": "b2887161",
   "metadata": {},
   "outputs": [
    {
     "data": {
      "text/plain": [
       "children\n",
       "4    10.000000\n",
       "2     9.550827\n",
       "1     9.274698\n",
       "3     8.206687\n",
       "0     7.672283\n",
       "5     0.000000\n",
       "dtype: float64"
      ]
     },
     "execution_count": 122,
     "metadata": {},
     "output_type": "execute_result"
    }
   ],
   "source": [
    "# debt_to_children_persent - процент должников среди клиентов с количеством детей, обозначенным цифрой в левом столбце\n",
    "debt_to_children_persent = debt_to_children['debt']['sum'] / debt_to_children['debt']['count'] * 100\n",
    "debt_to_children_persent.sort_values(ascending=False)"
   ]
  },
  {
   "cell_type": "markdown",
   "id": "f4687477",
   "metadata": {},
   "source": [
    "##### Вывод 1:"
   ]
  },
  {
   "cell_type": "markdown",
   "id": "516bc520",
   "metadata": {},
   "source": [
    "По полученным данным видно, что наибольшее количество должников среди семей с 4 детьми - 10%.\n",
    "\n",
    "Далее следуют 2 и 1 ребенок - 9.55, 9.27 % соответсвенно.\n",
    "\n",
    "Следующие 3 и 0 детей - 8.21, 7.67 % соответственно.\n",
    "\n",
    "Среди людей с 5 детьми должников не оказалось. Однако таких семей в выборке всего 9. Утверждать, что данные достоверны - нельзя. Возможен статистический выброс.\n",
    "\n",
    "Из полученных данных можно сделать вывод, что клиенты без детей возвращают кредиты в срок чаще, чем клиенты с 4 детьми.\n",
    "Тенденция к увеличению числа просрочек с возрастанием количества детей прослеживается не совсем четко. Наиболее кредитоспособными по текущим данным выглядят клиенты у которых 0, 3 или 5 детей."
   ]
  },
  {
   "cell_type": "markdown",
   "id": "6b197e41",
   "metadata": {},
   "source": [
    "##### Вопрос 2: Есть ли зависимость между семейным положением и возвратом кредита в срок:"
   ]
  },
  {
   "cell_type": "markdown",
   "id": "881283d9",
   "metadata": {},
   "source": [
    "Чтобы оценить зависимость наличия задолжностей от семейного положения, необходимо провести анализ по столбцам `family_status` и `debt`. Сначала расшифровки значений `family_status_id` необходимо извлечь из словаря `family_status_dict`.\n",
    "\n",
    "Затем в полученной таблице сгрупперуем данные по столбцу `family_status` и расчитаем для каждой группы общее число клиентов и суммарное число должников по столбцу `debt`."
   ]
  },
  {
   "cell_type": "code",
   "execution_count": 123,
   "id": "7ec0ac40",
   "metadata": {},
   "outputs": [
    {
     "data": {
      "text/html": [
       "<div>\n",
       "<style scoped>\n",
       "    .dataframe tbody tr th:only-of-type {\n",
       "        vertical-align: middle;\n",
       "    }\n",
       "\n",
       "    .dataframe tbody tr th {\n",
       "        vertical-align: top;\n",
       "    }\n",
       "\n",
       "    .dataframe thead tr th {\n",
       "        text-align: left;\n",
       "    }\n",
       "\n",
       "    .dataframe thead tr:last-of-type th {\n",
       "        text-align: right;\n",
       "    }\n",
       "</style>\n",
       "<table border=\"1\" class=\"dataframe\">\n",
       "  <thead>\n",
       "    <tr>\n",
       "      <th></th>\n",
       "      <th colspan=\"2\" halign=\"left\">debt</th>\n",
       "    </tr>\n",
       "    <tr>\n",
       "      <th></th>\n",
       "      <th>sum</th>\n",
       "      <th>count</th>\n",
       "    </tr>\n",
       "    <tr>\n",
       "      <th>family_status</th>\n",
       "      <th></th>\n",
       "      <th></th>\n",
       "    </tr>\n",
       "  </thead>\n",
       "  <tbody>\n",
       "    <tr>\n",
       "      <th>Не женат / не замужем</th>\n",
       "      <td>274</td>\n",
       "      <td>2784</td>\n",
       "    </tr>\n",
       "    <tr>\n",
       "      <th>в разводе</th>\n",
       "      <td>85</td>\n",
       "      <td>1193</td>\n",
       "    </tr>\n",
       "    <tr>\n",
       "      <th>вдовец / вдова</th>\n",
       "      <td>63</td>\n",
       "      <td>943</td>\n",
       "    </tr>\n",
       "    <tr>\n",
       "      <th>гражданский брак</th>\n",
       "      <td>388</td>\n",
       "      <td>4124</td>\n",
       "    </tr>\n",
       "    <tr>\n",
       "      <th>женат / замужем</th>\n",
       "      <td>929</td>\n",
       "      <td>12076</td>\n",
       "    </tr>\n",
       "  </tbody>\n",
       "</table>\n",
       "</div>"
      ],
      "text/plain": [
       "                      debt       \n",
       "                       sum  count\n",
       "family_status                    \n",
       "Не женат / не замужем  274   2784\n",
       "в разводе               85   1193\n",
       "вдовец / вдова          63    943\n",
       "гражданский брак       388   4124\n",
       "женат / замужем        929  12076"
      ]
     },
     "execution_count": 123,
     "metadata": {},
     "output_type": "execute_result"
    }
   ],
   "source": [
    "# создадим таблицу со столбцами family_status_id и debt\n",
    "debt_to_family_status_id = df[['family_status_id', 'debt']]\n",
    "\n",
    "# добавим в таблицу расшифровки столбца family_status_id по словарю family_status_dict\n",
    "debt_to_family_status = debt_to_family_status_id.merge(family_status_dict, on='family_status_id', how='left')\n",
    "\n",
    "# удалим столбец family_status_id\n",
    "debt_to_family_status = debt_to_family_status.drop('family_status_id', axis=1)\n",
    "\n",
    "# сгруппируем данные по столбцу `family_status` и расчитаем для каждой группы общее число клиентов и суммарное число должников по столбцу `debt`\n",
    "debt_to_family_status = debt_to_family_status.groupby('family_status').agg({'debt': ['sum', 'count']})\n",
    "\n",
    "debt_to_family_status"
   ]
  },
  {
   "cell_type": "markdown",
   "id": "16fe52cd",
   "metadata": {},
   "source": [
    "Расчитаем число должников в процентном соотношении для каждой группы."
   ]
  },
  {
   "cell_type": "code",
   "execution_count": 124,
   "id": "bb91880e",
   "metadata": {},
   "outputs": [
    {
     "data": {
      "text/plain": [
       "family_status\n",
       "Не женат / не замужем    9.841954\n",
       "гражданский брак         9.408341\n",
       "женат / замужем          7.692945\n",
       "в разводе                7.124895\n",
       "вдовец / вдова           6.680806\n",
       "dtype: float64"
      ]
     },
     "execution_count": 124,
     "metadata": {},
     "output_type": "execute_result"
    }
   ],
   "source": [
    "# debt_to_family_status_persent - процент должников среди клиентов в соответствии с их семейным положением\n",
    "debt_to_family_status_persent = debt_to_family_status['debt']['sum'] / debt_to_family_status['debt']['count'] * 100\n",
    "debt_to_family_status_persent.sort_values(ascending=False)"
   ]
  },
  {
   "cell_type": "markdown",
   "id": "55c6b286",
   "metadata": {},
   "source": [
    "##### Вывод 2:"
   ]
  },
  {
   "cell_type": "markdown",
   "id": "08b5a86b",
   "metadata": {},
   "source": [
    "По полученным данным видно, что наибольшее количество должников среди клиентов не состоящих в браке или проживающих в гражданском браке - 9.84 и 9.41 % соответсвенно.\n",
    "\n",
    "Среди клиентов состоящих в официальном браке и разведенных процент просрочек по заемам примерно на 2 пункта ниже - 7.69 и 7.12 % соответсвенно.\n",
    "\n",
    "Самое низкое число просрочек у вдовцов и вдов - 6.68%.\n",
    "\n",
    "Из полученных данных можно сделать вывод, число просрочек по выплате займов коррелирует с семейным положением клиентов."
   ]
  },
  {
   "cell_type": "markdown",
   "id": "4b683ade",
   "metadata": {},
   "source": [
    "##### Вопрос 3: Есть ли зависимость между уровнем дохода и возвратом кредита в срок:"
   ]
  },
  {
   "cell_type": "markdown",
   "id": "81057c0d",
   "metadata": {},
   "source": [
    "Чтобы оценить зависимость наличия задолжностей от уровня дохода, проведем анализ по столбцам `total_income_category` и `debt`.\n",
    "\n",
    "Для этого сгрупперуем данные по столбцу `total_income_category` и расчитаем для каждой группы общее число клиентов и суммарное число должников по столбцу `debt`."
   ]
  },
  {
   "cell_type": "code",
   "execution_count": 125,
   "id": "b8fb3809",
   "metadata": {},
   "outputs": [
    {
     "data": {
      "text/html": [
       "<div>\n",
       "<style scoped>\n",
       "    .dataframe tbody tr th:only-of-type {\n",
       "        vertical-align: middle;\n",
       "    }\n",
       "\n",
       "    .dataframe tbody tr th {\n",
       "        vertical-align: top;\n",
       "    }\n",
       "\n",
       "    .dataframe thead tr th {\n",
       "        text-align: left;\n",
       "    }\n",
       "\n",
       "    .dataframe thead tr:last-of-type th {\n",
       "        text-align: right;\n",
       "    }\n",
       "</style>\n",
       "<table border=\"1\" class=\"dataframe\">\n",
       "  <thead>\n",
       "    <tr>\n",
       "      <th></th>\n",
       "      <th colspan=\"2\" halign=\"left\">debt</th>\n",
       "    </tr>\n",
       "    <tr>\n",
       "      <th></th>\n",
       "      <th>sum</th>\n",
       "      <th>count</th>\n",
       "    </tr>\n",
       "    <tr>\n",
       "      <th>total_income_category</th>\n",
       "      <th></th>\n",
       "      <th></th>\n",
       "    </tr>\n",
       "  </thead>\n",
       "  <tbody>\n",
       "    <tr>\n",
       "      <th>A</th>\n",
       "      <td>2</td>\n",
       "      <td>25</td>\n",
       "    </tr>\n",
       "    <tr>\n",
       "      <th>B</th>\n",
       "      <td>356</td>\n",
       "      <td>5042</td>\n",
       "    </tr>\n",
       "    <tr>\n",
       "      <th>C</th>\n",
       "      <td>1358</td>\n",
       "      <td>15681</td>\n",
       "    </tr>\n",
       "    <tr>\n",
       "      <th>D</th>\n",
       "      <td>21</td>\n",
       "      <td>350</td>\n",
       "    </tr>\n",
       "    <tr>\n",
       "      <th>E</th>\n",
       "      <td>2</td>\n",
       "      <td>22</td>\n",
       "    </tr>\n",
       "  </tbody>\n",
       "</table>\n",
       "</div>"
      ],
      "text/plain": [
       "                       debt       \n",
       "                        sum  count\n",
       "total_income_category             \n",
       "A                         2     25\n",
       "B                       356   5042\n",
       "C                      1358  15681\n",
       "D                        21    350\n",
       "E                         2     22"
      ]
     },
     "execution_count": 125,
     "metadata": {},
     "output_type": "execute_result"
    }
   ],
   "source": [
    "debt_to_total_income_category = df.groupby('total_income_category').agg({'debt': ['sum', 'count']})\n",
    "debt_to_total_income_category"
   ]
  },
  {
   "cell_type": "markdown",
   "id": "2193c34d",
   "metadata": {},
   "source": [
    "Расчитаем число должников в процентном соотношении для каждой группы."
   ]
  },
  {
   "cell_type": "code",
   "execution_count": 126,
   "id": "650abb8b",
   "metadata": {},
   "outputs": [
    {
     "data": {
      "text/plain": [
       "total_income_category\n",
       "E    9.090909\n",
       "C    8.660162\n",
       "A    8.000000\n",
       "B    7.060690\n",
       "D    6.000000\n",
       "dtype: float64"
      ]
     },
     "execution_count": 126,
     "metadata": {},
     "output_type": "execute_result"
    }
   ],
   "source": [
    "# debt_to_total_income_category_persent - процент должников среди клиентов в соответствии с их уровнем дохода\n",
    "debt_to_total_income_category_persent = debt_to_total_income_category['debt']['sum'] / debt_to_total_income_category['debt']['count'] * 100\n",
    "debt_to_total_income_category_persent.sort_values(ascending=False)"
   ]
  },
  {
   "cell_type": "markdown",
   "id": "817c246c",
   "metadata": {},
   "source": [
    "##### Вывод 3:"
   ]
  },
  {
   "cell_type": "markdown",
   "id": "a273aae3",
   "metadata": {},
   "source": [
    "По полученным данным видно, что наибольшее количество должников среди клиентов с категорией доходов `Е` (от 0 до 30 000) - 9.09%.\n",
    "\n",
    "Далее следуют категории `С`(от 50 001 до 200 000) и `А`(свыше 1 000 000) - 8.66, 8% соответсвенно.\n",
    "\n",
    "Ещё ниже у `В`(от 200 001 до 1 000 000) - 7.06%.\n",
    "\n",
    "Самый низкий процент прсрочек у клиентов с категорией доходов `D`(от 30 001 до 50 000) - 6%.\n",
    "\n",
    "\n",
    "Из полученных данных можно сделать вывод, существует нелинейная зависимость между уровнем дохода и просрочкой по выплатам. Так, наименьшее число просрочек у клиентов с доходами от 30 001 до 50 000 и от от 200 001 до 1 000 000 (категории `D` и `B`).\n",
    "\n",
    "Несколько выше у клиентов с доходами от от 50 001 до 200 000 и свыше 1 000 000 (категории `C` и `A`).\n",
    "\n",
    "Самое высокое число просрочек у клиентов с минимальным доходом до 30 000 рублей (категория `E`).\n",
    "\n",
    "При этом большинство клиентов по уровню дохода принадлежат категориям `B` и `C`."
   ]
  },
  {
   "cell_type": "markdown",
   "id": "b60df082",
   "metadata": {},
   "source": [
    "##### Вопрос 4: Как разные цели кредита влияют на его возврат в срок:"
   ]
  },
  {
   "cell_type": "markdown",
   "id": "9bcba5a0",
   "metadata": {},
   "source": [
    "Чтобы оценить зависимость наличия задолжностей от цели кредита, проведем анализ по столбцам `purpose` и `debt`.\n",
    "\n",
    "Для этого сгрупперуем данные по столбцу `purpose` и расчитаем для каждой группы общее число клиентов и суммарное число должников по столбцу `debt`."
   ]
  },
  {
   "cell_type": "code",
   "execution_count": 127,
   "id": "3d688da8",
   "metadata": {},
   "outputs": [
    {
     "data": {
      "text/html": [
       "<div>\n",
       "<style scoped>\n",
       "    .dataframe tbody tr th:only-of-type {\n",
       "        vertical-align: middle;\n",
       "    }\n",
       "\n",
       "    .dataframe tbody tr th {\n",
       "        vertical-align: top;\n",
       "    }\n",
       "\n",
       "    .dataframe thead tr th {\n",
       "        text-align: left;\n",
       "    }\n",
       "\n",
       "    .dataframe thead tr:last-of-type th {\n",
       "        text-align: right;\n",
       "    }\n",
       "</style>\n",
       "<table border=\"1\" class=\"dataframe\">\n",
       "  <thead>\n",
       "    <tr>\n",
       "      <th></th>\n",
       "      <th colspan=\"2\" halign=\"left\">debt</th>\n",
       "    </tr>\n",
       "    <tr>\n",
       "      <th></th>\n",
       "      <th>sum</th>\n",
       "      <th>count</th>\n",
       "    </tr>\n",
       "    <tr>\n",
       "      <th>purpose</th>\n",
       "      <th></th>\n",
       "      <th></th>\n",
       "    </tr>\n",
       "  </thead>\n",
       "  <tbody>\n",
       "    <tr>\n",
       "      <th>автомобиль</th>\n",
       "      <td>402</td>\n",
       "      <td>4272</td>\n",
       "    </tr>\n",
       "    <tr>\n",
       "      <th>образование</th>\n",
       "      <td>370</td>\n",
       "      <td>3964</td>\n",
       "    </tr>\n",
       "    <tr>\n",
       "      <th>операции с недвижимостью</th>\n",
       "      <td>781</td>\n",
       "      <td>10578</td>\n",
       "    </tr>\n",
       "    <tr>\n",
       "      <th>свадьба</th>\n",
       "      <td>186</td>\n",
       "      <td>2306</td>\n",
       "    </tr>\n",
       "  </tbody>\n",
       "</table>\n",
       "</div>"
      ],
      "text/plain": [
       "                         debt       \n",
       "                          sum  count\n",
       "purpose                             \n",
       "автомобиль                402   4272\n",
       "образование               370   3964\n",
       "операции с недвижимостью  781  10578\n",
       "свадьба                   186   2306"
      ]
     },
     "execution_count": 127,
     "metadata": {},
     "output_type": "execute_result"
    }
   ],
   "source": [
    "debt_to_purpose = df.groupby('purpose').agg({'debt': ['sum', 'count']})\n",
    "debt_to_purpose"
   ]
  },
  {
   "cell_type": "markdown",
   "id": "0c9e261d",
   "metadata": {},
   "source": [
    "Расчитаем число должников в процентном соотношении для каждой группы."
   ]
  },
  {
   "cell_type": "code",
   "execution_count": 128,
   "id": "d8b05c80",
   "metadata": {},
   "outputs": [
    {
     "data": {
      "text/plain": [
       "purpose\n",
       "автомобиль                  9.410112\n",
       "образование                 9.334006\n",
       "свадьба                     8.065915\n",
       "операции с недвижимостью    7.383248\n",
       "dtype: float64"
      ]
     },
     "execution_count": 128,
     "metadata": {},
     "output_type": "execute_result"
    }
   ],
   "source": [
    "# debt_to_purpose_persent - процент задолжностей в зависимости от цели кредита\n",
    "debt_to_purpose_persent = debt_to_purpose['debt']['sum'] / debt_to_purpose['debt']['count'] * 100\n",
    "debt_to_purpose_persent.sort_values(ascending=False)"
   ]
  },
  {
   "cell_type": "markdown",
   "id": "e81bc055",
   "metadata": {},
   "source": [
    "##### Вывод 4:"
   ]
  },
  {
   "cell_type": "markdown",
   "id": "fccfb158",
   "metadata": {},
   "source": [
    "Согласно полученным данным существует зависимость между целью кредита и риском возникновения задолжности.\n",
    "\n",
    "Так наибольшее число просрочек приходится на кредитования расходов на автомобили и образование - 9.41 и 9.33% соответсвенно.\n",
    "\n",
    "Ниже число задолжносей при заеме на свадебные расходы - 8.07%.\n",
    "\n",
    "Самое низкое для заемов на операции с недвижимостью - 7.38%."
   ]
  },
  {
   "cell_type": "markdown",
   "id": "5b2bc0d0",
   "metadata": {},
   "source": [
    "## Общий вывод:"
   ]
  },
  {
   "cell_type": "markdown",
   "id": "52ab28c7",
   "metadata": {},
   "source": [
    "Мы проанализировали 4 гипотезы и выявили следующее:\n",
    "1. Данные по количеству детей плохо коррелируют с возвратом кредита в срок. Тем не менее, установлено, что меньше всего задолжностей у клиентов без детей (если опустить данные по 9 клиентм с 5 детьми), а больше всего у клиентов с 4 детьми. Однако внутри групп от 1 до 5 детей прямая зависимость отсутсвует.<br>Не рекомендуется ориентироваться на количесво детей при составлении системы оценки.\n",
    "\n",
    "\n",
    "2. Зависимость между семейным положением и возвратом кредита в срок присутствует и ярко выражена. Так минимальное число должников среди вдов и вдовцов, максимальное - среди холостых и проживающих в гражданском браке.\n",
    "\n",
    "\n",
    "3. Зависимость между уровнем дохода и возвратом кредита в срок существует, но не является линейной. Так максимальное число просрочек у клиентов с самым низким доходом категория `E`, а минимальное - у следующей в порядке увеличения доходов категории `D`.\n",
    "\n",
    "\n",
    "4. Установлено, что цели кредита действительно влияют на его возврат в срок. Наибольшее число задолжностей по кредитам на операции с автомобилями, а наименьшее - с недвижимостью.\n"
   ]
  }
 ],
 "metadata": {
  "ExecuteTimeLog": [
   {
    "duration": 544,
    "start_time": "2022-05-01T09:40:38.335Z"
   },
   {
    "duration": 184,
    "start_time": "2022-05-01T09:40:38.882Z"
   },
   {
    "duration": 32,
    "start_time": "2022-05-01T09:40:39.069Z"
   },
   {
    "duration": 26,
    "start_time": "2022-05-01T09:40:39.104Z"
   },
   {
    "duration": 16,
    "start_time": "2022-05-01T09:40:39.155Z"
   },
   {
    "duration": 20,
    "start_time": "2022-05-01T09:40:39.174Z"
   },
   {
    "duration": 5,
    "start_time": "2022-05-01T09:40:39.196Z"
   },
   {
    "duration": 64,
    "start_time": "2022-05-01T09:40:39.204Z"
   },
   {
    "duration": 71,
    "start_time": "2022-05-01T09:40:39.272Z"
   },
   {
    "duration": 10,
    "start_time": "2022-05-01T09:40:39.355Z"
   },
   {
    "duration": 15,
    "start_time": "2022-05-01T09:40:39.366Z"
   },
   {
    "duration": 32,
    "start_time": "2022-05-01T09:40:39.383Z"
   },
   {
    "duration": 9,
    "start_time": "2022-05-01T09:40:39.417Z"
   },
   {
    "duration": 21,
    "start_time": "2022-05-01T09:40:39.428Z"
   },
   {
    "duration": 39,
    "start_time": "2022-05-01T09:40:39.451Z"
   },
   {
    "duration": 15,
    "start_time": "2022-05-01T09:40:39.492Z"
   },
   {
    "duration": 46,
    "start_time": "2022-05-01T09:40:39.508Z"
   },
   {
    "duration": 36,
    "start_time": "2022-05-01T09:40:39.556Z"
   },
   {
    "duration": 21,
    "start_time": "2022-05-01T09:40:39.594Z"
   },
   {
    "duration": 45,
    "start_time": "2022-05-01T09:40:39.618Z"
   },
   {
    "duration": 22,
    "start_time": "2022-05-01T09:40:39.665Z"
   },
   {
    "duration": 73,
    "start_time": "2022-05-01T09:40:39.689Z"
   },
   {
    "duration": 10,
    "start_time": "2022-05-01T09:40:39.764Z"
   },
   {
    "duration": 10,
    "start_time": "2022-05-01T09:40:39.776Z"
   },
   {
    "duration": 18,
    "start_time": "2022-05-01T09:40:39.788Z"
   },
   {
    "duration": 24,
    "start_time": "2022-05-01T09:40:39.808Z"
   },
   {
    "duration": 32,
    "start_time": "2022-05-01T09:40:39.833Z"
   },
   {
    "duration": 12,
    "start_time": "2022-05-01T09:40:39.869Z"
   },
   {
    "duration": 30,
    "start_time": "2022-05-01T09:40:39.883Z"
   },
   {
    "duration": 43,
    "start_time": "2022-05-01T09:40:39.915Z"
   },
   {
    "duration": 23,
    "start_time": "2022-05-01T09:40:39.961Z"
   },
   {
    "duration": 26,
    "start_time": "2022-05-01T09:40:39.986Z"
   },
   {
    "duration": 44,
    "start_time": "2022-05-01T09:40:40.014Z"
   },
   {
    "duration": 16,
    "start_time": "2022-05-01T09:40:40.061Z"
   },
   {
    "duration": 9,
    "start_time": "2022-05-01T09:40:40.080Z"
   },
   {
    "duration": 21,
    "start_time": "2022-05-01T09:40:40.092Z"
   },
   {
    "duration": 39,
    "start_time": "2022-05-01T09:40:40.116Z"
   },
   {
    "duration": 18,
    "start_time": "2022-05-01T09:40:40.158Z"
   },
   {
    "duration": 24,
    "start_time": "2022-05-01T09:40:40.179Z"
   },
   {
    "duration": 11,
    "start_time": "2022-05-01T09:40:40.205Z"
   },
   {
    "duration": 57,
    "start_time": "2022-05-01T09:40:40.219Z"
   },
   {
    "duration": 10,
    "start_time": "2022-05-01T09:40:40.279Z"
   },
   {
    "duration": 45,
    "start_time": "2022-05-01T09:40:40.292Z"
   },
   {
    "duration": 40,
    "start_time": "2022-05-01T09:40:40.339Z"
   },
   {
    "duration": 31,
    "start_time": "2022-05-01T09:40:40.381Z"
   },
   {
    "duration": 11,
    "start_time": "2022-05-01T09:40:40.415Z"
   },
   {
    "duration": 434,
    "start_time": "2022-05-01T09:46:40.324Z"
   },
   {
    "duration": 123,
    "start_time": "2022-05-01T09:46:40.761Z"
   },
   {
    "duration": 26,
    "start_time": "2022-05-01T09:46:40.886Z"
   },
   {
    "duration": 23,
    "start_time": "2022-05-01T09:46:40.915Z"
   },
   {
    "duration": 29,
    "start_time": "2022-05-01T09:46:40.939Z"
   },
   {
    "duration": 19,
    "start_time": "2022-05-01T09:46:40.970Z"
   },
   {
    "duration": 4,
    "start_time": "2022-05-01T09:46:40.992Z"
   },
   {
    "duration": 23,
    "start_time": "2022-05-01T09:46:40.999Z"
   },
   {
    "duration": 40,
    "start_time": "2022-05-01T09:46:41.055Z"
   },
   {
    "duration": 9,
    "start_time": "2022-05-01T09:46:41.098Z"
   },
   {
    "duration": 6,
    "start_time": "2022-05-01T09:46:41.110Z"
   },
   {
    "duration": 51,
    "start_time": "2022-05-01T09:46:41.118Z"
   },
   {
    "duration": 8,
    "start_time": "2022-05-01T09:46:41.172Z"
   },
   {
    "duration": 12,
    "start_time": "2022-05-01T09:46:41.182Z"
   },
   {
    "duration": 29,
    "start_time": "2022-05-01T09:46:41.196Z"
   },
   {
    "duration": 35,
    "start_time": "2022-05-01T09:46:41.227Z"
   },
   {
    "duration": 25,
    "start_time": "2022-05-01T09:46:41.264Z"
   },
   {
    "duration": 32,
    "start_time": "2022-05-01T09:46:41.291Z"
   },
   {
    "duration": 53,
    "start_time": "2022-05-01T09:46:41.325Z"
   },
   {
    "duration": 30,
    "start_time": "2022-05-01T09:46:41.380Z"
   },
   {
    "duration": 52,
    "start_time": "2022-05-01T09:46:41.412Z"
   },
   {
    "duration": 98,
    "start_time": "2022-05-01T09:46:41.466Z"
   },
   {
    "duration": 10,
    "start_time": "2022-05-01T09:46:41.565Z"
   },
   {
    "duration": 7,
    "start_time": "2022-05-01T09:46:41.577Z"
   },
   {
    "duration": 7,
    "start_time": "2022-05-01T09:46:41.586Z"
   },
   {
    "duration": 17,
    "start_time": "2022-05-01T09:46:41.596Z"
   },
   {
    "duration": 50,
    "start_time": "2022-05-01T09:46:41.615Z"
   },
   {
    "duration": 11,
    "start_time": "2022-05-01T09:46:41.670Z"
   },
   {
    "duration": 30,
    "start_time": "2022-05-01T09:46:41.683Z"
   },
   {
    "duration": 56,
    "start_time": "2022-05-01T09:46:41.714Z"
   },
   {
    "duration": 26,
    "start_time": "2022-05-01T09:46:41.772Z"
   },
   {
    "duration": 15,
    "start_time": "2022-05-01T09:46:41.800Z"
   },
   {
    "duration": 44,
    "start_time": "2022-05-01T09:46:41.818Z"
   },
   {
    "duration": 14,
    "start_time": "2022-05-01T09:46:41.864Z"
   },
   {
    "duration": 9,
    "start_time": "2022-05-01T09:46:41.879Z"
   },
   {
    "duration": 16,
    "start_time": "2022-05-01T09:46:41.890Z"
   },
   {
    "duration": 13,
    "start_time": "2022-05-01T09:46:41.908Z"
   },
   {
    "duration": 39,
    "start_time": "2022-05-01T09:46:41.923Z"
   },
   {
    "duration": 17,
    "start_time": "2022-05-01T09:46:41.964Z"
   },
   {
    "duration": 10,
    "start_time": "2022-05-01T09:46:41.983Z"
   },
   {
    "duration": 33,
    "start_time": "2022-05-01T09:46:41.996Z"
   },
   {
    "duration": 30,
    "start_time": "2022-05-01T09:46:42.031Z"
   },
   {
    "duration": 17,
    "start_time": "2022-05-01T09:46:42.063Z"
   },
   {
    "duration": 7,
    "start_time": "2022-05-01T09:46:42.082Z"
   },
   {
    "duration": 21,
    "start_time": "2022-05-01T09:46:42.091Z"
   },
   {
    "duration": 8,
    "start_time": "2022-05-01T09:46:42.114Z"
   }
  ],
  "kernelspec": {
   "display_name": "Python 3 (ipykernel)",
   "language": "python",
   "name": "python3"
  },
  "language_info": {
   "codemirror_mode": {
    "name": "ipython",
    "version": 3
   },
   "file_extension": ".py",
   "mimetype": "text/x-python",
   "name": "python",
   "nbconvert_exporter": "python",
   "pygments_lexer": "ipython3",
   "version": "3.9.12"
  },
  "toc": {
   "base_numbering": 1,
   "nav_menu": {},
   "number_sections": false,
   "sideBar": true,
   "skip_h1_title": false,
   "title_cell": "Содержание",
   "title_sidebar": "Contents",
   "toc_cell": true,
   "toc_position": {},
   "toc_section_display": true,
   "toc_window_display": true
  }
 },
 "nbformat": 4,
 "nbformat_minor": 5
}
