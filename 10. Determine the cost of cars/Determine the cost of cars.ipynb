{
 "cells": [
  {
   "cell_type": "markdown",
   "metadata": {
    "toc": true
   },
   "source": [
    "<h1>Содержание<span class=\"tocSkip\"></span></h1>\n",
    "<div class=\"toc\"><ul class=\"toc-item\"><li><span><a href=\"#Обзор-и-подготовка-данных\" data-toc-modified-id=\"Обзор-и-подготовка-данных-1\"><span class=\"toc-item-num\">1&nbsp;&nbsp;</span>Обзор и подготовка данных</a></span><ul class=\"toc-item\"><li><span><a href=\"#Импорт-библиотек\" data-toc-modified-id=\"Импорт-библиотек-1.1\"><span class=\"toc-item-num\">1.1&nbsp;&nbsp;</span>Импорт библиотек</a></span></li><li><span><a href=\"#Обзор-данных\" data-toc-modified-id=\"Обзор-данных-1.2\"><span class=\"toc-item-num\">1.2&nbsp;&nbsp;</span>Обзор данных</a></span></li><li><span><a href=\"#Предобработка-данных\" data-toc-modified-id=\"Предобработка-данных-1.3\"><span class=\"toc-item-num\">1.3&nbsp;&nbsp;</span>Предобработка данных</a></span></li><li><span><a href=\"#Кодирование-данных\" data-toc-modified-id=\"Кодирование-данных-1.4\"><span class=\"toc-item-num\">1.4&nbsp;&nbsp;</span>Кодирование данных</a></span></li><li><span><a href=\"#Разделение-данных-на-выборки\" data-toc-modified-id=\"Разделение-данных-на-выборки-1.5\"><span class=\"toc-item-num\">1.5&nbsp;&nbsp;</span>Разделение данных на выборки</a></span></li></ul></li><li><span><a href=\"#Обучение-и-проверка-моделей\" data-toc-modified-id=\"Обучение-и-проверка-моделей-2\"><span class=\"toc-item-num\">2&nbsp;&nbsp;</span>Обучение и проверка моделей</a></span></li><li><span><a href=\"#Анализ-моделей\" data-toc-modified-id=\"Анализ-моделей-3\"><span class=\"toc-item-num\">3&nbsp;&nbsp;</span>Анализ моделей</a></span></li><li><span><a href=\"#Тестирование-лучшей-модели\" data-toc-modified-id=\"Тестирование-лучшей-модели-4\"><span class=\"toc-item-num\">4&nbsp;&nbsp;</span>Тестирование лучшей модели</a></span></li><li><span><a href=\"#Вывод\" data-toc-modified-id=\"Вывод-5\"><span class=\"toc-item-num\">5&nbsp;&nbsp;</span>Вывод</a></span></li><li><span><a href=\"#Чек-лист-проверки\" data-toc-modified-id=\"Чек-лист-проверки-6\"><span class=\"toc-item-num\">6&nbsp;&nbsp;</span>Чек-лист проверки</a></span></li></ul></div>"
   ]
  },
  {
   "cell_type": "markdown",
   "metadata": {},
   "source": [
    "# Определение стоимости автомобилей"
   ]
  },
  {
   "attachments": {},
   "cell_type": "markdown",
   "metadata": {},
   "source": [
    "**Иcходные данные**\n",
    "\n",
    "Сервис по продаже автомобилей с пробегом разрабатывает приложение для привлечения новых клиентов. В нём можно быстро узнать рыночную стоимость своего автомобиля. В нашем распоряжении исторические данные: технические характеристики, комплектации и цены автомобилей. \n",
    "\n",
    "**Цель исследования**\n",
    "\n",
    "Построить модель для определения стоимости.\n",
    "\n",
    "Заказчику важны:\n",
    "\n",
    "- качество предсказания;\n",
    "- скорость предсказания;\n",
    "- время обучения.\n",
    "\n",
    "**Ход исследования**\n",
    "\n",
    "1. Обзор и подготовка данных.\n",
    "2. Обучение и проверка различных моделей.\n",
    "3. Анализ характеристик работы моделей.\n",
    "4. Выбор и финальное тестирование лучшей модели."
   ]
  },
  {
   "cell_type": "markdown",
   "metadata": {},
   "source": [
    "## Обзор и подготовка данных"
   ]
  },
  {
   "cell_type": "markdown",
   "metadata": {},
   "source": [
    "### Импорт библиотек"
   ]
  },
  {
   "cell_type": "code",
   "execution_count": 87,
   "metadata": {},
   "outputs": [],
   "source": [
    "import matplotlib.pyplot as plt\n",
    "import numpy as np\n",
    "import os\n",
    "import pandas as pd\n",
    "import pandas_profiling\n",
    "\n",
    "from catboost import CatBoostRegressor\n",
    "\n",
    "from lightgbm import LGBMRegressor\n",
    "\n",
    "from sklearn.dummy import DummyRegressor\n",
    "from sklearn.ensemble import BaggingRegressor\n",
    "from sklearn.ensemble import RandomForestRegressor\n",
    "from sklearn.linear_model import ElasticNet\n",
    "from sklearn.linear_model import LinearRegression\n",
    "from sklearn.metrics import mean_squared_error\n",
    "from sklearn.model_selection import cross_val_score\n",
    "from sklearn.model_selection import cross_validate\n",
    "from sklearn.model_selection import GridSearchCV\n",
    "from sklearn.model_selection import RepeatedKFold\n",
    "from sklearn.model_selection import train_test_split\n",
    "from sklearn.preprocessing import OneHotEncoder\n",
    "from sklearn.preprocessing import OrdinalEncoder\n"
   ]
  },
  {
   "cell_type": "markdown",
   "metadata": {},
   "source": [
    "### Обзор данных"
   ]
  },
  {
   "cell_type": "code",
   "execution_count": 88,
   "metadata": {},
   "outputs": [],
   "source": [
    "# сохраним данные в переменную\n",
    "\n",
    "pth1 = 'autos.csv'\n",
    "pth2 = '/datasets/autos.csv'\n",
    "\n",
    "if os.path.exists(pth1):\n",
    "    df = pd.read_csv(pth1)\n",
    "elif os.path.exists(pth2):\n",
    "    df =  pd.read_csv(pth2)\n",
    "else:\n",
    "    print('Файл не найден!')"
   ]
  },
  {
   "cell_type": "markdown",
   "metadata": {},
   "source": [
    "Посмотрим исходные данные."
   ]
  },
  {
   "cell_type": "code",
   "execution_count": 89,
   "metadata": {},
   "outputs": [
    {
     "name": "stdout",
     "output_type": "stream",
     "text": [
      "<class 'pandas.core.frame.DataFrame'>\n",
      "RangeIndex: 354369 entries, 0 to 354368\n",
      "Data columns (total 16 columns):\n",
      " #   Column             Non-Null Count   Dtype \n",
      "---  ------             --------------   ----- \n",
      " 0   DateCrawled        354369 non-null  object\n",
      " 1   Price              354369 non-null  int64 \n",
      " 2   VehicleType        316879 non-null  object\n",
      " 3   RegistrationYear   354369 non-null  int64 \n",
      " 4   Gearbox            334536 non-null  object\n",
      " 5   Power              354369 non-null  int64 \n",
      " 6   Model              334664 non-null  object\n",
      " 7   Kilometer          354369 non-null  int64 \n",
      " 8   RegistrationMonth  354369 non-null  int64 \n",
      " 9   FuelType           321474 non-null  object\n",
      " 10  Brand              354369 non-null  object\n",
      " 11  NotRepaired        283215 non-null  object\n",
      " 12  DateCreated        354369 non-null  object\n",
      " 13  NumberOfPictures   354369 non-null  int64 \n",
      " 14  PostalCode         354369 non-null  int64 \n",
      " 15  LastSeen           354369 non-null  object\n",
      "dtypes: int64(7), object(9)\n",
      "memory usage: 43.3+ MB\n",
      "None\n"
     ]
    },
    {
     "data": {
      "text/html": [
       "<div>\n",
       "<style scoped>\n",
       "    .dataframe tbody tr th:only-of-type {\n",
       "        vertical-align: middle;\n",
       "    }\n",
       "\n",
       "    .dataframe tbody tr th {\n",
       "        vertical-align: top;\n",
       "    }\n",
       "\n",
       "    .dataframe thead th {\n",
       "        text-align: right;\n",
       "    }\n",
       "</style>\n",
       "<table border=\"1\" class=\"dataframe\">\n",
       "  <thead>\n",
       "    <tr style=\"text-align: right;\">\n",
       "      <th></th>\n",
       "      <th>DateCrawled</th>\n",
       "      <th>Price</th>\n",
       "      <th>VehicleType</th>\n",
       "      <th>RegistrationYear</th>\n",
       "      <th>Gearbox</th>\n",
       "      <th>Power</th>\n",
       "      <th>Model</th>\n",
       "      <th>Kilometer</th>\n",
       "      <th>RegistrationMonth</th>\n",
       "      <th>FuelType</th>\n",
       "      <th>Brand</th>\n",
       "      <th>NotRepaired</th>\n",
       "      <th>DateCreated</th>\n",
       "      <th>NumberOfPictures</th>\n",
       "      <th>PostalCode</th>\n",
       "      <th>LastSeen</th>\n",
       "    </tr>\n",
       "  </thead>\n",
       "  <tbody>\n",
       "    <tr>\n",
       "      <th>0</th>\n",
       "      <td>2016-03-24 11:52:17</td>\n",
       "      <td>480</td>\n",
       "      <td>NaN</td>\n",
       "      <td>1993</td>\n",
       "      <td>manual</td>\n",
       "      <td>0</td>\n",
       "      <td>golf</td>\n",
       "      <td>150000</td>\n",
       "      <td>0</td>\n",
       "      <td>petrol</td>\n",
       "      <td>volkswagen</td>\n",
       "      <td>NaN</td>\n",
       "      <td>2016-03-24 00:00:00</td>\n",
       "      <td>0</td>\n",
       "      <td>70435</td>\n",
       "      <td>2016-04-07 03:16:57</td>\n",
       "    </tr>\n",
       "    <tr>\n",
       "      <th>1</th>\n",
       "      <td>2016-03-24 10:58:45</td>\n",
       "      <td>18300</td>\n",
       "      <td>coupe</td>\n",
       "      <td>2011</td>\n",
       "      <td>manual</td>\n",
       "      <td>190</td>\n",
       "      <td>NaN</td>\n",
       "      <td>125000</td>\n",
       "      <td>5</td>\n",
       "      <td>gasoline</td>\n",
       "      <td>audi</td>\n",
       "      <td>yes</td>\n",
       "      <td>2016-03-24 00:00:00</td>\n",
       "      <td>0</td>\n",
       "      <td>66954</td>\n",
       "      <td>2016-04-07 01:46:50</td>\n",
       "    </tr>\n",
       "    <tr>\n",
       "      <th>2</th>\n",
       "      <td>2016-03-14 12:52:21</td>\n",
       "      <td>9800</td>\n",
       "      <td>suv</td>\n",
       "      <td>2004</td>\n",
       "      <td>auto</td>\n",
       "      <td>163</td>\n",
       "      <td>grand</td>\n",
       "      <td>125000</td>\n",
       "      <td>8</td>\n",
       "      <td>gasoline</td>\n",
       "      <td>jeep</td>\n",
       "      <td>NaN</td>\n",
       "      <td>2016-03-14 00:00:00</td>\n",
       "      <td>0</td>\n",
       "      <td>90480</td>\n",
       "      <td>2016-04-05 12:47:46</td>\n",
       "    </tr>\n",
       "    <tr>\n",
       "      <th>3</th>\n",
       "      <td>2016-03-17 16:54:04</td>\n",
       "      <td>1500</td>\n",
       "      <td>small</td>\n",
       "      <td>2001</td>\n",
       "      <td>manual</td>\n",
       "      <td>75</td>\n",
       "      <td>golf</td>\n",
       "      <td>150000</td>\n",
       "      <td>6</td>\n",
       "      <td>petrol</td>\n",
       "      <td>volkswagen</td>\n",
       "      <td>no</td>\n",
       "      <td>2016-03-17 00:00:00</td>\n",
       "      <td>0</td>\n",
       "      <td>91074</td>\n",
       "      <td>2016-03-17 17:40:17</td>\n",
       "    </tr>\n",
       "    <tr>\n",
       "      <th>4</th>\n",
       "      <td>2016-03-31 17:25:20</td>\n",
       "      <td>3600</td>\n",
       "      <td>small</td>\n",
       "      <td>2008</td>\n",
       "      <td>manual</td>\n",
       "      <td>69</td>\n",
       "      <td>fabia</td>\n",
       "      <td>90000</td>\n",
       "      <td>7</td>\n",
       "      <td>gasoline</td>\n",
       "      <td>skoda</td>\n",
       "      <td>no</td>\n",
       "      <td>2016-03-31 00:00:00</td>\n",
       "      <td>0</td>\n",
       "      <td>60437</td>\n",
       "      <td>2016-04-06 10:17:21</td>\n",
       "    </tr>\n",
       "    <tr>\n",
       "      <th>5</th>\n",
       "      <td>2016-04-04 17:36:23</td>\n",
       "      <td>650</td>\n",
       "      <td>sedan</td>\n",
       "      <td>1995</td>\n",
       "      <td>manual</td>\n",
       "      <td>102</td>\n",
       "      <td>3er</td>\n",
       "      <td>150000</td>\n",
       "      <td>10</td>\n",
       "      <td>petrol</td>\n",
       "      <td>bmw</td>\n",
       "      <td>yes</td>\n",
       "      <td>2016-04-04 00:00:00</td>\n",
       "      <td>0</td>\n",
       "      <td>33775</td>\n",
       "      <td>2016-04-06 19:17:07</td>\n",
       "    </tr>\n",
       "    <tr>\n",
       "      <th>6</th>\n",
       "      <td>2016-04-01 20:48:51</td>\n",
       "      <td>2200</td>\n",
       "      <td>convertible</td>\n",
       "      <td>2004</td>\n",
       "      <td>manual</td>\n",
       "      <td>109</td>\n",
       "      <td>2_reihe</td>\n",
       "      <td>150000</td>\n",
       "      <td>8</td>\n",
       "      <td>petrol</td>\n",
       "      <td>peugeot</td>\n",
       "      <td>no</td>\n",
       "      <td>2016-04-01 00:00:00</td>\n",
       "      <td>0</td>\n",
       "      <td>67112</td>\n",
       "      <td>2016-04-05 18:18:39</td>\n",
       "    </tr>\n",
       "    <tr>\n",
       "      <th>7</th>\n",
       "      <td>2016-03-21 18:54:38</td>\n",
       "      <td>0</td>\n",
       "      <td>sedan</td>\n",
       "      <td>1980</td>\n",
       "      <td>manual</td>\n",
       "      <td>50</td>\n",
       "      <td>other</td>\n",
       "      <td>40000</td>\n",
       "      <td>7</td>\n",
       "      <td>petrol</td>\n",
       "      <td>volkswagen</td>\n",
       "      <td>no</td>\n",
       "      <td>2016-03-21 00:00:00</td>\n",
       "      <td>0</td>\n",
       "      <td>19348</td>\n",
       "      <td>2016-03-25 16:47:58</td>\n",
       "    </tr>\n",
       "    <tr>\n",
       "      <th>8</th>\n",
       "      <td>2016-04-04 23:42:13</td>\n",
       "      <td>14500</td>\n",
       "      <td>bus</td>\n",
       "      <td>2014</td>\n",
       "      <td>manual</td>\n",
       "      <td>125</td>\n",
       "      <td>c_max</td>\n",
       "      <td>30000</td>\n",
       "      <td>8</td>\n",
       "      <td>petrol</td>\n",
       "      <td>ford</td>\n",
       "      <td>NaN</td>\n",
       "      <td>2016-04-04 00:00:00</td>\n",
       "      <td>0</td>\n",
       "      <td>94505</td>\n",
       "      <td>2016-04-04 23:42:13</td>\n",
       "    </tr>\n",
       "    <tr>\n",
       "      <th>9</th>\n",
       "      <td>2016-03-17 10:53:50</td>\n",
       "      <td>999</td>\n",
       "      <td>small</td>\n",
       "      <td>1998</td>\n",
       "      <td>manual</td>\n",
       "      <td>101</td>\n",
       "      <td>golf</td>\n",
       "      <td>150000</td>\n",
       "      <td>0</td>\n",
       "      <td>NaN</td>\n",
       "      <td>volkswagen</td>\n",
       "      <td>NaN</td>\n",
       "      <td>2016-03-17 00:00:00</td>\n",
       "      <td>0</td>\n",
       "      <td>27472</td>\n",
       "      <td>2016-03-31 17:17:06</td>\n",
       "    </tr>\n",
       "  </tbody>\n",
       "</table>\n",
       "</div>"
      ],
      "text/plain": [
       "           DateCrawled  Price  VehicleType  RegistrationYear Gearbox  Power  \\\n",
       "0  2016-03-24 11:52:17    480          NaN              1993  manual      0   \n",
       "1  2016-03-24 10:58:45  18300        coupe              2011  manual    190   \n",
       "2  2016-03-14 12:52:21   9800          suv              2004    auto    163   \n",
       "3  2016-03-17 16:54:04   1500        small              2001  manual     75   \n",
       "4  2016-03-31 17:25:20   3600        small              2008  manual     69   \n",
       "5  2016-04-04 17:36:23    650        sedan              1995  manual    102   \n",
       "6  2016-04-01 20:48:51   2200  convertible              2004  manual    109   \n",
       "7  2016-03-21 18:54:38      0        sedan              1980  manual     50   \n",
       "8  2016-04-04 23:42:13  14500          bus              2014  manual    125   \n",
       "9  2016-03-17 10:53:50    999        small              1998  manual    101   \n",
       "\n",
       "     Model  Kilometer  RegistrationMonth  FuelType       Brand NotRepaired  \\\n",
       "0     golf     150000                  0    petrol  volkswagen         NaN   \n",
       "1      NaN     125000                  5  gasoline        audi         yes   \n",
       "2    grand     125000                  8  gasoline        jeep         NaN   \n",
       "3     golf     150000                  6    petrol  volkswagen          no   \n",
       "4    fabia      90000                  7  gasoline       skoda          no   \n",
       "5      3er     150000                 10    petrol         bmw         yes   \n",
       "6  2_reihe     150000                  8    petrol     peugeot          no   \n",
       "7    other      40000                  7    petrol  volkswagen          no   \n",
       "8    c_max      30000                  8    petrol        ford         NaN   \n",
       "9     golf     150000                  0       NaN  volkswagen         NaN   \n",
       "\n",
       "           DateCreated  NumberOfPictures  PostalCode             LastSeen  \n",
       "0  2016-03-24 00:00:00                 0       70435  2016-04-07 03:16:57  \n",
       "1  2016-03-24 00:00:00                 0       66954  2016-04-07 01:46:50  \n",
       "2  2016-03-14 00:00:00                 0       90480  2016-04-05 12:47:46  \n",
       "3  2016-03-17 00:00:00                 0       91074  2016-03-17 17:40:17  \n",
       "4  2016-03-31 00:00:00                 0       60437  2016-04-06 10:17:21  \n",
       "5  2016-04-04 00:00:00                 0       33775  2016-04-06 19:17:07  \n",
       "6  2016-04-01 00:00:00                 0       67112  2016-04-05 18:18:39  \n",
       "7  2016-03-21 00:00:00                 0       19348  2016-03-25 16:47:58  \n",
       "8  2016-04-04 00:00:00                 0       94505  2016-04-04 23:42:13  \n",
       "9  2016-03-17 00:00:00                 0       27472  2016-03-31 17:17:06  "
      ]
     },
     "execution_count": 89,
     "metadata": {},
     "output_type": "execute_result"
    }
   ],
   "source": [
    "print(df.info())\n",
    "df.head(10)"
   ]
  },
  {
   "cell_type": "markdown",
   "metadata": {},
   "source": [
    "Имеем в наличии 354369 объектов и 16 признаков.\n",
    "\n",
    "Согласно документации к данным:\n",
    "\n",
    "**Признаки**\n",
    "\n",
    "* `DateCrawled` — дата скачивания анкеты из базы\n",
    "* `VehicleType` — тип автомобильного кузова\n",
    "* `RegistrationYear` — год регистрации автомобиля\n",
    "* `Gearbox` — тип коробки передач\n",
    "* `Power` — мощность (л. с.)\n",
    "* `Model` — модель автомобиля\n",
    "* `Kilometer` — пробег (км)\n",
    "* `RegistrationMonth` — месяц регистрации автомобиля\n",
    "* `FuelType` — тип топлива\n",
    "* `Brand` — марка автомобиля\n",
    "* `NotRepaired` — была машина в ремонте или нет\n",
    "* `DateCreated` — дата создания анкеты\n",
    "* `NumberOfPictures` — количество фотографий автомобиля\n",
    "* `PostalCode` — почтовый индекс владельца анкеты (пользователя)\n",
    "* `LastSeen` — дата последней активности пользователя\n",
    "\n",
    "**Целевой признак**\n",
    "\n",
    "* `Price` — цена (евро)"
   ]
  },
  {
   "cell_type": "markdown",
   "metadata": {},
   "source": [
    "Можем сделать следующие выводы:\n",
    "1. По части данных имеем пропуски. Их необходимо проанализировать и устранить.\n",
    "2. Признак `DateCrawled` вряд ли повлияет на цену автомобиля. Из него можно было бы сделать индекс или удалить.\n",
    "3. `DateCreated` нуждается в дополнительном анализе. Было бы замечательно уточнить у заказчика - эквиволентно ли это поле дате размещения объявления о продаже. Год и месяц размещения объявления могут влиять на цену.\n",
    "4. `LastSeen` - теоретически может говорить о скорости продажи автомобиля.\n",
    "5. `RegistrationMonth` - отдельно от года вряд ли повлияет на цену автомобиля. Возможно лучше удалить.\n",
    "6. `PostalCode` — может быть признаком региона.\n",
    "7. Необходимо также проверить даты на дублекаты и аномалии. В часности, в значениях признка `Power` и `Price` нет пропусков, но есть аномальные значения - 0.\n",
    "8. 9 из 16 признаков категориальные. Даты будут иметь другой тип после обработки. А вот `VehicleType`, `Gearbox`, `Model`, `FuelType`, `Brand`, возможно, придется кодировать. Возможно, `Model` и `Brand` можно объединить в один признак, так как они связаны."
   ]
  },
  {
   "cell_type": "markdown",
   "metadata": {},
   "source": [
    "### Предобработка данных"
   ]
  },
  {
   "cell_type": "markdown",
   "metadata": {},
   "source": [
    "Удалим признаки с датой выгрузки и месяцем регистрации автомобиля."
   ]
  },
  {
   "cell_type": "code",
   "execution_count": 91,
   "metadata": {},
   "outputs": [],
   "source": [
    "df = df.drop(['DateCrawled', 'RegistrationMonth'], axis=1)\n"
   ]
  },
  {
   "cell_type": "markdown",
   "metadata": {},
   "source": [
    "Изменим тип данных для дат."
   ]
  },
  {
   "cell_type": "code",
   "execution_count": 92,
   "metadata": {},
   "outputs": [],
   "source": [
    "list = ['DateCreated', 'LastSeen']\n",
    "for _ in list:\n",
    "    df[_] = pd.to_datetime(df[_], format='%Y-%m-%d %H:%M:%S')"
   ]
  },
  {
   "cell_type": "markdown",
   "metadata": {},
   "source": [
    "`DateCreated` разделим на год и месяц. Дата не имеет значения."
   ]
  },
  {
   "cell_type": "code",
   "execution_count": 93,
   "metadata": {},
   "outputs": [],
   "source": [
    "df['YearCreated'] = df['DateCreated'].dt.year\n",
    "df['MonthCreated'] = df['DateCreated'].dt.month\n",
    "df = df.drop('DateCreated', axis=1)"
   ]
  },
  {
   "cell_type": "markdown",
   "metadata": {},
   "source": [
    "Признак `LastSeen` будет иметь смысл удалить после проверки на дублекаты."
   ]
  },
  {
   "cell_type": "code",
   "execution_count": 94,
   "metadata": {},
   "outputs": [
    {
     "name": "stdout",
     "output_type": "stream",
     "text": [
      "<class 'pandas.core.frame.DataFrame'>\n",
      "RangeIndex: 354369 entries, 0 to 354368\n",
      "Data columns (total 15 columns):\n",
      " #   Column            Non-Null Count   Dtype         \n",
      "---  ------            --------------   -----         \n",
      " 0   Price             354369 non-null  int64         \n",
      " 1   VehicleType       316879 non-null  object        \n",
      " 2   RegistrationYear  354369 non-null  int64         \n",
      " 3   Gearbox           334536 non-null  object        \n",
      " 4   Power             354369 non-null  int64         \n",
      " 5   Model             334664 non-null  object        \n",
      " 6   Kilometer         354369 non-null  int64         \n",
      " 7   FuelType          321474 non-null  object        \n",
      " 8   Brand             354369 non-null  object        \n",
      " 9   NotRepaired       283215 non-null  object        \n",
      " 10  NumberOfPictures  354369 non-null  int64         \n",
      " 11  PostalCode        354369 non-null  int64         \n",
      " 12  LastSeen          354369 non-null  datetime64[ns]\n",
      " 13  YearCreated       354369 non-null  int64         \n",
      " 14  MonthCreated      354369 non-null  int64         \n",
      "dtypes: datetime64[ns](1), int64(8), object(6)\n",
      "memory usage: 40.6+ MB\n"
     ]
    }
   ],
   "source": [
    "# проверка\n",
    "df.info()"
   ]
  },
  {
   "cell_type": "markdown",
   "metadata": {},
   "source": [
    "Посмотрим за сколько лет данные."
   ]
  },
  {
   "cell_type": "code",
   "execution_count": 95,
   "metadata": {
    "scrolled": true
   },
   "outputs": [
    {
     "data": {
      "text/plain": [
       "2016"
      ]
     },
     "execution_count": 95,
     "metadata": {},
     "output_type": "execute_result"
    }
   ],
   "source": [
    "df['YearCreated'].max()"
   ]
  },
  {
   "cell_type": "code",
   "execution_count": 96,
   "metadata": {},
   "outputs": [
    {
     "data": {
      "text/plain": [
       "2014"
      ]
     },
     "execution_count": 96,
     "metadata": {},
     "output_type": "execute_result"
    }
   ],
   "source": [
    "df['YearCreated'].min()"
   ]
  },
  {
   "cell_type": "markdown",
   "metadata": {},
   "source": [
    "Данные за 2 года, соответственно цена может зависеть от года. Скорость продажи может коррелировать с датой последнего посещения. Пока оставим оба признака."
   ]
  },
  {
   "cell_type": "markdown",
   "metadata": {},
   "source": [
    "Посмтрим признаки с пропусками."
   ]
  },
  {
   "cell_type": "code",
   "execution_count": 97,
   "metadata": {},
   "outputs": [
    {
     "data": {
      "text/plain": [
       "Price                   0\n",
       "VehicleType         37490\n",
       "RegistrationYear        0\n",
       "Gearbox             19833\n",
       "Power                   0\n",
       "Model               19705\n",
       "Kilometer               0\n",
       "FuelType            32895\n",
       "Brand                   0\n",
       "NotRepaired         71154\n",
       "NumberOfPictures        0\n",
       "PostalCode              0\n",
       "LastSeen                0\n",
       "YearCreated             0\n",
       "MonthCreated            0\n",
       "dtype: int64"
      ]
     },
     "execution_count": 97,
     "metadata": {},
     "output_type": "execute_result"
    }
   ],
   "source": [
    "df.isna().sum()"
   ]
  },
  {
   "cell_type": "markdown",
   "metadata": {},
   "source": [
    "Тип кузова частично может быть возможно восстановить по модели авто.\n",
    "\n",
    "Тип коробки передач восстановить вряд ли удастся, только если определенная модель не имеет вариантов исполнения, что сложно установить.\n",
    "\n",
    "Пропуски признака модель восстановить не удастся. Кроме того - это один из важнейших призаков. В анкете стоило бы выделить его как обязательный.\n",
    "\n",
    "Тип топлива также проблемотично восстановить.\n",
    "\n",
    "Данные об аварийности сильно влияют на цену, восстановить их нельзя.\n",
    "\n",
    "Попробуем восстановить данные, которые возможно восстановить. Пропуски в некоторых категориях можно заменить на 'unknown', а некоторые удалить. "
   ]
  },
  {
   "cell_type": "markdown",
   "metadata": {},
   "source": [
    "Для начала посмотрим, какие значения могут принимать эти категориальные признаки."
   ]
  },
  {
   "cell_type": "code",
   "execution_count": 98,
   "metadata": {},
   "outputs": [
    {
     "name": "stdout",
     "output_type": "stream",
     "text": [
      "Список значений признака VehicleType:\n",
      "sedan          91457\n",
      "small          79831\n",
      "wagon          65166\n",
      "bus            28775\n",
      "convertible    20203\n",
      "coupe          16163\n",
      "suv            11996\n",
      "other           3288\n",
      "Name: VehicleType, dtype: int64\n",
      "\n",
      "Список значений признака Gearbox:\n",
      "manual    268251\n",
      "auto       66285\n",
      "Name: Gearbox, dtype: int64\n",
      "\n",
      "Список значений признака Model:\n",
      "golf                  29232\n",
      "other                 24421\n",
      "3er                   19761\n",
      "polo                  13066\n",
      "corsa                 12570\n",
      "astra                 10809\n",
      "passat                10146\n",
      "a4                     9900\n",
      "c_klasse               8312\n",
      "5er                    7868\n",
      "e_klasse               6785\n",
      "a3                     6122\n",
      "focus                  5874\n",
      "fiesta                 5774\n",
      "a6                     5541\n",
      "twingo                 4953\n",
      "transporter            4822\n",
      "2_reihe                4816\n",
      "fortwo                 4337\n",
      "vectra                 4254\n",
      "a_klasse               4193\n",
      "mondeo                 3601\n",
      "clio                   3546\n",
      "1er                    3514\n",
      "3_reihe                3493\n",
      "touran                 3470\n",
      "punto                  3347\n",
      "zafira                 3044\n",
      "megane                 2910\n",
      "ka                     2702\n",
      "ibiza                  2702\n",
      "lupo                   2594\n",
      "octavia                2108\n",
      "fabia                  2080\n",
      "cooper                 1950\n",
      "clk                    1830\n",
      "micra                  1758\n",
      "80                     1604\n",
      "caddy                  1595\n",
      "x_reihe                1589\n",
      "sharan                 1483\n",
      "scenic                 1446\n",
      "omega                  1416\n",
      "laguna                 1364\n",
      "civic                  1347\n",
      "1_reihe                1306\n",
      "leon                   1304\n",
      "6_reihe                1278\n",
      "i_reihe                1226\n",
      "slk                    1223\n",
      "galaxy                 1156\n",
      "tt                     1076\n",
      "meriva                 1052\n",
      "yaris                  1033\n",
      "7er                    1017\n",
      "mx_reihe               1014\n",
      "kangoo                  958\n",
      "m_klasse                953\n",
      "500                     920\n",
      "escort                  905\n",
      "arosa                   899\n",
      "one                     897\n",
      "s_klasse                892\n",
      "vito                    879\n",
      "b_klasse                873\n",
      "bora                    872\n",
      "colt                    869\n",
      "berlingo                824\n",
      "beetle                  815\n",
      "tigra                   789\n",
      "v40                     775\n",
      "sprinter                774\n",
      "transit                 754\n",
      "fox                     744\n",
      "z_reihe                 717\n",
      "swift                   705\n",
      "c_max                   686\n",
      "corolla                 684\n",
      "panda                   676\n",
      "seicento                670\n",
      "tiguan                  662\n",
      "insignia                641\n",
      "4_reihe                 638\n",
      "v70                     633\n",
      "156                     629\n",
      "primera                 621\n",
      "espace                  616\n",
      "scirocco                605\n",
      "stilo                   603\n",
      "a1                      595\n",
      "touareg                 586\n",
      "almera                  584\n",
      "147                     572\n",
      "avensis                 565\n",
      "grand                   561\n",
      "a5                      545\n",
      "qashqai                 531\n",
      "a8                      529\n",
      "eos                     516\n",
      "c3                      506\n",
      "signum                  493\n",
      "c5                      490\n",
      "c4                      444\n",
      "matiz                   443\n",
      "5_reihe                 442\n",
      "kaefer                  442\n",
      "ducato                  435\n",
      "s_max                   432\n",
      "aygo                    430\n",
      "agila                   430\n",
      "getz                    422\n",
      "601                     419\n",
      "100                     417\n",
      "combo                   417\n",
      "carisma                 414\n",
      "sl                      403\n",
      "cordoba                 399\n",
      "c2                      395\n",
      "c1                      391\n",
      "forfour                 386\n",
      "rio                     377\n",
      "jetta                   375\n",
      "cuore                   374\n",
      "a2                      373\n",
      "altea                   372\n",
      "superb                  366\n",
      "kadett                  364\n",
      "picanto                 362\n",
      "alhambra                357\n",
      "accord                  351\n",
      "rav                     350\n",
      "up                      348\n",
      "cr_reihe                345\n",
      "toledo                  343\n",
      "voyager                 342\n",
      "sorento                 341\n",
      "bravo                   331\n",
      "doblo                   325\n",
      "logan                   322\n",
      "modus                   321\n",
      "vivaro                  321\n",
      "kuga                    320\n",
      "santa                   313\n",
      "verso                   309\n",
      "ptcruiser               308\n",
      "jazz                    302\n",
      "fusion                  300\n",
      "sandero                 295\n",
      "roomster                276\n",
      "carnival                273\n",
      "xc_reihe                267\n",
      "viano                   261\n",
      "galant                  257\n",
      "v50                     255\n",
      "ceed                    252\n",
      "sportage                248\n",
      "auris                   234\n",
      "cayenne                 232\n",
      "tucson                  231\n",
      "cl                      230\n",
      "impreza                 225\n",
      "lancer                  222\n",
      "boxster                 221\n",
      "freelander              218\n",
      "calibra                 217\n",
      "phaeton                 214\n",
      "159                     212\n",
      "850                     212\n",
      "jimny                   212\n",
      "ypsilon                 209\n",
      "pajero                  208\n",
      "x_trail                 208\n",
      "q7                      205\n",
      "duster                  204\n",
      "clubman                 201\n",
      "spider                  194\n",
      "c_reihe                 193\n",
      "roadster                181\n",
      "mustang                 177\n",
      "yeti                    174\n",
      "x_type                  173\n",
      "cherokee                169\n",
      "captiva                 168\n",
      "legacy                  160\n",
      "6er                     156\n",
      "v_klasse                151\n",
      "s60                     146\n",
      "300c                    145\n",
      "rx_reihe                142\n",
      "justy                   139\n",
      "sirion                  139\n",
      "cc                      137\n",
      "m_reihe                 132\n",
      "note                    130\n",
      "forester                130\n",
      "niva                    129\n",
      "s_type                  128\n",
      "spark                   125\n",
      "outlander               123\n",
      "r19                     123\n",
      "aveo                    117\n",
      "900                     116\n",
      "antara                  108\n",
      "wrangler                103\n",
      "90                      103\n",
      "juke                    102\n",
      "exeo                    100\n",
      "navara                   98\n",
      "q5                       97\n",
      "g_klasse                 97\n",
      "kalos                    95\n",
      "citigo                   91\n",
      "lanos                    89\n",
      "911                      84\n",
      "mii                      81\n",
      "discovery                79\n",
      "range_rover              77\n",
      "defender                 76\n",
      "cx_reihe                 66\n",
      "glk                      64\n",
      "crossfire                64\n",
      "nubira                   62\n",
      "move                     60\n",
      "lybra                    54\n",
      "range_rover_sport        54\n",
      "145                      49\n",
      "croma                    45\n",
      "v60                      42\n",
      "terios                   35\n",
      "delta                    35\n",
      "lodgy                    35\n",
      "9000                     31\n",
      "charade                  27\n",
      "b_max                    26\n",
      "musa                     25\n",
      "materia                  18\n",
      "200                      18\n",
      "amarok                   16\n",
      "q3                       15\n",
      "kappa                    15\n",
      "samara                   13\n",
      "gl                       13\n",
      "elefantino               11\n",
      "kalina                    9\n",
      "i3                        8\n",
      "serie_2                   8\n",
      "serie_3                   4\n",
      "rangerover                4\n",
      "serie_1                   2\n",
      "range_rover_evoque        2\n",
      "Name: Model, dtype: int64\n",
      "\n",
      "Список значений признака FuelType:\n",
      "petrol      216352\n",
      "gasoline     98720\n",
      "lpg           5310\n",
      "cng            565\n",
      "hybrid         233\n",
      "other          204\n",
      "electric        90\n",
      "Name: FuelType, dtype: int64\n",
      "\n",
      "Список значений признака NotRepaired:\n",
      "no     247161\n",
      "yes     36054\n",
      "Name: NotRepaired, dtype: int64\n",
      "\n"
     ]
    }
   ],
   "source": [
    "list = ['VehicleType', 'Gearbox', 'Model', 'FuelType', 'NotRepaired']\n",
    "\n",
    "for _ in list:\n",
    "    print(f'Список значений признака {_}:')\n",
    "    print(df[_].value_counts(ascending=False))\n",
    "    print()"
   ]
  },
  {
   "cell_type": "markdown",
   "metadata": {},
   "source": [
    "Заменим прпуски во всех категориальных признаках на 'unknown'."
   ]
  },
  {
   "cell_type": "code",
   "execution_count": 99,
   "metadata": {},
   "outputs": [],
   "source": [
    "for _ in list:\n",
    "    df[_] = df[_].fillna('unknown')"
   ]
  },
  {
   "cell_type": "code",
   "execution_count": 100,
   "metadata": {},
   "outputs": [
    {
     "data": {
      "text/plain": [
       "Price               0\n",
       "VehicleType         0\n",
       "RegistrationYear    0\n",
       "Gearbox             0\n",
       "Power               0\n",
       "Model               0\n",
       "Kilometer           0\n",
       "FuelType            0\n",
       "Brand               0\n",
       "NotRepaired         0\n",
       "NumberOfPictures    0\n",
       "PostalCode          0\n",
       "LastSeen            0\n",
       "YearCreated         0\n",
       "MonthCreated        0\n",
       "dtype: int64"
      ]
     },
     "execution_count": 100,
     "metadata": {},
     "output_type": "execute_result"
    }
   ],
   "source": [
    "# прверка\n",
    "df.isna().sum()"
   ]
  },
  {
   "cell_type": "markdown",
   "metadata": {},
   "source": [
    "По признакам `Model` и `Brand` имеет смысл дополнительно просмотреть уникальные занчения. Могут быть неявные дублекаты."
   ]
  },
  {
   "cell_type": "code",
   "execution_count": 101,
   "metadata": {},
   "outputs": [
    {
     "name": "stdout",
     "output_type": "stream",
     "text": [
      "Список значений признака Model:\n",
      "59                    100\n",
      "232                   145\n",
      "58                    147\n",
      "41                    156\n",
      "130                   159\n",
      "113               1_reihe\n",
      "30                    1er\n",
      "234                   200\n",
      "5                 2_reihe\n",
      "176                  300c\n",
      "8                 3_reihe\n",
      "4                     3er\n",
      "121               4_reihe\n",
      "123                   500\n",
      "91                5_reihe\n",
      "16                    5er\n",
      "208                   601\n",
      "86                6_reihe\n",
      "96                    6er\n",
      "56                    7er\n",
      "57                     80\n",
      "219                   850\n",
      "154                    90\n",
      "203                   900\n",
      "230                  9000\n",
      "170                   911\n",
      "47                     a1\n",
      "108                    a2\n",
      "69                     a3\n",
      "46                     a4\n",
      "122                    a5\n",
      "52                     a6\n",
      "34                     a8\n",
      "14               a_klasse\n",
      "135                accord\n",
      "157                 agila\n",
      "147              alhambra\n",
      "70                 almera\n",
      "185                 altea\n",
      "245                amarok\n",
      "189                antara\n",
      "18                  arosa\n",
      "33                  astra\n",
      "212                 auris\n",
      "114               avensis\n",
      "233                  aveo\n",
      "166                  aygo\n",
      "31               b_klasse\n",
      "235                 b_max\n",
      "100                beetle\n",
      "81               berlingo\n",
      "171                  bora\n",
      "143               boxster\n",
      "188                 bravo\n",
      "101                    c1\n",
      "198                    c2\n",
      "110                    c3\n",
      "19                     c4\n",
      "165                    c5\n",
      "37               c_klasse\n",
      "7                   c_max\n",
      "161               c_reihe\n",
      "75                  caddy\n",
      "187               calibra\n",
      "197               captiva\n",
      "134               carisma\n",
      "168              carnival\n",
      "151               cayenne\n",
      "167                    cc\n",
      "90                   ceed\n",
      "224               charade\n",
      "204              cherokee\n",
      "191                citigo\n",
      "20                  civic\n",
      "174                    cl\n",
      "24                   clio\n",
      "126                   clk\n",
      "205               clubman\n",
      "78                   colt\n",
      "49                  combo\n",
      "119                cooper\n",
      "77                cordoba\n",
      "136               corolla\n",
      "27                  corsa\n",
      "159              cr_reihe\n",
      "225                 croma\n",
      "156             crossfire\n",
      "106                 cuore\n",
      "209              cx_reihe\n",
      "207              defender\n",
      "242                 delta\n",
      "199             discovery\n",
      "227                 doblo\n",
      "181                ducato\n",
      "158                duster\n",
      "23               e_klasse\n",
      "246            elefantino\n",
      "66                    eos\n",
      "42                 escort\n",
      "84                 espace\n",
      "129                  exeo\n",
      "3                   fabia\n",
      "36                 fiesta\n",
      "50                  focus\n",
      "43               forester\n",
      "172               forfour\n",
      "29                 fortwo\n",
      "98                    fox\n",
      "200            freelander\n",
      "169                fusion\n",
      "217              g_klasse\n",
      "152                galant\n",
      "109                galaxy\n",
      "68                   getz\n",
      "243                    gl\n",
      "223                   glk\n",
      "0                    golf\n",
      "2                   grand\n",
      "247                    i3\n",
      "83                i_reihe\n",
      "64                  ibiza\n",
      "79                impreza\n",
      "48               insignia\n",
      "53                   jazz\n",
      "35                  jetta\n",
      "192                 jimny\n",
      "132                  juke\n",
      "153                 justy\n",
      "11                     ka\n",
      "25                 kadett\n",
      "117                kaefer\n",
      "244                kalina\n",
      "144                 kalos\n",
      "26                 kangoo\n",
      "248                 kappa\n",
      "179                  kuga\n",
      "124                laguna\n",
      "196                lancer\n",
      "137                 lanos\n",
      "210                legacy\n",
      "120                  leon\n",
      "218                 lodgy\n",
      "104                 logan\n",
      "72                   lupo\n",
      "194                 lybra\n",
      "163              m_klasse\n",
      "173               m_reihe\n",
      "241               materia\n",
      "99                  matiz\n",
      "71                 megane\n",
      "17                 meriva\n",
      "38                  micra\n",
      "94                    mii\n",
      "97                  modus\n",
      "76                 mondeo\n",
      "229                  move\n",
      "228                  musa\n",
      "65                mustang\n",
      "148              mx_reihe\n",
      "10                 navara\n",
      "213                  niva\n",
      "202                  note\n",
      "215                nubira\n",
      "93                octavia\n",
      "54                  omega\n",
      "28                    one\n",
      "6                   other\n",
      "226             outlander\n",
      "211                pajero\n",
      "87                  panda\n",
      "9                  passat\n",
      "138               phaeton\n",
      "142               picanto\n",
      "12                   polo\n",
      "127               primera\n",
      "125             ptcruiser\n",
      "22                  punto\n",
      "221                    q3\n",
      "239                    q5\n",
      "195                    q7\n",
      "133               qashqai\n",
      "73                    r19\n",
      "220           range_rover\n",
      "240    range_rover_evoque\n",
      "236     range_rover_sport\n",
      "238            rangerover\n",
      "141                   rav\n",
      "102                   rio\n",
      "149              roadster\n",
      "115              roomster\n",
      "95               rx_reihe\n",
      "214                   s60\n",
      "112              s_klasse\n",
      "107                 s_max\n",
      "182                s_type\n",
      "206                samara\n",
      "201               sandero\n",
      "118                 santa\n",
      "45                 scenic\n",
      "15               scirocco\n",
      "89               seicento\n",
      "250               serie_1\n",
      "222               serie_2\n",
      "249               serie_3\n",
      "85                 sharan\n",
      "32                 signum\n",
      "155                sirion\n",
      "116                    sl\n",
      "55                    slk\n",
      "62                sorento\n",
      "177                 spark\n",
      "105                spider\n",
      "61               sportage\n",
      "40               sprinter\n",
      "146                 stilo\n",
      "145                superb\n",
      "140                 swift\n",
      "237                terios\n",
      "175                 tigra\n",
      "82                 tiguan\n",
      "184                toledo\n",
      "103               touareg\n",
      "67                 touran\n",
      "131               transit\n",
      "21            transporter\n",
      "51                     tt\n",
      "190                tucson\n",
      "13                 twingo\n",
      "1                 unknown\n",
      "88                     up\n",
      "63                    v40\n",
      "160                   v50\n",
      "231                   v60\n",
      "178                   v70\n",
      "162              v_klasse\n",
      "80                 vectra\n",
      "139                 verso\n",
      "111                 viano\n",
      "39                   vito\n",
      "216                vivaro\n",
      "186               voyager\n",
      "193              wrangler\n",
      "128               x_reihe\n",
      "183               x_trail\n",
      "180                x_type\n",
      "44               xc_reihe\n",
      "164                 yaris\n",
      "92                   yeti\n",
      "150               ypsilon\n",
      "60                z_reihe\n",
      "74                 zafira\n",
      "dtype: object\n",
      "\n",
      "Список значений признака Brand:\n",
      "20        alfa_romeo\n",
      "1               audi\n",
      "4                bmw\n",
      "28         chevrolet\n",
      "33          chrysler\n",
      "13           citroen\n",
      "29             dacia\n",
      "35            daewoo\n",
      "30          daihatsu\n",
      "15              fiat\n",
      "6               ford\n",
      "14             honda\n",
      "18           hyundai\n",
      "34            jaguar\n",
      "2               jeep\n",
      "24               kia\n",
      "39              lada\n",
      "26            lancia\n",
      "38        land_rover\n",
      "7              mazda\n",
      "10     mercedes_benz\n",
      "16              mini\n",
      "23        mitsubishi\n",
      "8             nissan\n",
      "11              opel\n",
      "5            peugeot\n",
      "36           porsche\n",
      "9            renault\n",
      "37             rover\n",
      "32              saab\n",
      "12              seat\n",
      "3              skoda\n",
      "17             smart\n",
      "19    sonstige_autos\n",
      "21            subaru\n",
      "25            suzuki\n",
      "27            toyota\n",
      "31           trabant\n",
      "0         volkswagen\n",
      "22             volvo\n",
      "dtype: object\n",
      "\n"
     ]
    }
   ],
   "source": [
    "pd.set_option('display.max_rows', None)\n",
    "list = ['Model', 'Brand']\n",
    "for _ in list:\n",
    "    print(f'Список значений признака {_}:')\n",
    "    print(pd.Series(df[_].unique()).sort_values())\n",
    "    print()"
   ]
  },
  {
   "cell_type": "markdown",
   "metadata": {},
   "source": [
    "Обнаружены неявные дублекаты rangerover и range_rover. Выполним замену."
   ]
  },
  {
   "cell_type": "code",
   "execution_count": 102,
   "metadata": {},
   "outputs": [],
   "source": [
    "df['Model'] = df['Model'].replace({'rangerover': 'range_rover'})"
   ]
  },
  {
   "cell_type": "markdown",
   "metadata": {},
   "source": [
    "Проверим."
   ]
  },
  {
   "cell_type": "code",
   "execution_count": 103,
   "metadata": {},
   "outputs": [
    {
     "data": {
      "text/html": [
       "<div>\n",
       "<style scoped>\n",
       "    .dataframe tbody tr th:only-of-type {\n",
       "        vertical-align: middle;\n",
       "    }\n",
       "\n",
       "    .dataframe tbody tr th {\n",
       "        vertical-align: top;\n",
       "    }\n",
       "\n",
       "    .dataframe thead th {\n",
       "        text-align: right;\n",
       "    }\n",
       "</style>\n",
       "<table border=\"1\" class=\"dataframe\">\n",
       "  <thead>\n",
       "    <tr style=\"text-align: right;\">\n",
       "      <th></th>\n",
       "      <th>Price</th>\n",
       "      <th>VehicleType</th>\n",
       "      <th>RegistrationYear</th>\n",
       "      <th>Gearbox</th>\n",
       "      <th>Power</th>\n",
       "      <th>Model</th>\n",
       "      <th>Kilometer</th>\n",
       "      <th>FuelType</th>\n",
       "      <th>Brand</th>\n",
       "      <th>NotRepaired</th>\n",
       "      <th>NumberOfPictures</th>\n",
       "      <th>PostalCode</th>\n",
       "      <th>LastSeen</th>\n",
       "      <th>YearCreated</th>\n",
       "      <th>MonthCreated</th>\n",
       "    </tr>\n",
       "  </thead>\n",
       "  <tbody>\n",
       "  </tbody>\n",
       "</table>\n",
       "</div>"
      ],
      "text/plain": [
       "Empty DataFrame\n",
       "Columns: [Price, VehicleType, RegistrationYear, Gearbox, Power, Model, Kilometer, FuelType, Brand, NotRepaired, NumberOfPictures, PostalCode, LastSeen, YearCreated, MonthCreated]\n",
       "Index: []"
      ]
     },
     "execution_count": 103,
     "metadata": {},
     "output_type": "execute_result"
    }
   ],
   "source": [
    "df[df['Model'] == 'rangerover']"
   ]
  },
  {
   "cell_type": "markdown",
   "metadata": {},
   "source": [
    "Проверим численные признаки на выбросы и аномальные значения."
   ]
  },
  {
   "cell_type": "code",
   "execution_count": 104,
   "metadata": {},
   "outputs": [
    {
     "name": "stdout",
     "output_type": "stream",
     "text": [
      "Price содержит нулевые значения в количестве:\n",
      "10772\n",
      "\n",
      "VehicleType содержит нулевые значения в количестве:\n",
      "0\n",
      "\n",
      "RegistrationYear содержит нулевые значения в количестве:\n",
      "0\n",
      "\n",
      "Gearbox содержит нулевые значения в количестве:\n",
      "0\n",
      "\n",
      "Power содержит нулевые значения в количестве:\n",
      "40225\n",
      "\n",
      "Model содержит нулевые значения в количестве:\n",
      "0\n",
      "\n",
      "Kilometer содержит нулевые значения в количестве:\n",
      "0\n",
      "\n",
      "FuelType содержит нулевые значения в количестве:\n",
      "0\n",
      "\n",
      "Brand содержит нулевые значения в количестве:\n",
      "0\n",
      "\n",
      "NotRepaired содержит нулевые значения в количестве:\n",
      "0\n",
      "\n",
      "NumberOfPictures содержит нулевые значения в количестве:\n",
      "354369\n",
      "\n",
      "PostalCode содержит нулевые значения в количестве:\n",
      "0\n",
      "\n",
      "LastSeen содержит нулевые значения в количестве:\n",
      "0\n",
      "\n",
      "YearCreated содержит нулевые значения в количестве:\n",
      "0\n",
      "\n",
      "MonthCreated содержит нулевые значения в количестве:\n",
      "0\n",
      "\n"
     ]
    }
   ],
   "source": [
    "for col in df.columns:\n",
    "    print(col, 'содержит нулевые значения в количестве:')\n",
    "    print(df[df[col] == 0][col].count())\n",
    "    print()"
   ]
  },
  {
   "cell_type": "markdown",
   "metadata": {},
   "source": [
    "Таким образом имеем:\n",
    "\n",
    "* Порядка 3% пропусков в значениях `Price`. Это целевой признак. Строки с пропусками можно удалить.\n",
    "* Порядка 12% пропусков в значениях `Power`. Нужно посмтореть - если присутсвует значение модели авто, пропуски удастся заполнить. Однако, это могут быть машины без двигателя.\n",
    "* 100% пропусков у признака `NumberOfPictures`. Возможно произошел какой-то сбой в БД, но по этому признаку мы ничего не предскажем. Удаляем."
   ]
  },
  {
   "cell_type": "markdown",
   "metadata": {},
   "source": [
    "Проверим данные на аномалии в других столбцах."
   ]
  },
  {
   "cell_type": "code",
   "execution_count": 105,
   "metadata": {},
   "outputs": [
    {
     "name": "stdout",
     "output_type": "stream",
     "text": [
      "График распределения значений Price:\n",
      "Все значения лежат в диапазоне от 0 до 20000\n"
     ]
    },
    {
     "data": {
      "image/png": "[encoded data removed]",
      "text/plain": [
       "<Figure size 432x288 with 1 Axes>"
      ]
     },
     "metadata": {
      "needs_background": "light"
     },
     "output_type": "display_data"
    },
    {
     "name": "stdout",
     "output_type": "stream",
     "text": [
      "\n",
      "График распределения значений RegistrationYear:\n",
      "Все значения лежат в диапазоне от 1000 до 9999\n"
     ]
    },
    {
     "data": {
      "image/png": "[encoded data removed]",
      "text/plain": [
       "<Figure size 432x288 with 1 Axes>"
      ]
     },
     "metadata": {
      "needs_background": "light"
     },
     "output_type": "display_data"
    },
    {
     "name": "stdout",
     "output_type": "stream",
     "text": [
      "\n",
      "График распределения значений Power:\n",
      "Все значения лежат в диапазоне от 0 до 20000\n"
     ]
    },
    {
     "data": {
      "image/png": "[encoded data removed]",
      "text/plain": [
       "<Figure size 432x288 with 1 Axes>"
      ]
     },
     "metadata": {
      "needs_background": "light"
     },
     "output_type": "display_data"
    },
    {
     "name": "stdout",
     "output_type": "stream",
     "text": [
      "\n",
      "График распределения значений Kilometer:\n",
      "Все значения лежат в диапазоне от 5000 до 150000\n"
     ]
    },
    {
     "data": {
      "image/png": "[encoded data removed]",
      "text/plain": [
       "<Figure size 432x288 with 1 Axes>"
      ]
     },
     "metadata": {
      "needs_background": "light"
     },
     "output_type": "display_data"
    },
    {
     "name": "stdout",
     "output_type": "stream",
     "text": [
      "\n",
      "График распределения значений NumberOfPictures:\n",
      "Все значения лежат в диапазоне от 0 до 0\n"
     ]
    },
    {
     "data": {
      "image/png": "[encoded data removed]",
      "text/plain": [
       "<Figure size 432x288 with 1 Axes>"
      ]
     },
     "metadata": {
      "needs_background": "light"
     },
     "output_type": "display_data"
    },
    {
     "name": "stdout",
     "output_type": "stream",
     "text": [
      "\n",
      "График распределения значений PostalCode:\n",
      "Все значения лежат в диапазоне от 1067 до 99998\n"
     ]
    },
    {
     "data": {
      "image/png": "[encoded data removed]",
      "text/plain": [
       "<Figure size 432x288 with 1 Axes>"
      ]
     },
     "metadata": {
      "needs_background": "light"
     },
     "output_type": "display_data"
    },
    {
     "name": "stdout",
     "output_type": "stream",
     "text": [
      "\n",
      "График распределения значений YearCreated:\n",
      "Все значения лежат в диапазоне от 2014 до 2016\n"
     ]
    },
    {
     "data": {
      "image/png": "[encoded data removed]",
      "text/plain": [
       "<Figure size 432x288 with 1 Axes>"
      ]
     },
     "metadata": {
      "needs_background": "light"
     },
     "output_type": "display_data"
    },
    {
     "name": "stdout",
     "output_type": "stream",
     "text": [
      "\n",
      "График распределения значений MonthCreated:\n",
      "Все значения лежат в диапазоне от 1 до 12\n"
     ]
    },
    {
     "data": {
      "image/png": "[encoded data removed]",
      "text/plain": [
       "<Figure size 432x288 with 1 Axes>"
      ]
     },
     "metadata": {
      "needs_background": "light"
     },
     "output_type": "display_data"
    },
    {
     "name": "stdout",
     "output_type": "stream",
     "text": [
      "\n"
     ]
    }
   ],
   "source": [
    "list = ['Price', 'RegistrationYear', 'Power', 'Kilometer', 'NumberOfPictures', 'PostalCode', 'YearCreated', 'MonthCreated']\n",
    "for col in list:\n",
    "    print(f'График распределения значений {col}:')\n",
    "    df[col].value_counts().plot(kind='hist', bins = 20)\n",
    "    print(f'Все значения лежат в диапазоне от {df[col].min()} до {df[col].max()}')\n",
    "    plt.show()\n",
    "    print()"
   ]
  },
  {
   "cell_type": "code",
   "execution_count": 106,
   "metadata": {},
   "outputs": [],
   "source": [
    "# удалим пустой признак\n",
    "df = df.drop('NumberOfPictures', axis=1)"
   ]
  },
  {
   "cell_type": "code",
   "execution_count": 107,
   "metadata": {},
   "outputs": [],
   "source": [
    "# оставим только строки, где значение целевого признака определено и больше 10\n",
    "df = df[df['Price'] > 10]"
   ]
  },
  {
   "cell_type": "code",
   "execution_count": 108,
   "metadata": {},
   "outputs": [],
   "source": [
    "# оставим только строки, где год регистрации авто лежит в адекватном диапазоне.\n",
    "df = df.query('1850 < RegistrationYear < 2017')"
   ]
  },
  {
   "cell_type": "markdown",
   "metadata": {},
   "source": [
    "Чтобы сделать вывод о том, является ли нулевая мощность аномалией или это автомобили без ДВС, проверим корреляцию между ценой и мощностью."
   ]
  },
  {
   "cell_type": "code",
   "execution_count": 109,
   "metadata": {},
   "outputs": [
    {
     "data": {
      "text/html": [
       "<div>\n",
       "<style scoped>\n",
       "    .dataframe tbody tr th:only-of-type {\n",
       "        vertical-align: middle;\n",
       "    }\n",
       "\n",
       "    .dataframe tbody tr th {\n",
       "        vertical-align: top;\n",
       "    }\n",
       "\n",
       "    .dataframe thead th {\n",
       "        text-align: right;\n",
       "    }\n",
       "</style>\n",
       "<table border=\"1\" class=\"dataframe\">\n",
       "  <thead>\n",
       "    <tr style=\"text-align: right;\">\n",
       "      <th></th>\n",
       "      <th>Power</th>\n",
       "      <th>Price</th>\n",
       "    </tr>\n",
       "  </thead>\n",
       "  <tbody>\n",
       "    <tr>\n",
       "      <th>Power</th>\n",
       "      <td>1.000000</td>\n",
       "      <td>0.163038</td>\n",
       "    </tr>\n",
       "    <tr>\n",
       "      <th>Price</th>\n",
       "      <td>0.163038</td>\n",
       "      <td>1.000000</td>\n",
       "    </tr>\n",
       "  </tbody>\n",
       "</table>\n",
       "</div>"
      ],
      "text/plain": [
       "          Power     Price\n",
       "Power  1.000000  0.163038\n",
       "Price  0.163038  1.000000"
      ]
     },
     "metadata": {},
     "output_type": "display_data"
    },
    {
     "data": {
      "image/png": "[encoded data removed]",
      "text/plain": [
       "<Figure size 432x288 with 1 Axes>"
      ]
     },
     "metadata": {
      "needs_background": "light"
     },
     "output_type": "display_data"
    },
    {
     "data": {
      "image/png": "[encoded data removed]",
      "text/plain": [
       "<Figure size 432x288 with 1 Axes>"
      ]
     },
     "metadata": {
      "needs_background": "light"
     },
     "output_type": "display_data"
    }
   ],
   "source": [
    "display(df[['Power', 'Price']].corr())\n",
    "\n",
    "df.loc[df['Power'] == 0, ['Price']].hist(bins=30, alpha=0.6);\n",
    "df.loc[df['Power'] > 0, ['Price']].hist(bins=30, alpha=0.6);"
   ]
  },
  {
   "cell_type": "markdown",
   "metadata": {},
   "source": [
    "Разницы в распределении стоимости установить не удалось. Делаем вывод, что нулевая мощность не связана с отсутствием ДВС."
   ]
  },
  {
   "cell_type": "markdown",
   "metadata": {},
   "source": [
    "Посмотрим строки с 0 в данных о мощности."
   ]
  },
  {
   "cell_type": "code",
   "execution_count": 110,
   "metadata": {
    "scrolled": true
   },
   "outputs": [
    {
     "data": {
      "text/html": [
       "<div>\n",
       "<style scoped>\n",
       "    .dataframe tbody tr th:only-of-type {\n",
       "        vertical-align: middle;\n",
       "    }\n",
       "\n",
       "    .dataframe tbody tr th {\n",
       "        vertical-align: top;\n",
       "    }\n",
       "\n",
       "    .dataframe thead th {\n",
       "        text-align: right;\n",
       "    }\n",
       "</style>\n",
       "<table border=\"1\" class=\"dataframe\">\n",
       "  <thead>\n",
       "    <tr style=\"text-align: right;\">\n",
       "      <th></th>\n",
       "      <th>Price</th>\n",
       "      <th>VehicleType</th>\n",
       "      <th>RegistrationYear</th>\n",
       "      <th>Gearbox</th>\n",
       "      <th>Power</th>\n",
       "      <th>Model</th>\n",
       "      <th>Kilometer</th>\n",
       "      <th>FuelType</th>\n",
       "      <th>Brand</th>\n",
       "      <th>NotRepaired</th>\n",
       "      <th>PostalCode</th>\n",
       "      <th>LastSeen</th>\n",
       "      <th>YearCreated</th>\n",
       "      <th>MonthCreated</th>\n",
       "    </tr>\n",
       "  </thead>\n",
       "  <tbody>\n",
       "    <tr>\n",
       "      <th>0</th>\n",
       "      <td>480</td>\n",
       "      <td>unknown</td>\n",
       "      <td>1993</td>\n",
       "      <td>manual</td>\n",
       "      <td>0</td>\n",
       "      <td>golf</td>\n",
       "      <td>150000</td>\n",
       "      <td>petrol</td>\n",
       "      <td>volkswagen</td>\n",
       "      <td>unknown</td>\n",
       "      <td>70435</td>\n",
       "      <td>2016-04-07 03:16:57</td>\n",
       "      <td>2016</td>\n",
       "      <td>3</td>\n",
       "    </tr>\n",
       "    <tr>\n",
       "      <th>15</th>\n",
       "      <td>450</td>\n",
       "      <td>small</td>\n",
       "      <td>1910</td>\n",
       "      <td>unknown</td>\n",
       "      <td>0</td>\n",
       "      <td>ka</td>\n",
       "      <td>5000</td>\n",
       "      <td>petrol</td>\n",
       "      <td>ford</td>\n",
       "      <td>unknown</td>\n",
       "      <td>24148</td>\n",
       "      <td>2016-03-19 08:46:47</td>\n",
       "      <td>2016</td>\n",
       "      <td>3</td>\n",
       "    </tr>\n",
       "    <tr>\n",
       "      <th>32</th>\n",
       "      <td>245</td>\n",
       "      <td>sedan</td>\n",
       "      <td>1994</td>\n",
       "      <td>unknown</td>\n",
       "      <td>0</td>\n",
       "      <td>golf</td>\n",
       "      <td>150000</td>\n",
       "      <td>petrol</td>\n",
       "      <td>volkswagen</td>\n",
       "      <td>no</td>\n",
       "      <td>44145</td>\n",
       "      <td>2016-03-17 18:17:43</td>\n",
       "      <td>2016</td>\n",
       "      <td>3</td>\n",
       "    </tr>\n",
       "    <tr>\n",
       "      <th>37</th>\n",
       "      <td>1500</td>\n",
       "      <td>unknown</td>\n",
       "      <td>2016</td>\n",
       "      <td>unknown</td>\n",
       "      <td>0</td>\n",
       "      <td>kangoo</td>\n",
       "      <td>150000</td>\n",
       "      <td>gasoline</td>\n",
       "      <td>renault</td>\n",
       "      <td>no</td>\n",
       "      <td>46483</td>\n",
       "      <td>2016-03-30 09:18:02</td>\n",
       "      <td>2016</td>\n",
       "      <td>3</td>\n",
       "    </tr>\n",
       "    <tr>\n",
       "      <th>54</th>\n",
       "      <td>4700</td>\n",
       "      <td>wagon</td>\n",
       "      <td>2005</td>\n",
       "      <td>manual</td>\n",
       "      <td>0</td>\n",
       "      <td>signum</td>\n",
       "      <td>150000</td>\n",
       "      <td>unknown</td>\n",
       "      <td>opel</td>\n",
       "      <td>no</td>\n",
       "      <td>88433</td>\n",
       "      <td>2016-04-04 04:17:32</td>\n",
       "      <td>2016</td>\n",
       "      <td>3</td>\n",
       "    </tr>\n",
       "    <tr>\n",
       "      <th>55</th>\n",
       "      <td>550</td>\n",
       "      <td>wagon</td>\n",
       "      <td>1999</td>\n",
       "      <td>manual</td>\n",
       "      <td>0</td>\n",
       "      <td>astra</td>\n",
       "      <td>150000</td>\n",
       "      <td>gasoline</td>\n",
       "      <td>opel</td>\n",
       "      <td>yes</td>\n",
       "      <td>56759</td>\n",
       "      <td>2016-04-01 23:17:27</td>\n",
       "      <td>2016</td>\n",
       "      <td>3</td>\n",
       "    </tr>\n",
       "    <tr>\n",
       "      <th>69</th>\n",
       "      <td>1200</td>\n",
       "      <td>coupe</td>\n",
       "      <td>2001</td>\n",
       "      <td>unknown</td>\n",
       "      <td>0</td>\n",
       "      <td>astra</td>\n",
       "      <td>150000</td>\n",
       "      <td>unknown</td>\n",
       "      <td>opel</td>\n",
       "      <td>unknown</td>\n",
       "      <td>47249</td>\n",
       "      <td>2016-04-07 08:46:07</td>\n",
       "      <td>2016</td>\n",
       "      <td>4</td>\n",
       "    </tr>\n",
       "    <tr>\n",
       "      <th>70</th>\n",
       "      <td>800</td>\n",
       "      <td>small</td>\n",
       "      <td>1993</td>\n",
       "      <td>manual</td>\n",
       "      <td>0</td>\n",
       "      <td>polo</td>\n",
       "      <td>150000</td>\n",
       "      <td>petrol</td>\n",
       "      <td>volkswagen</td>\n",
       "      <td>no</td>\n",
       "      <td>8258</td>\n",
       "      <td>2016-04-05 23:46:00</td>\n",
       "      <td>2016</td>\n",
       "      <td>3</td>\n",
       "    </tr>\n",
       "    <tr>\n",
       "      <th>90</th>\n",
       "      <td>2400</td>\n",
       "      <td>sedan</td>\n",
       "      <td>2003</td>\n",
       "      <td>manual</td>\n",
       "      <td>0</td>\n",
       "      <td>a4</td>\n",
       "      <td>150000</td>\n",
       "      <td>gasoline</td>\n",
       "      <td>audi</td>\n",
       "      <td>unknown</td>\n",
       "      <td>40210</td>\n",
       "      <td>2016-03-23 11:53:21</td>\n",
       "      <td>2016</td>\n",
       "      <td>3</td>\n",
       "    </tr>\n",
       "    <tr>\n",
       "      <th>94</th>\n",
       "      <td>8390</td>\n",
       "      <td>unknown</td>\n",
       "      <td>2009</td>\n",
       "      <td>unknown</td>\n",
       "      <td>0</td>\n",
       "      <td>insignia</td>\n",
       "      <td>150000</td>\n",
       "      <td>unknown</td>\n",
       "      <td>opel</td>\n",
       "      <td>unknown</td>\n",
       "      <td>29221</td>\n",
       "      <td>2016-03-30 07:44:59</td>\n",
       "      <td>2016</td>\n",
       "      <td>3</td>\n",
       "    </tr>\n",
       "    <tr>\n",
       "      <th>98</th>\n",
       "      <td>4290</td>\n",
       "      <td>bus</td>\n",
       "      <td>2008</td>\n",
       "      <td>manual</td>\n",
       "      <td>0</td>\n",
       "      <td>combo</td>\n",
       "      <td>150000</td>\n",
       "      <td>gasoline</td>\n",
       "      <td>opel</td>\n",
       "      <td>no</td>\n",
       "      <td>23568</td>\n",
       "      <td>2016-04-05 22:45:32</td>\n",
       "      <td>2016</td>\n",
       "      <td>3</td>\n",
       "    </tr>\n",
       "    <tr>\n",
       "      <th>110</th>\n",
       "      <td>350</td>\n",
       "      <td>small</td>\n",
       "      <td>1998</td>\n",
       "      <td>unknown</td>\n",
       "      <td>0</td>\n",
       "      <td>corsa</td>\n",
       "      <td>150000</td>\n",
       "      <td>petrol</td>\n",
       "      <td>opel</td>\n",
       "      <td>unknown</td>\n",
       "      <td>82110</td>\n",
       "      <td>2016-04-03 08:53:37</td>\n",
       "      <td>2016</td>\n",
       "      <td>4</td>\n",
       "    </tr>\n",
       "    <tr>\n",
       "      <th>126</th>\n",
       "      <td>8000</td>\n",
       "      <td>unknown</td>\n",
       "      <td>2009</td>\n",
       "      <td>manual</td>\n",
       "      <td>0</td>\n",
       "      <td>golf</td>\n",
       "      <td>100000</td>\n",
       "      <td>petrol</td>\n",
       "      <td>volkswagen</td>\n",
       "      <td>no</td>\n",
       "      <td>94139</td>\n",
       "      <td>2016-04-06 07:45:51</td>\n",
       "      <td>2016</td>\n",
       "      <td>3</td>\n",
       "    </tr>\n",
       "    <tr>\n",
       "      <th>130</th>\n",
       "      <td>3390</td>\n",
       "      <td>unknown</td>\n",
       "      <td>2000</td>\n",
       "      <td>unknown</td>\n",
       "      <td>0</td>\n",
       "      <td>3er</td>\n",
       "      <td>150000</td>\n",
       "      <td>unknown</td>\n",
       "      <td>bmw</td>\n",
       "      <td>unknown</td>\n",
       "      <td>45739</td>\n",
       "      <td>2016-03-28 19:48:42</td>\n",
       "      <td>2016</td>\n",
       "      <td>3</td>\n",
       "    </tr>\n",
       "    <tr>\n",
       "      <th>145</th>\n",
       "      <td>150</td>\n",
       "      <td>unknown</td>\n",
       "      <td>1985</td>\n",
       "      <td>unknown</td>\n",
       "      <td>0</td>\n",
       "      <td>100</td>\n",
       "      <td>150000</td>\n",
       "      <td>petrol</td>\n",
       "      <td>audi</td>\n",
       "      <td>unknown</td>\n",
       "      <td>87616</td>\n",
       "      <td>2016-04-07 02:16:59</td>\n",
       "      <td>2016</td>\n",
       "      <td>3</td>\n",
       "    </tr>\n",
       "  </tbody>\n",
       "</table>\n",
       "</div>"
      ],
      "text/plain": [
       "     Price VehicleType  RegistrationYear  Gearbox  Power     Model  Kilometer  \\\n",
       "0      480     unknown              1993   manual      0      golf     150000   \n",
       "15     450       small              1910  unknown      0        ka       5000   \n",
       "32     245       sedan              1994  unknown      0      golf     150000   \n",
       "37    1500     unknown              2016  unknown      0    kangoo     150000   \n",
       "54    4700       wagon              2005   manual      0    signum     150000   \n",
       "55     550       wagon              1999   manual      0     astra     150000   \n",
       "69    1200       coupe              2001  unknown      0     astra     150000   \n",
       "70     800       small              1993   manual      0      polo     150000   \n",
       "90    2400       sedan              2003   manual      0        a4     150000   \n",
       "94    8390     unknown              2009  unknown      0  insignia     150000   \n",
       "98    4290         bus              2008   manual      0     combo     150000   \n",
       "110    350       small              1998  unknown      0     corsa     150000   \n",
       "126   8000     unknown              2009   manual      0      golf     100000   \n",
       "130   3390     unknown              2000  unknown      0       3er     150000   \n",
       "145    150     unknown              1985  unknown      0       100     150000   \n",
       "\n",
       "     FuelType       Brand NotRepaired  PostalCode            LastSeen  \\\n",
       "0      petrol  volkswagen     unknown       70435 2016-04-07 03:16:57   \n",
       "15     petrol        ford     unknown       24148 2016-03-19 08:46:47   \n",
       "32     petrol  volkswagen          no       44145 2016-03-17 18:17:43   \n",
       "37   gasoline     renault          no       46483 2016-03-30 09:18:02   \n",
       "54    unknown        opel          no       88433 2016-04-04 04:17:32   \n",
       "55   gasoline        opel         yes       56759 2016-04-01 23:17:27   \n",
       "69    unknown        opel     unknown       47249 2016-04-07 08:46:07   \n",
       "70     petrol  volkswagen          no        8258 2016-04-05 23:46:00   \n",
       "90   gasoline        audi     unknown       40210 2016-03-23 11:53:21   \n",
       "94    unknown        opel     unknown       29221 2016-03-30 07:44:59   \n",
       "98   gasoline        opel          no       23568 2016-04-05 22:45:32   \n",
       "110    petrol        opel     unknown       82110 2016-04-03 08:53:37   \n",
       "126    petrol  volkswagen          no       94139 2016-04-06 07:45:51   \n",
       "130   unknown         bmw     unknown       45739 2016-03-28 19:48:42   \n",
       "145    petrol        audi     unknown       87616 2016-04-07 02:16:59   \n",
       "\n",
       "     YearCreated  MonthCreated  \n",
       "0           2016             3  \n",
       "15          2016             3  \n",
       "32          2016             3  \n",
       "37          2016             3  \n",
       "54          2016             3  \n",
       "55          2016             3  \n",
       "69          2016             4  \n",
       "70          2016             3  \n",
       "90          2016             3  \n",
       "94          2016             3  \n",
       "98          2016             3  \n",
       "110         2016             4  \n",
       "126         2016             3  \n",
       "130         2016             3  \n",
       "145         2016             3  "
      ]
     },
     "execution_count": 110,
     "metadata": {},
     "output_type": "execute_result"
    }
   ],
   "source": [
    "df[df['Power'] == 0].head(15)"
   ]
  },
  {
   "cell_type": "markdown",
   "metadata": {},
   "source": [
    "Заполним часть пропусков медиальным значением по соответствующим моделям (необходимо исключить 'unknown')."
   ]
  },
  {
   "cell_type": "code",
   "execution_count": 111,
   "metadata": {},
   "outputs": [],
   "source": [
    "models = df[df['Power'] == 0]['Model'].unique()\n",
    "\n",
    "for model in models:\n",
    "    if model != 'unknown':\n",
    "        power = df.loc[(df['Power'] != 0) & (df['Model'] == model), 'Power'].median()\n",
    "        df.loc[(df['Power'] == 0) & (df['Model'] == model), 'Power'] = power"
   ]
  },
  {
   "cell_type": "markdown",
   "metadata": {},
   "source": [
    "Выполним проверки."
   ]
  },
  {
   "cell_type": "code",
   "execution_count": 112,
   "metadata": {},
   "outputs": [
    {
     "data": {
      "text/plain": [
       "4207"
      ]
     },
     "execution_count": 112,
     "metadata": {},
     "output_type": "execute_result"
    }
   ],
   "source": [
    "df[df['Power'] == 0]['Power'].count()"
   ]
  },
  {
   "cell_type": "code",
   "execution_count": 113,
   "metadata": {},
   "outputs": [
    {
     "data": {
      "text/html": [
       "<div>\n",
       "<style scoped>\n",
       "    .dataframe tbody tr th:only-of-type {\n",
       "        vertical-align: middle;\n",
       "    }\n",
       "\n",
       "    .dataframe tbody tr th {\n",
       "        vertical-align: top;\n",
       "    }\n",
       "\n",
       "    .dataframe thead th {\n",
       "        text-align: right;\n",
       "    }\n",
       "</style>\n",
       "<table border=\"1\" class=\"dataframe\">\n",
       "  <thead>\n",
       "    <tr style=\"text-align: right;\">\n",
       "      <th></th>\n",
       "      <th>Price</th>\n",
       "      <th>VehicleType</th>\n",
       "      <th>RegistrationYear</th>\n",
       "      <th>Gearbox</th>\n",
       "      <th>Power</th>\n",
       "      <th>Model</th>\n",
       "      <th>Kilometer</th>\n",
       "      <th>FuelType</th>\n",
       "      <th>Brand</th>\n",
       "      <th>NotRepaired</th>\n",
       "      <th>PostalCode</th>\n",
       "      <th>LastSeen</th>\n",
       "      <th>YearCreated</th>\n",
       "      <th>MonthCreated</th>\n",
       "    </tr>\n",
       "  </thead>\n",
       "  <tbody>\n",
       "    <tr>\n",
       "      <th>234296</th>\n",
       "      <td>3800</td>\n",
       "      <td>wagon</td>\n",
       "      <td>1978</td>\n",
       "      <td>manual</td>\n",
       "      <td>NaN</td>\n",
       "      <td>serie_1</td>\n",
       "      <td>30000</td>\n",
       "      <td>gasoline</td>\n",
       "      <td>land_rover</td>\n",
       "      <td>unknown</td>\n",
       "      <td>49824</td>\n",
       "      <td>2016-03-30 11:39:08</td>\n",
       "      <td>2016</td>\n",
       "      <td>3</td>\n",
       "    </tr>\n",
       "  </tbody>\n",
       "</table>\n",
       "</div>"
      ],
      "text/plain": [
       "        Price VehicleType  RegistrationYear Gearbox  Power    Model  \\\n",
       "234296   3800       wagon              1978  manual    NaN  serie_1   \n",
       "\n",
       "        Kilometer  FuelType       Brand NotRepaired  PostalCode  \\\n",
       "234296      30000  gasoline  land_rover     unknown       49824   \n",
       "\n",
       "                  LastSeen  YearCreated  MonthCreated  \n",
       "234296 2016-03-30 11:39:08         2016             3  "
      ]
     },
     "execution_count": 113,
     "metadata": {},
     "output_type": "execute_result"
    }
   ],
   "source": [
    "df[df['Power'].isna()]"
   ]
  },
  {
   "cell_type": "markdown",
   "metadata": {},
   "source": [
    "Имеем одно значение NaN."
   ]
  },
  {
   "cell_type": "code",
   "execution_count": 114,
   "metadata": {
    "scrolled": true
   },
   "outputs": [
    {
     "data": {
      "text/html": [
       "<div>\n",
       "<style scoped>\n",
       "    .dataframe tbody tr th:only-of-type {\n",
       "        vertical-align: middle;\n",
       "    }\n",
       "\n",
       "    .dataframe tbody tr th {\n",
       "        vertical-align: top;\n",
       "    }\n",
       "\n",
       "    .dataframe thead th {\n",
       "        text-align: right;\n",
       "    }\n",
       "</style>\n",
       "<table border=\"1\" class=\"dataframe\">\n",
       "  <thead>\n",
       "    <tr style=\"text-align: right;\">\n",
       "      <th></th>\n",
       "      <th>Price</th>\n",
       "      <th>VehicleType</th>\n",
       "      <th>RegistrationYear</th>\n",
       "      <th>Gearbox</th>\n",
       "      <th>Power</th>\n",
       "      <th>Model</th>\n",
       "      <th>Kilometer</th>\n",
       "      <th>FuelType</th>\n",
       "      <th>Brand</th>\n",
       "      <th>NotRepaired</th>\n",
       "      <th>PostalCode</th>\n",
       "      <th>LastSeen</th>\n",
       "      <th>YearCreated</th>\n",
       "      <th>MonthCreated</th>\n",
       "    </tr>\n",
       "  </thead>\n",
       "  <tbody>\n",
       "    <tr>\n",
       "      <th>234296</th>\n",
       "      <td>3800</td>\n",
       "      <td>wagon</td>\n",
       "      <td>1978</td>\n",
       "      <td>manual</td>\n",
       "      <td>NaN</td>\n",
       "      <td>serie_1</td>\n",
       "      <td>30000</td>\n",
       "      <td>gasoline</td>\n",
       "      <td>land_rover</td>\n",
       "      <td>unknown</td>\n",
       "      <td>49824</td>\n",
       "      <td>2016-03-30 11:39:08</td>\n",
       "      <td>2016</td>\n",
       "      <td>3</td>\n",
       "    </tr>\n",
       "  </tbody>\n",
       "</table>\n",
       "</div>"
      ],
      "text/plain": [
       "        Price VehicleType  RegistrationYear Gearbox  Power    Model  \\\n",
       "234296   3800       wagon              1978  manual    NaN  serie_1   \n",
       "\n",
       "        Kilometer  FuelType       Brand NotRepaired  PostalCode  \\\n",
       "234296      30000  gasoline  land_rover     unknown       49824   \n",
       "\n",
       "                  LastSeen  YearCreated  MonthCreated  \n",
       "234296 2016-03-30 11:39:08         2016             3  "
      ]
     },
     "execution_count": 114,
     "metadata": {},
     "output_type": "execute_result"
    }
   ],
   "source": [
    "df[df['Model'] == 'serie_1']"
   ]
  },
  {
   "cell_type": "markdown",
   "metadata": {},
   "source": [
    "В данных остался всего один авто данной модели. Удалим."
   ]
  },
  {
   "cell_type": "code",
   "execution_count": 115,
   "metadata": {},
   "outputs": [],
   "source": [
    "df = df[df['Model'] != 'serie_1']"
   ]
  },
  {
   "cell_type": "markdown",
   "metadata": {},
   "source": [
    "Вернем тип данных int."
   ]
  },
  {
   "cell_type": "code",
   "execution_count": 116,
   "metadata": {},
   "outputs": [],
   "source": [
    "df['Power'] = np.int16(df['Power'])"
   ]
  },
  {
   "cell_type": "markdown",
   "metadata": {},
   "source": [
    "Теперь можно выполнить праверку на дубликаты. Несмотря на остутствие идентификаторов, вероятность того, что разные объявления со всеми одинаковыми данными авто загружены в один день и пользователь в последний раз появлялся в одно и тоже время с точностью до секунды крайне мала."
   ]
  },
  {
   "cell_type": "code",
   "execution_count": 117,
   "metadata": {},
   "outputs": [
    {
     "data": {
      "text/plain": [
       "96"
      ]
     },
     "execution_count": 117,
     "metadata": {},
     "output_type": "execute_result"
    }
   ],
   "source": [
    "df.duplicated().sum()"
   ]
  },
  {
   "cell_type": "markdown",
   "metadata": {},
   "source": [
    "Удалим дублекаты."
   ]
  },
  {
   "cell_type": "code",
   "execution_count": 118,
   "metadata": {},
   "outputs": [
    {
     "data": {
      "text/plain": [
       "0"
      ]
     },
     "execution_count": 118,
     "metadata": {},
     "output_type": "execute_result"
    }
   ],
   "source": [
    "df = df.drop_duplicates()\n",
    "\n",
    "# проверка\n",
    "df.duplicated().sum()"
   ]
  },
  {
   "cell_type": "markdown",
   "metadata": {},
   "source": [
    "После проверки на дублекаты столбец с последним посещением пользователя можно все-таки удалить. Вероятность связи с ценой небольшая, а в случае кодирования, потребуются лишние ресурсы."
   ]
  },
  {
   "cell_type": "code",
   "execution_count": 119,
   "metadata": {},
   "outputs": [],
   "source": [
    "df = df.drop('LastSeen', axis=1)"
   ]
  },
  {
   "cell_type": "markdown",
   "metadata": {},
   "source": [
    "Посмотрим итоговые данные."
   ]
  },
  {
   "cell_type": "code",
   "execution_count": 120,
   "metadata": {
    "scrolled": true
   },
   "outputs": [
    {
     "name": "stdout",
     "output_type": "stream",
     "text": [
      "<class 'pandas.core.frame.DataFrame'>\n",
      "Int64Index: 328401 entries, 0 to 354368\n",
      "Data columns (total 13 columns):\n",
      " #   Column            Non-Null Count   Dtype \n",
      "---  ------            --------------   ----- \n",
      " 0   Price             328401 non-null  int64 \n",
      " 1   VehicleType       328401 non-null  object\n",
      " 2   RegistrationYear  328401 non-null  int64 \n",
      " 3   Gearbox           328401 non-null  object\n",
      " 4   Power             328401 non-null  int16 \n",
      " 5   Model             328401 non-null  object\n",
      " 6   Kilometer         328401 non-null  int64 \n",
      " 7   FuelType          328401 non-null  object\n",
      " 8   Brand             328401 non-null  object\n",
      " 9   NotRepaired       328401 non-null  object\n",
      " 10  PostalCode        328401 non-null  int64 \n",
      " 11  YearCreated       328401 non-null  int64 \n",
      " 12  MonthCreated      328401 non-null  int64 \n",
      "dtypes: int16(1), int64(6), object(6)\n",
      "memory usage: 33.2+ MB\n",
      "None\n"
     ]
    },
    {
     "data": {
      "text/html": [
       "<div>\n",
       "<style scoped>\n",
       "    .dataframe tbody tr th:only-of-type {\n",
       "        vertical-align: middle;\n",
       "    }\n",
       "\n",
       "    .dataframe tbody tr th {\n",
       "        vertical-align: top;\n",
       "    }\n",
       "\n",
       "    .dataframe thead th {\n",
       "        text-align: right;\n",
       "    }\n",
       "</style>\n",
       "<table border=\"1\" class=\"dataframe\">\n",
       "  <thead>\n",
       "    <tr style=\"text-align: right;\">\n",
       "      <th></th>\n",
       "      <th>Price</th>\n",
       "      <th>VehicleType</th>\n",
       "      <th>RegistrationYear</th>\n",
       "      <th>Gearbox</th>\n",
       "      <th>Power</th>\n",
       "      <th>Model</th>\n",
       "      <th>Kilometer</th>\n",
       "      <th>FuelType</th>\n",
       "      <th>Brand</th>\n",
       "      <th>NotRepaired</th>\n",
       "      <th>PostalCode</th>\n",
       "      <th>YearCreated</th>\n",
       "      <th>MonthCreated</th>\n",
       "    </tr>\n",
       "  </thead>\n",
       "  <tbody>\n",
       "    <tr>\n",
       "      <th>0</th>\n",
       "      <td>480</td>\n",
       "      <td>unknown</td>\n",
       "      <td>1993</td>\n",
       "      <td>manual</td>\n",
       "      <td>101</td>\n",
       "      <td>golf</td>\n",
       "      <td>150000</td>\n",
       "      <td>petrol</td>\n",
       "      <td>volkswagen</td>\n",
       "      <td>unknown</td>\n",
       "      <td>70435</td>\n",
       "      <td>2016</td>\n",
       "      <td>3</td>\n",
       "    </tr>\n",
       "    <tr>\n",
       "      <th>1</th>\n",
       "      <td>18300</td>\n",
       "      <td>coupe</td>\n",
       "      <td>2011</td>\n",
       "      <td>manual</td>\n",
       "      <td>190</td>\n",
       "      <td>unknown</td>\n",
       "      <td>125000</td>\n",
       "      <td>gasoline</td>\n",
       "      <td>audi</td>\n",
       "      <td>yes</td>\n",
       "      <td>66954</td>\n",
       "      <td>2016</td>\n",
       "      <td>3</td>\n",
       "    </tr>\n",
       "    <tr>\n",
       "      <th>2</th>\n",
       "      <td>9800</td>\n",
       "      <td>suv</td>\n",
       "      <td>2004</td>\n",
       "      <td>auto</td>\n",
       "      <td>163</td>\n",
       "      <td>grand</td>\n",
       "      <td>125000</td>\n",
       "      <td>gasoline</td>\n",
       "      <td>jeep</td>\n",
       "      <td>unknown</td>\n",
       "      <td>90480</td>\n",
       "      <td>2016</td>\n",
       "      <td>3</td>\n",
       "    </tr>\n",
       "    <tr>\n",
       "      <th>3</th>\n",
       "      <td>1500</td>\n",
       "      <td>small</td>\n",
       "      <td>2001</td>\n",
       "      <td>manual</td>\n",
       "      <td>75</td>\n",
       "      <td>golf</td>\n",
       "      <td>150000</td>\n",
       "      <td>petrol</td>\n",
       "      <td>volkswagen</td>\n",
       "      <td>no</td>\n",
       "      <td>91074</td>\n",
       "      <td>2016</td>\n",
       "      <td>3</td>\n",
       "    </tr>\n",
       "    <tr>\n",
       "      <th>4</th>\n",
       "      <td>3600</td>\n",
       "      <td>small</td>\n",
       "      <td>2008</td>\n",
       "      <td>manual</td>\n",
       "      <td>69</td>\n",
       "      <td>fabia</td>\n",
       "      <td>90000</td>\n",
       "      <td>gasoline</td>\n",
       "      <td>skoda</td>\n",
       "      <td>no</td>\n",
       "      <td>60437</td>\n",
       "      <td>2016</td>\n",
       "      <td>3</td>\n",
       "    </tr>\n",
       "  </tbody>\n",
       "</table>\n",
       "</div>"
      ],
      "text/plain": [
       "   Price VehicleType  RegistrationYear Gearbox  Power    Model  Kilometer  \\\n",
       "0    480     unknown              1993  manual    101     golf     150000   \n",
       "1  18300       coupe              2011  manual    190  unknown     125000   \n",
       "2   9800         suv              2004    auto    163    grand     125000   \n",
       "3   1500       small              2001  manual     75     golf     150000   \n",
       "4   3600       small              2008  manual     69    fabia      90000   \n",
       "\n",
       "   FuelType       Brand NotRepaired  PostalCode  YearCreated  MonthCreated  \n",
       "0    petrol  volkswagen     unknown       70435         2016             3  \n",
       "1  gasoline        audi         yes       66954         2016             3  \n",
       "2  gasoline        jeep     unknown       90480         2016             3  \n",
       "3    petrol  volkswagen          no       91074         2016             3  \n",
       "4  gasoline       skoda          no       60437         2016             3  "
      ]
     },
     "execution_count": 120,
     "metadata": {},
     "output_type": "execute_result"
    }
   ],
   "source": [
    "print(df.info())\n",
    "df.head()"
   ]
  },
  {
   "cell_type": "markdown",
   "metadata": {},
   "source": [
    "Данные обработаны.\n",
    "\n",
    "Для работы с большинством моделей нам потребуется кодирование."
   ]
  },
  {
   "cell_type": "markdown",
   "metadata": {},
   "source": [
    "### Кодирование данных"
   ]
  },
  {
   "cell_type": "markdown",
   "metadata": {},
   "source": [
    "Для Бустинга и линейных моделей используем кодирование OHE"
   ]
  },
  {
   "cell_type": "code",
   "execution_count": 121,
   "metadata": {},
   "outputs": [],
   "source": [
    "df_ohe = pd.get_dummies(df, drop_first=True)"
   ]
  },
  {
   "cell_type": "markdown",
   "metadata": {},
   "source": [
    "Для Случайного леса и Бэгинга воспользуемся более локаничной версией кодирования - ordinal encoder."
   ]
  },
  {
   "cell_type": "code",
   "execution_count": 122,
   "metadata": {
    "scrolled": true
   },
   "outputs": [],
   "source": [
    "category_features = ['VehicleType', 'Gearbox', 'Model', 'FuelType', 'Brand', 'NotRepaired']\n",
    "\n",
    "encoder = OrdinalEncoder()\n",
    "encoder.fit(df[category_features])\n",
    "df_oe = df\n",
    "df_oe[category_features] = encoder.transform(df_oe[category_features])"
   ]
  },
  {
   "cell_type": "markdown",
   "metadata": {},
   "source": [
    "### Разделение данных на выборки"
   ]
  },
  {
   "cell_type": "markdown",
   "metadata": {},
   "source": [
    "Отделим целевой признак, создадим тренировочную и тестовую. Мы будем использовать кросс-валидацию, поэтому валидационная выборка нам не понадобиться."
   ]
  },
  {
   "cell_type": "markdown",
   "metadata": {},
   "source": [
    "Сделаем наборы данных с кодированием OHE и OE."
   ]
  },
  {
   "cell_type": "markdown",
   "metadata": {},
   "source": [
    "Данные с кодированием OHE."
   ]
  },
  {
   "cell_type": "code",
   "execution_count": 123,
   "metadata": {},
   "outputs": [],
   "source": [
    "features_ohe = df_ohe.drop('Price', axis=1)\n",
    "target_ohe = df_ohe['Price']"
   ]
  },
  {
   "cell_type": "code",
   "execution_count": 124,
   "metadata": {},
   "outputs": [],
   "source": [
    "# отделим тестовую выборку\n",
    "\n",
    "train_features_ohe, test_features_ohe, train_target_ohe, test_target_ohe = train_test_split(features_ohe, target_ohe, random_state=42, test_size=0.25)"
   ]
  },
  {
   "cell_type": "markdown",
   "metadata": {},
   "source": [
    "Данные с кодированием OE."
   ]
  },
  {
   "cell_type": "code",
   "execution_count": 125,
   "metadata": {},
   "outputs": [],
   "source": [
    "features_oe = df_oe.drop('Price', axis=1)\n",
    "target_oe = df_oe['Price']"
   ]
  },
  {
   "cell_type": "code",
   "execution_count": 126,
   "metadata": {},
   "outputs": [],
   "source": [
    "train_features_oe, test_features_oe, train_target_oe, test_target_oe = train_test_split(features_oe, target_oe, random_state=42, test_size=0.25)"
   ]
  },
  {
   "cell_type": "markdown",
   "metadata": {},
   "source": [
    "## Обучение и проверка моделей"
   ]
  },
  {
   "cell_type": "markdown",
   "metadata": {},
   "source": [
    "Проверим следующие модели:\n",
    "\n",
    "1. LightGBM\n",
    "2. CatBoost\n",
    "3. Ансамбль линейных моделей\n",
    "4. RandomForestRegressor\n",
    "5. ElasticNet"
   ]
  },
  {
   "cell_type": "markdown",
   "metadata": {},
   "source": [
    "Обучим модель LightGBM."
   ]
  },
  {
   "cell_type": "code",
   "execution_count": 127,
   "metadata": {},
   "outputs": [
    {
     "name": "stdout",
     "output_type": "stream",
     "text": [
      "RMSE LightGBM на валидационной выборке: 1632.83\n",
      "Время обучения CatBoost: 8.99 c\n",
      "Время предсказания CatBoost: 1.16 c\n",
      "CPU times: total: 12 s\n",
      "Wall time: 1min 7s\n"
     ]
    }
   ],
   "source": [
    "%%time \n",
    "\n",
    "# займет 1 мин\n",
    "\n",
    "parametrs_lgbm = {'learning_rate': np.arange(0.1, 1.0, 0.1),\n",
    "             'reg_alpha': [0.2],\n",
    "             'reg_lambda': [0.1]}\n",
    "\n",
    "gs_model_lgbm = LGBMRegressor(random_state=42)\n",
    "gs_lgbm = GridSearchCV(gs_model_lgbm, parametrs_lgbm, scoring='neg_root_mean_squared_error', n_jobs=-1)\n",
    "gs_lgbm.fit(train_features_ohe, train_target_ohe)\n",
    "\n",
    "model_lgbm = gs_lgbm.best_estimator_\n",
    "score_lgbm = abs(gs_lgbm.best_score_)\n",
    "fit_time_lgbm = np.mean(gs_lgbm.cv_results_['mean_fit_time'])\n",
    "score_time_lgbm = np.mean(gs_lgbm.cv_results_['mean_score_time'])\n",
    "\n",
    "\n",
    "print(f'RMSE LightGBM на валидационной выборке: {score_lgbm:.2f}')\n",
    "print(f'Время обучения LightGBM: {fit_time_lgbm:.2f} c')\n",
    "print(f'Время предсказания LightGBM: {score_time_lgbm:.2f} c')"
   ]
  },
  {
   "cell_type": "markdown",
   "metadata": {},
   "source": [
    "Создадим таблицу значений."
   ]
  },
  {
   "cell_type": "code",
   "execution_count": 128,
   "metadata": {},
   "outputs": [],
   "source": [
    "# добавим данные lgbm\n",
    "\n",
    "time_sheet = pd.DataFrame(['LGBM', score_lgbm, fit_time_lgbm, score_time_lgbm], index=['Model', 'RMSE', 'FitTime', 'ScoreTime'])"
   ]
  },
  {
   "cell_type": "markdown",
   "metadata": {},
   "source": [
    "Обучим CatBoost"
   ]
  },
  {
   "cell_type": "code",
   "execution_count": 129,
   "metadata": {},
   "outputs": [
    {
     "name": "stdout",
     "output_type": "stream",
     "text": [
      "RMSE CatBoost на валидационной выборке: 1783.24\n",
      "Время обучения CatBoost: 7.19 c\n",
      "Время предсказания CatBoost: 0.11 c\n",
      "CPU times: total: 11.9 s\n",
      "Wall time: 51.1 s\n"
     ]
    }
   ],
   "source": [
    "%%time \n",
    "\n",
    "# займет 22 сек\n",
    "\n",
    "parametrs_cbr = {'depth': range(2, 11, 2),\n",
    "             'iterations': [10, 15],\n",
    "             'learning_rate': [0.5],\n",
    "             'reg_lambda': [0.1]}\n",
    "\n",
    "gs_model_cbr = CatBoostRegressor(random_state=42, verbose=False)\n",
    "gs_cbr = GridSearchCV(gs_model_cbr, parametrs_cbr, scoring='neg_root_mean_squared_error', n_jobs=-1)\n",
    "gs_cbr.fit(train_features_ohe, train_target_ohe)\n",
    "\n",
    "model_cbr = gs_cbr.best_estimator_\n",
    "score_cbr = abs(gs_cbr.best_score_)\n",
    "fit_time_cbr = np.mean(gs_cbr.cv_results_['mean_fit_time'])\n",
    "score_time_cbr = np.mean(gs_cbr.cv_results_['mean_score_time'])\n",
    "\n",
    "print(f'RMSE CatBoost на валидационной выборке: {score_cbr:.2f}')\n",
    "print(f'Время обучения CatBoost: {fit_time_cbr:.2f} c')\n",
    "print(f'Время предсказания CatBoost: {score_time_cbr:.2f} c')"
   ]
  },
  {
   "cell_type": "code",
   "execution_count": 130,
   "metadata": {},
   "outputs": [],
   "source": [
    "# добавим данные CatBoost\n",
    "\n",
    "time_sheet[1] = ['CatBoost', score_cbr, fit_time_cbr, score_time_cbr]"
   ]
  },
  {
   "cell_type": "markdown",
   "metadata": {},
   "source": [
    "Обучим ElasticNet."
   ]
  },
  {
   "cell_type": "code",
   "execution_count": 131,
   "metadata": {
    "scrolled": true
   },
   "outputs": [
    {
     "name": "stdout",
     "output_type": "stream",
     "text": [
      "RMSE ElasticNet на валидационной выборке: 3351.85\n",
      "Параметр l1_ratio: 8\n",
      "Время обучения ElasticNet: 8.75 c\n",
      "Время предсказания ElasticNet: 0.34 c\n",
      "CPU times: total: 1.19 s\n",
      "Wall time: 1min 9s\n"
     ]
    }
   ],
   "source": [
    "%%time \n",
    "\n",
    "# займет 4 с\n",
    "\n",
    "model_en = None\n",
    "score_en = 999999\n",
    "best_ratio = 0\n",
    "\n",
    "for ratio in range(1, 9, 1):\n",
    "    model = ElasticNet(random_state=42, l1_ratio=(ratio/10), max_iter=500)\n",
    "    scores = cross_validate(model, train_features_ohe, train_target_ohe, scoring='neg_root_mean_squared_error', n_jobs=-1, cv=4)\n",
    "    score = pd.Series(abs(scores['test_score'])).mean()\n",
    "    if score < score_en:\n",
    "        score_en = score\n",
    "        model_en = model\n",
    "        best_ratio = ratio\n",
    "        fit_time_en = pd.Series(scores['fit_time']).mean()\n",
    "        score_time_en = pd.Series(scores['score_time']).mean()\n",
    "\n",
    "print(f'RMSE ElasticNet на валидационной выборке: {score_en:.2f}')\n",
    "print(f'Параметр l1_ratio: {best_ratio}')\n",
    "print(f'Время обучения ElasticNet: {fit_time_en:.2f} c')\n",
    "print(f'Время предсказания ElasticNet: {score_time_en:.2f} c')"
   ]
  },
  {
   "cell_type": "code",
   "execution_count": 132,
   "metadata": {},
   "outputs": [],
   "source": [
    "# добавим данные ElasticNet\n",
    "\n",
    "time_sheet[2] = ['ElasticNet', score_en, fit_time_en, score_time_en]"
   ]
  },
  {
   "cell_type": "markdown",
   "metadata": {},
   "source": [
    "Для Случайного леса и Бэгинга воспользуемся более локаничной версией кодирования - ordinal."
   ]
  },
  {
   "cell_type": "markdown",
   "metadata": {},
   "source": [
    "Обучим Ансамбль линейной регрессии без GridSearch из-за скорости работы."
   ]
  },
  {
   "cell_type": "code",
   "execution_count": 133,
   "metadata": {},
   "outputs": [
    {
     "name": "stdout",
     "output_type": "stream",
     "text": [
      "RMSE BaggingRegressor на валидационной выборке: 3419.25\n",
      "Время обучения BaggingRegressor: 13.99 c\n",
      "Время предсказания BaggingRegressor: 0.39 c\n",
      "CPU times: total: 453 ms\n",
      "Wall time: 45.1 s\n"
     ]
    }
   ],
   "source": [
    "%%time \n",
    "\n",
    "# займет 50 сек\n",
    "\n",
    "model_blr = None\n",
    "score_blr = 999999\n",
    "\n",
    "for est in range(10, 51, 10):\n",
    "    model = BaggingRegressor(base_estimator=LinearRegression(), random_state=42, n_estimators=est, bootstrap=True)\n",
    "    scores = cross_validate(model, train_features_oe, train_target_oe, scoring='neg_root_mean_squared_error', n_jobs=-1, cv=4)\n",
    "    score = pd.Series(abs(scores['test_score'])).mean()\n",
    "    if score < score_blr:\n",
    "        score_blr = score\n",
    "        model_blr = model\n",
    "        fit_time_blr = pd.Series(scores['fit_time']).mean()\n",
    "        score_time_blr = pd.Series(scores['score_time']).mean()\n",
    "\n",
    "print(f'RMSE BaggingRegressor на валидационной выборке: {score_blr:.2f}')\n",
    "print(f'Время обучения BaggingRegressor: {fit_time_blr:.2f} c')\n",
    "print(f'Время предсказания BaggingRegressor: {score_time_blr:.2f} c')"
   ]
  },
  {
   "cell_type": "code",
   "execution_count": 134,
   "metadata": {},
   "outputs": [],
   "source": [
    "# добавим данные BaggingRegressor \n",
    "\n",
    "time_sheet[3] = ['BaggingRegressor', score_blr, fit_time_blr, score_time_blr]"
   ]
  },
  {
   "cell_type": "markdown",
   "metadata": {},
   "source": [
    "Обучим RandomForestRegressor без GridSearch из-за скорости работы."
   ]
  },
  {
   "cell_type": "code",
   "execution_count": 135,
   "metadata": {},
   "outputs": [
    {
     "name": "stdout",
     "output_type": "stream",
     "text": [
      "RMSE RandomForestRegressor на валидационной выборке: 1896.39\n",
      "Параметр n_estimators: 60\n",
      "Время обучения RandomForestRegressor: 36.27 c\n",
      "Время предсказания RandomForestRegressor: 0.46 c\n",
      "CPU times: total: 641 ms\n",
      "Wall time: 2min 12s\n"
     ]
    }
   ],
   "source": [
    "%%time \n",
    "\n",
    "# займет около 2 минут\n",
    "\n",
    "model_rfr = None\n",
    "score_rfr = 999999\n",
    "best_est = 0\n",
    "\n",
    "for est in range(10, 61, 10):\n",
    "    model = RandomForestRegressor(random_state=42, n_estimators=est, max_depth=10)\n",
    "    scores = cross_validate(model, train_features_oe, train_target_oe, scoring='neg_root_mean_squared_error', n_jobs=-1, cv=4)\n",
    "    score = pd.Series(abs(scores['test_score'])).mean()\n",
    "    if score < score_rfr:\n",
    "        score_rfr = score\n",
    "        model_rfr = model\n",
    "        best_est = est\n",
    "        fit_time_rfr = pd.Series(scores['fit_time']).mean()\n",
    "        score_time_rfr = pd.Series(scores['score_time']).mean()\n",
    "\n",
    "print(f'RMSE RandomForestRegressor на валидационной выборке: {score_rfr:.2f}')\n",
    "print(f'Параметр n_estimators: {best_est}')\n",
    "print(f'Время обучения RandomForestRegressor: {fit_time_rfr:.2f} c')\n",
    "print(f'Время предсказания RandomForestRegressor: {score_time_rfr:.2f} c')"
   ]
  },
  {
   "cell_type": "code",
   "execution_count": 136,
   "metadata": {},
   "outputs": [],
   "source": [
    "# добавим данные RandomForestRegressor \n",
    "\n",
    "time_sheet[4] = ['RandomForestRegressor', score_rfr, fit_time_rfr, score_time_rfr]"
   ]
  },
  {
   "cell_type": "markdown",
   "metadata": {},
   "source": [
    "## Анализ моделей"
   ]
  },
  {
   "cell_type": "markdown",
   "metadata": {},
   "source": [
    "Мы получили следующие характеристики:"
   ]
  },
  {
   "cell_type": "code",
   "execution_count": 137,
   "metadata": {},
   "outputs": [
    {
     "data": {
      "text/html": [
       "<div>\n",
       "<style scoped>\n",
       "    .dataframe tbody tr th:only-of-type {\n",
       "        vertical-align: middle;\n",
       "    }\n",
       "\n",
       "    .dataframe tbody tr th {\n",
       "        vertical-align: top;\n",
       "    }\n",
       "\n",
       "    .dataframe thead th {\n",
       "        text-align: right;\n",
       "    }\n",
       "</style>\n",
       "<table border=\"1\" class=\"dataframe\">\n",
       "  <thead>\n",
       "    <tr style=\"text-align: right;\">\n",
       "      <th></th>\n",
       "      <th>0</th>\n",
       "      <th>1</th>\n",
       "      <th>2</th>\n",
       "      <th>3</th>\n",
       "      <th>4</th>\n",
       "    </tr>\n",
       "  </thead>\n",
       "  <tbody>\n",
       "    <tr>\n",
       "      <th>Model</th>\n",
       "      <td>LGBM</td>\n",
       "      <td>CatBoost</td>\n",
       "      <td>ElasticNet</td>\n",
       "      <td>BaggingRegressor</td>\n",
       "      <td>RandomForestRegressor</td>\n",
       "    </tr>\n",
       "    <tr>\n",
       "      <th>RMSE</th>\n",
       "      <td>1632.83483</td>\n",
       "      <td>1783.243296</td>\n",
       "      <td>3351.854638</td>\n",
       "      <td>3419.25274</td>\n",
       "      <td>1896.392176</td>\n",
       "    </tr>\n",
       "    <tr>\n",
       "      <th>FitTime</th>\n",
       "      <td>8.991399</td>\n",
       "      <td>7.192791</td>\n",
       "      <td>8.746871</td>\n",
       "      <td>13.992639</td>\n",
       "      <td>36.266429</td>\n",
       "    </tr>\n",
       "    <tr>\n",
       "      <th>ScoreTime</th>\n",
       "      <td>1.162857</td>\n",
       "      <td>0.110952</td>\n",
       "      <td>0.33729</td>\n",
       "      <td>0.39401</td>\n",
       "      <td>0.458719</td>\n",
       "    </tr>\n",
       "  </tbody>\n",
       "</table>\n",
       "</div>"
      ],
      "text/plain": [
       "                    0            1            2                 3  \\\n",
       "Model            LGBM     CatBoost   ElasticNet  BaggingRegressor   \n",
       "RMSE       1632.83483  1783.243296  3351.854638        3419.25274   \n",
       "FitTime      8.991399     7.192791     8.746871         13.992639   \n",
       "ScoreTime    1.162857     0.110952      0.33729           0.39401   \n",
       "\n",
       "                               4  \n",
       "Model      RandomForestRegressor  \n",
       "RMSE                 1896.392176  \n",
       "FitTime                36.266429  \n",
       "ScoreTime               0.458719  "
      ]
     },
     "execution_count": 137,
     "metadata": {},
     "output_type": "execute_result"
    }
   ],
   "source": [
    "time_sheet"
   ]
  },
  {
   "cell_type": "markdown",
   "metadata": {},
   "source": [
    "Из всех полученных моделей самую высокую точность имеет LightGBM. При этом она не является слишком долгой.\n",
    "Кроме того, если обучить модель по данным df_oe, скорость увеличится более чем в 2 раза, а качество почти не изменится."
   ]
  },
  {
   "cell_type": "markdown",
   "metadata": {},
   "source": [
    "## Тестирование лучшей модели"
   ]
  },
  {
   "cell_type": "markdown",
   "metadata": {},
   "source": [
    "Протестируем модель LightGBM."
   ]
  },
  {
   "cell_type": "code",
   "execution_count": 138,
   "metadata": {},
   "outputs": [
    {
     "name": "stdout",
     "output_type": "stream",
     "text": [
      "RMSE лучшей модели на тестовой выборке: 1642.19\n"
     ]
    }
   ],
   "source": [
    "test_predict = model_lgbm.predict(test_features_ohe)\n",
    "test_score = mean_squared_error(test_target_ohe, test_predict, squared=False)\n",
    "print(f'RMSE лучшей модели на тестовой выборке: {test_score:.2f}')"
   ]
  },
  {
   "cell_type": "markdown",
   "metadata": {},
   "source": [
    "## Вывод"
   ]
  },
  {
   "cell_type": "markdown",
   "metadata": {},
   "source": [
    "Мы подобрали модель с самой высокой точностью и средней скоростью обучения LightGBM. Для увеличения скорости работы имеет смысл кодировать данные методом Ordinal Encoder, на точность это практически не влияет, а скорост обучения увеличивается более чем в 2 раза."
   ]
  }
 ],
 "metadata": {
  "kernelspec": {
   "display_name": "Python 3 (ipykernel)",
   "language": "python",
   "name": "python3"
  },
  "language_info": {
   "codemirror_mode": {
    "name": "ipython",
    "version": 3
   },
   "file_extension": ".py",
   "mimetype": "text/x-python",
   "name": "python",
   "nbconvert_exporter": "python",
   "pygments_lexer": "ipython3",
   "version": "3.9.12 | packaged by conda-forge | (main, Mar 24 2022, 23:17:03) [MSC v.1929 64 bit (AMD64)]"
  },
  "toc": {
   "base_numbering": 1,
   "nav_menu": {},
   "number_sections": true,
   "sideBar": true,
   "skip_h1_title": true,
   "title_cell": "Содержание",
   "title_sidebar": "Contents",
   "toc_cell": true,
   "toc_position": {},
   "toc_section_display": true,
   "toc_window_display": true
  },
  "vscode": {
   "interpreter": {
    "hash": "e0ef30f9ced4f28c95236de9689a532d2173f419cbb83d686f22b49e7616bd1e"
   }
  }
 },
 "nbformat": 4,
 "nbformat_minor": 2
}
