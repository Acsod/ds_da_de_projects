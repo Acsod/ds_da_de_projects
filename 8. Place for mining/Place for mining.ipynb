{
 "cells": [
  {
   "cell_type": "markdown",
   "metadata": {
    "toc": true
   },
   "source": [
    "<h1>Содержание<span class=\"tocSkip\"></span></h1>\n",
    "<div class=\"toc\"><ul class=\"toc-item\"><li><span><a href=\"#Загрузка-и-подготовка-данных\" data-toc-modified-id=\"Загрузка-и-подготовка-данных-1\"><span class=\"toc-item-num\">1&nbsp;&nbsp;</span>Загрузка и подготовка данных</a></span><ul class=\"toc-item\"><li><span><a href=\"#Импорт-библиотек\" data-toc-modified-id=\"Импорт-библиотек-1.1\"><span class=\"toc-item-num\">1.1&nbsp;&nbsp;</span>Импорт библиотек</a></span></li><li><span><a href=\"#Обзор-данных\" data-toc-modified-id=\"Обзор-данных-1.2\"><span class=\"toc-item-num\">1.2&nbsp;&nbsp;</span>Обзор данных</a></span></li><li><span><a href=\"#Предобработка-данных\" data-toc-modified-id=\"Предобработка-данных-1.3\"><span class=\"toc-item-num\">1.3&nbsp;&nbsp;</span>Предобработка данных</a></span></li></ul></li><li><span><a href=\"#Обучение-и-проверка-модели\" data-toc-modified-id=\"Обучение-и-проверка-модели-2\"><span class=\"toc-item-num\">2&nbsp;&nbsp;</span>Обучение и проверка модели</a></span><ul class=\"toc-item\"><li><span><a href=\"#Подготовка-выборок\" data-toc-modified-id=\"Подготовка-выборок-2.1\"><span class=\"toc-item-num\">2.1&nbsp;&nbsp;</span>Подготовка выборок</a></span></li><li><span><a href=\"#Обучение-модели\" data-toc-modified-id=\"Обучение-модели-2.2\"><span class=\"toc-item-num\">2.2&nbsp;&nbsp;</span>Обучение модели</a></span></li><li><span><a href=\"#Плучение-предсказаний\" data-toc-modified-id=\"Плучение-предсказаний-2.3\"><span class=\"toc-item-num\">2.3&nbsp;&nbsp;</span>Плучение предсказаний</a></span></li><li><span><a href=\"#Вывод\" data-toc-modified-id=\"Вывод-2.4\"><span class=\"toc-item-num\">2.4&nbsp;&nbsp;</span>Вывод</a></span></li></ul></li><li><span><a href=\"#Подготовка-к-расчёту-прибыли\" data-toc-modified-id=\"Подготовка-к-расчёту-прибыли-3\"><span class=\"toc-item-num\">3&nbsp;&nbsp;</span>Подготовка к расчёту прибыли</a></span></li><li><span><a href=\"#Расчёт-прибыли-и-рисков\" data-toc-modified-id=\"Расчёт-прибыли-и-рисков-4\"><span class=\"toc-item-num\">4&nbsp;&nbsp;</span>Расчёт прибыли и рисков</a></span></li><li><span><a href=\"#Вывод\" data-toc-modified-id=\"Вывод-5\"><span class=\"toc-item-num\">5&nbsp;&nbsp;</span>Вывод</a></span></li><li><span><a href=\"#Чек-лист-готовности-проекта\" data-toc-modified-id=\"Чек-лист-готовности-проекта-6\"><span class=\"toc-item-num\">6&nbsp;&nbsp;</span>Чек-лист готовности проекта</a></span></li></ul></div>"
   ]
  },
  {
   "cell_type": "markdown",
   "metadata": {},
   "source": [
    "# Выбор локации для скважины"
   ]
  },
  {
   "cell_type": "markdown",
   "metadata": {},
   "source": [
    "**Иcходные данные**\n",
    "\n",
    "Добывающей компании нужно решить, где бурить новую скважину.\n",
    "\n",
    "Нам предоставлены пробы нефти в трёх регионах: в каждом 10 000 месторождений, где измерили качество нефти и объём её запасов. \n",
    "\n",
    "**Цель исследования**\n",
    "\n",
    "Построить модель машинного обучения, которая поможет определить регион, где добыча принесёт наибольшую прибыль.\n",
    "\n",
    "Проанализировать возможную прибыль и риски техникой *Bootstrap.*\n",
    "\n",
    "\n",
    "**Ход исследования**\n",
    "\n",
    "1. Обзор и подготовка данных.    \n",
    "2. Обучение и проверка моделей.\n",
    "3. Рассчет прибыли.\n",
    "4. Просчет рисков и прибыли.\n",
    "\n",
    "Шаги для выбора локации:\n",
    "\n",
    "- В избранном регионе ищем месторождения, для каждого определяем значения признаков;\n",
    "- Строим модель и оцениваем объём запасов;\n",
    "- Выбираем месторождения с самым высокими оценками значений. Количество месторождений зависит от бюджета компании и стоимости разработки одной скважины;\n",
    "- Прибыль равна суммарной прибыли отобранных месторождений."
   ]
  },
  {
   "cell_type": "markdown",
   "metadata": {},
   "source": [
    "## Загрузка и подготовка данных"
   ]
  },
  {
   "cell_type": "markdown",
   "metadata": {},
   "source": [
    "### Импорт библиотек"
   ]
  },
  {
   "cell_type": "code",
   "execution_count": 672,
   "metadata": {},
   "outputs": [],
   "source": [
    "import pandas as pd\n",
    "import os\n",
    "import numpy as np\n",
    "from sklearn.model_selection import train_test_split\n",
    "from sklearn.linear_model import LinearRegression\n",
    "from sklearn.model_selection import cross_val_score\n",
    "from sklearn.metrics import mean_absolute_error\n",
    "from sklearn.metrics import mean_squared_error\n",
    "import matplotlib.pyplot as plt"
   ]
  },
  {
   "cell_type": "markdown",
   "metadata": {},
   "source": [
    "### Обзор данных"
   ]
  },
  {
   "cell_type": "code",
   "execution_count": 673,
   "metadata": {},
   "outputs": [],
   "source": [
    "for i in range(3):\n",
    "    pth1 = 'geo_data_' + str(i) + '.csv'\n",
    "    pth2 = '/datasets/geo_data_' + str(i) + '.csv'\n",
    "    if os.path.exists(pth1):\n",
    "        globals()['geo_data_' + str(i)] = pd.read_csv(pth1, index_col=0)\n",
    "    elif os.path.exists(pth2):\n",
    "        globals()['geo_data_' + str(i)] = pd.read_csv(pth2, index_col=0)\n",
    "    else:\n",
    "        print('Что-то пошло не так :(')"
   ]
  },
  {
   "cell_type": "markdown",
   "metadata": {},
   "source": [
    "Посмотрим данные."
   ]
  },
  {
   "cell_type": "code",
   "execution_count": 674,
   "metadata": {},
   "outputs": [
    {
     "name": "stdout",
     "output_type": "stream",
     "text": [
      "Регион 1\n",
      "<class 'pandas.core.frame.DataFrame'>\n",
      "Index: 100000 entries, txEyH to 1CWhH\n",
      "Data columns (total 4 columns):\n",
      " #   Column   Non-Null Count   Dtype  \n",
      "---  ------   --------------   -----  \n",
      " 0   f0       100000 non-null  float64\n",
      " 1   f1       100000 non-null  float64\n",
      " 2   f2       100000 non-null  float64\n",
      " 3   product  100000 non-null  float64\n",
      "dtypes: float64(4)\n",
      "memory usage: 3.8+ MB\n",
      "None\n"
     ]
    },
    {
     "data": {
      "text/html": [
       "<div>\n",
       "<style scoped>\n",
       "    .dataframe tbody tr th:only-of-type {\n",
       "        vertical-align: middle;\n",
       "    }\n",
       "\n",
       "    .dataframe tbody tr th {\n",
       "        vertical-align: top;\n",
       "    }\n",
       "\n",
       "    .dataframe thead th {\n",
       "        text-align: right;\n",
       "    }\n",
       "</style>\n",
       "<table border=\"1\" class=\"dataframe\">\n",
       "  <thead>\n",
       "    <tr style=\"text-align: right;\">\n",
       "      <th></th>\n",
       "      <th>f0</th>\n",
       "      <th>f1</th>\n",
       "      <th>f2</th>\n",
       "      <th>product</th>\n",
       "    </tr>\n",
       "    <tr>\n",
       "      <th>id</th>\n",
       "      <th></th>\n",
       "      <th></th>\n",
       "      <th></th>\n",
       "      <th></th>\n",
       "    </tr>\n",
       "  </thead>\n",
       "  <tbody>\n",
       "    <tr>\n",
       "      <th>txEyH</th>\n",
       "      <td>0.705745</td>\n",
       "      <td>-0.497823</td>\n",
       "      <td>1.221170</td>\n",
       "      <td>105.280062</td>\n",
       "    </tr>\n",
       "    <tr>\n",
       "      <th>2acmU</th>\n",
       "      <td>1.334711</td>\n",
       "      <td>-0.340164</td>\n",
       "      <td>4.365080</td>\n",
       "      <td>73.037750</td>\n",
       "    </tr>\n",
       "    <tr>\n",
       "      <th>409Wp</th>\n",
       "      <td>1.022732</td>\n",
       "      <td>0.151990</td>\n",
       "      <td>1.419926</td>\n",
       "      <td>85.265647</td>\n",
       "    </tr>\n",
       "    <tr>\n",
       "      <th>iJLyR</th>\n",
       "      <td>-0.032172</td>\n",
       "      <td>0.139033</td>\n",
       "      <td>2.978566</td>\n",
       "      <td>168.620776</td>\n",
       "    </tr>\n",
       "    <tr>\n",
       "      <th>Xdl7t</th>\n",
       "      <td>1.988431</td>\n",
       "      <td>0.155413</td>\n",
       "      <td>4.751769</td>\n",
       "      <td>154.036647</td>\n",
       "    </tr>\n",
       "  </tbody>\n",
       "</table>\n",
       "</div>"
      ],
      "text/plain": [
       "             f0        f1        f2     product\n",
       "id                                             \n",
       "txEyH  0.705745 -0.497823  1.221170  105.280062\n",
       "2acmU  1.334711 -0.340164  4.365080   73.037750\n",
       "409Wp  1.022732  0.151990  1.419926   85.265647\n",
       "iJLyR -0.032172  0.139033  2.978566  168.620776\n",
       "Xdl7t  1.988431  0.155413  4.751769  154.036647"
      ]
     },
     "metadata": {},
     "output_type": "display_data"
    },
    {
     "name": "stdout",
     "output_type": "stream",
     "text": [
      "\n",
      "Регион 2\n",
      "<class 'pandas.core.frame.DataFrame'>\n",
      "Index: 100000 entries, kBEdx to relB0\n",
      "Data columns (total 4 columns):\n",
      " #   Column   Non-Null Count   Dtype  \n",
      "---  ------   --------------   -----  \n",
      " 0   f0       100000 non-null  float64\n",
      " 1   f1       100000 non-null  float64\n",
      " 2   f2       100000 non-null  float64\n",
      " 3   product  100000 non-null  float64\n",
      "dtypes: float64(4)\n",
      "memory usage: 3.8+ MB\n",
      "None\n"
     ]
    },
    {
     "data": {
      "text/html": [
       "<div>\n",
       "<style scoped>\n",
       "    .dataframe tbody tr th:only-of-type {\n",
       "        vertical-align: middle;\n",
       "    }\n",
       "\n",
       "    .dataframe tbody tr th {\n",
       "        vertical-align: top;\n",
       "    }\n",
       "\n",
       "    .dataframe thead th {\n",
       "        text-align: right;\n",
       "    }\n",
       "</style>\n",
       "<table border=\"1\" class=\"dataframe\">\n",
       "  <thead>\n",
       "    <tr style=\"text-align: right;\">\n",
       "      <th></th>\n",
       "      <th>f0</th>\n",
       "      <th>f1</th>\n",
       "      <th>f2</th>\n",
       "      <th>product</th>\n",
       "    </tr>\n",
       "    <tr>\n",
       "      <th>id</th>\n",
       "      <th></th>\n",
       "      <th></th>\n",
       "      <th></th>\n",
       "      <th></th>\n",
       "    </tr>\n",
       "  </thead>\n",
       "  <tbody>\n",
       "    <tr>\n",
       "      <th>kBEdx</th>\n",
       "      <td>-15.001348</td>\n",
       "      <td>-8.276000</td>\n",
       "      <td>-0.005876</td>\n",
       "      <td>3.179103</td>\n",
       "    </tr>\n",
       "    <tr>\n",
       "      <th>62mP7</th>\n",
       "      <td>14.272088</td>\n",
       "      <td>-3.475083</td>\n",
       "      <td>0.999183</td>\n",
       "      <td>26.953261</td>\n",
       "    </tr>\n",
       "    <tr>\n",
       "      <th>vyE1P</th>\n",
       "      <td>6.263187</td>\n",
       "      <td>-5.948386</td>\n",
       "      <td>5.001160</td>\n",
       "      <td>134.766305</td>\n",
       "    </tr>\n",
       "    <tr>\n",
       "      <th>KcrkZ</th>\n",
       "      <td>-13.081196</td>\n",
       "      <td>-11.506057</td>\n",
       "      <td>4.999415</td>\n",
       "      <td>137.945408</td>\n",
       "    </tr>\n",
       "    <tr>\n",
       "      <th>AHL4O</th>\n",
       "      <td>12.702195</td>\n",
       "      <td>-8.147433</td>\n",
       "      <td>5.004363</td>\n",
       "      <td>134.766305</td>\n",
       "    </tr>\n",
       "  </tbody>\n",
       "</table>\n",
       "</div>"
      ],
      "text/plain": [
       "              f0         f1        f2     product\n",
       "id                                               \n",
       "kBEdx -15.001348  -8.276000 -0.005876    3.179103\n",
       "62mP7  14.272088  -3.475083  0.999183   26.953261\n",
       "vyE1P   6.263187  -5.948386  5.001160  134.766305\n",
       "KcrkZ -13.081196 -11.506057  4.999415  137.945408\n",
       "AHL4O  12.702195  -8.147433  5.004363  134.766305"
      ]
     },
     "metadata": {},
     "output_type": "display_data"
    },
    {
     "name": "stdout",
     "output_type": "stream",
     "text": [
      "\n",
      "Регион 3\n",
      "<class 'pandas.core.frame.DataFrame'>\n",
      "Index: 100000 entries, fwXo0 to V9kWn\n",
      "Data columns (total 4 columns):\n",
      " #   Column   Non-Null Count   Dtype  \n",
      "---  ------   --------------   -----  \n",
      " 0   f0       100000 non-null  float64\n",
      " 1   f1       100000 non-null  float64\n",
      " 2   f2       100000 non-null  float64\n",
      " 3   product  100000 non-null  float64\n",
      "dtypes: float64(4)\n",
      "memory usage: 3.8+ MB\n",
      "None\n"
     ]
    },
    {
     "data": {
      "text/html": [
       "<div>\n",
       "<style scoped>\n",
       "    .dataframe tbody tr th:only-of-type {\n",
       "        vertical-align: middle;\n",
       "    }\n",
       "\n",
       "    .dataframe tbody tr th {\n",
       "        vertical-align: top;\n",
       "    }\n",
       "\n",
       "    .dataframe thead th {\n",
       "        text-align: right;\n",
       "    }\n",
       "</style>\n",
       "<table border=\"1\" class=\"dataframe\">\n",
       "  <thead>\n",
       "    <tr style=\"text-align: right;\">\n",
       "      <th></th>\n",
       "      <th>f0</th>\n",
       "      <th>f1</th>\n",
       "      <th>f2</th>\n",
       "      <th>product</th>\n",
       "    </tr>\n",
       "    <tr>\n",
       "      <th>id</th>\n",
       "      <th></th>\n",
       "      <th></th>\n",
       "      <th></th>\n",
       "      <th></th>\n",
       "    </tr>\n",
       "  </thead>\n",
       "  <tbody>\n",
       "    <tr>\n",
       "      <th>fwXo0</th>\n",
       "      <td>-1.146987</td>\n",
       "      <td>0.963328</td>\n",
       "      <td>-0.828965</td>\n",
       "      <td>27.758673</td>\n",
       "    </tr>\n",
       "    <tr>\n",
       "      <th>WJtFt</th>\n",
       "      <td>0.262778</td>\n",
       "      <td>0.269839</td>\n",
       "      <td>-2.530187</td>\n",
       "      <td>56.069697</td>\n",
       "    </tr>\n",
       "    <tr>\n",
       "      <th>ovLUW</th>\n",
       "      <td>0.194587</td>\n",
       "      <td>0.289035</td>\n",
       "      <td>-5.586433</td>\n",
       "      <td>62.871910</td>\n",
       "    </tr>\n",
       "    <tr>\n",
       "      <th>q6cA6</th>\n",
       "      <td>2.236060</td>\n",
       "      <td>-0.553760</td>\n",
       "      <td>0.930038</td>\n",
       "      <td>114.572842</td>\n",
       "    </tr>\n",
       "    <tr>\n",
       "      <th>WPMUX</th>\n",
       "      <td>-0.515993</td>\n",
       "      <td>1.716266</td>\n",
       "      <td>5.899011</td>\n",
       "      <td>149.600746</td>\n",
       "    </tr>\n",
       "  </tbody>\n",
       "</table>\n",
       "</div>"
      ],
      "text/plain": [
       "             f0        f1        f2     product\n",
       "id                                             \n",
       "fwXo0 -1.146987  0.963328 -0.828965   27.758673\n",
       "WJtFt  0.262778  0.269839 -2.530187   56.069697\n",
       "ovLUW  0.194587  0.289035 -5.586433   62.871910\n",
       "q6cA6  2.236060 -0.553760  0.930038  114.572842\n",
       "WPMUX -0.515993  1.716266  5.899011  149.600746"
      ]
     },
     "metadata": {},
     "output_type": "display_data"
    },
    {
     "name": "stdout",
     "output_type": "stream",
     "text": [
      "\n"
     ]
    }
   ],
   "source": [
    "df_list = {'Регион 1': geo_data_0, 'Регион 2': geo_data_1, 'Регион 3': geo_data_2}\n",
    "\n",
    "for name, df in df_list.items():\n",
    "    print(name)\n",
    "    print(df.info())\n",
    "    display(df.head())\n",
    "    print()"
   ]
  },
  {
   "cell_type": "markdown",
   "metadata": {},
   "source": [
    "Согласно документации к данным, каждая таблица соответствует определенному региону. Всего регионов 3. \n",
    "\n",
    "Названия колонок отражают следующую информацию:\n",
    "* `id` — уникальный идентификатор скважины;\n",
    "* `f0, f1, f2` — три признака точек (неважно, что они означают, но сами признаки значимы);\n",
    "* `product` — объём запасов в скважине (тыс. баррелей).\n",
    "\n",
    "Целевым признаком явлется `product`."
   ]
  },
  {
   "cell_type": "markdown",
   "metadata": {},
   "source": [
    "Из обзор данных видно, что:\n",
    "* Для каждого региона имеем данные о 100 000 месторождений.\n",
    "* Заголовки столбцов соответствуют стилю.\n",
    "* Отсутствуют пропуски в данных.\n",
    "* Отсутствуют категориальные признаки.\n",
    "\n",
    "Необходимо проверить данные на дублекаты. Аномалии обнаружить вряд ли удастся, так как нет информации о нормах значений."
   ]
  },
  {
   "cell_type": "markdown",
   "metadata": {},
   "source": [
    "### Предобработка данных"
   ]
  },
  {
   "cell_type": "markdown",
   "metadata": {},
   "source": [
    "Проверим данные на дубликаты."
   ]
  },
  {
   "cell_type": "code",
   "execution_count": 675,
   "metadata": {},
   "outputs": [
    {
     "name": "stdout",
     "output_type": "stream",
     "text": [
      "Дублекатов в таблице: Регион 1\n",
      "0\n",
      "Дублекатов в таблице: Регион 2\n",
      "0\n",
      "Дублекатов в таблице: Регион 3\n",
      "0\n"
     ]
    }
   ],
   "source": [
    "for name, df in df_list.items():\n",
    "    print('Дублекатов в таблице:', name)\n",
    "    print(df.duplicated().sum())"
   ]
  },
  {
   "cell_type": "markdown",
   "metadata": {},
   "source": [
    "Проверим на дублекаты идентификаторы."
   ]
  },
  {
   "cell_type": "code",
   "execution_count": 676,
   "metadata": {},
   "outputs": [
    {
     "name": "stdout",
     "output_type": "stream",
     "text": [
      "Дублекатов индексов в таблице: Регион 1\n",
      "10\n",
      "Дублекатов индексов в таблице: Регион 2\n",
      "4\n",
      "Дублекатов индексов в таблице: Регион 3\n",
      "4\n"
     ]
    }
   ],
   "source": [
    "for name, df in df_list.items():\n",
    "    print('Дублекатов индексов в таблице:', name)\n",
    "    print(df.index.duplicated().sum())"
   ]
  },
  {
   "cell_type": "markdown",
   "metadata": {},
   "source": [
    "В таблицах присутсвуют дублекаты индексов. Необходимо их обработать. Сначала посмотрим на строки с дублирующимеся id."
   ]
  },
  {
   "cell_type": "code",
   "execution_count": 653,
   "metadata": {},
   "outputs": [
    {
     "name": "stdout",
     "output_type": "stream",
     "text": [
      "Дублекаты индексов в таблице: Регион 1\n"
     ]
    },
    {
     "data": {
      "text/html": [
       "<div>\n",
       "<style scoped>\n",
       "    .dataframe tbody tr th:only-of-type {\n",
       "        vertical-align: middle;\n",
       "    }\n",
       "\n",
       "    .dataframe tbody tr th {\n",
       "        vertical-align: top;\n",
       "    }\n",
       "\n",
       "    .dataframe thead th {\n",
       "        text-align: right;\n",
       "    }\n",
       "</style>\n",
       "<table border=\"1\" class=\"dataframe\">\n",
       "  <thead>\n",
       "    <tr style=\"text-align: right;\">\n",
       "      <th></th>\n",
       "      <th>f0</th>\n",
       "      <th>f1</th>\n",
       "      <th>f2</th>\n",
       "      <th>product</th>\n",
       "    </tr>\n",
       "    <tr>\n",
       "      <th>id</th>\n",
       "      <th></th>\n",
       "      <th></th>\n",
       "      <th></th>\n",
       "      <th></th>\n",
       "    </tr>\n",
       "  </thead>\n",
       "  <tbody>\n",
       "    <tr>\n",
       "      <th>HZww2</th>\n",
       "      <td>0.755284</td>\n",
       "      <td>0.368511</td>\n",
       "      <td>1.863211</td>\n",
       "      <td>30.681774</td>\n",
       "    </tr>\n",
       "    <tr>\n",
       "      <th>HZww2</th>\n",
       "      <td>1.061194</td>\n",
       "      <td>-0.373969</td>\n",
       "      <td>10.430210</td>\n",
       "      <td>158.828695</td>\n",
       "    </tr>\n",
       "    <tr>\n",
       "      <th>bxg6G</th>\n",
       "      <td>0.411645</td>\n",
       "      <td>0.856830</td>\n",
       "      <td>-3.653440</td>\n",
       "      <td>73.604260</td>\n",
       "    </tr>\n",
       "    <tr>\n",
       "      <th>bxg6G</th>\n",
       "      <td>-0.823752</td>\n",
       "      <td>0.546319</td>\n",
       "      <td>3.630479</td>\n",
       "      <td>93.007798</td>\n",
       "    </tr>\n",
       "    <tr>\n",
       "      <th>A5aEY</th>\n",
       "      <td>-0.039949</td>\n",
       "      <td>0.156872</td>\n",
       "      <td>0.209861</td>\n",
       "      <td>89.249364</td>\n",
       "    </tr>\n",
       "    <tr>\n",
       "      <th>A5aEY</th>\n",
       "      <td>-0.180335</td>\n",
       "      <td>0.935548</td>\n",
       "      <td>-2.094773</td>\n",
       "      <td>33.020205</td>\n",
       "    </tr>\n",
       "    <tr>\n",
       "      <th>QcMuo</th>\n",
       "      <td>0.506563</td>\n",
       "      <td>-0.323775</td>\n",
       "      <td>-2.215583</td>\n",
       "      <td>75.496502</td>\n",
       "    </tr>\n",
       "    <tr>\n",
       "      <th>QcMuo</th>\n",
       "      <td>0.635635</td>\n",
       "      <td>-0.473422</td>\n",
       "      <td>0.862670</td>\n",
       "      <td>64.578675</td>\n",
       "    </tr>\n",
       "    <tr>\n",
       "      <th>74z30</th>\n",
       "      <td>0.741456</td>\n",
       "      <td>0.459229</td>\n",
       "      <td>5.153109</td>\n",
       "      <td>140.771492</td>\n",
       "    </tr>\n",
       "    <tr>\n",
       "      <th>74z30</th>\n",
       "      <td>1.084962</td>\n",
       "      <td>-0.312358</td>\n",
       "      <td>6.990771</td>\n",
       "      <td>127.643327</td>\n",
       "    </tr>\n",
       "    <tr>\n",
       "      <th>AGS9W</th>\n",
       "      <td>1.454747</td>\n",
       "      <td>-0.479651</td>\n",
       "      <td>0.683380</td>\n",
       "      <td>126.370504</td>\n",
       "    </tr>\n",
       "    <tr>\n",
       "      <th>AGS9W</th>\n",
       "      <td>-0.933795</td>\n",
       "      <td>0.116194</td>\n",
       "      <td>-3.655896</td>\n",
       "      <td>19.230453</td>\n",
       "    </tr>\n",
       "    <tr>\n",
       "      <th>Tdehs</th>\n",
       "      <td>0.829407</td>\n",
       "      <td>0.298807</td>\n",
       "      <td>-0.049563</td>\n",
       "      <td>96.035308</td>\n",
       "    </tr>\n",
       "    <tr>\n",
       "      <th>Tdehs</th>\n",
       "      <td>0.112079</td>\n",
       "      <td>0.430296</td>\n",
       "      <td>3.218993</td>\n",
       "      <td>60.964018</td>\n",
       "    </tr>\n",
       "    <tr>\n",
       "      <th>fiKDv</th>\n",
       "      <td>0.157341</td>\n",
       "      <td>1.028359</td>\n",
       "      <td>5.585586</td>\n",
       "      <td>95.817889</td>\n",
       "    </tr>\n",
       "    <tr>\n",
       "      <th>fiKDv</th>\n",
       "      <td>0.049883</td>\n",
       "      <td>0.841313</td>\n",
       "      <td>6.394613</td>\n",
       "      <td>137.346586</td>\n",
       "    </tr>\n",
       "    <tr>\n",
       "      <th>TtcGQ</th>\n",
       "      <td>0.569276</td>\n",
       "      <td>-0.104876</td>\n",
       "      <td>6.440215</td>\n",
       "      <td>85.350186</td>\n",
       "    </tr>\n",
       "    <tr>\n",
       "      <th>TtcGQ</th>\n",
       "      <td>0.110711</td>\n",
       "      <td>1.022689</td>\n",
       "      <td>0.911381</td>\n",
       "      <td>101.318008</td>\n",
       "    </tr>\n",
       "    <tr>\n",
       "      <th>bsk9y</th>\n",
       "      <td>0.398908</td>\n",
       "      <td>-0.400253</td>\n",
       "      <td>10.122376</td>\n",
       "      <td>163.433078</td>\n",
       "    </tr>\n",
       "    <tr>\n",
       "      <th>bsk9y</th>\n",
       "      <td>0.378429</td>\n",
       "      <td>0.005837</td>\n",
       "      <td>0.160827</td>\n",
       "      <td>160.637302</td>\n",
       "    </tr>\n",
       "  </tbody>\n",
       "</table>\n",
       "</div>"
      ],
      "text/plain": [
       "             f0        f1         f2     product\n",
       "id                                              \n",
       "HZww2  0.755284  0.368511   1.863211   30.681774\n",
       "HZww2  1.061194 -0.373969  10.430210  158.828695\n",
       "bxg6G  0.411645  0.856830  -3.653440   73.604260\n",
       "bxg6G -0.823752  0.546319   3.630479   93.007798\n",
       "A5aEY -0.039949  0.156872   0.209861   89.249364\n",
       "A5aEY -0.180335  0.935548  -2.094773   33.020205\n",
       "QcMuo  0.506563 -0.323775  -2.215583   75.496502\n",
       "QcMuo  0.635635 -0.473422   0.862670   64.578675\n",
       "74z30  0.741456  0.459229   5.153109  140.771492\n",
       "74z30  1.084962 -0.312358   6.990771  127.643327\n",
       "AGS9W  1.454747 -0.479651   0.683380  126.370504\n",
       "AGS9W -0.933795  0.116194  -3.655896   19.230453\n",
       "Tdehs  0.829407  0.298807  -0.049563   96.035308\n",
       "Tdehs  0.112079  0.430296   3.218993   60.964018\n",
       "fiKDv  0.157341  1.028359   5.585586   95.817889\n",
       "fiKDv  0.049883  0.841313   6.394613  137.346586\n",
       "TtcGQ  0.569276 -0.104876   6.440215   85.350186\n",
       "TtcGQ  0.110711  1.022689   0.911381  101.318008\n",
       "bsk9y  0.398908 -0.400253  10.122376  163.433078\n",
       "bsk9y  0.378429  0.005837   0.160827  160.637302"
      ]
     },
     "metadata": {},
     "output_type": "display_data"
    },
    {
     "name": "stdout",
     "output_type": "stream",
     "text": [
      "Дублекаты индексов в таблице: Регион 2\n"
     ]
    },
    {
     "data": {
      "text/html": [
       "<div>\n",
       "<style scoped>\n",
       "    .dataframe tbody tr th:only-of-type {\n",
       "        vertical-align: middle;\n",
       "    }\n",
       "\n",
       "    .dataframe tbody tr th {\n",
       "        vertical-align: top;\n",
       "    }\n",
       "\n",
       "    .dataframe thead th {\n",
       "        text-align: right;\n",
       "    }\n",
       "</style>\n",
       "<table border=\"1\" class=\"dataframe\">\n",
       "  <thead>\n",
       "    <tr style=\"text-align: right;\">\n",
       "      <th></th>\n",
       "      <th>f0</th>\n",
       "      <th>f1</th>\n",
       "      <th>f2</th>\n",
       "      <th>product</th>\n",
       "    </tr>\n",
       "    <tr>\n",
       "      <th>id</th>\n",
       "      <th></th>\n",
       "      <th></th>\n",
       "      <th></th>\n",
       "      <th></th>\n",
       "    </tr>\n",
       "  </thead>\n",
       "  <tbody>\n",
       "    <tr>\n",
       "      <th>LHZR0</th>\n",
       "      <td>11.170835</td>\n",
       "      <td>-1.945066</td>\n",
       "      <td>3.002872</td>\n",
       "      <td>80.859783</td>\n",
       "    </tr>\n",
       "    <tr>\n",
       "      <th>LHZR0</th>\n",
       "      <td>-8.989672</td>\n",
       "      <td>-4.286607</td>\n",
       "      <td>2.009139</td>\n",
       "      <td>57.085625</td>\n",
       "    </tr>\n",
       "    <tr>\n",
       "      <th>bfPNe</th>\n",
       "      <td>-9.494442</td>\n",
       "      <td>-5.463692</td>\n",
       "      <td>4.006042</td>\n",
       "      <td>110.992147</td>\n",
       "    </tr>\n",
       "    <tr>\n",
       "      <th>bfPNe</th>\n",
       "      <td>-6.202799</td>\n",
       "      <td>-4.820045</td>\n",
       "      <td>2.995107</td>\n",
       "      <td>84.038886</td>\n",
       "    </tr>\n",
       "    <tr>\n",
       "      <th>wt4Uk</th>\n",
       "      <td>-9.091098</td>\n",
       "      <td>-8.109279</td>\n",
       "      <td>-0.002314</td>\n",
       "      <td>3.179103</td>\n",
       "    </tr>\n",
       "    <tr>\n",
       "      <th>wt4Uk</th>\n",
       "      <td>10.259972</td>\n",
       "      <td>-9.376355</td>\n",
       "      <td>4.994297</td>\n",
       "      <td>134.766305</td>\n",
       "    </tr>\n",
       "    <tr>\n",
       "      <th>5ltQ6</th>\n",
       "      <td>-3.435401</td>\n",
       "      <td>-12.296043</td>\n",
       "      <td>1.999796</td>\n",
       "      <td>57.085625</td>\n",
       "    </tr>\n",
       "    <tr>\n",
       "      <th>5ltQ6</th>\n",
       "      <td>18.213839</td>\n",
       "      <td>2.191999</td>\n",
       "      <td>3.993869</td>\n",
       "      <td>107.813044</td>\n",
       "    </tr>\n",
       "  </tbody>\n",
       "</table>\n",
       "</div>"
      ],
      "text/plain": [
       "              f0         f1        f2     product\n",
       "id                                               \n",
       "LHZR0  11.170835  -1.945066  3.002872   80.859783\n",
       "LHZR0  -8.989672  -4.286607  2.009139   57.085625\n",
       "bfPNe  -9.494442  -5.463692  4.006042  110.992147\n",
       "bfPNe  -6.202799  -4.820045  2.995107   84.038886\n",
       "wt4Uk  -9.091098  -8.109279 -0.002314    3.179103\n",
       "wt4Uk  10.259972  -9.376355  4.994297  134.766305\n",
       "5ltQ6  -3.435401 -12.296043  1.999796   57.085625\n",
       "5ltQ6  18.213839   2.191999  3.993869  107.813044"
      ]
     },
     "metadata": {},
     "output_type": "display_data"
    },
    {
     "name": "stdout",
     "output_type": "stream",
     "text": [
      "Дублекаты индексов в таблице: Регион 3\n"
     ]
    },
    {
     "data": {
      "text/html": [
       "<div>\n",
       "<style scoped>\n",
       "    .dataframe tbody tr th:only-of-type {\n",
       "        vertical-align: middle;\n",
       "    }\n",
       "\n",
       "    .dataframe tbody tr th {\n",
       "        vertical-align: top;\n",
       "    }\n",
       "\n",
       "    .dataframe thead th {\n",
       "        text-align: right;\n",
       "    }\n",
       "</style>\n",
       "<table border=\"1\" class=\"dataframe\">\n",
       "  <thead>\n",
       "    <tr style=\"text-align: right;\">\n",
       "      <th></th>\n",
       "      <th>f0</th>\n",
       "      <th>f1</th>\n",
       "      <th>f2</th>\n",
       "      <th>product</th>\n",
       "    </tr>\n",
       "    <tr>\n",
       "      <th>id</th>\n",
       "      <th></th>\n",
       "      <th></th>\n",
       "      <th></th>\n",
       "      <th></th>\n",
       "    </tr>\n",
       "  </thead>\n",
       "  <tbody>\n",
       "    <tr>\n",
       "      <th>xCHr8</th>\n",
       "      <td>1.633027</td>\n",
       "      <td>0.368135</td>\n",
       "      <td>-2.378367</td>\n",
       "      <td>6.120525</td>\n",
       "    </tr>\n",
       "    <tr>\n",
       "      <th>xCHr8</th>\n",
       "      <td>-0.847066</td>\n",
       "      <td>2.101796</td>\n",
       "      <td>5.597130</td>\n",
       "      <td>184.388641</td>\n",
       "    </tr>\n",
       "    <tr>\n",
       "      <th>VF7Jo</th>\n",
       "      <td>2.122656</td>\n",
       "      <td>-0.858275</td>\n",
       "      <td>5.746001</td>\n",
       "      <td>181.716817</td>\n",
       "    </tr>\n",
       "    <tr>\n",
       "      <th>VF7Jo</th>\n",
       "      <td>-0.883115</td>\n",
       "      <td>0.560537</td>\n",
       "      <td>0.723601</td>\n",
       "      <td>136.233420</td>\n",
       "    </tr>\n",
       "    <tr>\n",
       "      <th>KUPhW</th>\n",
       "      <td>0.231846</td>\n",
       "      <td>-1.698941</td>\n",
       "      <td>4.990775</td>\n",
       "      <td>11.716299</td>\n",
       "    </tr>\n",
       "    <tr>\n",
       "      <th>KUPhW</th>\n",
       "      <td>1.211150</td>\n",
       "      <td>3.176408</td>\n",
       "      <td>5.543540</td>\n",
       "      <td>132.831802</td>\n",
       "    </tr>\n",
       "    <tr>\n",
       "      <th>Vcm5J</th>\n",
       "      <td>-1.229484</td>\n",
       "      <td>-2.439204</td>\n",
       "      <td>1.222909</td>\n",
       "      <td>137.968290</td>\n",
       "    </tr>\n",
       "    <tr>\n",
       "      <th>Vcm5J</th>\n",
       "      <td>2.587702</td>\n",
       "      <td>1.986875</td>\n",
       "      <td>2.482245</td>\n",
       "      <td>92.327572</td>\n",
       "    </tr>\n",
       "  </tbody>\n",
       "</table>\n",
       "</div>"
      ],
      "text/plain": [
       "             f0        f1        f2     product\n",
       "id                                             \n",
       "xCHr8  1.633027  0.368135 -2.378367    6.120525\n",
       "xCHr8 -0.847066  2.101796  5.597130  184.388641\n",
       "VF7Jo  2.122656 -0.858275  5.746001  181.716817\n",
       "VF7Jo -0.883115  0.560537  0.723601  136.233420\n",
       "KUPhW  0.231846 -1.698941  4.990775   11.716299\n",
       "KUPhW  1.211150  3.176408  5.543540  132.831802\n",
       "Vcm5J -1.229484 -2.439204  1.222909  137.968290\n",
       "Vcm5J  2.587702  1.986875  2.482245   92.327572"
      ]
     },
     "metadata": {},
     "output_type": "display_data"
    }
   ],
   "source": [
    "for name, df in df_list.items():\n",
    "    print('Дублекаты индексов в таблице:', name)\n",
    "    dupl_ind_list = df[df.index.duplicated()].index\n",
    "    display(df.loc[dupl_ind_list])"
   ]
  },
  {
   "cell_type": "markdown",
   "metadata": {},
   "source": [
    "Итого мы имеем список объектов с одинаковым id, но очень разными характеристиками. \n",
    "Данные объекты мы можем либо удалить полностью, либо успеднить значения по строк идентификатору. Усреднение может ухудшить модель, если какая-то из строк (или они обе) недостоверны. При удалении мы потеряем несущественную часть данных (максимум 10 из 25000). Удалим строки с дублирующимися идентификаторами."
   ]
  },
  {
   "cell_type": "code",
   "execution_count": 654,
   "metadata": {},
   "outputs": [
    {
     "name": "stdout",
     "output_type": "stream",
     "text": [
      "Дублекаты индексов в таблице Регион 1 после обработки:\n"
     ]
    },
    {
     "data": {
      "text/html": [
       "<div>\n",
       "<style scoped>\n",
       "    .dataframe tbody tr th:only-of-type {\n",
       "        vertical-align: middle;\n",
       "    }\n",
       "\n",
       "    .dataframe tbody tr th {\n",
       "        vertical-align: top;\n",
       "    }\n",
       "\n",
       "    .dataframe thead th {\n",
       "        text-align: right;\n",
       "    }\n",
       "</style>\n",
       "<table border=\"1\" class=\"dataframe\">\n",
       "  <thead>\n",
       "    <tr style=\"text-align: right;\">\n",
       "      <th></th>\n",
       "      <th>f0</th>\n",
       "      <th>f1</th>\n",
       "      <th>f2</th>\n",
       "      <th>product</th>\n",
       "    </tr>\n",
       "    <tr>\n",
       "      <th>id</th>\n",
       "      <th></th>\n",
       "      <th></th>\n",
       "      <th></th>\n",
       "      <th></th>\n",
       "    </tr>\n",
       "  </thead>\n",
       "  <tbody>\n",
       "  </tbody>\n",
       "</table>\n",
       "</div>"
      ],
      "text/plain": [
       "Empty DataFrame\n",
       "Columns: [f0, f1, f2, product]\n",
       "Index: []"
      ]
     },
     "metadata": {},
     "output_type": "display_data"
    },
    {
     "name": "stdout",
     "output_type": "stream",
     "text": [
      "Объектов в таблице: 99980\n",
      "\n",
      "Дублекаты индексов в таблице Регион 2 после обработки:\n"
     ]
    },
    {
     "data": {
      "text/html": [
       "<div>\n",
       "<style scoped>\n",
       "    .dataframe tbody tr th:only-of-type {\n",
       "        vertical-align: middle;\n",
       "    }\n",
       "\n",
       "    .dataframe tbody tr th {\n",
       "        vertical-align: top;\n",
       "    }\n",
       "\n",
       "    .dataframe thead th {\n",
       "        text-align: right;\n",
       "    }\n",
       "</style>\n",
       "<table border=\"1\" class=\"dataframe\">\n",
       "  <thead>\n",
       "    <tr style=\"text-align: right;\">\n",
       "      <th></th>\n",
       "      <th>f0</th>\n",
       "      <th>f1</th>\n",
       "      <th>f2</th>\n",
       "      <th>product</th>\n",
       "    </tr>\n",
       "    <tr>\n",
       "      <th>id</th>\n",
       "      <th></th>\n",
       "      <th></th>\n",
       "      <th></th>\n",
       "      <th></th>\n",
       "    </tr>\n",
       "  </thead>\n",
       "  <tbody>\n",
       "  </tbody>\n",
       "</table>\n",
       "</div>"
      ],
      "text/plain": [
       "Empty DataFrame\n",
       "Columns: [f0, f1, f2, product]\n",
       "Index: []"
      ]
     },
     "metadata": {},
     "output_type": "display_data"
    },
    {
     "name": "stdout",
     "output_type": "stream",
     "text": [
      "Объектов в таблице: 99992\n",
      "\n",
      "Дублекаты индексов в таблице Регион 3 после обработки:\n"
     ]
    },
    {
     "data": {
      "text/html": [
       "<div>\n",
       "<style scoped>\n",
       "    .dataframe tbody tr th:only-of-type {\n",
       "        vertical-align: middle;\n",
       "    }\n",
       "\n",
       "    .dataframe tbody tr th {\n",
       "        vertical-align: top;\n",
       "    }\n",
       "\n",
       "    .dataframe thead th {\n",
       "        text-align: right;\n",
       "    }\n",
       "</style>\n",
       "<table border=\"1\" class=\"dataframe\">\n",
       "  <thead>\n",
       "    <tr style=\"text-align: right;\">\n",
       "      <th></th>\n",
       "      <th>f0</th>\n",
       "      <th>f1</th>\n",
       "      <th>f2</th>\n",
       "      <th>product</th>\n",
       "    </tr>\n",
       "    <tr>\n",
       "      <th>id</th>\n",
       "      <th></th>\n",
       "      <th></th>\n",
       "      <th></th>\n",
       "      <th></th>\n",
       "    </tr>\n",
       "  </thead>\n",
       "  <tbody>\n",
       "  </tbody>\n",
       "</table>\n",
       "</div>"
      ],
      "text/plain": [
       "Empty DataFrame\n",
       "Columns: [f0, f1, f2, product]\n",
       "Index: []"
      ]
     },
     "metadata": {},
     "output_type": "display_data"
    },
    {
     "name": "stdout",
     "output_type": "stream",
     "text": [
      "Объектов в таблице: 99992\n",
      "\n"
     ]
    }
   ],
   "source": [
    "for name, df in df_list.items():\n",
    "    dupl_ind_list = df[df.index.duplicated()].index\n",
    "    df.drop(index=dupl_ind_list, inplace=True)\n",
    "    print(f'Дублекаты индексов в таблице {name} после обработки:')\n",
    "    display(df[df.index.duplicated()])\n",
    "    print('Объектов в таблице:', df.shape[0])\n",
    "    print()"
   ]
  },
  {
   "cell_type": "markdown",
   "metadata": {},
   "source": [
    "Дубликаты устранены. Можно приступать к работе с моделью."
   ]
  },
  {
   "cell_type": "markdown",
   "metadata": {},
   "source": [
    "## Обучение и проверка модели"
   ]
  },
  {
   "cell_type": "markdown",
   "metadata": {},
   "source": [
    "1. Разобьем данные на обучающую и валидационную выборки в соотношении 75:25.\n",
    "2. Обучим модель и сделаем предсказания на валидационной выборке.\n",
    "3. Сохраним предсказания и правильные ответы на валидационной выборке.\n",
    "4. Напечатаем на экране средний запас предсказанного сырья и RMSE модели.\n",
    "5. Проанализируем результаты."
   ]
  },
  {
   "cell_type": "markdown",
   "metadata": {},
   "source": [
    "### Подготовка выборок"
   ]
  },
  {
   "cell_type": "markdown",
   "metadata": {},
   "source": [
    "Подготовим выборки для каждого региона."
   ]
  },
  {
   "cell_type": "code",
   "execution_count": 655,
   "metadata": {},
   "outputs": [],
   "source": [
    "# разделим данные на признаки и целевой признак\n",
    "numb = 0\n",
    "for df in df_list.values():\n",
    "    globals()['features_geo_data_' + str(numb)] = df.drop('product', axis=1)\n",
    "    globals()['target_geo_data_' + str(numb)] = df['product']\n",
    "    numb += 1"
   ]
  },
  {
   "cell_type": "code",
   "execution_count": 656,
   "metadata": {},
   "outputs": [],
   "source": [
    "# разделим данные на обучающие и валидационные выборки в соотношении 75/25\n",
    "features_list = [features_geo_data_0, features_geo_data_1, features_geo_data_2]\n",
    "target_list = [target_geo_data_0, target_geo_data_1, target_geo_data_2]\n",
    "\n",
    "for i in range(3):\n",
    "    globals()['train_features_geo_data_' + str(i)], globals()['valid_features_geo_data_' + str(i)], globals()['train_target_geo_data_' + str(i)], globals()['valid_target_geo_data_' + str(i)] = train_test_split(\n",
    "        features_list[i], target_list[i], test_size=0.25, random_state=12345)"
   ]
  },
  {
   "cell_type": "code",
   "execution_count": 657,
   "metadata": {
    "scrolled": true
   },
   "outputs": [
    {
     "name": "stdout",
     "output_type": "stream",
     "text": [
      "Доля значений тестовой выборки от общей для региона №1 составдяет 75%\n",
      "Доля значений валидационной выборки от общей для региона №1 составдяет 25%\n",
      "\n",
      "Доля значений тестовой выборки от общей для региона №2 составдяет 75%\n",
      "Доля значений валидационной выборки от общей для региона №2 составдяет 25%\n",
      "\n",
      "Доля значений тестовой выборки от общей для региона №3 составдяет 75%\n",
      "Доля значений валидационной выборки от общей для региона №3 составдяет 25%\n",
      "\n"
     ]
    }
   ],
   "source": [
    "#убедимся, что удалось отделить 75% данных для каждой тренировочной выборки \n",
    "train_features_list = [train_features_geo_data_0, train_features_geo_data_1, train_features_geo_data_2]\n",
    "valid_features_list = [valid_features_geo_data_0, valid_features_geo_data_1, valid_features_geo_data_2]\n",
    "\n",
    "for i in range(3):\n",
    "    share_test = round(len(train_features_list[i]) / len(features_list[i]), 2)\n",
    "    share_valid = round(len(valid_features_list[i]) / len(features_list[i]), 2)\n",
    "    print(f'Доля значений тестовой выборки от общей для региона №{i+1} составдяет {share_test:.0%}')\n",
    "    print(f'Доля значений валидационной выборки от общей для региона №{i+1} составдяет {share_valid:.0%}')\n",
    "    print()"
   ]
  },
  {
   "cell_type": "code",
   "execution_count": 658,
   "metadata": {},
   "outputs": [],
   "source": [
    "# создадим также списки с целевыми признаками\n",
    "train_target_list = [train_target_geo_data_0, train_target_geo_data_1, train_target_geo_data_2]\n",
    "valid_target_list = [valid_target_geo_data_0, valid_target_geo_data_1, valid_target_geo_data_2]"
   ]
  },
  {
   "cell_type": "markdown",
   "metadata": {},
   "source": [
    "### Обучение модели"
   ]
  },
  {
   "cell_type": "markdown",
   "metadata": {},
   "source": [
    "Cоздадим и обучим 3 модели."
   ]
  },
  {
   "cell_type": "code",
   "execution_count": 659,
   "metadata": {},
   "outputs": [],
   "source": [
    "# создадим и обучим 3 модели\n",
    "for i in range(3):\n",
    "    globals()['model_' + str(i)] = LinearRegression().fit(train_features_list[i], train_target_list[i])\n",
    "    \n",
    "# создадим список моделей\n",
    "models = [model_0, model_1, model_2]"
   ]
  },
  {
   "cell_type": "markdown",
   "metadata": {},
   "source": [
    "### Плучение предсказаний"
   ]
  },
  {
   "cell_type": "markdown",
   "metadata": {},
   "source": [
    "Получим предсказания моделей для каждого региона."
   ]
  },
  {
   "cell_type": "code",
   "execution_count": 660,
   "metadata": {},
   "outputs": [],
   "source": [
    "# сделаем предсказания\n",
    "for i in range(3):\n",
    "    globals()['model_' + str(i) + '_prediction'] = models[i].predict(valid_features_list[i])\n",
    "    \n",
    "# создадим список предсказаний на валидационной выбрке\n",
    "models_predictions = [model_0_prediction, model_1_prediction, model_2_prediction]\n",
    "\n",
    "# переведем массив предсказаний на валидационной выбрке в Series и сохраним индексацию\n",
    "for i in range(3):\n",
    "    models_predictions[i] = pd.Series(models_predictions[i])\n",
    "    models_predictions[i].index = valid_features_list[i].index"
   ]
  },
  {
   "cell_type": "code",
   "execution_count": 678,
   "metadata": {},
   "outputs": [
    {
     "name": "stdout",
     "output_type": "stream",
     "text": [
      "Модель Региона №1.\n",
      "Средний запас предсказанного сырья: 92.42 тыс. баррелей\n",
      "RMSE предсказаний:37.72 тыс. баррелей\n",
      "\n",
      "Модель Региона №2.\n",
      "Средний запас предсказанного сырья: 68.98 тыс. баррелей\n",
      "RMSE предсказаний:0.89 тыс. баррелей\n",
      "\n",
      "Модель Региона №3.\n",
      "Средний запас предсказанного сырья: 95.12 тыс. баррелей\n",
      "RMSE предсказаний:39.98 тыс. баррелей\n",
      "\n"
     ]
    }
   ],
   "source": [
    "# рассчитаем и распечатем RMSE и средний запас предсказанного сырья на валидационной выборке для каждой модели\n",
    "for i in range(3):        \n",
    "    globals()['prediction_mean_' + str(i)] = models_predictions[i].mean()\n",
    "    globals()['rmse_' + str(i)] = mean_squared_error(valid_target_list[i], models_predictions[i], squared=False)\n",
    "    \n",
    "prediction_mean_list = [prediction_mean_0, prediction_mean_1, prediction_mean_2]\n",
    "rmse_list = [rmse_0, rmse_1, rmse_2]\n",
    "    \n",
    "for i in range(3):\n",
    "    print(f'Модель Региона №{i+1}.')    \n",
    "    print(f'Средний запас предсказанного сырья: {round(prediction_mean_list[i], 2)} тыс. баррелей')\n",
    "    print(f'RMSE предсказаний:{round(rmse_list[i], 2)} тыс. баррелей')\n",
    "    print()"
   ]
  },
  {
   "cell_type": "markdown",
   "metadata": {},
   "source": [
    "Добавим данные с минимальным и максимальным возможным средним объемом для каждой точки."
   ]
  },
  {
   "cell_type": "code",
   "execution_count": 679,
   "metadata": {
    "scrolled": true
   },
   "outputs": [
    {
     "name": "stdout",
     "output_type": "stream",
     "text": [
      "Регион №1.\n",
      "Средний запас предсказанного сырья от 54.71 до 130.14 тыс. баррелей\n",
      "\n",
      "Регион №2.\n",
      "Средний запас предсказанного сырья от 68.09 до 69.87 тыс. баррелей\n",
      "\n",
      "Регион №3.\n",
      "Средний запас предсказанного сырья от 55.14 до 135.09 тыс. баррелей\n",
      "\n"
     ]
    }
   ],
   "source": [
    "for i in range(3):\n",
    "    print(f'Регион №{i+1}.')\n",
    "    print(f'Средний запас предсказанного сырья от {round((prediction_mean_list[i] - rmse_list[i]), 2)} до {round((prediction_mean_list[i] + rmse_list[i]), 2)} тыс. баррелей')\n",
    "    print()"
   ]
  },
  {
   "cell_type": "markdown",
   "metadata": {},
   "source": [
    "### Вывод"
   ]
  },
  {
   "cell_type": "markdown",
   "metadata": {},
   "source": [
    "Наибольший запас предсказанного сырья в Регионе №3. Однако и ошибка модели там самая большая. Для Регионов №1 и №3 ошибка состовляет более 1/3 среднего предсказанного объема сырья.\n",
    "\n",
    "Наименее рискованным по предсказаниям модели выглядит по Регион №2."
   ]
  },
  {
   "cell_type": "markdown",
   "metadata": {},
   "source": [
    "## Подготовка к расчёту прибыли"
   ]
  },
  {
   "cell_type": "markdown",
   "metadata": {},
   "source": [
    "Сохраним в отдельных переменных ключевые значения для расчётов."
   ]
  },
  {
   "cell_type": "code",
   "execution_count": 664,
   "metadata": {},
   "outputs": [],
   "source": [
    "BUDGET = 10000000000\n",
    "UNIT_INCOME = 450000\n",
    "EXP_COUNT = 200\n",
    "RESEARCH_COUNT = 500"
   ]
  },
  {
   "cell_type": "markdown",
   "metadata": {},
   "source": [
    "Рассчитаем достаточный для безубыточной работы объем сырья в регионе."
   ]
  },
  {
   "cell_type": "code",
   "execution_count": 665,
   "metadata": {},
   "outputs": [
    {
     "name": "stdout",
     "output_type": "stream",
     "text": [
      "Для безубыточной работы в регионе дольжно быть 22222.22 тыс. баррелей на 200 выбранных точек. Или в среднем 111.11 тыс. баррелей на каждое из 200 месторождений.\n"
     ]
    }
   ],
   "source": [
    "min_product_to_region = BUDGET / UNIT_INCOME\n",
    "mean_product_to_field = min_product_to_region / EXP_COUNT\n",
    "\n",
    "print(f'Для безубыточной работы в регионе дольжно быть {min_product_to_region:.2f} тыс. баррелей на 200 выбранных точек. Или в среднем {mean_product_to_field:.2f} тыс. баррелей на каждое из 200 месторождений.')"
   ]
  },
  {
   "cell_type": "markdown",
   "metadata": {},
   "source": [
    "В среднем, на одно из 200 лучших предсказанных лучших месторождений должно приходиться 111.11 тыс. баррелей, что больше, чем среднее предсказанное для 10000 месторождений по каждому региону. Однако, если мы возьмем лучшие 200 точек, скорее всего, сможем получить необходимый объем."
   ]
  },
  {
   "cell_type": "markdown",
   "metadata": {},
   "source": [
    "## Расчёт прибыли и рисков "
   ]
  },
  {
   "cell_type": "markdown",
   "metadata": {},
   "source": [
    "Напишем функцию для расчёта прибыли по выбранным скважинам и предсказаниям модели. Нам нужно определить 200 лучших месторождений в каждом регионе.\n",
    "\n",
    "Сравним с реальной прибылью для данных регионов, проверив по целевому признаку валидационной выборки."
   ]
  },
  {
   "cell_type": "code",
   "execution_count": 680,
   "metadata": {},
   "outputs": [
    {
     "name": "stdout",
     "output_type": "stream",
     "text": [
      "Предсказанная прибыль для Региона №1: 3861955668.66\n",
      "Реальная прибыль для Региона №1: 3136026056.66\n",
      "\n",
      "Предсказанная прибыль для Региона №2: 2485099308.42\n",
      "Реальная прибыль для Региона №2: 2415086696.68\n",
      "\n",
      "Предсказанная прибыль для Региона №3: 3495040761.74\n",
      "Реальная прибыль для Региона №3: 2465945792.01\n",
      "\n"
     ]
    }
   ],
   "source": [
    "def revenue(predictions, target):\n",
    "    predictions = predictions.reset_index(drop=True)\n",
    "    target = target.reset_index(drop=True)\n",
    "    pred_sort = predictions.sort_values(ascending=False)\n",
    "    best_pred = pred_sort[:EXP_COUNT]\n",
    "    target_for_best_pred = target[best_pred.index]\n",
    "#     if len(target_for_best_pred) != 200:\n",
    "#         print(len(target_for_best_pred)   \n",
    "    best_pred_revenue = best_pred.sum() * UNIT_INCOME - BUDGET\n",
    "    target_for_best_pred_revenue = target_for_best_pred.sum() * UNIT_INCOME - BUDGET\n",
    "    return best_pred_revenue, target_for_best_pred_revenue\n",
    "\n",
    "for i in range(3):\n",
    "    print(f'Предсказанная прибыль для Региона №{i+1}: {(revenue(models_predictions[i], valid_target_list[i]))[0]:0.2f}')\n",
    "    print(f'Реальная прибыль для Региона №{i+1}: {(revenue(models_predictions[i], valid_target_list[i]))[1]:0.2f}')\n",
    "    print()"
   ]
  },
  {
   "cell_type": "markdown",
   "metadata": {},
   "source": [
    "Посчитаем риски и прибыль для каждого региона, применив технику Bootstrap."
   ]
  },
  {
   "cell_type": "code",
   "execution_count": 689,
   "metadata": {
    "scrolled": false
   },
   "outputs": [],
   "source": [
    "state = np.random.RandomState(12345)\n",
    "\n",
    "for k in range(3):\n",
    "    globals()['bootstrap_predict_' + str(k)] = []\n",
    "    globals()['bootstrap_target_' + str(k)] = []\n",
    "    for i in range(1000):\n",
    "        sub_valid_target = valid_target_list[k].sample(n=RESEARCH_COUNT, random_state=state, replace=True)\n",
    "        subpred = models_predictions[k][sub_valid_target.index]\n",
    "        subrevenue_pred = revenue(subpred, sub_valid_target)[0]\n",
    "        subrevenue_target = revenue(subpred, sub_valid_target)[1]\n",
    "        globals()['bootstrap_predict_' + str(k)].append(subrevenue_pred)\n",
    "        globals()['bootstrap_target_' + str(k)].append(subrevenue_target)"
   ]
  },
  {
   "cell_type": "markdown",
   "metadata": {},
   "source": [
    "Посторим распределения."
   ]
  },
  {
   "cell_type": "code",
   "execution_count": 685,
   "metadata": {},
   "outputs": [
    {
     "data": {
      "image/png": "[encoded data removed]",
      "text/plain": [
       "<Figure size 432x288 with 1 Axes>"
      ]
     },
     "metadata": {
      "needs_background": "light"
     },
     "output_type": "display_data"
    },
    {
     "name": "stdout",
     "output_type": "stream",
     "text": [
      "\n"
     ]
    },
    {
     "data": {
      "image/png": "[encoded data removed]",
      "text/plain": [
       "<Figure size 432x288 with 1 Axes>"
      ]
     },
     "metadata": {
      "needs_background": "light"
     },
     "output_type": "display_data"
    },
    {
     "name": "stdout",
     "output_type": "stream",
     "text": [
      "\n"
     ]
    },
    {
     "data": {
      "image/png": "[encoded data removed]",
      "text/plain": [
       "<Figure size 432x288 with 1 Axes>"
      ]
     },
     "metadata": {
      "needs_background": "light"
     },
     "output_type": "display_data"
    },
    {
     "name": "stdout",
     "output_type": "stream",
     "text": [
      "\n"
     ]
    }
   ],
   "source": [
    "bootstrap_predicts = [bootstrap_predict_0, bootstrap_predict_1, bootstrap_predict_2]\n",
    "bootstrap_targets = [bootstrap_target_0, bootstrap_target_1, bootstrap_target_2]\n",
    "\n",
    "for i in range(3):\n",
    "    bootstrap_predicts[i] = pd.Series(bootstrap_predicts[i])\n",
    "    bootstrap_targets[i] = pd.Series(bootstrap_targets[i])\n",
    "    bootstrap_predicts[i].plot.kde()\n",
    "    bootstrap_targets[i].plot.kde()\n",
    "    plt.legend(['Предсказанная прибыль', 'Фактическая прибыль'])\n",
    "    plt.title(label=f'Распределение предсказанной и фактической прибыли в Регионе №{i+1}')\n",
    "    plt.show()\n",
    "    print()"
   ]
  },
  {
   "cell_type": "markdown",
   "metadata": {},
   "source": [
    "Определим для каждого региона:\n",
    "* Среднюю прибыль.\n",
    "* 95%-й доверительный интервал.\n",
    "* Риск убытков."
   ]
  },
  {
   "cell_type": "code",
   "execution_count": 686,
   "metadata": {},
   "outputs": [
    {
     "name": "stdout",
     "output_type": "stream",
     "text": [
      "Средняя предсказанная прибыль для Региона №1: 339059038.77662987\n",
      "Средняя фактическая прибыль для Региона №1: 431538186.5834927\n",
      "\n",
      "Средняя предсказанная прибыль для Региона №2: 462356020.5416042\n",
      "Средняя фактическая прибыль для Региона №2: 465108803.2734029\n",
      "\n",
      "Средняя предсказанная прибыль для Региона №3: 309148851.2736959\n",
      "Средняя фактическая прибыль для Региона №3: 312996093.49173546\n",
      "\n"
     ]
    }
   ],
   "source": [
    "# расчет средней прибыли\n",
    "for i in range(3):\n",
    "    print(f'Средняя предсказанная прибыль для Региона №{i+1}: {bootstrap_predicts[i].mean()}')\n",
    "    print(f'Средняя фактическая прибыль для Региона №{i+1}: {bootstrap_targets[i].mean()}')\n",
    "    print()"
   ]
  },
  {
   "cell_type": "code",
   "execution_count": 687,
   "metadata": {},
   "outputs": [
    {
     "name": "stdout",
     "output_type": "stream",
     "text": [
      "95%-й доверительный интервал по предсказанным данным для Региона №1: от 114052664 до 558644111\n",
      "95%-й доверительный интервал по фактическим данным для Региона №1: от -80924627 до 941037638\n",
      "\n",
      "95%-й доверительный интервал по предсказанным данным для Региона №2: от 79320771 до 865839170\n",
      "95%-й доверительный интервал по фактическим данным для Региона №2: от 80299335 до 864399761\n",
      "\n",
      "95%-й доверительный интервал по предсказанным данным для Региона №3: от 120705072 до 512408454\n",
      "95%-й доверительный интервал по фактическим данным для Региона №3: от -195063387 до 809242512\n",
      "\n"
     ]
    }
   ],
   "source": [
    "# расчет 95%-ого доверительного интервала\n",
    "for i in range(3):\n",
    "    lower_pred = bootstrap_predicts[i].quantile(0.025)\n",
    "    upper_pred = bootstrap_predicts[i].quantile(0.975)\n",
    "    lower_target = bootstrap_targets[i].quantile(0.025)\n",
    "    upper_target = bootstrap_targets[i].quantile(0.975)\n",
    "    print(f'95%-й доверительный интервал по предсказанным данным для Региона №{i+1}: от {lower_pred:.0f} до {upper_pred:.0f}')\n",
    "    print(f'95%-й доверительный интервал по фактическим данным для Региона №{i+1}: от {lower_target:.0f} до {upper_target:.0f}')\n",
    "    print()"
   ]
  },
  {
   "cell_type": "markdown",
   "metadata": {},
   "source": [
    "Определим вероятность уйти в минус по прибыли для каждого региона."
   ]
  },
  {
   "cell_type": "code",
   "execution_count": 688,
   "metadata": {},
   "outputs": [
    {
     "name": "stdout",
     "output_type": "stream",
     "text": [
      "Вероятность убытков по предсказанным данным для Региона №1 составляет 0.20%\n",
      "Вероятность убытков по фактическим данным для Региона №1 составляет 5.50%\n",
      "\n",
      "Вероятность убытков по предсказанным данным для Региона №2 составляет 0.70%\n",
      "Вероятность убытков по фактическим данным для Региона №2 составляет 0.80%\n",
      "\n",
      "Вероятность убытков по предсказанным данным для Региона №3 составляет 0.00%\n",
      "Вероятность убытков по фактическим данным для Региона №3 составляет 11.70%\n",
      "\n"
     ]
    }
   ],
   "source": [
    "for i in range(3):\n",
    "    pred_loss = (bootstrap_predicts[i] < 0).sum()\n",
    "    prob_pred_loss = pred_loss / bootstrap_predicts[i].shape[0]\n",
    "    target_loss = (bootstrap_targets[i] < 0).sum()\n",
    "    prob_target_loss = target_loss / bootstrap_targets[i].shape[0]\n",
    "    print(f'Вероятность убытков по предсказанным данным для Региона №{i+1} составляет {prob_pred_loss:.2%}')\n",
    "    print(f'Вероятность убытков по фактическим данным для Региона №{i+1} составляет {prob_target_loss:.2%}')\n",
    "    print()"
   ]
  },
  {
   "cell_type": "markdown",
   "metadata": {},
   "source": [
    "## Вывод"
   ]
  },
  {
   "cell_type": "markdown",
   "metadata": {},
   "source": [
    "Мы построили 3 модели для предсказания прибыли в 3 регионах разработки. Согласно предсказаниям модели наибольшие средние запасы находятся в Регионе 3, чуть меньше в Регионе 1, на последнем месте с большой разницей Регион 2. Однако средняя ошибка моделей в предсказаниях для регионов 1 и 3 равна примерно 1/3 от средних значений. Для Региона 2 ошибка минимальна.\n",
    "\n",
    "После отбора 200 лучших месторождений по предсказаниям моделей в каждом регионе, максимальные средние (и предсказанная и фактическая) прибыли были получены для Региона 1, несколько ниже для Региона 3, самая низкая для Региона 2. Важно отметить, что для Регионов 1 и 3 модели завышают среднюю предсказанную прибыль примерно на 7-10 млд., для Региона 2 - на 7 млн., что на порядок меньше.\n",
    "\n",
    "Применение техники Bootstrap позволило посмотеть распределение при увеличении числа регионов каждого типа до 1000 наибольшая (и предсказанная и фактическая) средняя прибыль получена по Региону 2. \n",
    "\n",
    "С 95% вероятностью прибыль для каждого региона лежит в интеравлах:\n",
    "1. Регион №1: \n",
    "    * предсказанная: от 114052664 до 558644111\n",
    "    * фактическая: от -80924627 до 941037638\n",
    "\n",
    "\n",
    "2. Регион №2: \n",
    "    * предсказанная: от 79320771 до 865839170\n",
    "    * фактическая: от 80299335 до 864399761\n",
    "    \n",
    "\n",
    "3. Регион №3:\n",
    "    * предсказанная: от 120705072 до 512408454\n",
    "    * фактическая: от -195063387 до 809242512\n",
    "    \n",
    "Оценка рисков показала, вероятность убытков:\n",
    "1. Регион №1:\n",
    "    * предсказанная: 0.20%\n",
    "    * фактическая: 5.50%\n",
    "2. Регион №2:\n",
    "    * предсказанная: 0.70%\n",
    "    * фактическая: 0.80%\n",
    "3. Регион №3:\n",
    "    * предсказанная: 0.00%\n",
    "    * фактическая: 11.70%\n",
    "    \n",
    "Таким образом получаем, что для Региона 2 риск убытка находиться на самом низком уровне.\n",
    "\n",
    "Учитывая все вышеизложенное, для исследования новых регионов и последующей разработки скорее стоит рассматривать Регион 2, так как ошибка модели самая низкая, при этом при увеличении выборки видно, что прибыль в других Регионах ниже."
   ]
  }
 ],
 "metadata": {
  "kernelspec": {
   "display_name": "Python 3 (ipykernel)",
   "language": "python",
   "name": "python3"
  },
  "language_info": {
   "codemirror_mode": {
    "name": "ipython",
    "version": 3
   },
   "file_extension": ".py",
   "mimetype": "text/x-python",
   "name": "python",
   "nbconvert_exporter": "python",
   "pygments_lexer": "ipython3",
   "version": "3.9.12"
  },
  "toc": {
   "base_numbering": 1,
   "nav_menu": {},
   "number_sections": true,
   "sideBar": true,
   "skip_h1_title": true,
   "title_cell": "Содержание",
   "title_sidebar": "Contents",
   "toc_cell": true,
   "toc_position": {},
   "toc_section_display": true,
   "toc_window_display": true
  }
 },
 "nbformat": 4,
 "nbformat_minor": 2
}
