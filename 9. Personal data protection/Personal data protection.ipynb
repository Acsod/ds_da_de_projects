{
 "cells": [
  {
   "cell_type": "markdown",
   "metadata": {
    "toc": true
   },
   "source": [
    "<h1>Содержание<span class=\"tocSkip\"></span></h1>\n",
    "<div class=\"toc\"><ul class=\"toc-item\"><li><span><a href=\"#Обзор-данных\" data-toc-modified-id=\"Обзор-данных-1\"><span class=\"toc-item-num\">1&nbsp;&nbsp;</span>Обзор данных</a></span><ul class=\"toc-item\"><li><span><a href=\"#Загрузка-данных\" data-toc-modified-id=\"Загрузка-данных-1.1\"><span class=\"toc-item-num\">1.1&nbsp;&nbsp;</span>Загрузка данных</a></span></li><li><span><a href=\"#Предобработка-данных\" data-toc-modified-id=\"Предобработка-данных-1.2\"><span class=\"toc-item-num\">1.2&nbsp;&nbsp;</span>Предобработка данных</a></span></li></ul></li><li><span><a href=\"#Умножение-матриц\" data-toc-modified-id=\"Умножение-матриц-2\"><span class=\"toc-item-num\">2&nbsp;&nbsp;</span>Умножение матриц</a></span></li><li><span><a href=\"#Алгоритм-преобразования\" data-toc-modified-id=\"Алгоритм-преобразования-3\"><span class=\"toc-item-num\">3&nbsp;&nbsp;</span>Алгоритм преобразования</a></span></li><li><span><a href=\"#Проверка-алгоритма\" data-toc-modified-id=\"Проверка-алгоритма-4\"><span class=\"toc-item-num\">4&nbsp;&nbsp;</span>Проверка алгоритма</a></span></li><li><span><a href=\"#Вывод\" data-toc-modified-id=\"Вывод-5\"><span class=\"toc-item-num\">5&nbsp;&nbsp;</span>Вывод</a></span></li><li><span><a href=\"#Чек-лист-проверки\" data-toc-modified-id=\"Чек-лист-проверки-6\"><span class=\"toc-item-num\">6&nbsp;&nbsp;</span>Чек-лист проверки</a></span></li></ul></div>"
   ]
  },
  {
   "cell_type": "markdown",
   "metadata": {},
   "source": [
    "# Защита персональных данных клиентов"
   ]
  },
  {
   "attachments": {},
   "cell_type": "markdown",
   "metadata": {},
   "source": [
    "**Иcходные данные**\n",
    "\n",
    "Необходимо защитить данные данные клиентов страховой компании. \n",
    "\n",
    "Нам предоставлены данные клиентов: пол, возраст и зарплата застрахованного, количество членов его семьи, количество страховых выплат клиенту за последние 5 лет. \n",
    "\n",
    "**Цель исследования**\n",
    "\n",
    "Разработать такой метод преобразования данных, чтобы по ним было сложно восстановить персональную информацию. При преобразовании качество моделей машинного обучения не должно ухудшиться.\n",
    "\n",
    "**Ход исследования**\n",
    "\n",
    "1. Обзор и подготовка данных.   \n",
    "2. Поиск и обоснование решения.\n",
    "3. Разработка алгоритма преобразования данных для решения задачи.\n",
    "4. Обучение и проверка модели."
   ]
  },
  {
   "cell_type": "markdown",
   "metadata": {},
   "source": [
    "## Обзор данных"
   ]
  },
  {
   "cell_type": "markdown",
   "metadata": {},
   "source": [
    "### Загрузка данных"
   ]
  },
  {
   "cell_type": "markdown",
   "metadata": {},
   "source": [
    "Импортируем библиотеки."
   ]
  },
  {
   "cell_type": "code",
   "execution_count": 1,
   "metadata": {},
   "outputs": [],
   "source": [
    "import numpy as np\n",
    "import os\n",
    "import pandas as pd\n",
    "import random as rnd\n",
    "\n",
    "from sklearn.linear_model import LinearRegression\n",
    "from sklearn.metrics import r2_score\n",
    "from sklearn.model_selection import train_test_split\n",
    "from sklearn.preprocessing import StandardScaler"
   ]
  },
  {
   "cell_type": "markdown",
   "metadata": {},
   "source": [
    "Загрузим и посмотрим данные."
   ]
  },
  {
   "cell_type": "code",
   "execution_count": 2,
   "metadata": {},
   "outputs": [],
   "source": [
    "pth1 = 'insurance.csv'\n",
    "pth2 = '/datasets/insurance.csv'\n",
    "\n",
    "if os.path.exists(pth1):\n",
    "    df = pd.read_csv(pth1)\n",
    "elif os.path.exists(pth2):\n",
    "    df = pd.read_csv(pth2)\n",
    "else:\n",
    "    print('Файл не найден')"
   ]
  },
  {
   "cell_type": "code",
   "execution_count": 3,
   "metadata": {},
   "outputs": [
    {
     "name": "stdout",
     "output_type": "stream",
     "text": [
      "<class 'pandas.core.frame.DataFrame'>\n",
      "RangeIndex: 5000 entries, 0 to 4999\n",
      "Data columns (total 5 columns):\n",
      " #   Column             Non-Null Count  Dtype  \n",
      "---  ------             --------------  -----  \n",
      " 0   Пол                5000 non-null   int64  \n",
      " 1   Возраст            5000 non-null   float64\n",
      " 2   Зарплата           5000 non-null   float64\n",
      " 3   Члены семьи        5000 non-null   int64  \n",
      " 4   Страховые выплаты  5000 non-null   int64  \n",
      "dtypes: float64(2), int64(3)\n",
      "memory usage: 195.4 KB\n",
      "None\n"
     ]
    },
    {
     "data": {
      "text/html": [
       "<div>\n",
       "<style scoped>\n",
       "    .dataframe tbody tr th:only-of-type {\n",
       "        vertical-align: middle;\n",
       "    }\n",
       "\n",
       "    .dataframe tbody tr th {\n",
       "        vertical-align: top;\n",
       "    }\n",
       "\n",
       "    .dataframe thead th {\n",
       "        text-align: right;\n",
       "    }\n",
       "</style>\n",
       "<table border=\"1\" class=\"dataframe\">\n",
       "  <thead>\n",
       "    <tr style=\"text-align: right;\">\n",
       "      <th></th>\n",
       "      <th>Пол</th>\n",
       "      <th>Возраст</th>\n",
       "      <th>Зарплата</th>\n",
       "      <th>Члены семьи</th>\n",
       "      <th>Страховые выплаты</th>\n",
       "    </tr>\n",
       "  </thead>\n",
       "  <tbody>\n",
       "    <tr>\n",
       "      <th>0</th>\n",
       "      <td>1</td>\n",
       "      <td>41.0</td>\n",
       "      <td>49600.0</td>\n",
       "      <td>1</td>\n",
       "      <td>0</td>\n",
       "    </tr>\n",
       "    <tr>\n",
       "      <th>1</th>\n",
       "      <td>0</td>\n",
       "      <td>46.0</td>\n",
       "      <td>38000.0</td>\n",
       "      <td>1</td>\n",
       "      <td>1</td>\n",
       "    </tr>\n",
       "    <tr>\n",
       "      <th>2</th>\n",
       "      <td>0</td>\n",
       "      <td>29.0</td>\n",
       "      <td>21000.0</td>\n",
       "      <td>0</td>\n",
       "      <td>0</td>\n",
       "    </tr>\n",
       "    <tr>\n",
       "      <th>3</th>\n",
       "      <td>0</td>\n",
       "      <td>21.0</td>\n",
       "      <td>41700.0</td>\n",
       "      <td>2</td>\n",
       "      <td>0</td>\n",
       "    </tr>\n",
       "    <tr>\n",
       "      <th>4</th>\n",
       "      <td>1</td>\n",
       "      <td>28.0</td>\n",
       "      <td>26100.0</td>\n",
       "      <td>0</td>\n",
       "      <td>0</td>\n",
       "    </tr>\n",
       "  </tbody>\n",
       "</table>\n",
       "</div>"
      ],
      "text/plain": [
       "   Пол  Возраст  Зарплата  Члены семьи  Страховые выплаты\n",
       "0    1     41.0   49600.0            1                  0\n",
       "1    0     46.0   38000.0            1                  1\n",
       "2    0     29.0   21000.0            0                  0\n",
       "3    0     21.0   41700.0            2                  0\n",
       "4    1     28.0   26100.0            0                  0"
      ]
     },
     "execution_count": 3,
     "metadata": {},
     "output_type": "execute_result"
    }
   ],
   "source": [
    "print(df.info())\n",
    "df.head()"
   ]
  },
  {
   "cell_type": "markdown",
   "metadata": {},
   "source": [
    "Таблица содержит 5 признаков, один из которых целевой. Общее число объекстов 5000. Явные пропуски отсутствуют.\n",
    "\n",
    "Согласно документации к данным: \n",
    "\n",
    "**Признаки**\n",
    "* `Пол` — пол клиента\n",
    "* `Возраст` — возраст клиента\n",
    "* `Зарплата` — доход клиента\n",
    "* `Члены семьи` — количество людей в семье, кроме клиента\n",
    "\n",
    "**Целевой признак**:\n",
    "* `Страховые выплаты` - количество страховых выплат клиенту за последние 5 лет."
   ]
  },
  {
   "cell_type": "markdown",
   "metadata": {},
   "source": [
    "По результату первичного обзора данных можем сделать следующие выводы:\n",
    "1. Наименования всех признаков не соответствуют зминому стилю.\n",
    "2. Явные пропуски в данных отсутствуют.\n",
    "3. Отсутствуют категориальные признаки (пол преобразован в бинарный).\n",
    "\n",
    "Нам необходимо:\n",
    "1. Переименовать признаки.\n",
    "2. Проверить данные на дубликаты.\n",
    "3. Разделить данные на выборки.\n",
    "4. Масштабировать признаки."
   ]
  },
  {
   "cell_type": "markdown",
   "metadata": {},
   "source": [
    "### Предобработка данных\n"
   ]
  },
  {
   "cell_type": "markdown",
   "metadata": {},
   "source": [
    "Ззменим названия признаков, приведем их в соответствие стилю."
   ]
  },
  {
   "cell_type": "code",
   "execution_count": 4,
   "metadata": {},
   "outputs": [
    {
     "data": {
      "text/html": [
       "<div>\n",
       "<style scoped>\n",
       "    .dataframe tbody tr th:only-of-type {\n",
       "        vertical-align: middle;\n",
       "    }\n",
       "\n",
       "    .dataframe tbody tr th {\n",
       "        vertical-align: top;\n",
       "    }\n",
       "\n",
       "    .dataframe thead th {\n",
       "        text-align: right;\n",
       "    }\n",
       "</style>\n",
       "<table border=\"1\" class=\"dataframe\">\n",
       "  <thead>\n",
       "    <tr style=\"text-align: right;\">\n",
       "      <th></th>\n",
       "      <th>sex</th>\n",
       "      <th>age</th>\n",
       "      <th>salary</th>\n",
       "      <th>family_members</th>\n",
       "      <th>insurance_payments</th>\n",
       "    </tr>\n",
       "  </thead>\n",
       "  <tbody>\n",
       "    <tr>\n",
       "      <th>0</th>\n",
       "      <td>1</td>\n",
       "      <td>41.0</td>\n",
       "      <td>49600.0</td>\n",
       "      <td>1</td>\n",
       "      <td>0</td>\n",
       "    </tr>\n",
       "    <tr>\n",
       "      <th>1</th>\n",
       "      <td>0</td>\n",
       "      <td>46.0</td>\n",
       "      <td>38000.0</td>\n",
       "      <td>1</td>\n",
       "      <td>1</td>\n",
       "    </tr>\n",
       "  </tbody>\n",
       "</table>\n",
       "</div>"
      ],
      "text/plain": [
       "   sex   age   salary  family_members  insurance_payments\n",
       "0    1  41.0  49600.0               1                   0\n",
       "1    0  46.0  38000.0               1                   1"
      ]
     },
     "execution_count": 4,
     "metadata": {},
     "output_type": "execute_result"
    }
   ],
   "source": [
    "df.columns = ['sex', 'age', 'salary', 'family_members', 'insurance_payments']\n",
    "\n",
    "# проверим результат\n",
    "df.head(2)"
   ]
  },
  {
   "cell_type": "markdown",
   "metadata": {},
   "source": [
    "Проверим данные на дубликаты."
   ]
  },
  {
   "cell_type": "code",
   "execution_count": 5,
   "metadata": {},
   "outputs": [
    {
     "data": {
      "text/plain": [
       "153"
      ]
     },
     "execution_count": 5,
     "metadata": {},
     "output_type": "execute_result"
    }
   ],
   "source": [
    "df.duplicated().sum()"
   ]
  },
  {
   "cell_type": "markdown",
   "metadata": {},
   "source": [
    "В данных обнаружено 153 дублеката. Однако в исходной таблицы тсутствуют идентификаторы клиентов. Возможно у клиентв просто одинаковый надор признаков, в таком случае удаление дубликатов может исказить статистику. Оставим дублекаты в выборке."
   ]
  },
  {
   "cell_type": "markdown",
   "metadata": {},
   "source": [
    "Проверим все данные на аномалии в виде отрицательных значений."
   ]
  },
  {
   "cell_type": "code",
   "execution_count": 6,
   "metadata": {},
   "outputs": [
    {
     "data": {
      "text/plain": [
       "sex                   0\n",
       "age                   0\n",
       "salary                0\n",
       "family_members        0\n",
       "insurance_payments    0\n",
       "dtype: int64"
      ]
     },
     "execution_count": 6,
     "metadata": {},
     "output_type": "execute_result"
    }
   ],
   "source": [
    "df[df < 0].count()"
   ]
  },
  {
   "cell_type": "markdown",
   "metadata": {},
   "source": [
    "Признаки `age` и `salary`, судя по первичному обзору, можем перевести в int. Проверим это."
   ]
  },
  {
   "cell_type": "code",
   "execution_count": 7,
   "metadata": {},
   "outputs": [
    {
     "name": "stdout",
     "output_type": "stream",
     "text": [
      "Переменных типа float в столбце 'age': 0 из 5000\n",
      "Переменных типа float в столбце 'salary': 40 из 5000\n",
      "Маскимальное значение'salary': 79000.0. Минимальное значение'salary': 5300.0\n"
     ]
    }
   ],
   "source": [
    "df[['age_rem', 'salary_rem']] = df[['age', 'salary']] % 1\n",
    "print(f\"Переменных типа float в столбце 'age': {df.loc[df['age_rem'] !=0, 'age_rem'].count()} из {df['age_rem'].shape[0]}\")\n",
    "print(f\"Переменных типа float в столбце 'salary': {df.loc[df['salary_rem'] !=0, 'salary_rem'].count()} из {df['salary_rem'].shape[0]}\")\n",
    "\n",
    "#посмотрим максимальное и минимальное значение 'salary'\n",
    "print(f\"Маскимальное значение'salary': {df['salary'].max()}. Минимальное значение'salary': {df['salary'].min()}\")"
   ]
  },
  {
   "cell_type": "markdown",
   "metadata": {},
   "source": [
    "Дробную часть имеет мене 1% данных в столбце salary. Учитывая, что сами значения столбца имеет порядок тысяч и десятков тысяч, столь малой частью можем принебречь. Переведем столбцы `age` и `salary` в формат uint8 и uint32. За одно изменим типы инт в оставльных столбцах на int8."
   ]
  },
  {
   "cell_type": "code",
   "execution_count": 8,
   "metadata": {},
   "outputs": [
    {
     "name": "stdout",
     "output_type": "stream",
     "text": [
      "<class 'pandas.core.frame.DataFrame'>\n",
      "RangeIndex: 5000 entries, 0 to 4999\n",
      "Data columns (total 5 columns):\n",
      " #   Column              Non-Null Count  Dtype \n",
      "---  ------              --------------  ----- \n",
      " 0   sex                 5000 non-null   uint8 \n",
      " 1   age                 5000 non-null   uint8 \n",
      " 2   salary              5000 non-null   uint32\n",
      " 3   family_members      5000 non-null   uint8 \n",
      " 4   insurance_payments  5000 non-null   uint8 \n",
      "dtypes: uint32(1), uint8(4)\n",
      "memory usage: 39.2 KB\n"
     ]
    }
   ],
   "source": [
    "list = ['age', 'sex', 'family_members', 'insurance_payments']\n",
    "for col in list:\n",
    "    df[col] = np.uint8(df[col])\n",
    "\n",
    "df['salary'] = np.uint32(df['salary'])\n",
    "\n",
    "# удалим вспомогательные столбцы\n",
    "df = df.drop(columns=['age_rem', 'salary_rem'])\n",
    "\n",
    "# проверим результат\n",
    "df.info()"
   ]
  },
  {
   "cell_type": "markdown",
   "metadata": {},
   "source": [
    "Разделим данные на выборки.\n",
    "Выделим целивой признак."
   ]
  },
  {
   "cell_type": "code",
   "execution_count": 9,
   "metadata": {},
   "outputs": [],
   "source": [
    "df_features = df.drop('insurance_payments', axis=1)\n",
    "df_target = df['insurance_payments']"
   ]
  },
  {
   "cell_type": "markdown",
   "metadata": {},
   "source": [
    "Поскольку подбор параметров для лучшей модели не требуется, валидационную выборку можно опустить."
   ]
  },
  {
   "cell_type": "code",
   "execution_count": 10,
   "metadata": {},
   "outputs": [],
   "source": [
    "features_train, features_test, target_train, target_test = train_test_split(df_features, df_target, test_size=0.25, random_state=777)"
   ]
  },
  {
   "cell_type": "markdown",
   "metadata": {},
   "source": [
    "Проверим размер выборок."
   ]
  },
  {
   "cell_type": "code",
   "execution_count": 11,
   "metadata": {},
   "outputs": [
    {
     "name": "stdout",
     "output_type": "stream",
     "text": [
      "Тестовая выборка составляет 25% от общей.\n",
      "Обучающая выборка составляет 75% от общей.\n"
     ]
    }
   ],
   "source": [
    "print(f'Тестовая выборка составляет {features_test.shape[0] / df_features.shape[0]:.0%} от общей.')\n",
    "print(f'Обучающая выборка составляет {features_train.shape[0] / df_features.shape[0]:.0%} от общей.')"
   ]
  },
  {
   "cell_type": "markdown",
   "metadata": {},
   "source": [
    "В таблице присутствуют признаки с разными разбросами значений. Для обучения модели линейной регрессии масштабируем признаки."
   ]
  },
  {
   "cell_type": "code",
   "execution_count": 12,
   "metadata": {},
   "outputs": [
    {
     "data": {
      "text/html": [
       "<div>\n",
       "<style scoped>\n",
       "    .dataframe tbody tr th:only-of-type {\n",
       "        vertical-align: middle;\n",
       "    }\n",
       "\n",
       "    .dataframe tbody tr th {\n",
       "        vertical-align: top;\n",
       "    }\n",
       "\n",
       "    .dataframe thead th {\n",
       "        text-align: right;\n",
       "    }\n",
       "</style>\n",
       "<table border=\"1\" class=\"dataframe\">\n",
       "  <thead>\n",
       "    <tr style=\"text-align: right;\">\n",
       "      <th></th>\n",
       "      <th>sex</th>\n",
       "      <th>age</th>\n",
       "      <th>salary</th>\n",
       "      <th>family_members</th>\n",
       "    </tr>\n",
       "  </thead>\n",
       "  <tbody>\n",
       "    <tr>\n",
       "      <th>3437</th>\n",
       "      <td>0.988862</td>\n",
       "      <td>-0.107347</td>\n",
       "      <td>0.513023</td>\n",
       "      <td>1.644896</td>\n",
       "    </tr>\n",
       "    <tr>\n",
       "      <th>1646</th>\n",
       "      <td>0.988862</td>\n",
       "      <td>-0.700381</td>\n",
       "      <td>0.955340</td>\n",
       "      <td>-0.187925</td>\n",
       "    </tr>\n",
       "    <tr>\n",
       "      <th>4035</th>\n",
       "      <td>0.988862</td>\n",
       "      <td>-1.412023</td>\n",
       "      <td>0.603497</td>\n",
       "      <td>-1.104336</td>\n",
       "    </tr>\n",
       "    <tr>\n",
       "      <th>2041</th>\n",
       "      <td>-1.011263</td>\n",
       "      <td>0.011260</td>\n",
       "      <td>-0.210768</td>\n",
       "      <td>-0.187925</td>\n",
       "    </tr>\n",
       "    <tr>\n",
       "      <th>1920</th>\n",
       "      <td>-1.011263</td>\n",
       "      <td>0.960115</td>\n",
       "      <td>1.397656</td>\n",
       "      <td>-0.187925</td>\n",
       "    </tr>\n",
       "  </tbody>\n",
       "</table>\n",
       "</div>"
      ],
      "text/plain": [
       "           sex       age    salary  family_members\n",
       "3437  0.988862 -0.107347  0.513023        1.644896\n",
       "1646  0.988862 -0.700381  0.955340       -0.187925\n",
       "4035  0.988862 -1.412023  0.603497       -1.104336\n",
       "2041 -1.011263  0.011260 -0.210768       -0.187925\n",
       "1920 -1.011263  0.960115  1.397656       -0.187925"
      ]
     },
     "execution_count": 12,
     "metadata": {},
     "output_type": "execute_result"
    }
   ],
   "source": [
    "# обозначим признаки\n",
    "scaler_features = df_features.columns\n",
    "\n",
    "# обучим объект для масштабирования\n",
    "scaler = StandardScaler()\n",
    "scaler.fit(features_train[scaler_features])\n",
    "\n",
    "# создадим переменные для отмасштабированных данных\n",
    "features_train_sc = features_train\n",
    "features_test_sc = features_test\n",
    "\n",
    "# отключим предупреждение\n",
    "pd.options.mode.chained_assignment = None\n",
    "\n",
    "# масштабируем\n",
    "features_train_sc[scaler_features] = scaler.transform(features_train[scaler_features])\n",
    "features_test_sc[scaler_features] = scaler.transform(features_test[scaler_features])\n",
    "\n",
    "# проверим результат\n",
    "features_test_sc.head()"
   ]
  },
  {
   "cell_type": "markdown",
   "metadata": {},
   "source": [
    "Масштабирование выполнено успешно."
   ]
  },
  {
   "cell_type": "markdown",
   "metadata": {},
   "source": [
    "## Умножение матриц"
   ]
  },
  {
   "cell_type": "markdown",
   "metadata": {},
   "source": [
    "Ответим на вопрос и обоснуем решение.\n",
    "\n",
    "Признаки умножают на обратимую матрицу. Изменится ли качество линейной регрессии? (Её можно обучить заново.)\n",
    "* Изменится. Приведите примеры матриц.\n",
    "* Не изменится. Укажите, как связаны параметры линейной регрессии в исходной задаче и в преобразованной."
   ]
  },
  {
   "cell_type": "markdown",
   "metadata": {},
   "source": [
    "**Ответ:** Не изменится.\n",
    "\n",
    "**Обоснование:** "
   ]
  },
  {
   "cell_type": "markdown",
   "metadata": {},
   "source": [
    "Обозначения:\n",
    "\n",
    "- $X$ — матрица признаков (нулевой столбец состоит из единиц)\n",
    "\n",
    "- $A$ — обратимая матрица, высота которой равна количеству признаков\n",
    "\n",
    "- $y$ — вектор целевого признака\n",
    "\n",
    "- $P$ — матрица, на которую умножаются признаки\n",
    "\n",
    "- $w$ — вектор весов линейной регрессии (нулевой элемент равен сдвигу)"
   ]
  },
  {
   "cell_type": "markdown",
   "metadata": {},
   "source": [
    "Сначала рассмотрим базовую формулу."
   ]
  },
  {
   "cell_type": "markdown",
   "metadata": {},
   "source": [
    "Предсказания:\n",
    "\n",
    "$$\n",
    "a = Xw\n",
    "$$\n",
    "\n",
    "Задача обучения:\n",
    "\n",
    "$$\n",
    "w = \\arg\\min_w MSE(Xw, y)\n",
    "$$\n",
    "\n",
    "Формула обучения:\n",
    "\n",
    "$$\n",
    "w = (X^T X)^{-1} X^T y\n",
    "$$\n",
    "\n",
    "Тогда а равно:\n",
    "\n",
    "$$\n",
    "a = X(X^T X)^{-1} X^T y\n",
    "$$"
   ]
  },
  {
   "cell_type": "markdown",
   "metadata": {},
   "source": [
    "В случае домножения Х на обратимую матрицу А:"
   ]
  },
  {
   "cell_type": "markdown",
   "metadata": {},
   "source": [
    "Предсказания:\n",
    "\n",
    "$$\n",
    "a = XAw\n",
    "$$\n",
    "\n",
    "Задача обучения:\n",
    "\n",
    "$$\n",
    "w = \\arg\\min_w MSE(XAw, y)\n",
    "$$\n",
    "\n",
    "Формула обучения:\n",
    "\n",
    "$$\n",
    "w = ((XA)^T XA)^{-1} (XA)^T y\n",
    "$$\n",
    "\n",
    "В таком случае:\n",
    "\n",
    "$$\n",
    "a = XA ((XA)^T XA)^{-1} (XA)^T y\n",
    "$$\n",
    "\n",
    "Преобразуем транспорирование произведения матриц в произведение транспорированных матриц:\n",
    "\n",
    "$$\n",
    "a = XA ((A^T X^T XA)^{-1} A^T X^T y\n",
    "$$\n",
    "\n",
    "В скобках получаем произведение 3 квадратных матриц $ A^T, X^T X, A $. Можем преобразовать обратную матрицу произведения в произведение обратных матриц:\n",
    "\n",
    "$$\n",
    "a = XA (A)^{-1}(X^TX)^{-1}(A^T)^{-1} A^T X^T y\n",
    "$$\n",
    "\n",
    "Преобразуем произведения $A (A)^{-1}$ и $(A^T)^{-1} A^T$ в $E$:\n",
    "\n",
    "$$\n",
    "a = XE(X^TX)^{-1}E X^T y\n",
    "$$\n",
    "\n",
    "Поскольку, произведение любой матрицы на единичную матрицу равно этой матрице, $E$ можем опустить:\n",
    "\n",
    "$$\n",
    "a = X(X^TX)^{-1}X^T y\n",
    "$$\n",
    "\n",
    "То есть мы получили исходную формулу."
   ]
  },
  {
   "cell_type": "markdown",
   "metadata": {},
   "source": [
    "**Вывод:** Таким образом получаем, что домножение на обратимую матрицу не меняет уравнение."
   ]
  },
  {
   "cell_type": "markdown",
   "metadata": {},
   "source": [
    "## Алгоритм преобразования"
   ]
  },
  {
   "cell_type": "markdown",
   "metadata": {},
   "source": [
    "**Алгоритм**\n",
    "\n",
    "Создадим функцию шифрования данных, получающую на вход исходные массивы данных (обучающий и тестовый). Внутри функции:\n",
    "1. С помощью np.random.normal() генерируется случайная квадратная матрица, по числу строк, равная входному массиву.\n",
    "2. Матрица проверяется на обратимость. В случае необратимости, повторяется шаг 1.\n",
    "3. Исходные массивы умножаются на полученную матрицу.\n",
    "4. Можно выполнить масштабирование внутри функции, или передать отмасштабированные данные или опустить масштабирование (в данной задаче оно не дает профита).\n",
    "5. Возвращаем зашифрованные данные и матрицу домножения (для декодирования)."
   ]
  },
  {
   "cell_type": "markdown",
   "metadata": {},
   "source": [
    "**Обоснование**\n",
    "\n",
    "Уравнение линейной регрессии после обучения на массиве данных, домноженных на обратимую матрицу не должно измениться, т.к. по сути зависимости между исходными параметрами при домножении их на некие наборы фиксированных значений создадут лишь новые вариации взаимосвязей в пропорциональном количестве, что в тоге не повлияет на регрессионную кривую. \n",
    "\n",
    "Доказательство отсутствия изменений представлено в п. 2. \n",
    "\n",
    "Функция возращвет матрицу шифровщик, чтобы при необходимости, можно было найти обратную матрицу функцией np.linalg.inv."
   ]
  },
  {
   "cell_type": "code",
   "execution_count": 13,
   "metadata": {},
   "outputs": [
    {
     "data": {
      "text/plain": [
       "(3750, 4)"
      ]
     },
     "execution_count": 13,
     "metadata": {},
     "output_type": "execute_result"
    }
   ],
   "source": [
    "features_train.shape"
   ]
  },
  {
   "cell_type": "markdown",
   "metadata": {},
   "source": [
    "## Проверка алгоритма"
   ]
  },
  {
   "cell_type": "markdown",
   "metadata": {},
   "source": [
    "Создадим функцию - алгоритм шифрования."
   ]
  },
  {
   "cell_type": "code",
   "execution_count": 14,
   "metadata": {},
   "outputs": [],
   "source": [
    "def cipher(features_train, features_test):\n",
    "    r = np.random.RandomState([0, 42])\n",
    "    matrix_cipher = r.normal(size=(features_train.shape[1], r.randint(2, 6)))\n",
    "\n",
    "    # вероятность получить необратимую матрицу минимальна, но выполним проверку и пересоздадим матрицу в случае неудачи\n",
    "    while True:\n",
    "        try:\n",
    "            np.linalg.inv(matrix_cipher)\n",
    "            break\n",
    "        except:\n",
    "            matrix_cipher = r.normal(size=(features_train.shape[1], r.randint(2, 6)))    \n",
    "            \n",
    "    features_train_cipher = features_train.values.dot(matrix_cipher)\n",
    "    features_test_cipher = features_test.values.dot(matrix_cipher)\n",
    "    \n",
    "    return features_train_cipher, features_test_cipher, matrix_cipher    "
   ]
  },
  {
   "cell_type": "markdown",
   "metadata": {},
   "source": [
    "Обучим модель и получим предсказания на зашифрованных данных."
   ]
  },
  {
   "cell_type": "code",
   "execution_count": 15,
   "metadata": {
    "scrolled": true
   },
   "outputs": [
    {
     "name": "stdout",
     "output_type": "stream",
     "text": [
      "0.4228246096919983\n"
     ]
    }
   ],
   "source": [
    "features_train_cipher, features_test_cipher, matrix_cipher = cipher(features_train_sc, features_test_sc)\n",
    "\n",
    "model_cipher = LinearRegression()\n",
    "model_cipher.fit(features_train_cipher, target_train)\n",
    "predicted_cipher = model_cipher.predict(features_test_cipher)\n",
    "r2_cipher = r2_score(target_test, predicted_cipher)\n",
    "\n",
    "print(r2_cipher)"
   ]
  },
  {
   "cell_type": "markdown",
   "metadata": {},
   "source": [
    "Обучим модель и получим предсказания на исходных данных."
   ]
  },
  {
   "cell_type": "code",
   "execution_count": 16,
   "metadata": {},
   "outputs": [
    {
     "name": "stdout",
     "output_type": "stream",
     "text": [
      "0.42282460969199875\n"
     ]
    }
   ],
   "source": [
    "model_raw = LinearRegression()\n",
    "model_raw.fit(features_train_sc, target_train)\n",
    "predicted_raw = model_raw.predict(features_test_sc)\n",
    "r2_raw = r2_score(target_test, predicted_raw)\n",
    "\n",
    "print(r2_raw)"
   ]
  },
  {
   "cell_type": "markdown",
   "metadata": {},
   "source": [
    "Проверка также показала отсутствие влияния маштабирования на показатели, в независимости от того проводится ли масштабирование до или после шифрования."
   ]
  },
  {
   "cell_type": "markdown",
   "metadata": {},
   "source": [
    "Выполним проверку работы алгоритма, осуществив расшифровку данных."
   ]
  },
  {
   "cell_type": "code",
   "execution_count": 17,
   "metadata": {},
   "outputs": [
    {
     "data": {
      "text/html": [
       "<div>\n",
       "<style scoped>\n",
       "    .dataframe tbody tr th:only-of-type {\n",
       "        vertical-align: middle;\n",
       "    }\n",
       "\n",
       "    .dataframe tbody tr th {\n",
       "        vertical-align: top;\n",
       "    }\n",
       "\n",
       "    .dataframe thead th {\n",
       "        text-align: right;\n",
       "    }\n",
       "</style>\n",
       "<table border=\"1\" class=\"dataframe\">\n",
       "  <thead>\n",
       "    <tr style=\"text-align: right;\">\n",
       "      <th></th>\n",
       "      <th>sex</th>\n",
       "      <th>age</th>\n",
       "      <th>salary</th>\n",
       "      <th>family_members</th>\n",
       "    </tr>\n",
       "  </thead>\n",
       "  <tbody>\n",
       "    <tr>\n",
       "      <th>1587</th>\n",
       "      <td>-1.011263</td>\n",
       "      <td>-1.056202</td>\n",
       "      <td>-0.572663</td>\n",
       "      <td>0.728485</td>\n",
       "    </tr>\n",
       "    <tr>\n",
       "      <th>3380</th>\n",
       "      <td>-1.011263</td>\n",
       "      <td>0.485687</td>\n",
       "      <td>-1.668402</td>\n",
       "      <td>-0.187925</td>\n",
       "    </tr>\n",
       "    <tr>\n",
       "      <th>1802</th>\n",
       "      <td>0.988862</td>\n",
       "      <td>2.383397</td>\n",
       "      <td>-1.497507</td>\n",
       "      <td>-0.187925</td>\n",
       "    </tr>\n",
       "    <tr>\n",
       "      <th>294</th>\n",
       "      <td>0.988862</td>\n",
       "      <td>-0.581775</td>\n",
       "      <td>0.020443</td>\n",
       "      <td>0.728485</td>\n",
       "    </tr>\n",
       "    <tr>\n",
       "      <th>2139</th>\n",
       "      <td>0.988862</td>\n",
       "      <td>-0.581775</td>\n",
       "      <td>0.402444</td>\n",
       "      <td>-1.104336</td>\n",
       "    </tr>\n",
       "  </tbody>\n",
       "</table>\n",
       "</div>"
      ],
      "text/plain": [
       "           sex       age    salary  family_members\n",
       "1587 -1.011263 -1.056202 -0.572663        0.728485\n",
       "3380 -1.011263  0.485687 -1.668402       -0.187925\n",
       "1802  0.988862  2.383397 -1.497507       -0.187925\n",
       "294   0.988862 -0.581775  0.020443        0.728485\n",
       "2139  0.988862 -0.581775  0.402444       -1.104336"
      ]
     },
     "metadata": {},
     "output_type": "display_data"
    },
    {
     "data": {
      "text/html": [
       "<div>\n",
       "<style scoped>\n",
       "    .dataframe tbody tr th:only-of-type {\n",
       "        vertical-align: middle;\n",
       "    }\n",
       "\n",
       "    .dataframe tbody tr th {\n",
       "        vertical-align: top;\n",
       "    }\n",
       "\n",
       "    .dataframe thead th {\n",
       "        text-align: right;\n",
       "    }\n",
       "</style>\n",
       "<table border=\"1\" class=\"dataframe\">\n",
       "  <thead>\n",
       "    <tr style=\"text-align: right;\">\n",
       "      <th></th>\n",
       "      <th>sex</th>\n",
       "      <th>age</th>\n",
       "      <th>salary</th>\n",
       "      <th>family_members</th>\n",
       "    </tr>\n",
       "  </thead>\n",
       "  <tbody>\n",
       "    <tr>\n",
       "      <th>1587</th>\n",
       "      <td>-1.011263</td>\n",
       "      <td>-1.056202</td>\n",
       "      <td>-0.572663</td>\n",
       "      <td>0.728485</td>\n",
       "    </tr>\n",
       "    <tr>\n",
       "      <th>3380</th>\n",
       "      <td>-1.011263</td>\n",
       "      <td>0.485687</td>\n",
       "      <td>-1.668402</td>\n",
       "      <td>-0.187925</td>\n",
       "    </tr>\n",
       "    <tr>\n",
       "      <th>1802</th>\n",
       "      <td>0.988862</td>\n",
       "      <td>2.383397</td>\n",
       "      <td>-1.497507</td>\n",
       "      <td>-0.187925</td>\n",
       "    </tr>\n",
       "    <tr>\n",
       "      <th>294</th>\n",
       "      <td>0.988862</td>\n",
       "      <td>-0.581775</td>\n",
       "      <td>0.020443</td>\n",
       "      <td>0.728485</td>\n",
       "    </tr>\n",
       "    <tr>\n",
       "      <th>2139</th>\n",
       "      <td>0.988862</td>\n",
       "      <td>-0.581775</td>\n",
       "      <td>0.402444</td>\n",
       "      <td>-1.104336</td>\n",
       "    </tr>\n",
       "  </tbody>\n",
       "</table>\n",
       "</div>"
      ],
      "text/plain": [
       "           sex       age    salary  family_members\n",
       "1587 -1.011263 -1.056202 -0.572663        0.728485\n",
       "3380 -1.011263  0.485687 -1.668402       -0.187925\n",
       "1802  0.988862  2.383397 -1.497507       -0.187925\n",
       "294   0.988862 -0.581775  0.020443        0.728485\n",
       "2139  0.988862 -0.581775  0.402444       -1.104336"
      ]
     },
     "metadata": {},
     "output_type": "display_data"
    }
   ],
   "source": [
    "# найдем ключ\n",
    "matrix_decipher = np.linalg.inv(matrix_cipher)\n",
    "\n",
    "# умножим матрицу с зашифрованными данными на ключ\n",
    "features_train_decipher = pd.DataFrame(features_train_cipher.dot(matrix_decipher), columns=features_train_sc.columns, index=features_train_sc.index)\n",
    "\n",
    "# проверим результат\n",
    "display(features_train_decipher.head())\n",
    "display(features_train_sc.head())"
   ]
  },
  {
   "cell_type": "markdown",
   "metadata": {},
   "source": [
    "Данные успешно расшифрованы."
   ]
  },
  {
   "cell_type": "markdown",
   "metadata": {},
   "source": [
    "## Вывод"
   ]
  },
  {
   "cell_type": "markdown",
   "metadata": {},
   "source": [
    "С помощью применения матричных операций мы разработали алгоритм шифрования данных, не влияющий на качество обучения модели. При этом расшифровка данных без ключа (матрицы обратной матрице домножителю) представляется весьма затруднительной, т.к. даже число параметров значительно возрастает."
   ]
  }
 ],
 "metadata": {
  "kernelspec": {
   "display_name": "practicum",
   "language": "python",
   "name": "python3"
  },
  "language_info": {
   "codemirror_mode": {
    "name": "ipython",
    "version": 3
   },
   "file_extension": ".py",
   "mimetype": "text/x-python",
   "name": "python",
   "nbconvert_exporter": "python",
   "pygments_lexer": "ipython3",
   "version": "3.9.12"
  },
  "toc": {
   "base_numbering": 1,
   "nav_menu": {},
   "number_sections": true,
   "sideBar": true,
   "skip_h1_title": true,
   "title_cell": "Содержание",
   "title_sidebar": "Contents",
   "toc_cell": true,
   "toc_position": {},
   "toc_section_display": true,
   "toc_window_display": true
  },
  "vscode": {
   "interpreter": {
    "hash": "e0ef30f9ced4f28c95236de9689a532d2173f419cbb83d686f22b49e7616bd1e"
   }
  }
 },
 "nbformat": 4,
 "nbformat_minor": 2
}
